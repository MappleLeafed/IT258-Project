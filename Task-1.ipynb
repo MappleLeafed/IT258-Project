{
 "cells": [
  {
   "cell_type": "code",
   "execution_count": null,
   "id": "942c1898-5bd5-48ea-8980-16e7ffb9a574",
   "metadata": {},
   "outputs": [],
   "source": [
    "import pandas as pd\n",
    "import yfinance as yf\n",
    "import os\n",
    "\n",
    "# Step 1: Load Company and Sector Information\n",
    "nifty500_df = pd.read_csv('ind_nifty500list.csv')\n",
    "companies = nifty500_df['Symbol'].tolist()\n",
    "sectors = nifty500_df.set_index('Symbol')['Industry'].to_dict()\n",
    "\n",
    "# Create a directory to save data if it doesn't exist\n",
    "os.makedirs('stock_data', exist_ok=True)\n",
    "\n",
    "# Step 2: Scrape Historical Stock Data and Compute Features\n",
    "def fetch_and_process_data(ticker):\n",
    "    try:\n",
    "        stock = yf.download(ticker + \".NS\", start=\"2020-01-10\", end=\"2025-01-10\")\n",
    "        if stock.empty:\n",
    "            print(f\"No data for {ticker}\")\n",
    "            return\n",
    "        \n",
    "        # Calculate Moving Averages\n",
    "        stock['MA_20'] = stock['Close'].rolling(window=20).mean()\n",
    "        stock['MA_50'] = stock['Close'].rolling(window=50).mean()\n",
    "        \n",
    "        # Calculate Volatility (Standard Deviation)\n",
    "        stock['Volatility_20'] = stock['Close'].rolling(window=20).std()\n",
    "        stock['Volatility_50'] = stock['Close'].rolling(window=50).std()\n",
    "        \n",
    "        # Save to CSV\n",
    "        stock.to_csv(f'stock_data/{ticker}_data.csv')\n",
    "        print(f\"Data for {ticker} saved.\")\n",
    "    except Exception as e:\n",
    "        print(f\"Error fetching data for {ticker}: {e}\")\n",
    "\n",
    "for ticker in companies:\n",
    "    fetch_and_process_data(ticker)\n",
    "\n",
    "print(\"Data scraping and feature computation completed.\")\n"
   ]
  },
  {
   "cell_type": "code",
   "execution_count": null,
   "id": "8e7a8ad1",
   "metadata": {},
   "outputs": [],
   "source": []
  },
  {
   "cell_type": "code",
   "execution_count": 3,
   "id": "5ca910f9",
   "metadata": {},
   "outputs": [
    {
     "name": "stdout",
     "output_type": "stream",
     "text": [
      "Collecting yfinance\n",
      "  Downloading yfinance-0.2.51-py2.py3-none-any.whl.metadata (5.5 kB)\n",
      "Requirement already satisfied: pandas>=1.3.0 in /Users/dishantharya/micromamba/envs/py3.11/lib/python3.11/site-packages (from yfinance) (1.5.3)\n",
      "Requirement already satisfied: numpy>=1.16.5 in /Users/dishantharya/micromamba/envs/py3.11/lib/python3.11/site-packages (from yfinance) (1.25.1)\n",
      "Collecting requests>=2.31 (from yfinance)\n",
      "  Downloading requests-2.32.3-py3-none-any.whl.metadata (4.6 kB)\n",
      "Collecting multitasking>=0.0.7 (from yfinance)\n",
      "  Downloading multitasking-0.0.11-py3-none-any.whl.metadata (5.5 kB)\n",
      "Requirement already satisfied: lxml>=4.9.1 in /Users/dishantharya/micromamba/envs/py3.11/lib/python3.11/site-packages (from yfinance) (5.3.0)\n",
      "Requirement already satisfied: platformdirs>=2.0.0 in /Users/dishantharya/micromamba/envs/py3.11/lib/python3.11/site-packages (from yfinance) (3.10.0)\n",
      "Requirement already satisfied: pytz>=2022.5 in /Users/dishantharya/micromamba/envs/py3.11/lib/python3.11/site-packages (from yfinance) (2023.3.post1)\n",
      "Collecting frozendict>=2.3.4 (from yfinance)\n",
      "  Downloading frozendict-2.4.6-py311-none-any.whl.metadata (23 kB)\n",
      "Requirement already satisfied: peewee>=3.16.2 in /Users/dishantharya/micromamba/envs/py3.11/lib/python3.11/site-packages (from yfinance) (3.17.5)\n",
      "Requirement already satisfied: beautifulsoup4>=4.11.1 in /Users/dishantharya/micromamba/envs/py3.11/lib/python3.11/site-packages (from yfinance) (4.12.2)\n",
      "Collecting html5lib>=1.1 (from yfinance)\n",
      "  Downloading html5lib-1.1-py2.py3-none-any.whl.metadata (16 kB)\n",
      "Requirement already satisfied: soupsieve>1.2 in /Users/dishantharya/micromamba/envs/py3.11/lib/python3.11/site-packages (from beautifulsoup4>=4.11.1->yfinance) (2.5)\n",
      "Requirement already satisfied: six>=1.9 in /Users/dishantharya/micromamba/envs/py3.11/lib/python3.11/site-packages (from html5lib>=1.1->yfinance) (1.16.0)\n",
      "Requirement already satisfied: webencodings in /Users/dishantharya/micromamba/envs/py3.11/lib/python3.11/site-packages (from html5lib>=1.1->yfinance) (0.5.1)\n",
      "Requirement already satisfied: python-dateutil>=2.8.1 in /Users/dishantharya/micromamba/envs/py3.11/lib/python3.11/site-packages (from pandas>=1.3.0->yfinance) (2.8.2)\n",
      "Requirement already satisfied: charset-normalizer<4,>=2 in /Users/dishantharya/micromamba/envs/py3.11/lib/python3.11/site-packages (from requests>=2.31->yfinance) (3.1.0)\n",
      "Requirement already satisfied: idna<4,>=2.5 in /Users/dishantharya/micromamba/envs/py3.11/lib/python3.11/site-packages (from requests>=2.31->yfinance) (3.4)\n",
      "Requirement already satisfied: urllib3<3,>=1.21.1 in /Users/dishantharya/micromamba/envs/py3.11/lib/python3.11/site-packages (from requests>=2.31->yfinance) (1.26.15)\n",
      "Requirement already satisfied: certifi>=2017.4.17 in /Users/dishantharya/micromamba/envs/py3.11/lib/python3.11/site-packages (from requests>=2.31->yfinance) (2022.12.7)\n",
      "Downloading yfinance-0.2.51-py2.py3-none-any.whl (104 kB)\n",
      "Downloading frozendict-2.4.6-py311-none-any.whl (16 kB)\n",
      "Downloading html5lib-1.1-py2.py3-none-any.whl (112 kB)\n",
      "Downloading multitasking-0.0.11-py3-none-any.whl (8.5 kB)\n",
      "Downloading requests-2.32.3-py3-none-any.whl (64 kB)\n",
      "Installing collected packages: multitasking, requests, html5lib, frozendict, yfinance\n",
      "  Attempting uninstall: requests\n",
      "    Found existing installation: requests 2.29.0\n",
      "    Uninstalling requests-2.29.0:\n",
      "      Successfully uninstalled requests-2.29.0\n",
      "\u001b[31mERROR: pip's dependency resolver does not currently take into account all the packages that are installed. This behaviour is the source of the following dependency conflicts.\n",
      "streamlit 1.30.0 requires importlib-metadata<8,>=1.4, but you have importlib-metadata 8.4.0 which is incompatible.\n",
      "streamlit 1.30.0 requires packaging<24,>=16.8, but you have packaging 24.2 which is incompatible.\n",
      "chromadb 0.5.3 requires tenacity>=8.2.3, but you have tenacity 8.2.2 which is incompatible.\n",
      "unstructured-client 0.23.8 requires certifi>=2023.7.22, but you have certifi 2022.12.7 which is incompatible.\n",
      "unstructured-client 0.23.8 requires charset-normalizer>=3.2.0, but you have charset-normalizer 3.1.0 which is incompatible.\n",
      "unstructured-client 0.23.8 requires urllib3>=1.26.18, but you have urllib3 1.26.15 which is incompatible.\u001b[0m\u001b[31m\n",
      "\u001b[0mSuccessfully installed frozendict-2.4.6 html5lib-1.1 multitasking-0.0.11 requests-2.32.3 yfinance-0.2.51\n",
      "Note: you may need to restart the kernel to use updated packages.\n"
     ]
    }
   ],
   "source": [
    "pip install yfinance"
   ]
  },
  {
   "cell_type": "code",
   "execution_count": 35,
   "id": "5d1bf379-7fea-4c8a-ac0e-2562045fcf23",
   "metadata": {},
   "outputs": [
    {
     "name": "stderr",
     "output_type": "stream",
     "text": [
      "[*********************100%***********************]  1 of 1 completed\n",
      "[*********************100%***********************]  1 of 1 completed\n"
     ]
    },
    {
     "name": "stdout",
     "output_type": "stream",
     "text": [
      "Reference Dates: (Timestamp('2020-01-10 00:00:00'), Timestamp('2025-01-09 00:00:00')) Current Date Range: 2020-01-10 00:00:00 to 2025-01-09 00:00:00 check is False\n",
      "Processed and saved data for 360ONE.\n"
     ]
    },
    {
     "name": "stderr",
     "output_type": "stream",
     "text": [
      "[*********************100%***********************]  1 of 1 completed\n"
     ]
    },
    {
     "name": "stdout",
     "output_type": "stream",
     "text": [
      "Reference Dates: (Timestamp('2020-01-10 00:00:00'), Timestamp('2025-01-09 00:00:00')) Current Date Range: 2020-01-10 00:00:00 to 2025-01-09 00:00:00 check is False\n",
      "Processed and saved data for 3MINDIA.\n"
     ]
    },
    {
     "name": "stderr",
     "output_type": "stream",
     "text": [
      "[*********************100%***********************]  1 of 1 completed\n"
     ]
    },
    {
     "name": "stdout",
     "output_type": "stream",
     "text": [
      "Reference Dates: (Timestamp('2020-01-10 00:00:00'), Timestamp('2025-01-09 00:00:00')) Current Date Range: 2020-01-10 00:00:00 to 2025-01-09 00:00:00 check is False\n",
      "Processed and saved data for ABB.\n"
     ]
    },
    {
     "name": "stderr",
     "output_type": "stream",
     "text": [
      "[*********************100%***********************]  1 of 1 completed\n"
     ]
    },
    {
     "name": "stdout",
     "output_type": "stream",
     "text": [
      "Reference Dates: (Timestamp('2020-01-10 00:00:00'), Timestamp('2025-01-09 00:00:00')) Current Date Range: 2020-01-10 00:00:00 to 2025-01-09 00:00:00 check is False\n",
      "Processed and saved data for ACC.\n"
     ]
    },
    {
     "name": "stderr",
     "output_type": "stream",
     "text": [
      "[*********************100%***********************]  1 of 1 completed\n"
     ]
    },
    {
     "name": "stdout",
     "output_type": "stream",
     "text": [
      "Reference Dates: (Timestamp('2020-01-10 00:00:00'), Timestamp('2025-01-09 00:00:00')) Current Date Range: 2020-01-10 00:00:00 to 2025-01-09 00:00:00 check is False\n",
      "Processed and saved data for AIAENG.\n"
     ]
    },
    {
     "name": "stderr",
     "output_type": "stream",
     "text": [
      "[*********************100%***********************]  1 of 1 completed\n"
     ]
    },
    {
     "name": "stdout",
     "output_type": "stream",
     "text": [
      "Reference Dates: (Timestamp('2020-01-10 00:00:00'), Timestamp('2025-01-09 00:00:00')) Current Date Range: 2020-01-10 00:00:00 to 2025-01-09 00:00:00 check is False\n",
      "Processed and saved data for APLAPOLLO.\n"
     ]
    },
    {
     "name": "stderr",
     "output_type": "stream",
     "text": [
      "[*********************100%***********************]  1 of 1 completed\n"
     ]
    },
    {
     "name": "stdout",
     "output_type": "stream",
     "text": [
      "Reference Dates: (Timestamp('2020-01-10 00:00:00'), Timestamp('2025-01-09 00:00:00')) Current Date Range: 2020-01-10 00:00:00 to 2025-01-09 00:00:00 check is False\n",
      "Processed and saved data for AUBANK.\n"
     ]
    },
    {
     "name": "stderr",
     "output_type": "stream",
     "text": [
      "[*********************100%***********************]  1 of 1 completed\n"
     ]
    },
    {
     "name": "stdout",
     "output_type": "stream",
     "text": [
      "Reference Dates: (Timestamp('2020-01-10 00:00:00'), Timestamp('2025-01-09 00:00:00')) Current Date Range: 2024-05-15 00:00:00 to 2025-01-09 00:00:00 check is True\n",
      "Skipping...AADHARHFC\n"
     ]
    },
    {
     "name": "stderr",
     "output_type": "stream",
     "text": [
      "[*********************100%***********************]  1 of 1 completed\n"
     ]
    },
    {
     "name": "stdout",
     "output_type": "stream",
     "text": [
      "Reference Dates: (Timestamp('2020-01-10 00:00:00'), Timestamp('2025-01-09 00:00:00')) Current Date Range: 2020-01-10 00:00:00 to 2025-01-09 00:00:00 check is False\n",
      "Processed and saved data for AARTIIND.\n"
     ]
    },
    {
     "name": "stderr",
     "output_type": "stream",
     "text": [
      "[*********************100%***********************]  1 of 1 completed\n"
     ]
    },
    {
     "name": "stdout",
     "output_type": "stream",
     "text": [
      "Reference Dates: (Timestamp('2020-01-10 00:00:00'), Timestamp('2025-01-09 00:00:00')) Current Date Range: 2020-01-10 00:00:00 to 2025-01-09 00:00:00 check is False\n",
      "Processed and saved data for AAVAS.\n"
     ]
    },
    {
     "name": "stderr",
     "output_type": "stream",
     "text": [
      "[*********************100%***********************]  1 of 1 completed\n"
     ]
    },
    {
     "name": "stdout",
     "output_type": "stream",
     "text": [
      "Reference Dates: (Timestamp('2020-01-10 00:00:00'), Timestamp('2025-01-09 00:00:00')) Current Date Range: 2020-01-10 00:00:00 to 2025-01-09 00:00:00 check is False\n",
      "Processed and saved data for ABBOTINDIA.\n"
     ]
    },
    {
     "name": "stderr",
     "output_type": "stream",
     "text": [
      "[*********************100%***********************]  1 of 1 completed\n",
      "[*********************100%***********************]  1 of 1 completed\n"
     ]
    },
    {
     "name": "stdout",
     "output_type": "stream",
     "text": [
      "Reference Dates: (Timestamp('2020-01-10 00:00:00'), Timestamp('2025-01-09 00:00:00')) Current Date Range: 2020-01-10 00:00:00 to 2025-01-09 00:00:00 check is False\n",
      "Processed and saved data for ACE.\n",
      "Reference Dates: (Timestamp('2020-01-10 00:00:00'), Timestamp('2025-01-09 00:00:00')) Current Date Range: 2023-08-16 00:00:00 to 2025-01-09 00:00:00 check is True\n",
      "Skipping...ADANIENSOL\n"
     ]
    },
    {
     "name": "stderr",
     "output_type": "stream",
     "text": [
      "[*********************100%***********************]  1 of 1 completed\n"
     ]
    },
    {
     "name": "stdout",
     "output_type": "stream",
     "text": [
      "Reference Dates: (Timestamp('2020-01-10 00:00:00'), Timestamp('2025-01-09 00:00:00')) Current Date Range: 2020-01-10 00:00:00 to 2025-01-09 00:00:00 check is False\n",
      "Processed and saved data for ADANIENT.\n"
     ]
    },
    {
     "name": "stderr",
     "output_type": "stream",
     "text": [
      "[*********************100%***********************]  1 of 1 completed\n"
     ]
    },
    {
     "name": "stdout",
     "output_type": "stream",
     "text": [
      "Reference Dates: (Timestamp('2020-01-10 00:00:00'), Timestamp('2025-01-09 00:00:00')) Current Date Range: 2020-01-10 00:00:00 to 2025-01-09 00:00:00 check is False\n",
      "Processed and saved data for ADANIGREEN.\n"
     ]
    },
    {
     "name": "stderr",
     "output_type": "stream",
     "text": [
      "[*********************100%***********************]  1 of 1 completed\n",
      "[*********************100%***********************]  1 of 1 completed\n"
     ]
    },
    {
     "name": "stdout",
     "output_type": "stream",
     "text": [
      "Reference Dates: (Timestamp('2020-01-10 00:00:00'), Timestamp('2025-01-09 00:00:00')) Current Date Range: 2020-01-10 00:00:00 to 2025-01-09 00:00:00 check is False\n",
      "Processed and saved data for ADANIPORTS.\n",
      "Reference Dates: (Timestamp('2020-01-10 00:00:00'), Timestamp('2025-01-09 00:00:00')) Current Date Range: 2020-01-10 00:00:00 to 2025-01-09 00:00:00 check is False\n",
      "Processed and saved data for ADANIPOWER.\n"
     ]
    },
    {
     "name": "stderr",
     "output_type": "stream",
     "text": [
      "[*********************100%***********************]  1 of 1 completed\n"
     ]
    },
    {
     "name": "stdout",
     "output_type": "stream",
     "text": [
      "Reference Dates: (Timestamp('2020-01-10 00:00:00'), Timestamp('2025-01-09 00:00:00')) Current Date Range: 2020-01-10 00:00:00 to 2025-01-09 00:00:00 check is False\n",
      "Processed and saved data for ATGL.\n"
     ]
    },
    {
     "name": "stderr",
     "output_type": "stream",
     "text": [
      "[*********************100%***********************]  1 of 1 completed\n",
      "[*********************100%***********************]  1 of 1 completed\n"
     ]
    },
    {
     "name": "stdout",
     "output_type": "stream",
     "text": [
      "Reference Dates: (Timestamp('2020-01-10 00:00:00'), Timestamp('2025-01-09 00:00:00')) Current Date Range: 2022-02-08 00:00:00 to 2025-01-09 00:00:00 check is True\n",
      "Skipping...AWL\n",
      "Reference Dates: (Timestamp('2020-01-10 00:00:00'), Timestamp('2025-01-09 00:00:00')) Current Date Range: 2020-01-10 00:00:00 to 2025-01-09 00:00:00 check is False\n",
      "Processed and saved data for ABCAPITAL.\n"
     ]
    },
    {
     "name": "stderr",
     "output_type": "stream",
     "text": [
      "[*********************100%***********************]  1 of 1 completed\n"
     ]
    },
    {
     "name": "stdout",
     "output_type": "stream",
     "text": [
      "Reference Dates: (Timestamp('2020-01-10 00:00:00'), Timestamp('2025-01-09 00:00:00')) Current Date Range: 2020-01-10 00:00:00 to 2025-01-09 00:00:00 check is False\n",
      "Processed and saved data for ABFRL.\n"
     ]
    },
    {
     "name": "stderr",
     "output_type": "stream",
     "text": [
      "[*********************100%***********************]  1 of 1 completed\n"
     ]
    },
    {
     "name": "stdout",
     "output_type": "stream",
     "text": [
      "Reference Dates: (Timestamp('2020-01-10 00:00:00'), Timestamp('2025-01-09 00:00:00')) Current Date Range: 2020-01-10 00:00:00 to 2025-01-09 00:00:00 check is False\n",
      "Processed and saved data for ABREL.\n"
     ]
    },
    {
     "name": "stderr",
     "output_type": "stream",
     "text": [
      "[*********************100%***********************]  1 of 1 completed\n"
     ]
    },
    {
     "name": "stdout",
     "output_type": "stream",
     "text": [
      "Reference Dates: (Timestamp('2020-01-10 00:00:00'), Timestamp('2025-01-09 00:00:00')) Current Date Range: 2021-10-11 00:00:00 to 2025-01-09 00:00:00 check is True\n",
      "Processed and saved data for ABSLAMC.\n"
     ]
    },
    {
     "name": "stderr",
     "output_type": "stream",
     "text": [
      "[*********************100%***********************]  1 of 1 completed\n"
     ]
    },
    {
     "name": "stdout",
     "output_type": "stream",
     "text": [
      "Reference Dates: (Timestamp('2020-01-10 00:00:00'), Timestamp('2025-01-09 00:00:00')) Current Date Range: 2024-05-30 00:00:00 to 2025-01-09 00:00:00 check is True\n",
      "Skipping...AEGISLOG\n"
     ]
    },
    {
     "name": "stderr",
     "output_type": "stream",
     "text": [
      "[*********************100%***********************]  1 of 1 completed\n"
     ]
    },
    {
     "name": "stdout",
     "output_type": "stream",
     "text": [
      "Reference Dates: (Timestamp('2020-01-10 00:00:00'), Timestamp('2025-01-09 00:00:00')) Current Date Range: 2020-01-10 00:00:00 to 2025-01-09 00:00:00 check is False\n",
      "Processed and saved data for AFFLE.\n"
     ]
    },
    {
     "name": "stderr",
     "output_type": "stream",
     "text": [
      "[*********************100%***********************]  1 of 1 completed\n",
      "[*********************100%***********************]  1 of 1 completed\n"
     ]
    },
    {
     "name": "stdout",
     "output_type": "stream",
     "text": [
      "Reference Dates: (Timestamp('2020-01-10 00:00:00'), Timestamp('2025-01-09 00:00:00')) Current Date Range: 2020-01-10 00:00:00 to 2025-01-09 00:00:00 check is False\n",
      "Processed and saved data for AJANTPHARM.\n",
      "Reference Dates: (Timestamp('2020-01-10 00:00:00'), Timestamp('2025-01-09 00:00:00')) Current Date Range: 2024-08-06 00:00:00 to 2025-01-09 00:00:00 check is True\n",
      "Skipping...AKUMS\n"
     ]
    },
    {
     "name": "stderr",
     "output_type": "stream",
     "text": [
      "[*********************100%***********************]  1 of 1 completed\n"
     ]
    },
    {
     "name": "stdout",
     "output_type": "stream",
     "text": [
      "Reference Dates: (Timestamp('2020-01-10 00:00:00'), Timestamp('2025-01-09 00:00:00')) Current Date Range: 2020-01-10 00:00:00 to 2025-01-09 00:00:00 check is False\n",
      "Processed and saved data for APLLTD.\n"
     ]
    },
    {
     "name": "stderr",
     "output_type": "stream",
     "text": [
      "[*********************100%***********************]  1 of 1 completed\n"
     ]
    },
    {
     "name": "stdout",
     "output_type": "stream",
     "text": [
      "Reference Dates: (Timestamp('2020-01-10 00:00:00'), Timestamp('2025-01-09 00:00:00')) Current Date Range: 2020-01-10 00:00:00 to 2025-01-09 00:00:00 check is False\n",
      "Processed and saved data for ALKEM.\n"
     ]
    },
    {
     "name": "stderr",
     "output_type": "stream",
     "text": [
      "[*********************100%***********************]  1 of 1 completed\n"
     ]
    },
    {
     "name": "stdout",
     "output_type": "stream",
     "text": [
      "Reference Dates: (Timestamp('2020-01-10 00:00:00'), Timestamp('2025-01-09 00:00:00')) Current Date Range: 2020-01-10 00:00:00 to 2025-01-09 00:00:00 check is False\n",
      "Processed and saved data for ALKYLAMINE.\n"
     ]
    },
    {
     "name": "stderr",
     "output_type": "stream",
     "text": [
      "[*********************100%***********************]  1 of 1 completed\n"
     ]
    },
    {
     "name": "stdout",
     "output_type": "stream",
     "text": [
      "Reference Dates: (Timestamp('2020-01-10 00:00:00'), Timestamp('2025-01-09 00:00:00')) Current Date Range: 2020-01-10 00:00:00 to 2025-01-09 00:00:00 check is False\n",
      "Processed and saved data for ALOKINDS.\n"
     ]
    },
    {
     "name": "stderr",
     "output_type": "stream",
     "text": [
      "[*********************100%***********************]  1 of 1 completed\n"
     ]
    },
    {
     "name": "stdout",
     "output_type": "stream",
     "text": [
      "Reference Dates: (Timestamp('2020-01-10 00:00:00'), Timestamp('2025-01-09 00:00:00')) Current Date Range: 2023-10-18 00:00:00 to 2025-01-09 00:00:00 check is True\n",
      "Skipping...ARE&M\n"
     ]
    },
    {
     "name": "stderr",
     "output_type": "stream",
     "text": [
      "[*********************100%***********************]  1 of 1 completed\n"
     ]
    },
    {
     "name": "stdout",
     "output_type": "stream",
     "text": [
      "Reference Dates: (Timestamp('2020-01-10 00:00:00'), Timestamp('2025-01-09 00:00:00')) Current Date Range: 2020-01-10 00:00:00 to 2025-01-09 00:00:00 check is False\n",
      "Processed and saved data for AMBER.\n"
     ]
    },
    {
     "name": "stderr",
     "output_type": "stream",
     "text": [
      "[*********************100%***********************]  1 of 1 completed\n"
     ]
    },
    {
     "name": "stdout",
     "output_type": "stream",
     "text": [
      "Reference Dates: (Timestamp('2020-01-10 00:00:00'), Timestamp('2025-01-09 00:00:00')) Current Date Range: 2020-01-10 00:00:00 to 2025-01-09 00:00:00 check is False\n",
      "Processed and saved data for AMBUJACEM.\n"
     ]
    },
    {
     "name": "stderr",
     "output_type": "stream",
     "text": [
      "[*********************100%***********************]  1 of 1 completed\n"
     ]
    },
    {
     "name": "stdout",
     "output_type": "stream",
     "text": [
      "Reference Dates: (Timestamp('2020-01-10 00:00:00'), Timestamp('2025-01-09 00:00:00')) Current Date Range: 2021-12-14 00:00:00 to 2025-01-09 00:00:00 check is True\n",
      "Processed and saved data for ANANDRATHI.\n"
     ]
    },
    {
     "name": "stderr",
     "output_type": "stream",
     "text": [
      "[*********************100%***********************]  1 of 1 completed\n"
     ]
    },
    {
     "name": "stdout",
     "output_type": "stream",
     "text": [
      "Reference Dates: (Timestamp('2020-01-10 00:00:00'), Timestamp('2025-01-09 00:00:00')) Current Date Range: 2020-01-10 00:00:00 to 2025-01-09 00:00:00 check is False\n",
      "Processed and saved data for ANANTRAJ.\n"
     ]
    },
    {
     "name": "stderr",
     "output_type": "stream",
     "text": [
      "[*********************100%***********************]  1 of 1 completed\n"
     ]
    },
    {
     "name": "stdout",
     "output_type": "stream",
     "text": [
      "Reference Dates: (Timestamp('2020-01-10 00:00:00'), Timestamp('2025-01-09 00:00:00')) Current Date Range: 2020-10-05 00:00:00 to 2025-01-09 00:00:00 check is True\n",
      "Processed and saved data for ANGELONE.\n"
     ]
    },
    {
     "name": "stderr",
     "output_type": "stream",
     "text": [
      "[*********************100%***********************]  1 of 1 completed\n"
     ]
    },
    {
     "name": "stdout",
     "output_type": "stream",
     "text": [
      "Reference Dates: (Timestamp('2020-01-10 00:00:00'), Timestamp('2025-01-09 00:00:00')) Current Date Range: 2020-01-10 00:00:00 to 2025-01-09 00:00:00 check is False\n",
      "Processed and saved data for APARINDS.\n"
     ]
    },
    {
     "name": "stderr",
     "output_type": "stream",
     "text": [
      "[*********************100%***********************]  1 of 1 completed\n"
     ]
    },
    {
     "name": "stdout",
     "output_type": "stream",
     "text": [
      "Reference Dates: (Timestamp('2020-01-10 00:00:00'), Timestamp('2025-01-09 00:00:00')) Current Date Range: 2020-01-10 00:00:00 to 2025-01-09 00:00:00 check is False\n",
      "Processed and saved data for APOLLOHOSP.\n"
     ]
    },
    {
     "name": "stderr",
     "output_type": "stream",
     "text": [
      "[*********************100%***********************]  1 of 1 completed\n"
     ]
    },
    {
     "name": "stdout",
     "output_type": "stream",
     "text": [
      "Reference Dates: (Timestamp('2020-01-10 00:00:00'), Timestamp('2025-01-09 00:00:00')) Current Date Range: 2020-01-10 00:00:00 to 2025-01-09 00:00:00 check is False\n",
      "Processed and saved data for APOLLOTYRE.\n"
     ]
    },
    {
     "name": "stderr",
     "output_type": "stream",
     "text": [
      "[*********************100%***********************]  1 of 1 completed\n",
      "[*********************100%***********************]  1 of 1 completed\n"
     ]
    },
    {
     "name": "stdout",
     "output_type": "stream",
     "text": [
      "Reference Dates: (Timestamp('2020-01-10 00:00:00'), Timestamp('2025-01-09 00:00:00')) Current Date Range: 2021-08-24 00:00:00 to 2025-01-09 00:00:00 check is True\n",
      "Processed and saved data for APTUS.\n",
      "Reference Dates: (Timestamp('2020-01-10 00:00:00'), Timestamp('2025-01-09 00:00:00')) Current Date Range: 2022-11-21 00:00:00 to 2025-01-09 00:00:00 check is True\n",
      "Skipping...ACI\n"
     ]
    },
    {
     "name": "stderr",
     "output_type": "stream",
     "text": [
      "[*********************100%***********************]  1 of 1 completed\n"
     ]
    },
    {
     "name": "stdout",
     "output_type": "stream",
     "text": [
      "Reference Dates: (Timestamp('2020-01-10 00:00:00'), Timestamp('2025-01-09 00:00:00')) Current Date Range: 2020-01-10 00:00:00 to 2025-01-09 00:00:00 check is False\n",
      "Processed and saved data for ASAHIINDIA.\n"
     ]
    },
    {
     "name": "stderr",
     "output_type": "stream",
     "text": [
      "[*********************100%***********************]  1 of 1 completed\n"
     ]
    },
    {
     "name": "stdout",
     "output_type": "stream",
     "text": [
      "Reference Dates: (Timestamp('2020-01-10 00:00:00'), Timestamp('2025-01-09 00:00:00')) Current Date Range: 2020-01-10 00:00:00 to 2025-01-09 00:00:00 check is False\n",
      "Processed and saved data for ASHOKLEY.\n"
     ]
    },
    {
     "name": "stderr",
     "output_type": "stream",
     "text": [
      "[*********************100%***********************]  1 of 1 completed\n"
     ]
    },
    {
     "name": "stdout",
     "output_type": "stream",
     "text": [
      "Reference Dates: (Timestamp('2020-01-10 00:00:00'), Timestamp('2025-01-09 00:00:00')) Current Date Range: 2020-01-10 00:00:00 to 2025-01-09 00:00:00 check is False\n",
      "Processed and saved data for ASIANPAINT.\n"
     ]
    },
    {
     "name": "stderr",
     "output_type": "stream",
     "text": [
      "[*********************100%***********************]  1 of 1 completed\n"
     ]
    },
    {
     "name": "stdout",
     "output_type": "stream",
     "text": [
      "Reference Dates: (Timestamp('2020-01-10 00:00:00'), Timestamp('2025-01-09 00:00:00')) Current Date Range: 2020-01-10 00:00:00 to 2025-01-09 00:00:00 check is False\n",
      "Processed and saved data for ASTERDM.\n"
     ]
    },
    {
     "name": "stderr",
     "output_type": "stream",
     "text": [
      "[*********************100%***********************]  1 of 1 completed\n"
     ]
    },
    {
     "name": "stdout",
     "output_type": "stream",
     "text": [
      "Reference Dates: (Timestamp('2020-01-10 00:00:00'), Timestamp('2025-01-09 00:00:00')) Current Date Range: 2020-01-10 00:00:00 to 2025-01-09 00:00:00 check is False\n",
      "Processed and saved data for ASTRAZEN.\n"
     ]
    },
    {
     "name": "stderr",
     "output_type": "stream",
     "text": [
      "[*********************100%***********************]  1 of 1 completed\n"
     ]
    },
    {
     "name": "stdout",
     "output_type": "stream",
     "text": [
      "Reference Dates: (Timestamp('2020-01-10 00:00:00'), Timestamp('2025-01-09 00:00:00')) Current Date Range: 2020-01-10 00:00:00 to 2025-01-09 00:00:00 check is False\n",
      "Processed and saved data for ASTRAL.\n"
     ]
    },
    {
     "name": "stderr",
     "output_type": "stream",
     "text": [
      "[*********************100%***********************]  1 of 1 completed\n"
     ]
    },
    {
     "name": "stdout",
     "output_type": "stream",
     "text": [
      "Reference Dates: (Timestamp('2020-01-10 00:00:00'), Timestamp('2025-01-09 00:00:00')) Current Date Range: 2020-01-10 00:00:00 to 2025-01-09 00:00:00 check is False\n",
      "Processed and saved data for ATUL.\n"
     ]
    },
    {
     "name": "stderr",
     "output_type": "stream",
     "text": [
      "[*********************100%***********************]  1 of 1 completed\n"
     ]
    },
    {
     "name": "stdout",
     "output_type": "stream",
     "text": [
      "Reference Dates: (Timestamp('2020-01-10 00:00:00'), Timestamp('2025-01-09 00:00:00')) Current Date Range: 2020-01-10 00:00:00 to 2025-01-09 00:00:00 check is False\n",
      "Processed and saved data for AUROPHARMA.\n"
     ]
    },
    {
     "name": "stderr",
     "output_type": "stream",
     "text": [
      "[*********************100%***********************]  1 of 1 completed\n",
      "[*********************100%***********************]  1 of 1 completed\n"
     ]
    },
    {
     "name": "stdout",
     "output_type": "stream",
     "text": [
      "Reference Dates: (Timestamp('2020-01-10 00:00:00'), Timestamp('2025-01-09 00:00:00')) Current Date Range: 2020-01-10 00:00:00 to 2025-01-09 00:00:00 check is False\n",
      "Processed and saved data for AVANTIFEED.\n",
      "Reference Dates: (Timestamp('2020-01-10 00:00:00'), Timestamp('2025-01-09 00:00:00')) Current Date Range: 2020-01-10 00:00:00 to 2025-01-09 00:00:00 check is False\n",
      "Processed and saved data for DMART.\n"
     ]
    },
    {
     "name": "stderr",
     "output_type": "stream",
     "text": [
      "[*********************100%***********************]  1 of 1 completed\n"
     ]
    },
    {
     "name": "stdout",
     "output_type": "stream",
     "text": [
      "Reference Dates: (Timestamp('2020-01-10 00:00:00'), Timestamp('2025-01-09 00:00:00')) Current Date Range: 2020-01-10 00:00:00 to 2025-01-09 00:00:00 check is False\n",
      "Processed and saved data for AXISBANK.\n"
     ]
    },
    {
     "name": "stderr",
     "output_type": "stream",
     "text": [
      "[*********************100%***********************]  1 of 1 completed\n"
     ]
    },
    {
     "name": "stdout",
     "output_type": "stream",
     "text": [
      "Reference Dates: (Timestamp('2020-01-10 00:00:00'), Timestamp('2025-01-09 00:00:00')) Current Date Range: 2020-01-10 00:00:00 to 2025-01-09 00:00:00 check is False\n",
      "Processed and saved data for BASF.\n"
     ]
    },
    {
     "name": "stderr",
     "output_type": "stream",
     "text": [
      "[*********************100%***********************]  1 of 1 completed\n"
     ]
    },
    {
     "name": "stdout",
     "output_type": "stream",
     "text": [
      "Reference Dates: (Timestamp('2020-01-10 00:00:00'), Timestamp('2025-01-09 00:00:00')) Current Date Range: 2020-01-10 00:00:00 to 2025-01-09 00:00:00 check is False\n",
      "Processed and saved data for BEML.\n"
     ]
    },
    {
     "name": "stderr",
     "output_type": "stream",
     "text": [
      "[*********************100%***********************]  1 of 1 completed\n",
      "[*********************100%***********************]  1 of 1 completed\n"
     ]
    },
    {
     "name": "stdout",
     "output_type": "stream",
     "text": [
      "Reference Dates: (Timestamp('2020-01-10 00:00:00'), Timestamp('2025-01-09 00:00:00')) Current Date Range: 2020-01-10 00:00:00 to 2025-01-09 00:00:00 check is False\n",
      "Processed and saved data for BLS.\n",
      "Reference Dates: (Timestamp('2020-01-10 00:00:00'), Timestamp('2025-01-09 00:00:00')) Current Date Range: 2020-01-10 00:00:00 to 2025-01-09 00:00:00 check is False\n",
      "Processed and saved data for BSE.\n"
     ]
    },
    {
     "name": "stderr",
     "output_type": "stream",
     "text": [
      "[*********************100%***********************]  1 of 1 completed\n"
     ]
    },
    {
     "name": "stdout",
     "output_type": "stream",
     "text": [
      "Reference Dates: (Timestamp('2020-01-10 00:00:00'), Timestamp('2025-01-09 00:00:00')) Current Date Range: 2020-01-10 00:00:00 to 2025-01-09 00:00:00 check is False\n",
      "Processed and saved data for BAJAJ-AUTO.\n"
     ]
    },
    {
     "name": "stderr",
     "output_type": "stream",
     "text": [
      "[*********************100%***********************]  1 of 1 completed\n"
     ]
    },
    {
     "name": "stdout",
     "output_type": "stream",
     "text": [
      "Reference Dates: (Timestamp('2020-01-10 00:00:00'), Timestamp('2025-01-09 00:00:00')) Current Date Range: 2020-01-10 00:00:00 to 2025-01-09 00:00:00 check is False\n",
      "Processed and saved data for BAJFINANCE.\n"
     ]
    },
    {
     "name": "stderr",
     "output_type": "stream",
     "text": [
      "[*********************100%***********************]  1 of 1 completed\n"
     ]
    },
    {
     "name": "stdout",
     "output_type": "stream",
     "text": [
      "Reference Dates: (Timestamp('2020-01-10 00:00:00'), Timestamp('2025-01-09 00:00:00')) Current Date Range: 2020-01-10 00:00:00 to 2025-01-09 00:00:00 check is False\n",
      "Processed and saved data for BAJAJFINSV.\n"
     ]
    },
    {
     "name": "stderr",
     "output_type": "stream",
     "text": [
      "[*********************100%***********************]  1 of 1 completed\n"
     ]
    },
    {
     "name": "stdout",
     "output_type": "stream",
     "text": [
      "Reference Dates: (Timestamp('2020-01-10 00:00:00'), Timestamp('2025-01-09 00:00:00')) Current Date Range: 2020-01-10 00:00:00 to 2025-01-09 00:00:00 check is False\n",
      "Processed and saved data for BAJAJHLDNG.\n"
     ]
    },
    {
     "name": "stderr",
     "output_type": "stream",
     "text": [
      "[*********************100%***********************]  1 of 1 completed\n"
     ]
    },
    {
     "name": "stdout",
     "output_type": "stream",
     "text": [
      "Reference Dates: (Timestamp('2020-01-10 00:00:00'), Timestamp('2025-01-09 00:00:00')) Current Date Range: 2020-01-10 00:00:00 to 2025-01-09 00:00:00 check is False\n",
      "Processed and saved data for BALAMINES.\n"
     ]
    },
    {
     "name": "stderr",
     "output_type": "stream",
     "text": [
      "[*********************100%***********************]  1 of 1 completed\n"
     ]
    },
    {
     "name": "stdout",
     "output_type": "stream",
     "text": [
      "Reference Dates: (Timestamp('2020-01-10 00:00:00'), Timestamp('2025-01-09 00:00:00')) Current Date Range: 2020-01-10 00:00:00 to 2025-01-09 00:00:00 check is False\n",
      "Processed and saved data for BALKRISIND.\n"
     ]
    },
    {
     "name": "stderr",
     "output_type": "stream",
     "text": [
      "[*********************100%***********************]  1 of 1 completed\n",
      "[*********************100%***********************]  1 of 1 completed\n"
     ]
    },
    {
     "name": "stdout",
     "output_type": "stream",
     "text": [
      "Reference Dates: (Timestamp('2020-01-10 00:00:00'), Timestamp('2025-01-09 00:00:00')) Current Date Range: 2020-01-10 00:00:00 to 2025-01-09 00:00:00 check is False\n",
      "Processed and saved data for BALRAMCHIN.\n",
      "Reference Dates: (Timestamp('2020-01-10 00:00:00'), Timestamp('2025-01-09 00:00:00')) Current Date Range: 2020-01-10 00:00:00 to 2025-01-09 00:00:00 check is False\n",
      "Processed and saved data for BANDHANBNK.\n"
     ]
    },
    {
     "name": "stderr",
     "output_type": "stream",
     "text": [
      "[*********************100%***********************]  1 of 1 completed\n"
     ]
    },
    {
     "name": "stdout",
     "output_type": "stream",
     "text": [
      "Reference Dates: (Timestamp('2020-01-10 00:00:00'), Timestamp('2025-01-09 00:00:00')) Current Date Range: 2020-01-10 00:00:00 to 2025-01-09 00:00:00 check is False\n",
      "Processed and saved data for BANKBARODA.\n"
     ]
    },
    {
     "name": "stderr",
     "output_type": "stream",
     "text": [
      "[*********************100%***********************]  1 of 1 completed\n"
     ]
    },
    {
     "name": "stdout",
     "output_type": "stream",
     "text": [
      "Reference Dates: (Timestamp('2020-01-10 00:00:00'), Timestamp('2025-01-09 00:00:00')) Current Date Range: 2020-01-10 00:00:00 to 2025-01-09 00:00:00 check is False\n",
      "Processed and saved data for BANKINDIA.\n"
     ]
    },
    {
     "name": "stderr",
     "output_type": "stream",
     "text": [
      "[*********************100%***********************]  1 of 1 completed\n"
     ]
    },
    {
     "name": "stdout",
     "output_type": "stream",
     "text": [
      "Reference Dates: (Timestamp('2020-01-10 00:00:00'), Timestamp('2025-01-09 00:00:00')) Current Date Range: 2020-01-10 00:00:00 to 2025-01-09 00:00:00 check is False\n",
      "Processed and saved data for MAHABANK.\n"
     ]
    },
    {
     "name": "stderr",
     "output_type": "stream",
     "text": [
      "[*********************100%***********************]  1 of 1 completed\n"
     ]
    },
    {
     "name": "stdout",
     "output_type": "stream",
     "text": [
      "Reference Dates: (Timestamp('2020-01-10 00:00:00'), Timestamp('2025-01-09 00:00:00')) Current Date Range: 2020-01-10 00:00:00 to 2025-01-09 00:00:00 check is False\n",
      "Processed and saved data for BATAINDIA.\n"
     ]
    },
    {
     "name": "stderr",
     "output_type": "stream",
     "text": [
      "[*********************100%***********************]  1 of 1 completed\n"
     ]
    },
    {
     "name": "stdout",
     "output_type": "stream",
     "text": [
      "Reference Dates: (Timestamp('2020-01-10 00:00:00'), Timestamp('2025-01-09 00:00:00')) Current Date Range: 2020-01-10 00:00:00 to 2025-01-09 00:00:00 check is False\n",
      "Processed and saved data for BAYERCROP.\n"
     ]
    },
    {
     "name": "stderr",
     "output_type": "stream",
     "text": [
      "[*********************100%***********************]  1 of 1 completed\n"
     ]
    },
    {
     "name": "stdout",
     "output_type": "stream",
     "text": [
      "Reference Dates: (Timestamp('2020-01-10 00:00:00'), Timestamp('2025-01-09 00:00:00')) Current Date Range: 2020-01-10 00:00:00 to 2025-01-09 00:00:00 check is False\n",
      "Processed and saved data for BERGEPAINT.\n"
     ]
    },
    {
     "name": "stderr",
     "output_type": "stream",
     "text": [
      "[*********************100%***********************]  1 of 1 completed\n"
     ]
    },
    {
     "name": "stdout",
     "output_type": "stream",
     "text": [
      "Reference Dates: (Timestamp('2020-01-10 00:00:00'), Timestamp('2025-01-09 00:00:00')) Current Date Range: 2020-01-10 00:00:00 to 2025-01-09 00:00:00 check is False\n",
      "Processed and saved data for BDL.\n"
     ]
    },
    {
     "name": "stderr",
     "output_type": "stream",
     "text": [
      "[*********************100%***********************]  1 of 1 completed\n"
     ]
    },
    {
     "name": "stdout",
     "output_type": "stream",
     "text": [
      "Reference Dates: (Timestamp('2020-01-10 00:00:00'), Timestamp('2025-01-09 00:00:00')) Current Date Range: 2020-01-10 00:00:00 to 2025-01-09 00:00:00 check is False\n",
      "Processed and saved data for BEL.\n"
     ]
    },
    {
     "name": "stderr",
     "output_type": "stream",
     "text": [
      "[*********************100%***********************]  1 of 1 completed\n"
     ]
    },
    {
     "name": "stdout",
     "output_type": "stream",
     "text": [
      "Reference Dates: (Timestamp('2020-01-10 00:00:00'), Timestamp('2025-01-09 00:00:00')) Current Date Range: 2020-01-10 00:00:00 to 2025-01-09 00:00:00 check is False\n",
      "Processed and saved data for BHARATFORG.\n"
     ]
    },
    {
     "name": "stderr",
     "output_type": "stream",
     "text": [
      "[*********************100%***********************]  1 of 1 completed\n"
     ]
    },
    {
     "name": "stdout",
     "output_type": "stream",
     "text": [
      "Reference Dates: (Timestamp('2020-01-10 00:00:00'), Timestamp('2025-01-09 00:00:00')) Current Date Range: 2020-01-10 00:00:00 to 2025-01-09 00:00:00 check is False\n",
      "Processed and saved data for BHEL.\n"
     ]
    },
    {
     "name": "stderr",
     "output_type": "stream",
     "text": [
      "[*********************100%***********************]  1 of 1 completed\n"
     ]
    },
    {
     "name": "stdout",
     "output_type": "stream",
     "text": [
      "Reference Dates: (Timestamp('2020-01-10 00:00:00'), Timestamp('2025-01-09 00:00:00')) Current Date Range: 2020-01-10 00:00:00 to 2025-01-09 00:00:00 check is False\n",
      "Processed and saved data for BPCL.\n"
     ]
    },
    {
     "name": "stderr",
     "output_type": "stream",
     "text": [
      "[*********************100%***********************]  1 of 1 completed\n",
      "[*********************100%***********************]  1 of 1 completed\n"
     ]
    },
    {
     "name": "stdout",
     "output_type": "stream",
     "text": [
      "Reference Dates: (Timestamp('2020-01-10 00:00:00'), Timestamp('2025-01-09 00:00:00')) Current Date Range: 2020-01-10 00:00:00 to 2025-01-09 00:00:00 check is False\n",
      "Processed and saved data for BHARTIARTL.\n",
      "Reference Dates: (Timestamp('2020-01-10 00:00:00'), Timestamp('2025-01-09 00:00:00')) Current Date Range: 2024-04-12 00:00:00 to 2025-01-09 00:00:00 check is True\n",
      "Skipping...BHARTIHEXA\n"
     ]
    },
    {
     "name": "stderr",
     "output_type": "stream",
     "text": [
      "[*********************100%***********************]  1 of 1 completed\n"
     ]
    },
    {
     "name": "stdout",
     "output_type": "stream",
     "text": [
      "Reference Dates: (Timestamp('2020-01-10 00:00:00'), Timestamp('2025-01-09 00:00:00')) Current Date Range: 2022-11-16 00:00:00 to 2025-01-09 00:00:00 check is True\n",
      "Skipping...BIKAJI\n"
     ]
    },
    {
     "name": "stderr",
     "output_type": "stream",
     "text": [
      "[*********************100%***********************]  1 of 1 completed\n"
     ]
    },
    {
     "name": "stdout",
     "output_type": "stream",
     "text": [
      "Reference Dates: (Timestamp('2020-01-10 00:00:00'), Timestamp('2025-01-09 00:00:00')) Current Date Range: 2020-01-10 00:00:00 to 2025-01-09 00:00:00 check is False\n",
      "Processed and saved data for BIOCON.\n"
     ]
    },
    {
     "name": "stderr",
     "output_type": "stream",
     "text": [
      "[*********************100%***********************]  1 of 1 completed\n"
     ]
    },
    {
     "name": "stdout",
     "output_type": "stream",
     "text": [
      "Reference Dates: (Timestamp('2020-01-10 00:00:00'), Timestamp('2025-01-09 00:00:00')) Current Date Range: 2020-01-10 00:00:00 to 2025-01-09 00:00:00 check is False\n",
      "Processed and saved data for BIRLACORPN.\n"
     ]
    },
    {
     "name": "stderr",
     "output_type": "stream",
     "text": [
      "[*********************100%***********************]  1 of 1 completed\n"
     ]
    },
    {
     "name": "stdout",
     "output_type": "stream",
     "text": [
      "Reference Dates: (Timestamp('2020-01-10 00:00:00'), Timestamp('2025-01-09 00:00:00')) Current Date Range: 2020-01-10 00:00:00 to 2025-01-09 00:00:00 check is False\n",
      "Processed and saved data for BSOFT.\n"
     ]
    },
    {
     "name": "stderr",
     "output_type": "stream",
     "text": [
      "[*********************100%***********************]  1 of 1 completed\n"
     ]
    },
    {
     "name": "stdout",
     "output_type": "stream",
     "text": [
      "Reference Dates: (Timestamp('2020-01-10 00:00:00'), Timestamp('2025-01-09 00:00:00')) Current Date Range: 2020-01-10 00:00:00 to 2025-01-09 00:00:00 check is False\n",
      "Processed and saved data for BLUEDART.\n"
     ]
    },
    {
     "name": "stderr",
     "output_type": "stream",
     "text": [
      "[*********************100%***********************]  1 of 1 completed\n"
     ]
    },
    {
     "name": "stdout",
     "output_type": "stream",
     "text": [
      "Reference Dates: (Timestamp('2020-01-10 00:00:00'), Timestamp('2025-01-09 00:00:00')) Current Date Range: 2020-01-10 00:00:00 to 2025-01-09 00:00:00 check is False\n",
      "Processed and saved data for BLUESTARCO.\n"
     ]
    },
    {
     "name": "stderr",
     "output_type": "stream",
     "text": [
      "[*********************100%***********************]  1 of 1 completed\n"
     ]
    },
    {
     "name": "stdout",
     "output_type": "stream",
     "text": [
      "Reference Dates: (Timestamp('2020-01-10 00:00:00'), Timestamp('2025-01-09 00:00:00')) Current Date Range: 2020-01-10 00:00:00 to 2025-01-09 00:00:00 check is False\n",
      "Processed and saved data for BBTC.\n"
     ]
    },
    {
     "name": "stderr",
     "output_type": "stream",
     "text": [
      "[*********************100%***********************]  1 of 1 completed\n"
     ]
    },
    {
     "name": "stdout",
     "output_type": "stream",
     "text": [
      "Reference Dates: (Timestamp('2020-01-10 00:00:00'), Timestamp('2025-01-09 00:00:00')) Current Date Range: 2020-01-10 00:00:00 to 2025-01-09 00:00:00 check is False\n",
      "Processed and saved data for BOSCHLTD.\n"
     ]
    },
    {
     "name": "stderr",
     "output_type": "stream",
     "text": [
      "[*********************100%***********************]  1 of 1 completed\n"
     ]
    },
    {
     "name": "stdout",
     "output_type": "stream",
     "text": [
      "Reference Dates: (Timestamp('2020-01-10 00:00:00'), Timestamp('2025-01-09 00:00:00')) Current Date Range: 2020-01-10 00:00:00 to 2025-01-09 00:00:00 check is False\n",
      "Processed and saved data for BRIGADE.\n"
     ]
    },
    {
     "name": "stderr",
     "output_type": "stream",
     "text": [
      "[*********************100%***********************]  1 of 1 completed\n"
     ]
    },
    {
     "name": "stdout",
     "output_type": "stream",
     "text": [
      "Reference Dates: (Timestamp('2020-01-10 00:00:00'), Timestamp('2025-01-09 00:00:00')) Current Date Range: 2020-01-10 00:00:00 to 2025-01-09 00:00:00 check is False\n",
      "Processed and saved data for BRITANNIA.\n"
     ]
    },
    {
     "name": "stderr",
     "output_type": "stream",
     "text": [
      "[*********************100%***********************]  1 of 1 completed\n"
     ]
    },
    {
     "name": "stdout",
     "output_type": "stream",
     "text": [
      "Reference Dates: (Timestamp('2020-01-10 00:00:00'), Timestamp('2025-01-09 00:00:00')) Current Date Range: 2021-12-21 00:00:00 to 2025-01-09 00:00:00 check is True\n",
      "Processed and saved data for MAPMYINDIA.\n"
     ]
    },
    {
     "name": "stderr",
     "output_type": "stream",
     "text": [
      "[*********************100%***********************]  1 of 1 completed\n"
     ]
    },
    {
     "name": "stdout",
     "output_type": "stream",
     "text": [
      "Reference Dates: (Timestamp('2020-01-10 00:00:00'), Timestamp('2025-01-09 00:00:00')) Current Date Range: 2020-01-10 00:00:00 to 2025-01-09 00:00:00 check is False\n",
      "Processed and saved data for CCL.\n"
     ]
    },
    {
     "name": "stderr",
     "output_type": "stream",
     "text": [
      "[*********************100%***********************]  1 of 1 completed\n"
     ]
    },
    {
     "name": "stdout",
     "output_type": "stream",
     "text": [
      "Reference Dates: (Timestamp('2020-01-10 00:00:00'), Timestamp('2025-01-09 00:00:00')) Current Date Range: 2020-01-10 00:00:00 to 2025-01-09 00:00:00 check is False\n",
      "Processed and saved data for CESC.\n"
     ]
    },
    {
     "name": "stderr",
     "output_type": "stream",
     "text": [
      "[*********************100%***********************]  1 of 1 completed\n"
     ]
    },
    {
     "name": "stdout",
     "output_type": "stream",
     "text": [
      "Reference Dates: (Timestamp('2020-01-10 00:00:00'), Timestamp('2025-01-09 00:00:00')) Current Date Range: 2020-01-10 00:00:00 to 2025-01-09 00:00:00 check is False\n",
      "Processed and saved data for CGPOWER.\n"
     ]
    },
    {
     "name": "stderr",
     "output_type": "stream",
     "text": [
      "[*********************100%***********************]  1 of 1 completed\n"
     ]
    },
    {
     "name": "stdout",
     "output_type": "stream",
     "text": [
      "Reference Dates: (Timestamp('2020-01-10 00:00:00'), Timestamp('2025-01-09 00:00:00')) Current Date Range: 2020-01-10 00:00:00 to 2025-01-09 00:00:00 check is False\n",
      "Processed and saved data for CIEINDIA.\n"
     ]
    },
    {
     "name": "stderr",
     "output_type": "stream",
     "text": [
      "[*********************100%***********************]  1 of 1 completed\n"
     ]
    },
    {
     "name": "stdout",
     "output_type": "stream",
     "text": [
      "Reference Dates: (Timestamp('2020-01-10 00:00:00'), Timestamp('2025-01-09 00:00:00')) Current Date Range: 2020-01-10 00:00:00 to 2025-01-09 00:00:00 check is False\n",
      "Processed and saved data for CRISIL.\n"
     ]
    },
    {
     "name": "stderr",
     "output_type": "stream",
     "text": [
      "[*********************100%***********************]  1 of 1 completed\n"
     ]
    },
    {
     "name": "stdout",
     "output_type": "stream",
     "text": [
      "Reference Dates: (Timestamp('2020-01-10 00:00:00'), Timestamp('2025-01-09 00:00:00')) Current Date Range: 2022-05-09 00:00:00 to 2025-01-09 00:00:00 check is True\n",
      "Skipping...CAMPUS\n"
     ]
    },
    {
     "name": "stderr",
     "output_type": "stream",
     "text": [
      "[*********************100%***********************]  1 of 1 completed\n"
     ]
    },
    {
     "name": "stdout",
     "output_type": "stream",
     "text": [
      "Reference Dates: (Timestamp('2020-01-10 00:00:00'), Timestamp('2025-01-09 00:00:00')) Current Date Range: 2020-01-10 00:00:00 to 2025-01-09 00:00:00 check is False\n",
      "Processed and saved data for CANFINHOME.\n"
     ]
    },
    {
     "name": "stderr",
     "output_type": "stream",
     "text": [
      "[*********************100%***********************]  1 of 1 completed\n"
     ]
    },
    {
     "name": "stdout",
     "output_type": "stream",
     "text": [
      "Reference Dates: (Timestamp('2020-01-10 00:00:00'), Timestamp('2025-01-09 00:00:00')) Current Date Range: 2020-01-10 00:00:00 to 2025-01-09 00:00:00 check is False\n",
      "Processed and saved data for CANBK.\n"
     ]
    },
    {
     "name": "stderr",
     "output_type": "stream",
     "text": [
      "[*********************100%***********************]  1 of 1 completed\n"
     ]
    },
    {
     "name": "stdout",
     "output_type": "stream",
     "text": [
      "Reference Dates: (Timestamp('2020-01-10 00:00:00'), Timestamp('2025-01-09 00:00:00')) Current Date Range: 2020-01-10 00:00:00 to 2025-01-09 00:00:00 check is False\n",
      "Processed and saved data for CAPLIPOINT.\n"
     ]
    },
    {
     "name": "stderr",
     "output_type": "stream",
     "text": [
      "[*********************100%***********************]  1 of 1 completed\n"
     ]
    },
    {
     "name": "stdout",
     "output_type": "stream",
     "text": [
      "Reference Dates: (Timestamp('2020-01-10 00:00:00'), Timestamp('2025-01-09 00:00:00')) Current Date Range: 2020-01-10 00:00:00 to 2025-01-09 00:00:00 check is False\n",
      "Processed and saved data for CGCL.\n"
     ]
    },
    {
     "name": "stderr",
     "output_type": "stream",
     "text": [
      "[*********************100%***********************]  1 of 1 completed\n"
     ]
    },
    {
     "name": "stdout",
     "output_type": "stream",
     "text": [
      "Reference Dates: (Timestamp('2020-01-10 00:00:00'), Timestamp('2025-01-09 00:00:00')) Current Date Range: 2020-01-10 00:00:00 to 2025-01-09 00:00:00 check is False\n",
      "Processed and saved data for CARBORUNIV.\n"
     ]
    },
    {
     "name": "stderr",
     "output_type": "stream",
     "text": [
      "[*********************100%***********************]  1 of 1 completed\n"
     ]
    },
    {
     "name": "stdout",
     "output_type": "stream",
     "text": [
      "Reference Dates: (Timestamp('2020-01-10 00:00:00'), Timestamp('2025-01-09 00:00:00')) Current Date Range: 2020-01-10 00:00:00 to 2025-01-09 00:00:00 check is False\n",
      "Processed and saved data for CASTROLIND.\n"
     ]
    },
    {
     "name": "stderr",
     "output_type": "stream",
     "text": [
      "[*********************100%***********************]  1 of 1 completed\n",
      "[*********************100%***********************]  1 of 1 completed\n"
     ]
    },
    {
     "name": "stdout",
     "output_type": "stream",
     "text": [
      "Reference Dates: (Timestamp('2020-01-10 00:00:00'), Timestamp('2025-01-09 00:00:00')) Current Date Range: 2020-01-10 00:00:00 to 2025-01-09 00:00:00 check is False\n",
      "Processed and saved data for CEATLTD.\n",
      "Reference Dates: (Timestamp('2020-01-10 00:00:00'), Timestamp('2025-01-09 00:00:00')) Current Date Range: 2023-11-06 00:00:00 to 2025-01-09 00:00:00 check is True\n",
      "Skipping...CELLO\n"
     ]
    },
    {
     "name": "stderr",
     "output_type": "stream",
     "text": [
      "[*********************100%***********************]  1 of 1 completed\n"
     ]
    },
    {
     "name": "stdout",
     "output_type": "stream",
     "text": [
      "Reference Dates: (Timestamp('2020-01-10 00:00:00'), Timestamp('2025-01-09 00:00:00')) Current Date Range: 2020-01-10 00:00:00 to 2025-01-09 00:00:00 check is False\n",
      "Processed and saved data for CENTRALBK.\n"
     ]
    },
    {
     "name": "stderr",
     "output_type": "stream",
     "text": [
      "[*********************100%***********************]  1 of 1 completed\n"
     ]
    },
    {
     "name": "stdout",
     "output_type": "stream",
     "text": [
      "Reference Dates: (Timestamp('2020-01-10 00:00:00'), Timestamp('2025-01-09 00:00:00')) Current Date Range: 2020-01-10 00:00:00 to 2025-01-09 00:00:00 check is False\n",
      "Processed and saved data for CDSL.\n"
     ]
    },
    {
     "name": "stderr",
     "output_type": "stream",
     "text": [
      "[*********************100%***********************]  1 of 1 completed\n"
     ]
    },
    {
     "name": "stdout",
     "output_type": "stream",
     "text": [
      "Reference Dates: (Timestamp('2020-01-10 00:00:00'), Timestamp('2025-01-09 00:00:00')) Current Date Range: 2020-01-10 00:00:00 to 2025-01-09 00:00:00 check is False\n",
      "Processed and saved data for CENTURYPLY.\n"
     ]
    },
    {
     "name": "stderr",
     "output_type": "stream",
     "text": [
      "[*********************100%***********************]  1 of 1 completed\n"
     ]
    },
    {
     "name": "stdout",
     "output_type": "stream",
     "text": [
      "Reference Dates: (Timestamp('2020-01-10 00:00:00'), Timestamp('2025-01-09 00:00:00')) Current Date Range: 2020-01-10 00:00:00 to 2025-01-09 00:00:00 check is False\n",
      "Processed and saved data for CERA.\n"
     ]
    },
    {
     "name": "stderr",
     "output_type": "stream",
     "text": [
      "[*********************100%***********************]  1 of 1 completed\n"
     ]
    },
    {
     "name": "stdout",
     "output_type": "stream",
     "text": [
      "Reference Dates: (Timestamp('2020-01-10 00:00:00'), Timestamp('2025-01-09 00:00:00')) Current Date Range: 2020-01-10 00:00:00 to 2025-01-09 00:00:00 check is False\n",
      "Processed and saved data for CHALET.\n"
     ]
    },
    {
     "name": "stderr",
     "output_type": "stream",
     "text": [
      "[*********************100%***********************]  1 of 1 completed\n"
     ]
    },
    {
     "name": "stdout",
     "output_type": "stream",
     "text": [
      "Reference Dates: (Timestamp('2020-01-10 00:00:00'), Timestamp('2025-01-09 00:00:00')) Current Date Range: 2020-01-10 00:00:00 to 2025-01-09 00:00:00 check is False\n",
      "Processed and saved data for CHAMBLFERT.\n"
     ]
    },
    {
     "name": "stderr",
     "output_type": "stream",
     "text": [
      "[*********************100%***********************]  1 of 1 completed\n"
     ]
    },
    {
     "name": "stdout",
     "output_type": "stream",
     "text": [
      "Reference Dates: (Timestamp('2020-01-10 00:00:00'), Timestamp('2025-01-09 00:00:00')) Current Date Range: 2021-08-24 00:00:00 to 2025-01-09 00:00:00 check is True\n",
      "Processed and saved data for CHEMPLASTS.\n"
     ]
    },
    {
     "name": "stderr",
     "output_type": "stream",
     "text": [
      "[*********************100%***********************]  1 of 1 completed\n"
     ]
    },
    {
     "name": "stdout",
     "output_type": "stream",
     "text": [
      "Reference Dates: (Timestamp('2020-01-10 00:00:00'), Timestamp('2025-01-09 00:00:00')) Current Date Range: 2020-01-10 00:00:00 to 2025-01-09 00:00:00 check is False\n",
      "Processed and saved data for CHENNPETRO.\n"
     ]
    },
    {
     "name": "stderr",
     "output_type": "stream",
     "text": [
      "[*********************100%***********************]  1 of 1 completed\n"
     ]
    },
    {
     "name": "stdout",
     "output_type": "stream",
     "text": [
      "Reference Dates: (Timestamp('2020-01-10 00:00:00'), Timestamp('2025-01-09 00:00:00')) Current Date Range: 2020-01-10 00:00:00 to 2025-01-09 00:00:00 check is False\n",
      "Processed and saved data for CHOLAHLDNG.\n"
     ]
    },
    {
     "name": "stderr",
     "output_type": "stream",
     "text": [
      "[*********************100%***********************]  1 of 1 completed\n"
     ]
    },
    {
     "name": "stdout",
     "output_type": "stream",
     "text": [
      "Reference Dates: (Timestamp('2020-01-10 00:00:00'), Timestamp('2025-01-09 00:00:00')) Current Date Range: 2020-01-10 00:00:00 to 2025-01-09 00:00:00 check is False\n",
      "Processed and saved data for CHOLAFIN.\n"
     ]
    },
    {
     "name": "stderr",
     "output_type": "stream",
     "text": [
      "[*********************100%***********************]  1 of 1 completed\n"
     ]
    },
    {
     "name": "stdout",
     "output_type": "stream",
     "text": [
      "Reference Dates: (Timestamp('2020-01-10 00:00:00'), Timestamp('2025-01-09 00:00:00')) Current Date Range: 2020-01-10 00:00:00 to 2025-01-09 00:00:00 check is False\n",
      "Processed and saved data for CIPLA.\n"
     ]
    },
    {
     "name": "stderr",
     "output_type": "stream",
     "text": [
      "[*********************100%***********************]  1 of 1 completed\n"
     ]
    },
    {
     "name": "stdout",
     "output_type": "stream",
     "text": [
      "Reference Dates: (Timestamp('2020-01-10 00:00:00'), Timestamp('2025-01-09 00:00:00')) Current Date Range: 2020-01-10 00:00:00 to 2025-01-09 00:00:00 check is False\n",
      "Processed and saved data for CUB.\n"
     ]
    },
    {
     "name": "stderr",
     "output_type": "stream",
     "text": [
      "[*********************100%***********************]  1 of 1 completed\n"
     ]
    },
    {
     "name": "stdout",
     "output_type": "stream",
     "text": [
      "Reference Dates: (Timestamp('2020-01-10 00:00:00'), Timestamp('2025-01-09 00:00:00')) Current Date Range: 2021-07-19 00:00:00 to 2025-01-09 00:00:00 check is True\n",
      "Processed and saved data for CLEAN.\n"
     ]
    },
    {
     "name": "stderr",
     "output_type": "stream",
     "text": [
      "[*********************100%***********************]  1 of 1 completed\n"
     ]
    },
    {
     "name": "stdout",
     "output_type": "stream",
     "text": [
      "Reference Dates: (Timestamp('2020-01-10 00:00:00'), Timestamp('2025-01-09 00:00:00')) Current Date Range: 2020-01-10 00:00:00 to 2025-01-09 00:00:00 check is False\n",
      "Processed and saved data for COALINDIA.\n"
     ]
    },
    {
     "name": "stderr",
     "output_type": "stream",
     "text": [
      "[*********************100%***********************]  1 of 1 completed\n"
     ]
    },
    {
     "name": "stdout",
     "output_type": "stream",
     "text": [
      "Reference Dates: (Timestamp('2020-01-10 00:00:00'), Timestamp('2025-01-09 00:00:00')) Current Date Range: 2020-01-10 00:00:00 to 2025-01-09 00:00:00 check is False\n",
      "Processed and saved data for COCHINSHIP.\n"
     ]
    },
    {
     "name": "stderr",
     "output_type": "stream",
     "text": [
      "[*********************100%***********************]  1 of 1 completed\n"
     ]
    },
    {
     "name": "stdout",
     "output_type": "stream",
     "text": [
      "Reference Dates: (Timestamp('2020-01-10 00:00:00'), Timestamp('2025-01-09 00:00:00')) Current Date Range: 2020-01-10 00:00:00 to 2025-01-09 00:00:00 check is False\n",
      "Processed and saved data for COFORGE.\n"
     ]
    },
    {
     "name": "stderr",
     "output_type": "stream",
     "text": [
      "[*********************100%***********************]  1 of 1 completed\n"
     ]
    },
    {
     "name": "stdout",
     "output_type": "stream",
     "text": [
      "Reference Dates: (Timestamp('2020-01-10 00:00:00'), Timestamp('2025-01-09 00:00:00')) Current Date Range: 2020-01-10 00:00:00 to 2025-01-09 00:00:00 check is False\n",
      "Processed and saved data for COLPAL.\n"
     ]
    },
    {
     "name": "stderr",
     "output_type": "stream",
     "text": [
      "[*********************100%***********************]  1 of 1 completed\n",
      "[*********************100%***********************]  1 of 1 completed\n"
     ]
    },
    {
     "name": "stdout",
     "output_type": "stream",
     "text": [
      "Reference Dates: (Timestamp('2020-01-10 00:00:00'), Timestamp('2025-01-09 00:00:00')) Current Date Range: 2020-10-05 00:00:00 to 2025-01-09 00:00:00 check is True\n",
      "Processed and saved data for CAMS.\n",
      "Reference Dates: (Timestamp('2020-01-10 00:00:00'), Timestamp('2025-01-09 00:00:00')) Current Date Range: 2023-08-18 00:00:00 to 2025-01-09 00:00:00 check is True\n",
      "Skipping...CONCORDBIO\n"
     ]
    },
    {
     "name": "stderr",
     "output_type": "stream",
     "text": [
      "[*********************100%***********************]  1 of 1 completed\n"
     ]
    },
    {
     "name": "stdout",
     "output_type": "stream",
     "text": [
      "Reference Dates: (Timestamp('2020-01-10 00:00:00'), Timestamp('2025-01-09 00:00:00')) Current Date Range: 2020-01-10 00:00:00 to 2025-01-09 00:00:00 check is False\n",
      "Processed and saved data for CONCOR.\n"
     ]
    },
    {
     "name": "stderr",
     "output_type": "stream",
     "text": [
      "[*********************100%***********************]  1 of 1 completed\n",
      "\n",
      "1 Failed download:\n",
      "['COROMANDEL.NS']: ChunkedEncodingError(ProtocolError('Connection broken: IncompleteRead(10038 bytes read, 202 more expected)', IncompleteRead(10038 bytes read, 202 more expected)))\n"
     ]
    },
    {
     "name": "stdout",
     "output_type": "stream",
     "text": [
      "Skipping COROMANDEL due to missing data.\n"
     ]
    },
    {
     "name": "stderr",
     "output_type": "stream",
     "text": [
      "[*********************100%***********************]  1 of 1 completed\n"
     ]
    },
    {
     "name": "stdout",
     "output_type": "stream",
     "text": [
      "Reference Dates: (Timestamp('2020-01-10 00:00:00'), Timestamp('2025-01-09 00:00:00')) Current Date Range: 2021-03-25 00:00:00 to 2025-01-09 00:00:00 check is True\n",
      "Processed and saved data for CRAFTSMAN.\n"
     ]
    },
    {
     "name": "stderr",
     "output_type": "stream",
     "text": [
      "[*********************100%***********************]  1 of 1 completed\n"
     ]
    },
    {
     "name": "stdout",
     "output_type": "stream",
     "text": [
      "Reference Dates: (Timestamp('2020-01-10 00:00:00'), Timestamp('2025-01-09 00:00:00')) Current Date Range: 2020-01-10 00:00:00 to 2025-01-09 00:00:00 check is False\n",
      "Processed and saved data for CREDITACC.\n"
     ]
    },
    {
     "name": "stderr",
     "output_type": "stream",
     "text": [
      "[*********************100%***********************]  1 of 1 completed\n"
     ]
    },
    {
     "name": "stdout",
     "output_type": "stream",
     "text": [
      "Reference Dates: (Timestamp('2020-01-10 00:00:00'), Timestamp('2025-01-09 00:00:00')) Current Date Range: 2020-01-10 00:00:00 to 2025-01-09 00:00:00 check is False\n",
      "Processed and saved data for CROMPTON.\n"
     ]
    },
    {
     "name": "stderr",
     "output_type": "stream",
     "text": [
      "[*********************100%***********************]  1 of 1 completed\n"
     ]
    },
    {
     "name": "stdout",
     "output_type": "stream",
     "text": [
      "Reference Dates: (Timestamp('2020-01-10 00:00:00'), Timestamp('2025-01-09 00:00:00')) Current Date Range: 2020-01-10 00:00:00 to 2025-01-09 00:00:00 check is False\n",
      "Processed and saved data for CUMMINSIND.\n"
     ]
    },
    {
     "name": "stderr",
     "output_type": "stream",
     "text": [
      "[*********************100%***********************]  1 of 1 completed\n"
     ]
    },
    {
     "name": "stdout",
     "output_type": "stream",
     "text": [
      "Reference Dates: (Timestamp('2020-01-10 00:00:00'), Timestamp('2025-01-09 00:00:00')) Current Date Range: 2020-01-10 00:00:00 to 2025-01-09 00:00:00 check is False\n",
      "Processed and saved data for CYIENT.\n"
     ]
    },
    {
     "name": "stderr",
     "output_type": "stream",
     "text": [
      "[*********************100%***********************]  1 of 1 completed\n",
      "[*********************100%***********************]  1 of 1 completed\n"
     ]
    },
    {
     "name": "stdout",
     "output_type": "stream",
     "text": [
      "Reference Dates: (Timestamp('2020-01-10 00:00:00'), Timestamp('2025-01-09 00:00:00')) Current Date Range: 2020-01-10 00:00:00 to 2025-01-09 00:00:00 check is False\n",
      "Processed and saved data for DLF.\n",
      "Reference Dates: (Timestamp('2020-01-10 00:00:00'), Timestamp('2025-01-09 00:00:00')) Current Date Range: 2023-12-20 00:00:00 to 2025-01-09 00:00:00 check is True\n",
      "Skipping...DOMS\n"
     ]
    },
    {
     "name": "stderr",
     "output_type": "stream",
     "text": [
      "[*********************100%***********************]  1 of 1 completed\n",
      "[*********************100%***********************]  1 of 1 completed\n"
     ]
    },
    {
     "name": "stdout",
     "output_type": "stream",
     "text": [
      "Reference Dates: (Timestamp('2020-01-10 00:00:00'), Timestamp('2025-01-09 00:00:00')) Current Date Range: 2020-01-10 00:00:00 to 2025-01-09 00:00:00 check is False\n",
      "Processed and saved data for DABUR.\n",
      "Reference Dates: (Timestamp('2020-01-10 00:00:00'), Timestamp('2025-01-09 00:00:00')) Current Date Range: 2020-01-10 00:00:00 to 2025-01-09 00:00:00 check is False\n"
     ]
    },
    {
     "name": "stderr",
     "output_type": "stream",
     "text": [
      "[*********************100%***********************]  1 of 1 completed\n"
     ]
    },
    {
     "name": "stdout",
     "output_type": "stream",
     "text": [
      "Processed and saved data for DALBHARAT.\n",
      "Reference Dates: (Timestamp('2020-01-10 00:00:00'), Timestamp('2025-01-09 00:00:00')) Current Date Range: 2021-12-24 00:00:00 to 2025-01-09 00:00:00 check is True\n",
      "Processed and saved data for DATAPATTNS.\n"
     ]
    },
    {
     "name": "stderr",
     "output_type": "stream",
     "text": [
      "[*********************100%***********************]  1 of 1 completed\n"
     ]
    },
    {
     "name": "stdout",
     "output_type": "stream",
     "text": [
      "Reference Dates: (Timestamp('2020-01-10 00:00:00'), Timestamp('2025-01-09 00:00:00')) Current Date Range: 2020-01-10 00:00:00 to 2025-01-09 00:00:00 check is False\n",
      "Processed and saved data for DEEPAKFERT.\n"
     ]
    },
    {
     "name": "stderr",
     "output_type": "stream",
     "text": [
      "[*********************100%***********************]  1 of 1 completed\n"
     ]
    },
    {
     "name": "stdout",
     "output_type": "stream",
     "text": [
      "Reference Dates: (Timestamp('2020-01-10 00:00:00'), Timestamp('2025-01-09 00:00:00')) Current Date Range: 2020-01-10 00:00:00 to 2025-01-09 00:00:00 check is False\n",
      "Processed and saved data for DEEPAKNTR.\n"
     ]
    },
    {
     "name": "stderr",
     "output_type": "stream",
     "text": [
      "[*********************100%***********************]  1 of 1 completed\n"
     ]
    },
    {
     "name": "stdout",
     "output_type": "stream",
     "text": [
      "Reference Dates: (Timestamp('2020-01-10 00:00:00'), Timestamp('2025-01-09 00:00:00')) Current Date Range: 2022-05-24 00:00:00 to 2025-01-09 00:00:00 check is True\n",
      "Skipping...DELHIVERY\n"
     ]
    },
    {
     "name": "stderr",
     "output_type": "stream",
     "text": [
      "[*********************100%***********************]  1 of 1 completed\n"
     ]
    },
    {
     "name": "stdout",
     "output_type": "stream",
     "text": [
      "Reference Dates: (Timestamp('2020-01-10 00:00:00'), Timestamp('2025-01-09 00:00:00')) Current Date Range: 2021-08-16 00:00:00 to 2025-01-09 00:00:00 check is True\n",
      "Processed and saved data for DEVYANI.\n"
     ]
    },
    {
     "name": "stderr",
     "output_type": "stream",
     "text": [
      "[*********************100%***********************]  1 of 1 completed\n"
     ]
    },
    {
     "name": "stdout",
     "output_type": "stream",
     "text": [
      "Reference Dates: (Timestamp('2020-01-10 00:00:00'), Timestamp('2025-01-09 00:00:00')) Current Date Range: 2020-01-10 00:00:00 to 2025-01-09 00:00:00 check is False\n",
      "Processed and saved data for DIVISLAB.\n"
     ]
    },
    {
     "name": "stderr",
     "output_type": "stream",
     "text": [
      "[*********************100%***********************]  1 of 1 completed\n"
     ]
    },
    {
     "name": "stdout",
     "output_type": "stream",
     "text": [
      "Reference Dates: (Timestamp('2020-01-10 00:00:00'), Timestamp('2025-01-09 00:00:00')) Current Date Range: 2020-01-10 00:00:00 to 2025-01-09 00:00:00 check is False\n",
      "Processed and saved data for DIXON.\n"
     ]
    },
    {
     "name": "stderr",
     "output_type": "stream",
     "text": [
      "[*********************100%***********************]  1 of 1 completed\n",
      "[*********************100%***********************]  1 of 1 completed\n"
     ]
    },
    {
     "name": "stdout",
     "output_type": "stream",
     "text": [
      "Reference Dates: (Timestamp('2020-01-10 00:00:00'), Timestamp('2025-01-09 00:00:00')) Current Date Range: 2020-01-10 00:00:00 to 2025-01-09 00:00:00 check is False\n",
      "Processed and saved data for LALPATHLAB.\n",
      "Reference Dates: (Timestamp('2020-01-10 00:00:00'), Timestamp('2025-01-09 00:00:00')) Current Date Range: 2020-01-10 00:00:00 to 2025-01-09 00:00:00 check is False\n",
      "Processed and saved data for DRREDDY.\n"
     ]
    },
    {
     "name": "stderr",
     "output_type": "stream",
     "text": [
      "[*********************100%***********************]  1 of 1 completed\n",
      "\n",
      "1 Failed download:\n",
      "['DUMMYITC.NS']: YFTzMissingError('$%ticker%: possibly delisted; no timezone found')\n"
     ]
    },
    {
     "name": "stdout",
     "output_type": "stream",
     "text": [
      "Skipping DUMMYITC due to missing data.\n"
     ]
    },
    {
     "name": "stderr",
     "output_type": "stream",
     "text": [
      "[*********************100%***********************]  1 of 1 completed\n"
     ]
    },
    {
     "name": "stdout",
     "output_type": "stream",
     "text": [
      "Reference Dates: (Timestamp('2020-01-10 00:00:00'), Timestamp('2025-01-09 00:00:00')) Current Date Range: 2020-01-10 00:00:00 to 2025-01-09 00:00:00 check is False\n",
      "Processed and saved data for EIDPARRY.\n"
     ]
    },
    {
     "name": "stderr",
     "output_type": "stream",
     "text": [
      "[*********************100%***********************]  1 of 1 completed\n",
      "[*********************100%***********************]  1 of 1 completed\n"
     ]
    },
    {
     "name": "stdout",
     "output_type": "stream",
     "text": [
      "Reference Dates: (Timestamp('2020-01-10 00:00:00'), Timestamp('2025-01-09 00:00:00')) Current Date Range: 2020-01-10 00:00:00 to 2025-01-09 00:00:00 check is False\n",
      "Processed and saved data for EIHOTEL.\n",
      "Reference Dates: (Timestamp('2020-01-10 00:00:00'), Timestamp('2025-01-09 00:00:00')) Current Date Range: 2021-03-19 00:00:00 to 2025-01-09 00:00:00 check is True\n",
      "Processed and saved data for EASEMYTRIP.\n"
     ]
    },
    {
     "name": "stderr",
     "output_type": "stream",
     "text": [
      "[*********************100%***********************]  1 of 1 completed\n"
     ]
    },
    {
     "name": "stdout",
     "output_type": "stream",
     "text": [
      "Reference Dates: (Timestamp('2020-01-10 00:00:00'), Timestamp('2025-01-09 00:00:00')) Current Date Range: 2020-01-10 00:00:00 to 2025-01-09 00:00:00 check is False\n",
      "Processed and saved data for EICHERMOT.\n"
     ]
    },
    {
     "name": "stderr",
     "output_type": "stream",
     "text": [
      "[*********************100%***********************]  1 of 1 completed\n"
     ]
    },
    {
     "name": "stdout",
     "output_type": "stream",
     "text": [
      "Reference Dates: (Timestamp('2020-01-10 00:00:00'), Timestamp('2025-01-09 00:00:00')) Current Date Range: 2020-01-10 00:00:00 to 2025-01-09 00:00:00 check is False\n",
      "Processed and saved data for ELECON.\n"
     ]
    },
    {
     "name": "stderr",
     "output_type": "stream",
     "text": [
      "[*********************100%***********************]  1 of 1 completed\n"
     ]
    },
    {
     "name": "stdout",
     "output_type": "stream",
     "text": [
      "Reference Dates: (Timestamp('2020-01-10 00:00:00'), Timestamp('2025-01-09 00:00:00')) Current Date Range: 2020-01-10 00:00:00 to 2025-01-09 00:00:00 check is False\n",
      "Processed and saved data for ELGIEQUIP.\n"
     ]
    },
    {
     "name": "stderr",
     "output_type": "stream",
     "text": [
      "[*********************100%***********************]  1 of 1 completed\n",
      "[*********************100%***********************]  1 of 1 completed\n"
     ]
    },
    {
     "name": "stdout",
     "output_type": "stream",
     "text": [
      "Reference Dates: (Timestamp('2020-01-10 00:00:00'), Timestamp('2025-01-09 00:00:00')) Current Date Range: 2020-01-10 00:00:00 to 2025-01-09 00:00:00 check is False\n",
      "Processed and saved data for EMAMILTD.\n",
      "Reference Dates: (Timestamp('2020-01-10 00:00:00'), Timestamp('2025-01-09 00:00:00')) Current Date Range: 2024-07-10 00:00:00 to 2025-01-09 00:00:00 check is True\n",
      "Skipping...EMCURE\n"
     ]
    },
    {
     "name": "stderr",
     "output_type": "stream",
     "text": [
      "[*********************100%***********************]  1 of 1 completed\n"
     ]
    },
    {
     "name": "stdout",
     "output_type": "stream",
     "text": [
      "Reference Dates: (Timestamp('2020-01-10 00:00:00'), Timestamp('2025-01-09 00:00:00')) Current Date Range: 2020-01-10 00:00:00 to 2025-01-09 00:00:00 check is False\n",
      "Processed and saved data for ENDURANCE.\n"
     ]
    },
    {
     "name": "stderr",
     "output_type": "stream",
     "text": [
      "[*********************100%***********************]  1 of 1 completed\n"
     ]
    },
    {
     "name": "stdout",
     "output_type": "stream",
     "text": [
      "Reference Dates: (Timestamp('2020-01-10 00:00:00'), Timestamp('2025-01-09 00:00:00')) Current Date Range: 2020-01-10 00:00:00 to 2025-01-09 00:00:00 check is False\n",
      "Processed and saved data for ENGINERSIN.\n"
     ]
    },
    {
     "name": "stderr",
     "output_type": "stream",
     "text": [
      "[*********************100%***********************]  1 of 1 completed\n",
      "[*********************100%***********************]  1 of 1 completed\n"
     ]
    },
    {
     "name": "stdout",
     "output_type": "stream",
     "text": [
      "Reference Dates: (Timestamp('2020-01-10 00:00:00'), Timestamp('2025-01-09 00:00:00')) Current Date Range: 2020-11-02 00:00:00 to 2025-01-09 00:00:00 check is True\n",
      "Processed and saved data for EQUITASBNK.\n",
      "Reference Dates: (Timestamp('2020-01-10 00:00:00'), Timestamp('2025-01-09 00:00:00')) Current Date Range: 2020-01-10 00:00:00 to 2025-01-09 00:00:00 check is False\n"
     ]
    },
    {
     "name": "stderr",
     "output_type": "stream",
     "text": [
      "[*********************100%***********************]  1 of 1 completed\n"
     ]
    },
    {
     "name": "stdout",
     "output_type": "stream",
     "text": [
      "Processed and saved data for ERIS.\n",
      "Reference Dates: (Timestamp('2020-01-10 00:00:00'), Timestamp('2025-01-09 00:00:00')) Current Date Range: 2020-01-10 00:00:00 to 2025-01-09 00:00:00 check is False\n",
      "Processed and saved data for ESCORTS.\n"
     ]
    },
    {
     "name": "stderr",
     "output_type": "stream",
     "text": [
      "[*********************100%***********************]  1 of 1 completed\n",
      "[*********************100%***********************]  1 of 1 completed\n"
     ]
    },
    {
     "name": "stdout",
     "output_type": "stream",
     "text": [
      "Reference Dates: (Timestamp('2020-01-10 00:00:00'), Timestamp('2025-01-09 00:00:00')) Current Date Range: 2020-01-10 00:00:00 to 2025-01-09 00:00:00 check is False\n",
      "Processed and saved data for EXIDEIND.\n",
      "Reference Dates: (Timestamp('2020-01-10 00:00:00'), Timestamp('2025-01-09 00:00:00')) Current Date Range: 2021-11-10 00:00:00 to 2025-01-09 00:00:00 check is True\n",
      "Processed and saved data for NYKAA.\n"
     ]
    },
    {
     "name": "stderr",
     "output_type": "stream",
     "text": [
      "[*********************100%***********************]  1 of 1 completed\n"
     ]
    },
    {
     "name": "stdout",
     "output_type": "stream",
     "text": [
      "Reference Dates: (Timestamp('2020-01-10 00:00:00'), Timestamp('2025-01-09 00:00:00')) Current Date Range: 2020-01-10 00:00:00 to 2025-01-09 00:00:00 check is False\n",
      "Processed and saved data for FEDERALBNK.\n"
     ]
    },
    {
     "name": "stderr",
     "output_type": "stream",
     "text": [
      "[*********************100%***********************]  1 of 1 completed\n"
     ]
    },
    {
     "name": "stdout",
     "output_type": "stream",
     "text": [
      "Reference Dates: (Timestamp('2020-01-10 00:00:00'), Timestamp('2025-01-09 00:00:00')) Current Date Range: 2020-01-10 00:00:00 to 2025-01-09 00:00:00 check is False\n",
      "Processed and saved data for FACT.\n"
     ]
    },
    {
     "name": "stderr",
     "output_type": "stream",
     "text": [
      "[*********************100%***********************]  1 of 1 completed\n"
     ]
    },
    {
     "name": "stdout",
     "output_type": "stream",
     "text": [
      "Reference Dates: (Timestamp('2020-01-10 00:00:00'), Timestamp('2025-01-09 00:00:00')) Current Date Range: 2020-01-10 00:00:00 to 2025-01-09 00:00:00 check is False\n",
      "Processed and saved data for FINEORG.\n"
     ]
    },
    {
     "name": "stderr",
     "output_type": "stream",
     "text": [
      "[*********************100%***********************]  1 of 1 completed\n"
     ]
    },
    {
     "name": "stdout",
     "output_type": "stream",
     "text": [
      "Reference Dates: (Timestamp('2020-01-10 00:00:00'), Timestamp('2025-01-09 00:00:00')) Current Date Range: 2020-01-10 00:00:00 to 2025-01-09 00:00:00 check is False\n",
      "Processed and saved data for FINCABLES.\n"
     ]
    },
    {
     "name": "stderr",
     "output_type": "stream",
     "text": [
      "[*********************100%***********************]  1 of 1 completed\n",
      "[*********************100%***********************]  1 of 1 completed\n"
     ]
    },
    {
     "name": "stdout",
     "output_type": "stream",
     "text": [
      "Reference Dates: (Timestamp('2020-01-10 00:00:00'), Timestamp('2025-01-09 00:00:00')) Current Date Range: 2020-01-10 00:00:00 to 2025-01-09 00:00:00 check is False\n",
      "Processed and saved data for FINPIPE.\n",
      "Reference Dates: (Timestamp('2020-01-10 00:00:00'), Timestamp('2025-01-09 00:00:00')) Current Date Range: 2020-01-10 00:00:00 to 2025-01-09 00:00:00 check is False\n"
     ]
    },
    {
     "name": "stderr",
     "output_type": "stream",
     "text": [
      "[*********************100%***********************]  1 of 1 completed\n"
     ]
    },
    {
     "name": "stdout",
     "output_type": "stream",
     "text": [
      "Processed and saved data for FSL.\n",
      "Reference Dates: (Timestamp('2020-01-10 00:00:00'), Timestamp('2025-01-09 00:00:00')) Current Date Range: 2022-11-21 00:00:00 to 2025-01-09 00:00:00 check is True\n",
      "Skipping...FIVESTAR\n"
     ]
    },
    {
     "name": "stderr",
     "output_type": "stream",
     "text": [
      "[*********************100%***********************]  1 of 1 completed\n",
      "[*********************100%***********************]  1 of 1 completed\n"
     ]
    },
    {
     "name": "stdout",
     "output_type": "stream",
     "text": [
      "Reference Dates: (Timestamp('2020-01-10 00:00:00'), Timestamp('2025-01-09 00:00:00')) Current Date Range: 2020-01-10 00:00:00 to 2025-01-09 00:00:00 check is False\n",
      "Processed and saved data for FORTIS.\n",
      "Reference Dates: (Timestamp('2020-01-10 00:00:00'), Timestamp('2025-01-09 00:00:00')) Current Date Range: 2021-07-19 00:00:00 to 2025-01-09 00:00:00 check is True\n",
      "Processed and saved data for GRINFRA.\n"
     ]
    },
    {
     "name": "stderr",
     "output_type": "stream",
     "text": [
      "[*********************100%***********************]  1 of 1 completed\n",
      "[*********************100%***********************]  1 of 1 completed\n"
     ]
    },
    {
     "name": "stdout",
     "output_type": "stream",
     "text": [
      "Reference Dates: (Timestamp('2020-01-10 00:00:00'), Timestamp('2025-01-09 00:00:00')) Current Date Range: 2020-01-10 00:00:00 to 2025-01-09 00:00:00 check is False\n",
      "Processed and saved data for GAIL.\n",
      "Reference Dates: (Timestamp('2020-01-10 00:00:00'), Timestamp('2025-01-09 00:00:00')) Current Date Range: 2020-01-10 00:00:00 to 2025-01-09 00:00:00 check is False\n",
      "Processed and saved data for GVT&D.\n"
     ]
    },
    {
     "name": "stderr",
     "output_type": "stream",
     "text": [
      "[*********************100%***********************]  1 of 1 completed\n"
     ]
    },
    {
     "name": "stdout",
     "output_type": "stream",
     "text": [
      "Reference Dates: (Timestamp('2020-01-10 00:00:00'), Timestamp('2025-01-09 00:00:00')) Current Date Range: 2020-01-10 00:00:00 to 2025-01-09 00:00:00 check is False\n",
      "Processed and saved data for GMRAIRPORT.\n"
     ]
    },
    {
     "name": "stderr",
     "output_type": "stream",
     "text": [
      "[*********************100%***********************]  1 of 1 completed\n"
     ]
    },
    {
     "name": "stdout",
     "output_type": "stream",
     "text": [
      "Reference Dates: (Timestamp('2020-01-10 00:00:00'), Timestamp('2025-01-09 00:00:00')) Current Date Range: 2020-01-10 00:00:00 to 2025-01-09 00:00:00 check is False\n",
      "Processed and saved data for GRSE.\n"
     ]
    },
    {
     "name": "stderr",
     "output_type": "stream",
     "text": [
      "[*********************100%***********************]  1 of 1 completed\n"
     ]
    },
    {
     "name": "stdout",
     "output_type": "stream",
     "text": [
      "Reference Dates: (Timestamp('2020-01-10 00:00:00'), Timestamp('2025-01-09 00:00:00')) Current Date Range: 2020-01-10 00:00:00 to 2025-01-09 00:00:00 check is False\n",
      "Processed and saved data for GICRE.\n"
     ]
    },
    {
     "name": "stderr",
     "output_type": "stream",
     "text": [
      "[*********************100%***********************]  1 of 1 completed\n"
     ]
    },
    {
     "name": "stdout",
     "output_type": "stream",
     "text": [
      "Reference Dates: (Timestamp('2020-01-10 00:00:00'), Timestamp('2025-01-09 00:00:00')) Current Date Range: 2020-01-10 00:00:00 to 2025-01-09 00:00:00 check is False\n",
      "Processed and saved data for GILLETTE.\n"
     ]
    },
    {
     "name": "stderr",
     "output_type": "stream",
     "text": [
      "[*********************100%***********************]  1 of 1 completed\n"
     ]
    },
    {
     "name": "stdout",
     "output_type": "stream",
     "text": [
      "Reference Dates: (Timestamp('2020-01-10 00:00:00'), Timestamp('2025-01-09 00:00:00')) Current Date Range: 2020-11-20 00:00:00 to 2025-01-09 00:00:00 check is True\n",
      "Processed and saved data for GLAND.\n"
     ]
    },
    {
     "name": "stderr",
     "output_type": "stream",
     "text": [
      "[*********************100%***********************]  1 of 1 completed\n"
     ]
    },
    {
     "name": "stdout",
     "output_type": "stream",
     "text": [
      "Reference Dates: (Timestamp('2020-01-10 00:00:00'), Timestamp('2025-01-09 00:00:00')) Current Date Range: 2020-01-10 00:00:00 to 2025-01-09 00:00:00 check is False\n",
      "Processed and saved data for GLAXO.\n"
     ]
    },
    {
     "name": "stderr",
     "output_type": "stream",
     "text": [
      "[*********************100%***********************]  1 of 1 completed\n",
      "[*********************100%***********************]  1 of 1 completed\n"
     ]
    },
    {
     "name": "stdout",
     "output_type": "stream",
     "text": [
      "Reference Dates: (Timestamp('2020-01-10 00:00:00'), Timestamp('2025-01-09 00:00:00')) Current Date Range: 2020-01-10 00:00:00 to 2025-01-09 00:00:00 check is False\n",
      "Processed and saved data for GLENMARK.\n",
      "Reference Dates: (Timestamp('2020-01-10 00:00:00'), Timestamp('2025-01-09 00:00:00')) Current Date Range: 2022-11-18 00:00:00 to 2025-01-09 00:00:00 check is True\n",
      "Skipping...MEDANTA\n"
     ]
    },
    {
     "name": "stderr",
     "output_type": "stream",
     "text": [
      "[*********************100%***********************]  1 of 1 completed\n",
      "[*********************100%***********************]  1 of 1 completed\n"
     ]
    },
    {
     "name": "stdout",
     "output_type": "stream",
     "text": [
      "Reference Dates: (Timestamp('2020-01-10 00:00:00'), Timestamp('2025-01-09 00:00:00')) Current Date Range: 2024-05-23 00:00:00 to 2025-01-09 00:00:00 check is True\n",
      "Skipping...GODIGIT\n",
      "Reference Dates: (Timestamp('2020-01-10 00:00:00'), Timestamp('2025-01-09 00:00:00')) Current Date Range: 2020-01-10 00:00:00 to 2025-01-09 00:00:00 check is False\n",
      "Processed and saved data for GPIL.\n"
     ]
    },
    {
     "name": "stderr",
     "output_type": "stream",
     "text": [
      "[*********************100%***********************]  1 of 1 completed\n"
     ]
    },
    {
     "name": "stdout",
     "output_type": "stream",
     "text": [
      "Reference Dates: (Timestamp('2020-01-10 00:00:00'), Timestamp('2025-01-09 00:00:00')) Current Date Range: 2020-01-10 00:00:00 to 2025-01-09 00:00:00 check is False\n",
      "Processed and saved data for GODFRYPHLP.\n"
     ]
    },
    {
     "name": "stderr",
     "output_type": "stream",
     "text": [
      "[*********************100%***********************]  1 of 1 completed\n"
     ]
    },
    {
     "name": "stdout",
     "output_type": "stream",
     "text": [
      "Reference Dates: (Timestamp('2020-01-10 00:00:00'), Timestamp('2025-01-09 00:00:00')) Current Date Range: 2020-01-10 00:00:00 to 2025-01-09 00:00:00 check is False\n",
      "Processed and saved data for GODREJAGRO.\n"
     ]
    },
    {
     "name": "stderr",
     "output_type": "stream",
     "text": [
      "[*********************100%***********************]  1 of 1 completed\n"
     ]
    },
    {
     "name": "stdout",
     "output_type": "stream",
     "text": [
      "Reference Dates: (Timestamp('2020-01-10 00:00:00'), Timestamp('2025-01-09 00:00:00')) Current Date Range: 2020-01-10 00:00:00 to 2025-01-09 00:00:00 check is False\n",
      "Processed and saved data for GODREJCP.\n"
     ]
    },
    {
     "name": "stderr",
     "output_type": "stream",
     "text": [
      "[*********************100%***********************]  1 of 1 completed\n"
     ]
    },
    {
     "name": "stdout",
     "output_type": "stream",
     "text": [
      "Reference Dates: (Timestamp('2020-01-10 00:00:00'), Timestamp('2025-01-09 00:00:00')) Current Date Range: 2020-01-10 00:00:00 to 2025-01-09 00:00:00 check is False\n",
      "Processed and saved data for GODREJIND.\n"
     ]
    },
    {
     "name": "stderr",
     "output_type": "stream",
     "text": [
      "[*********************100%***********************]  1 of 1 completed\n"
     ]
    },
    {
     "name": "stdout",
     "output_type": "stream",
     "text": [
      "Reference Dates: (Timestamp('2020-01-10 00:00:00'), Timestamp('2025-01-09 00:00:00')) Current Date Range: 2020-01-10 00:00:00 to 2025-01-09 00:00:00 check is False\n",
      "Processed and saved data for GODREJPROP.\n"
     ]
    },
    {
     "name": "stderr",
     "output_type": "stream",
     "text": [
      "[*********************100%***********************]  1 of 1 completed\n"
     ]
    },
    {
     "name": "stdout",
     "output_type": "stream",
     "text": [
      "Reference Dates: (Timestamp('2020-01-10 00:00:00'), Timestamp('2025-01-09 00:00:00')) Current Date Range: 2020-01-10 00:00:00 to 2025-01-09 00:00:00 check is False\n",
      "Processed and saved data for GRANULES.\n"
     ]
    },
    {
     "name": "stderr",
     "output_type": "stream",
     "text": [
      "[*********************100%***********************]  1 of 1 completed\n"
     ]
    },
    {
     "name": "stdout",
     "output_type": "stream",
     "text": [
      "Reference Dates: (Timestamp('2020-01-10 00:00:00'), Timestamp('2025-01-09 00:00:00')) Current Date Range: 2020-01-10 00:00:00 to 2025-01-09 00:00:00 check is False\n",
      "Processed and saved data for GRAPHITE.\n"
     ]
    },
    {
     "name": "stderr",
     "output_type": "stream",
     "text": [
      "[*********************100%***********************]  1 of 1 completed\n"
     ]
    },
    {
     "name": "stdout",
     "output_type": "stream",
     "text": [
      "Reference Dates: (Timestamp('2020-01-10 00:00:00'), Timestamp('2025-01-09 00:00:00')) Current Date Range: 2020-01-10 00:00:00 to 2025-01-09 00:00:00 check is False\n",
      "Processed and saved data for GRASIM.\n"
     ]
    },
    {
     "name": "stderr",
     "output_type": "stream",
     "text": [
      "[*********************100%***********************]  1 of 1 completed\n",
      "[*********************100%***********************]  1 of 1 completed\n"
     ]
    },
    {
     "name": "stdout",
     "output_type": "stream",
     "text": [
      "Reference Dates: (Timestamp('2020-01-10 00:00:00'), Timestamp('2025-01-09 00:00:00')) Current Date Range: 2020-01-10 00:00:00 to 2025-01-09 00:00:00 check is False\n",
      "Processed and saved data for GESHIP.\n",
      "Reference Dates: (Timestamp('2020-01-10 00:00:00'), Timestamp('2025-01-09 00:00:00')) Current Date Range: 2020-01-10 00:00:00 to 2025-01-09 00:00:00 check is False\n"
     ]
    },
    {
     "name": "stderr",
     "output_type": "stream",
     "text": [
      "[*********************100%***********************]  1 of 1 completed"
     ]
    },
    {
     "name": "stdout",
     "output_type": "stream",
     "text": [
      "Processed and saved data for GRINDWELL.\n",
      "Reference Dates: (Timestamp('2020-01-10 00:00:00'), Timestamp('2025-01-09 00:00:00')) Current Date Range: 2020-01-10 00:00:00 to 2025-01-09 00:00:00 check is False\n"
     ]
    },
    {
     "name": "stderr",
     "output_type": "stream",
     "text": [
      "\n",
      "[*********************100%***********************]  1 of 1 completed"
     ]
    },
    {
     "name": "stdout",
     "output_type": "stream",
     "text": [
      "Processed and saved data for GAEL.\n",
      "Reference Dates: (Timestamp('2020-01-10 00:00:00'), Timestamp('2025-01-09 00:00:00')) Current Date Range: 2020-01-10 00:00:00 to 2025-01-09 00:00:00 check is False\n"
     ]
    },
    {
     "name": "stderr",
     "output_type": "stream",
     "text": [
      "\n"
     ]
    },
    {
     "name": "stdout",
     "output_type": "stream",
     "text": [
      "Processed and saved data for FLUOROCHEM.\n"
     ]
    },
    {
     "name": "stderr",
     "output_type": "stream",
     "text": [
      "[*********************100%***********************]  1 of 1 completed\n"
     ]
    },
    {
     "name": "stdout",
     "output_type": "stream",
     "text": [
      "Reference Dates: (Timestamp('2020-01-10 00:00:00'), Timestamp('2025-01-09 00:00:00')) Current Date Range: 2020-01-10 00:00:00 to 2025-01-09 00:00:00 check is False\n",
      "Processed and saved data for GUJGASLTD.\n"
     ]
    },
    {
     "name": "stderr",
     "output_type": "stream",
     "text": [
      "[*********************100%***********************]  1 of 1 completed\n"
     ]
    },
    {
     "name": "stdout",
     "output_type": "stream",
     "text": [
      "Reference Dates: (Timestamp('2020-01-10 00:00:00'), Timestamp('2025-01-09 00:00:00')) Current Date Range: 2020-01-10 00:00:00 to 2025-01-09 00:00:00 check is False\n",
      "Processed and saved data for GMDCLTD.\n"
     ]
    },
    {
     "name": "stderr",
     "output_type": "stream",
     "text": [
      "[*********************100%***********************]  1 of 1 completed\n"
     ]
    },
    {
     "name": "stdout",
     "output_type": "stream",
     "text": [
      "Reference Dates: (Timestamp('2020-01-10 00:00:00'), Timestamp('2025-01-09 00:00:00')) Current Date Range: 2020-01-10 00:00:00 to 2025-01-09 00:00:00 check is False\n",
      "Processed and saved data for GNFC.\n"
     ]
    },
    {
     "name": "stderr",
     "output_type": "stream",
     "text": [
      "[*********************100%***********************]  1 of 1 completed\n"
     ]
    },
    {
     "name": "stdout",
     "output_type": "stream",
     "text": [
      "Reference Dates: (Timestamp('2020-01-10 00:00:00'), Timestamp('2025-01-09 00:00:00')) Current Date Range: 2020-01-10 00:00:00 to 2025-01-09 00:00:00 check is False\n",
      "Processed and saved data for GPPL.\n"
     ]
    },
    {
     "name": "stderr",
     "output_type": "stream",
     "text": [
      "[*********************100%***********************]  1 of 1 completed\n"
     ]
    },
    {
     "name": "stdout",
     "output_type": "stream",
     "text": [
      "Reference Dates: (Timestamp('2020-01-10 00:00:00'), Timestamp('2025-01-09 00:00:00')) Current Date Range: 2020-01-10 00:00:00 to 2025-01-09 00:00:00 check is False\n",
      "Processed and saved data for GSFC.\n"
     ]
    },
    {
     "name": "stderr",
     "output_type": "stream",
     "text": [
      "[*********************100%***********************]  1 of 1 completed\n"
     ]
    },
    {
     "name": "stdout",
     "output_type": "stream",
     "text": [
      "Reference Dates: (Timestamp('2020-01-10 00:00:00'), Timestamp('2025-01-09 00:00:00')) Current Date Range: 2020-01-10 00:00:00 to 2025-01-09 00:00:00 check is False\n",
      "Processed and saved data for GSPL.\n"
     ]
    },
    {
     "name": "stderr",
     "output_type": "stream",
     "text": [
      "[*********************100%***********************]  1 of 1 completed\n"
     ]
    },
    {
     "name": "stdout",
     "output_type": "stream",
     "text": [
      "Reference Dates: (Timestamp('2020-01-10 00:00:00'), Timestamp('2025-01-09 00:00:00')) Current Date Range: 2020-01-10 00:00:00 to 2025-01-09 00:00:00 check is False\n",
      "Processed and saved data for HEG.\n"
     ]
    },
    {
     "name": "stderr",
     "output_type": "stream",
     "text": [
      "[*********************100%***********************]  1 of 1 completed\n",
      "[*********************100%***********************]  1 of 1 completed\n"
     ]
    },
    {
     "name": "stdout",
     "output_type": "stream",
     "text": [
      "Reference Dates: (Timestamp('2020-01-10 00:00:00'), Timestamp('2025-01-09 00:00:00')) Current Date Range: 2024-12-12 00:00:00 to 2025-01-09 00:00:00 check is True\n",
      "Skipping...HBLENGINE\n",
      "Reference Dates: (Timestamp('2020-01-10 00:00:00'), Timestamp('2025-01-09 00:00:00')) Current Date Range: 2020-01-10 00:00:00 to 2025-01-09 00:00:00 check is False\n"
     ]
    },
    {
     "name": "stderr",
     "output_type": "stream",
     "text": [
      "[*********************100%***********************]  1 of 1 completed"
     ]
    },
    {
     "name": "stdout",
     "output_type": "stream",
     "text": [
      "Processed and saved data for HCLTECH.\n",
      "Reference Dates: (Timestamp('2020-01-10 00:00:00'), Timestamp('2025-01-09 00:00:00')) Current Date Range: 2020-01-10 00:00:00 to 2025-01-09 00:00:00 check is False\n"
     ]
    },
    {
     "name": "stderr",
     "output_type": "stream",
     "text": [
      "\n"
     ]
    },
    {
     "name": "stdout",
     "output_type": "stream",
     "text": [
      "Processed and saved data for HDFCAMC.\n"
     ]
    },
    {
     "name": "stderr",
     "output_type": "stream",
     "text": [
      "[*********************100%***********************]  1 of 1 completed\n"
     ]
    },
    {
     "name": "stdout",
     "output_type": "stream",
     "text": [
      "Reference Dates: (Timestamp('2020-01-10 00:00:00'), Timestamp('2025-01-09 00:00:00')) Current Date Range: 2020-01-10 00:00:00 to 2025-01-09 00:00:00 check is False\n",
      "Processed and saved data for HDFCBANK.\n"
     ]
    },
    {
     "name": "stderr",
     "output_type": "stream",
     "text": [
      "[*********************100%***********************]  1 of 1 completed\n"
     ]
    },
    {
     "name": "stdout",
     "output_type": "stream",
     "text": [
      "Reference Dates: (Timestamp('2020-01-10 00:00:00'), Timestamp('2025-01-09 00:00:00')) Current Date Range: 2020-01-10 00:00:00 to 2025-01-09 00:00:00 check is False\n",
      "Processed and saved data for HDFCLIFE.\n"
     ]
    },
    {
     "name": "stderr",
     "output_type": "stream",
     "text": [
      "[*********************100%***********************]  1 of 1 completed\n",
      "[*********************100%***********************]  1 of 1 completed\n"
     ]
    },
    {
     "name": "stdout",
     "output_type": "stream",
     "text": [
      "Reference Dates: (Timestamp('2020-01-10 00:00:00'), Timestamp('2025-01-09 00:00:00')) Current Date Range: 2020-01-10 00:00:00 to 2025-01-09 00:00:00 check is False\n",
      "Processed and saved data for HFCL.\n",
      "Reference Dates: (Timestamp('2020-01-10 00:00:00'), Timestamp('2025-01-09 00:00:00')) Current Date Range: 2020-09-17 00:00:00 to 2025-01-09 00:00:00 check is True\n",
      "Processed and saved data for HAPPSTMNDS.\n"
     ]
    },
    {
     "name": "stderr",
     "output_type": "stream",
     "text": [
      "[*********************100%***********************]  1 of 1 completed\n",
      "[*********************100%***********************]  1 of 1 completed"
     ]
    },
    {
     "name": "stdout",
     "output_type": "stream",
     "text": [
      "Reference Dates: (Timestamp('2020-01-10 00:00:00'), Timestamp('2025-01-09 00:00:00')) Current Date Range: 2020-01-10 00:00:00 to 2025-01-09 00:00:00 check is False\n",
      "Processed and saved data for HAVELLS.\n",
      "Reference Dates: (Timestamp('2020-01-10 00:00:00'), Timestamp('2025-01-09 00:00:00')) Current Date Range: 2020-01-10 00:00:00 to 2025-01-09 00:00:00 check is False\n"
     ]
    },
    {
     "name": "stderr",
     "output_type": "stream",
     "text": [
      "\n",
      "[*********************100%***********************]  1 of 1 completed\n"
     ]
    },
    {
     "name": "stdout",
     "output_type": "stream",
     "text": [
      "Processed and saved data for HEROMOTOCO.\n",
      "Reference Dates: (Timestamp('2020-01-10 00:00:00'), Timestamp('2025-01-09 00:00:00')) Current Date Range: 2020-01-10 00:00:00 to 2025-01-09 00:00:00 check is False\n",
      "Processed and saved data for HSCL.\n"
     ]
    },
    {
     "name": "stderr",
     "output_type": "stream",
     "text": [
      "[*********************100%***********************]  1 of 1 completed\n"
     ]
    },
    {
     "name": "stdout",
     "output_type": "stream",
     "text": [
      "Reference Dates: (Timestamp('2020-01-10 00:00:00'), Timestamp('2025-01-09 00:00:00')) Current Date Range: 2020-01-10 00:00:00 to 2025-01-09 00:00:00 check is False\n",
      "Processed and saved data for HINDALCO.\n"
     ]
    },
    {
     "name": "stderr",
     "output_type": "stream",
     "text": [
      "[*********************100%***********************]  1 of 1 completed\n",
      "[*********************100%***********************]  1 of 1 completed\n"
     ]
    },
    {
     "name": "stdout",
     "output_type": "stream",
     "text": [
      "Reference Dates: (Timestamp('2020-01-10 00:00:00'), Timestamp('2025-01-09 00:00:00')) Current Date Range: 2020-01-10 00:00:00 to 2025-01-09 00:00:00 check is False\n",
      "Processed and saved data for HAL.\n",
      "Reference Dates: (Timestamp('2020-01-10 00:00:00'), Timestamp('2025-01-09 00:00:00')) Current Date Range: 2020-01-10 00:00:00 to 2025-01-09 00:00:00 check is False\n",
      "Processed and saved data for HINDCOPPER.\n"
     ]
    },
    {
     "name": "stderr",
     "output_type": "stream",
     "text": [
      "[*********************100%***********************]  1 of 1 completed\n"
     ]
    },
    {
     "name": "stdout",
     "output_type": "stream",
     "text": [
      "Reference Dates: (Timestamp('2020-01-10 00:00:00'), Timestamp('2025-01-09 00:00:00')) Current Date Range: 2020-01-10 00:00:00 to 2025-01-09 00:00:00 check is False\n",
      "Processed and saved data for HINDPETRO.\n"
     ]
    },
    {
     "name": "stderr",
     "output_type": "stream",
     "text": [
      "[*********************100%***********************]  1 of 1 completed\n"
     ]
    },
    {
     "name": "stdout",
     "output_type": "stream",
     "text": [
      "Reference Dates: (Timestamp('2020-01-10 00:00:00'), Timestamp('2025-01-09 00:00:00')) Current Date Range: 2020-01-10 00:00:00 to 2025-01-09 00:00:00 check is False\n",
      "Processed and saved data for HINDUNILVR.\n"
     ]
    },
    {
     "name": "stderr",
     "output_type": "stream",
     "text": [
      "[*********************100%***********************]  1 of 1 completed\n"
     ]
    },
    {
     "name": "stdout",
     "output_type": "stream",
     "text": [
      "Reference Dates: (Timestamp('2020-01-10 00:00:00'), Timestamp('2025-01-09 00:00:00')) Current Date Range: 2020-01-10 00:00:00 to 2025-01-09 00:00:00 check is False\n",
      "Processed and saved data for HINDZINC.\n"
     ]
    },
    {
     "name": "stderr",
     "output_type": "stream",
     "text": [
      "[*********************100%***********************]  1 of 1 completed\n",
      "[*********************100%***********************]  1 of 1 completed\n"
     ]
    },
    {
     "name": "stdout",
     "output_type": "stream",
     "text": [
      "Reference Dates: (Timestamp('2020-01-10 00:00:00'), Timestamp('2025-01-09 00:00:00')) Current Date Range: 2020-03-30 00:00:00 to 2025-01-09 00:00:00 check is True\n",
      "Processed and saved data for POWERINDIA.\n",
      "Reference Dates: (Timestamp('2020-01-10 00:00:00'), Timestamp('2025-01-09 00:00:00')) Current Date Range: 2021-02-03 00:00:00 to 2025-01-09 00:00:00 check is True\n",
      "Processed and saved data for HOMEFIRST.\n"
     ]
    },
    {
     "name": "stderr",
     "output_type": "stream",
     "text": [
      "[*********************100%***********************]  1 of 1 completed\n"
     ]
    },
    {
     "name": "stdout",
     "output_type": "stream",
     "text": [
      "Reference Dates: (Timestamp('2020-01-10 00:00:00'), Timestamp('2025-01-09 00:00:00')) Current Date Range: 2023-11-07 00:00:00 to 2025-01-09 00:00:00 check is True\n",
      "Skipping...HONASA\n"
     ]
    },
    {
     "name": "stderr",
     "output_type": "stream",
     "text": [
      "[*********************100%***********************]  1 of 1 completed\n"
     ]
    },
    {
     "name": "stdout",
     "output_type": "stream",
     "text": [
      "Reference Dates: (Timestamp('2020-01-10 00:00:00'), Timestamp('2025-01-09 00:00:00')) Current Date Range: 2020-01-10 00:00:00 to 2025-01-09 00:00:00 check is False\n",
      "Processed and saved data for HONAUT.\n"
     ]
    },
    {
     "name": "stderr",
     "output_type": "stream",
     "text": [
      "[*********************100%***********************]  1 of 1 completed\n"
     ]
    },
    {
     "name": "stdout",
     "output_type": "stream",
     "text": [
      "Reference Dates: (Timestamp('2020-01-10 00:00:00'), Timestamp('2025-01-09 00:00:00')) Current Date Range: 2020-01-10 00:00:00 to 2025-01-09 00:00:00 check is False\n",
      "Processed and saved data for HUDCO.\n"
     ]
    },
    {
     "name": "stderr",
     "output_type": "stream",
     "text": [
      "[*********************100%***********************]  1 of 1 completed\n"
     ]
    },
    {
     "name": "stdout",
     "output_type": "stream",
     "text": [
      "Reference Dates: (Timestamp('2020-01-10 00:00:00'), Timestamp('2025-01-09 00:00:00')) Current Date Range: 2020-01-10 00:00:00 to 2025-01-09 00:00:00 check is False\n",
      "Processed and saved data for ICICIBANK.\n"
     ]
    },
    {
     "name": "stderr",
     "output_type": "stream",
     "text": [
      "[*********************100%***********************]  1 of 1 completed\n"
     ]
    },
    {
     "name": "stdout",
     "output_type": "stream",
     "text": [
      "Reference Dates: (Timestamp('2020-01-10 00:00:00'), Timestamp('2025-01-09 00:00:00')) Current Date Range: 2020-01-10 00:00:00 to 2025-01-09 00:00:00 check is False\n",
      "Processed and saved data for ICICIGI.\n"
     ]
    },
    {
     "name": "stderr",
     "output_type": "stream",
     "text": [
      "[*********************100%***********************]  1 of 1 completed\n"
     ]
    },
    {
     "name": "stdout",
     "output_type": "stream",
     "text": [
      "Reference Dates: (Timestamp('2020-01-10 00:00:00'), Timestamp('2025-01-09 00:00:00')) Current Date Range: 2020-01-10 00:00:00 to 2025-01-09 00:00:00 check is False\n",
      "Processed and saved data for ICICIPRULI.\n"
     ]
    },
    {
     "name": "stderr",
     "output_type": "stream",
     "text": [
      "[*********************100%***********************]  1 of 1 completed\n"
     ]
    },
    {
     "name": "stdout",
     "output_type": "stream",
     "text": [
      "Reference Dates: (Timestamp('2020-01-10 00:00:00'), Timestamp('2025-01-09 00:00:00')) Current Date Range: 2020-01-10 00:00:00 to 2025-01-09 00:00:00 check is False\n",
      "Processed and saved data for ISEC.\n"
     ]
    },
    {
     "name": "stderr",
     "output_type": "stream",
     "text": [
      "[*********************100%***********************]  1 of 1 completed\n"
     ]
    },
    {
     "name": "stdout",
     "output_type": "stream",
     "text": [
      "Reference Dates: (Timestamp('2020-01-10 00:00:00'), Timestamp('2025-01-09 00:00:00')) Current Date Range: 2020-01-10 00:00:00 to 2025-01-09 00:00:00 check is False\n",
      "Processed and saved data for IDBI.\n"
     ]
    },
    {
     "name": "stderr",
     "output_type": "stream",
     "text": [
      "[*********************100%***********************]  1 of 1 completed\n"
     ]
    },
    {
     "name": "stdout",
     "output_type": "stream",
     "text": [
      "Reference Dates: (Timestamp('2020-01-10 00:00:00'), Timestamp('2025-01-09 00:00:00')) Current Date Range: 2020-01-10 00:00:00 to 2025-01-09 00:00:00 check is False\n",
      "Processed and saved data for IDFCFIRSTB.\n"
     ]
    },
    {
     "name": "stderr",
     "output_type": "stream",
     "text": [
      "[*********************100%***********************]  1 of 1 completed\n"
     ]
    },
    {
     "name": "stdout",
     "output_type": "stream",
     "text": [
      "Reference Dates: (Timestamp('2020-01-10 00:00:00'), Timestamp('2025-01-09 00:00:00')) Current Date Range: 2020-01-10 00:00:00 to 2025-01-09 00:00:00 check is False\n",
      "Processed and saved data for IFCI.\n"
     ]
    },
    {
     "name": "stderr",
     "output_type": "stream",
     "text": [
      "[*********************100%***********************]  1 of 1 completed\n",
      "[*********************100%***********************]  1 of 1 completed\n"
     ]
    },
    {
     "name": "stdout",
     "output_type": "stream",
     "text": [
      "Reference Dates: (Timestamp('2020-01-10 00:00:00'), Timestamp('2025-01-09 00:00:00')) Current Date Range: 2020-01-10 00:00:00 to 2025-01-09 00:00:00 check is False\n",
      "Processed and saved data for IIFL.\n",
      "Reference Dates: (Timestamp('2020-01-10 00:00:00'), Timestamp('2025-01-09 00:00:00')) Current Date Range: 2023-12-21 00:00:00 to 2025-01-09 00:00:00 check is True\n",
      "Skipping...INOXINDIA\n"
     ]
    },
    {
     "name": "stderr",
     "output_type": "stream",
     "text": [
      "[*********************100%***********************]  1 of 1 completed\n"
     ]
    },
    {
     "name": "stdout",
     "output_type": "stream",
     "text": [
      "Reference Dates: (Timestamp('2020-01-10 00:00:00'), Timestamp('2025-01-09 00:00:00')) Current Date Range: 2020-01-10 00:00:00 to 2025-01-09 00:00:00 check is False\n",
      "Processed and saved data for IRB.\n"
     ]
    },
    {
     "name": "stderr",
     "output_type": "stream",
     "text": [
      "[*********************100%***********************]  1 of 1 completed\n"
     ]
    },
    {
     "name": "stdout",
     "output_type": "stream",
     "text": [
      "Reference Dates: (Timestamp('2020-01-10 00:00:00'), Timestamp('2025-01-09 00:00:00')) Current Date Range: 2020-01-10 00:00:00 to 2025-01-09 00:00:00 check is False\n",
      "Processed and saved data for IRCON.\n"
     ]
    },
    {
     "name": "stderr",
     "output_type": "stream",
     "text": [
      "[*********************100%***********************]  1 of 1 completed\n"
     ]
    },
    {
     "name": "stdout",
     "output_type": "stream",
     "text": [
      "Reference Dates: (Timestamp('2020-01-10 00:00:00'), Timestamp('2025-01-09 00:00:00')) Current Date Range: 2020-01-10 00:00:00 to 2025-01-09 00:00:00 check is False\n",
      "Processed and saved data for ITC.\n"
     ]
    },
    {
     "name": "stderr",
     "output_type": "stream",
     "text": [
      "[*********************100%***********************]  1 of 1 completed\n",
      "[*********************100%***********************]  1 of 1 completed\n"
     ]
    },
    {
     "name": "stdout",
     "output_type": "stream",
     "text": [
      "Reference Dates: (Timestamp('2020-01-10 00:00:00'), Timestamp('2025-01-09 00:00:00')) Current Date Range: 2020-01-10 00:00:00 to 2025-01-09 00:00:00 check is False\n",
      "Processed and saved data for ITI.\n",
      "Reference Dates: (Timestamp('2020-01-10 00:00:00'), Timestamp('2025-01-09 00:00:00')) Current Date Range: 2024-05-13 00:00:00 to 2025-01-09 00:00:00 check is True\n",
      "Skipping...INDGN\n"
     ]
    },
    {
     "name": "stderr",
     "output_type": "stream",
     "text": [
      "[*********************100%***********************]  1 of 1 completed\n"
     ]
    },
    {
     "name": "stdout",
     "output_type": "stream",
     "text": [
      "Reference Dates: (Timestamp('2020-01-10 00:00:00'), Timestamp('2025-01-09 00:00:00')) Current Date Range: 2020-01-10 00:00:00 to 2025-01-09 00:00:00 check is False\n",
      "Processed and saved data for INDIACEM.\n"
     ]
    },
    {
     "name": "stderr",
     "output_type": "stream",
     "text": [
      "[*********************100%***********************]  1 of 1 completed\n"
     ]
    },
    {
     "name": "stdout",
     "output_type": "stream",
     "text": [
      "Reference Dates: (Timestamp('2020-01-10 00:00:00'), Timestamp('2025-01-09 00:00:00')) Current Date Range: 2020-01-10 00:00:00 to 2025-01-09 00:00:00 check is False\n",
      "Processed and saved data for INDIAMART.\n"
     ]
    },
    {
     "name": "stderr",
     "output_type": "stream",
     "text": [
      "[*********************100%***********************]  1 of 1 completed\n",
      "[*********************100%***********************]  1 of 1 completed\n"
     ]
    },
    {
     "name": "stdout",
     "output_type": "stream",
     "text": [
      "Reference Dates: (Timestamp('2020-01-10 00:00:00'), Timestamp('2025-01-09 00:00:00')) Current Date Range: 2020-01-10 00:00:00 to 2025-01-09 00:00:00 check is False\n",
      "Processed and saved data for INDIANB.\n",
      "Reference Dates: (Timestamp('2020-01-10 00:00:00'), Timestamp('2025-01-09 00:00:00')) Current Date Range: 2020-01-10 00:00:00 to 2025-01-09 00:00:00 check is False\n",
      "Processed and saved data for IEX.\n"
     ]
    },
    {
     "name": "stderr",
     "output_type": "stream",
     "text": [
      "[*********************100%***********************]  1 of 1 completed\n"
     ]
    },
    {
     "name": "stdout",
     "output_type": "stream",
     "text": [
      "Reference Dates: (Timestamp('2020-01-10 00:00:00'), Timestamp('2025-01-09 00:00:00')) Current Date Range: 2020-01-10 00:00:00 to 2025-01-09 00:00:00 check is False\n",
      "Processed and saved data for INDHOTEL.\n"
     ]
    },
    {
     "name": "stderr",
     "output_type": "stream",
     "text": [
      "[*********************100%***********************]  1 of 1 completed\n",
      "[*********************100%***********************]  1 of 1 completed\n"
     ]
    },
    {
     "name": "stdout",
     "output_type": "stream",
     "text": [
      "Reference Dates: (Timestamp('2020-01-10 00:00:00'), Timestamp('2025-01-09 00:00:00')) Current Date Range: 2020-01-10 00:00:00 to 2025-01-09 00:00:00 check is False\n",
      "Processed and saved data for IOC.\n",
      "Reference Dates: (Timestamp('2020-01-10 00:00:00'), Timestamp('2025-01-09 00:00:00')) Current Date Range: 2020-01-10 00:00:00 to 2025-01-09 00:00:00 check is False\n",
      "Processed and saved data for IOB.\n"
     ]
    },
    {
     "name": "stderr",
     "output_type": "stream",
     "text": [
      "[*********************100%***********************]  1 of 1 completed\n",
      "[*********************100%***********************]  1 of 1 completed\n"
     ]
    },
    {
     "name": "stdout",
     "output_type": "stream",
     "text": [
      "Reference Dates: (Timestamp('2020-01-10 00:00:00'), Timestamp('2025-01-09 00:00:00')) Current Date Range: 2020-01-10 00:00:00 to 2025-01-09 00:00:00 check is False\n",
      "Processed and saved data for IRCTC.\n",
      "Reference Dates: (Timestamp('2020-01-10 00:00:00'), Timestamp('2025-01-09 00:00:00')) Current Date Range: 2021-01-29 00:00:00 to 2025-01-09 00:00:00 check is True\n",
      "Processed and saved data for IRFC.\n"
     ]
    },
    {
     "name": "stderr",
     "output_type": "stream",
     "text": [
      "[*********************100%***********************]  1 of 1 completed\n"
     ]
    },
    {
     "name": "stdout",
     "output_type": "stream",
     "text": [
      "Reference Dates: (Timestamp('2020-01-10 00:00:00'), Timestamp('2025-01-09 00:00:00')) Current Date Range: 2023-11-29 00:00:00 to 2025-01-09 00:00:00 check is True\n",
      "Skipping...IREDA\n"
     ]
    },
    {
     "name": "stderr",
     "output_type": "stream",
     "text": [
      "[*********************100%***********************]  1 of 1 completed\n",
      "\n",
      "1 Failed download:\n",
      "['IGL.NS']: ChunkedEncodingError(ProtocolError('Connection broken: IncompleteRead(2595 bytes read, 1324 more expected)', IncompleteRead(2595 bytes read, 1324 more expected)))\n"
     ]
    },
    {
     "name": "stdout",
     "output_type": "stream",
     "text": [
      "Skipping IGL due to missing data.\n"
     ]
    },
    {
     "name": "stderr",
     "output_type": "stream",
     "text": [
      "[*********************100%***********************]  1 of 1 completed\n"
     ]
    },
    {
     "name": "stdout",
     "output_type": "stream",
     "text": [
      "Reference Dates: (Timestamp('2020-01-10 00:00:00'), Timestamp('2025-01-09 00:00:00')) Current Date Range: 2020-01-10 00:00:00 to 2025-01-09 00:00:00 check is False\n",
      "Processed and saved data for INDUSTOWER.\n"
     ]
    },
    {
     "name": "stderr",
     "output_type": "stream",
     "text": [
      "[*********************100%***********************]  1 of 1 completed\n"
     ]
    },
    {
     "name": "stdout",
     "output_type": "stream",
     "text": [
      "Reference Dates: (Timestamp('2020-01-10 00:00:00'), Timestamp('2025-01-09 00:00:00')) Current Date Range: 2020-01-10 00:00:00 to 2025-01-09 00:00:00 check is False\n",
      "Processed and saved data for INDUSINDBK.\n"
     ]
    },
    {
     "name": "stderr",
     "output_type": "stream",
     "text": [
      "[*********************100%***********************]  1 of 1 completed\n"
     ]
    },
    {
     "name": "stdout",
     "output_type": "stream",
     "text": [
      "Reference Dates: (Timestamp('2020-01-10 00:00:00'), Timestamp('2025-01-09 00:00:00')) Current Date Range: 2020-01-10 00:00:00 to 2025-01-09 00:00:00 check is False\n",
      "Processed and saved data for NAUKRI.\n"
     ]
    },
    {
     "name": "stderr",
     "output_type": "stream",
     "text": [
      "[*********************100%***********************]  1 of 1 completed\n"
     ]
    },
    {
     "name": "stdout",
     "output_type": "stream",
     "text": [
      "Reference Dates: (Timestamp('2020-01-10 00:00:00'), Timestamp('2025-01-09 00:00:00')) Current Date Range: 2020-01-10 00:00:00 to 2025-01-09 00:00:00 check is False\n",
      "Processed and saved data for INFY.\n"
     ]
    },
    {
     "name": "stderr",
     "output_type": "stream",
     "text": [
      "[*********************100%***********************]  1 of 1 completed\n",
      "[*********************100%***********************]  1 of 1 completed\n"
     ]
    },
    {
     "name": "stdout",
     "output_type": "stream",
     "text": [
      "Reference Dates: (Timestamp('2020-01-10 00:00:00'), Timestamp('2025-01-09 00:00:00')) Current Date Range: 2020-01-10 00:00:00 to 2025-01-09 00:00:00 check is False\n",
      "Processed and saved data for INOXWIND.\n",
      "Reference Dates: (Timestamp('2020-01-10 00:00:00'), Timestamp('2025-01-09 00:00:00')) Current Date Range: 2020-01-10 00:00:00 to 2025-01-09 00:00:00 check is False\n"
     ]
    },
    {
     "name": "stderr",
     "output_type": "stream",
     "text": [
      "[*********************100%***********************]  1 of 1 completed\n"
     ]
    },
    {
     "name": "stdout",
     "output_type": "stream",
     "text": [
      "Processed and saved data for INTELLECT.\n",
      "Reference Dates: (Timestamp('2020-01-10 00:00:00'), Timestamp('2025-01-09 00:00:00')) Current Date Range: 2020-01-10 00:00:00 to 2025-01-09 00:00:00 check is False\n",
      "Processed and saved data for INDIGO.\n"
     ]
    },
    {
     "name": "stderr",
     "output_type": "stream",
     "text": [
      "[*********************100%***********************]  1 of 1 completed\n"
     ]
    },
    {
     "name": "stdout",
     "output_type": "stream",
     "text": [
      "Reference Dates: (Timestamp('2020-01-10 00:00:00'), Timestamp('2025-01-09 00:00:00')) Current Date Range: 2020-01-10 00:00:00 to 2025-01-09 00:00:00 check is False\n",
      "Processed and saved data for IPCALAB.\n"
     ]
    },
    {
     "name": "stderr",
     "output_type": "stream",
     "text": [
      "[*********************100%***********************]  1 of 1 completed\n"
     ]
    },
    {
     "name": "stdout",
     "output_type": "stream",
     "text": [
      "Reference Dates: (Timestamp('2020-01-10 00:00:00'), Timestamp('2025-01-09 00:00:00')) Current Date Range: 2020-01-10 00:00:00 to 2025-01-09 00:00:00 check is False\n",
      "Processed and saved data for JBCHEPHARM.\n"
     ]
    },
    {
     "name": "stderr",
     "output_type": "stream",
     "text": [
      "[*********************100%***********************]  1 of 1 completed\n"
     ]
    },
    {
     "name": "stdout",
     "output_type": "stream",
     "text": [
      "Reference Dates: (Timestamp('2020-01-10 00:00:00'), Timestamp('2025-01-09 00:00:00')) Current Date Range: 2020-01-10 00:00:00 to 2025-01-09 00:00:00 check is False\n",
      "Processed and saved data for JKCEMENT.\n"
     ]
    },
    {
     "name": "stderr",
     "output_type": "stream",
     "text": [
      "[*********************100%***********************]  1 of 1 completed\n"
     ]
    },
    {
     "name": "stdout",
     "output_type": "stream",
     "text": [
      "Reference Dates: (Timestamp('2020-01-10 00:00:00'), Timestamp('2025-01-09 00:00:00')) Current Date Range: 2020-01-10 00:00:00 to 2025-01-09 00:00:00 check is False\n",
      "Processed and saved data for JBMA.\n"
     ]
    },
    {
     "name": "stderr",
     "output_type": "stream",
     "text": [
      "[*********************100%***********************]  1 of 1 completed\n"
     ]
    },
    {
     "name": "stdout",
     "output_type": "stream",
     "text": [
      "Reference Dates: (Timestamp('2020-01-10 00:00:00'), Timestamp('2025-01-09 00:00:00')) Current Date Range: 2020-01-10 00:00:00 to 2025-01-09 00:00:00 check is False\n",
      "Processed and saved data for JKLAKSHMI.\n"
     ]
    },
    {
     "name": "stderr",
     "output_type": "stream",
     "text": [
      "[*********************100%***********************]  1 of 1 completed\n"
     ]
    },
    {
     "name": "stdout",
     "output_type": "stream",
     "text": [
      "Reference Dates: (Timestamp('2020-01-10 00:00:00'), Timestamp('2025-01-09 00:00:00')) Current Date Range: 2020-01-10 00:00:00 to 2025-01-09 00:00:00 check is False\n",
      "Processed and saved data for JKTYRE.\n"
     ]
    },
    {
     "name": "stderr",
     "output_type": "stream",
     "text": [
      "[*********************100%***********************]  1 of 1 completed\n"
     ]
    },
    {
     "name": "stdout",
     "output_type": "stream",
     "text": [
      "Reference Dates: (Timestamp('2020-01-10 00:00:00'), Timestamp('2025-01-09 00:00:00')) Current Date Range: 2020-01-10 00:00:00 to 2025-01-09 00:00:00 check is False\n",
      "Processed and saved data for JMFINANCIL.\n"
     ]
    },
    {
     "name": "stderr",
     "output_type": "stream",
     "text": [
      "[*********************100%***********************]  1 of 1 completed\n",
      "[*********************100%***********************]  1 of 1 completed\n"
     ]
    },
    {
     "name": "stdout",
     "output_type": "stream",
     "text": [
      "Reference Dates: (Timestamp('2020-01-10 00:00:00'), Timestamp('2025-01-09 00:00:00')) Current Date Range: 2020-01-10 00:00:00 to 2025-01-09 00:00:00 check is False\n",
      "Processed and saved data for JSWENERGY.\n",
      "Reference Dates: (Timestamp('2020-01-10 00:00:00'), Timestamp('2025-01-09 00:00:00')) Current Date Range: 2023-10-03 00:00:00 to 2025-01-09 00:00:00 check is True\n",
      "Skipping...JSWINFRA\n"
     ]
    },
    {
     "name": "stderr",
     "output_type": "stream",
     "text": [
      "[*********************100%***********************]  1 of 1 completed\n",
      "[*********************100%***********************]  1 of 1 completed\n"
     ]
    },
    {
     "name": "stdout",
     "output_type": "stream",
     "text": [
      "Reference Dates: (Timestamp('2020-01-10 00:00:00'), Timestamp('2025-01-09 00:00:00')) Current Date Range: 2020-01-10 00:00:00 to 2025-01-09 00:00:00 check is False\n",
      "Processed and saved data for JSWSTEEL.\n",
      "Reference Dates: (Timestamp('2020-01-10 00:00:00'), Timestamp('2025-01-09 00:00:00')) Current Date Range: 2020-01-10 00:00:00 to 2025-01-09 00:00:00 check is False\n",
      "Processed and saved data for JPPOWER.\n"
     ]
    },
    {
     "name": "stderr",
     "output_type": "stream",
     "text": [
      "[*********************100%***********************]  1 of 1 completed\n"
     ]
    },
    {
     "name": "stdout",
     "output_type": "stream",
     "text": [
      "Reference Dates: (Timestamp('2020-01-10 00:00:00'), Timestamp('2025-01-09 00:00:00')) Current Date Range: 2020-01-10 00:00:00 to 2025-01-09 00:00:00 check is False\n",
      "Processed and saved data for J&KBANK.\n"
     ]
    },
    {
     "name": "stderr",
     "output_type": "stream",
     "text": [
      "[*********************100%***********************]  1 of 1 completed\n"
     ]
    },
    {
     "name": "stdout",
     "output_type": "stream",
     "text": [
      "Reference Dates: (Timestamp('2020-01-10 00:00:00'), Timestamp('2025-01-09 00:00:00')) Current Date Range: 2020-01-10 00:00:00 to 2025-01-09 00:00:00 check is False\n",
      "Processed and saved data for JINDALSAW.\n"
     ]
    },
    {
     "name": "stderr",
     "output_type": "stream",
     "text": [
      "[*********************100%***********************]  1 of 1 completed\n"
     ]
    },
    {
     "name": "stdout",
     "output_type": "stream",
     "text": [
      "Reference Dates: (Timestamp('2020-01-10 00:00:00'), Timestamp('2025-01-09 00:00:00')) Current Date Range: 2020-01-10 00:00:00 to 2025-01-09 00:00:00 check is False\n",
      "Processed and saved data for JSL.\n"
     ]
    },
    {
     "name": "stderr",
     "output_type": "stream",
     "text": [
      "[*********************100%***********************]  1 of 1 completed\n",
      "[*********************100%***********************]  1 of 1 completed\n"
     ]
    },
    {
     "name": "stdout",
     "output_type": "stream",
     "text": [
      "Reference Dates: (Timestamp('2020-01-10 00:00:00'), Timestamp('2025-01-09 00:00:00')) Current Date Range: 2020-01-10 00:00:00 to 2025-01-09 00:00:00 check is False\n",
      "Processed and saved data for JINDALSTEL.\n",
      "Reference Dates: (Timestamp('2020-01-10 00:00:00'), Timestamp('2025-01-09 00:00:00')) Current Date Range: 2023-08-21 00:00:00 to 2025-01-09 00:00:00 check is True\n",
      "Skipping...JIOFIN\n"
     ]
    },
    {
     "name": "stderr",
     "output_type": "stream",
     "text": [
      "[*********************100%***********************]  1 of 1 completed\n"
     ]
    },
    {
     "name": "stdout",
     "output_type": "stream",
     "text": [
      "Reference Dates: (Timestamp('2020-01-10 00:00:00'), Timestamp('2025-01-09 00:00:00')) Current Date Range: 2020-01-10 00:00:00 to 2025-01-09 00:00:00 check is False\n",
      "Processed and saved data for JUBLFOOD.\n"
     ]
    },
    {
     "name": "stderr",
     "output_type": "stream",
     "text": [
      "[*********************100%***********************]  1 of 1 completed\n"
     ]
    },
    {
     "name": "stdout",
     "output_type": "stream",
     "text": [
      "Reference Dates: (Timestamp('2020-01-10 00:00:00'), Timestamp('2025-01-09 00:00:00')) Current Date Range: 2021-03-19 00:00:00 to 2025-01-09 00:00:00 check is True\n",
      "Processed and saved data for JUBLINGREA.\n"
     ]
    },
    {
     "name": "stderr",
     "output_type": "stream",
     "text": [
      "[*********************100%***********************]  1 of 1 completed\n"
     ]
    },
    {
     "name": "stdout",
     "output_type": "stream",
     "text": [
      "Reference Dates: (Timestamp('2020-01-10 00:00:00'), Timestamp('2025-01-09 00:00:00')) Current Date Range: 2020-01-10 00:00:00 to 2025-01-09 00:00:00 check is False\n",
      "Processed and saved data for JUBLPHARMA.\n"
     ]
    },
    {
     "name": "stderr",
     "output_type": "stream",
     "text": [
      "[*********************100%***********************]  1 of 1 completed\n"
     ]
    },
    {
     "name": "stdout",
     "output_type": "stream",
     "text": [
      "Reference Dates: (Timestamp('2020-01-10 00:00:00'), Timestamp('2025-01-09 00:00:00')) Current Date Range: 2020-01-10 00:00:00 to 2025-01-09 00:00:00 check is False\n",
      "Processed and saved data for JWL.\n"
     ]
    },
    {
     "name": "stderr",
     "output_type": "stream",
     "text": [
      "[*********************100%***********************]  1 of 1 completed\n"
     ]
    },
    {
     "name": "stdout",
     "output_type": "stream",
     "text": [
      "Reference Dates: (Timestamp('2020-01-10 00:00:00'), Timestamp('2025-01-09 00:00:00')) Current Date Range: 2020-01-10 00:00:00 to 2025-01-09 00:00:00 check is False\n",
      "Processed and saved data for JUSTDIAL.\n"
     ]
    },
    {
     "name": "stderr",
     "output_type": "stream",
     "text": [
      "[*********************100%***********************]  1 of 1 completed\n",
      "[*********************100%***********************]  1 of 1 completed\n"
     ]
    },
    {
     "name": "stdout",
     "output_type": "stream",
     "text": [
      "Reference Dates: (Timestamp('2020-01-10 00:00:00'), Timestamp('2025-01-09 00:00:00')) Current Date Range: 2020-01-10 00:00:00 to 2025-01-09 00:00:00 check is False\n",
      "Processed and saved data for JYOTHYLAB.\n",
      "Reference Dates: (Timestamp('2020-01-10 00:00:00'), Timestamp('2025-01-09 00:00:00')) Current Date Range: 2024-01-16 00:00:00 to 2025-01-09 00:00:00 check is True\n",
      "Skipping...JYOTICNC\n"
     ]
    },
    {
     "name": "stderr",
     "output_type": "stream",
     "text": [
      "[*********************100%***********************]  1 of 1 completed\n"
     ]
    },
    {
     "name": "stdout",
     "output_type": "stream",
     "text": [
      "Reference Dates: (Timestamp('2020-01-10 00:00:00'), Timestamp('2025-01-09 00:00:00')) Current Date Range: 2020-01-10 00:00:00 to 2025-01-09 00:00:00 check is False\n",
      "Processed and saved data for KPRMILL.\n"
     ]
    },
    {
     "name": "stderr",
     "output_type": "stream",
     "text": [
      "[*********************100%***********************]  1 of 1 completed\n"
     ]
    },
    {
     "name": "stdout",
     "output_type": "stream",
     "text": [
      "Reference Dates: (Timestamp('2020-01-10 00:00:00'), Timestamp('2025-01-09 00:00:00')) Current Date Range: 2020-01-10 00:00:00 to 2025-01-09 00:00:00 check is False\n",
      "Processed and saved data for KEI.\n"
     ]
    },
    {
     "name": "stderr",
     "output_type": "stream",
     "text": [
      "[*********************100%***********************]  1 of 1 completed\n"
     ]
    },
    {
     "name": "stdout",
     "output_type": "stream",
     "text": [
      "Reference Dates: (Timestamp('2020-01-10 00:00:00'), Timestamp('2025-01-09 00:00:00')) Current Date Range: 2020-01-10 00:00:00 to 2025-01-09 00:00:00 check is False\n",
      "Processed and saved data for KNRCON.\n"
     ]
    },
    {
     "name": "stderr",
     "output_type": "stream",
     "text": [
      "[*********************100%***********************]  1 of 1 completed\n"
     ]
    },
    {
     "name": "stdout",
     "output_type": "stream",
     "text": [
      "Reference Dates: (Timestamp('2020-01-10 00:00:00'), Timestamp('2025-01-09 00:00:00')) Current Date Range: 2020-01-10 00:00:00 to 2025-01-09 00:00:00 check is False\n",
      "Processed and saved data for KPITTECH.\n"
     ]
    },
    {
     "name": "stderr",
     "output_type": "stream",
     "text": [
      "[*********************100%***********************]  1 of 1 completed\n"
     ]
    },
    {
     "name": "stdout",
     "output_type": "stream",
     "text": [
      "Reference Dates: (Timestamp('2020-01-10 00:00:00'), Timestamp('2025-01-09 00:00:00')) Current Date Range: 2020-01-10 00:00:00 to 2025-01-09 00:00:00 check is False\n",
      "Processed and saved data for KSB.\n"
     ]
    },
    {
     "name": "stderr",
     "output_type": "stream",
     "text": [
      "[*********************100%***********************]  1 of 1 completed\n",
      "[*********************100%***********************]  1 of 1 completed\n"
     ]
    },
    {
     "name": "stdout",
     "output_type": "stream",
     "text": [
      "Reference Dates: (Timestamp('2020-01-10 00:00:00'), Timestamp('2025-01-09 00:00:00')) Current Date Range: 2020-01-10 00:00:00 to 2025-01-09 00:00:00 check is False\n",
      "Processed and saved data for KAJARIACER.\n",
      "Reference Dates: (Timestamp('2020-01-10 00:00:00'), Timestamp('2025-01-09 00:00:00')) Current Date Range: 2023-05-30 00:00:00 to 2025-01-09 00:00:00 check is True\n",
      "Skipping...KPIL\n"
     ]
    },
    {
     "name": "stderr",
     "output_type": "stream",
     "text": [
      "[*********************100%***********************]  1 of 1 completed\n"
     ]
    },
    {
     "name": "stdout",
     "output_type": "stream",
     "text": [
      "Reference Dates: (Timestamp('2020-01-10 00:00:00'), Timestamp('2025-01-09 00:00:00')) Current Date Range: 2021-03-26 00:00:00 to 2025-01-09 00:00:00 check is True\n",
      "Processed and saved data for KALYANKJIL.\n"
     ]
    },
    {
     "name": "stderr",
     "output_type": "stream",
     "text": [
      "[*********************100%***********************]  1 of 1 completed\n"
     ]
    },
    {
     "name": "stdout",
     "output_type": "stream",
     "text": [
      "Reference Dates: (Timestamp('2020-01-10 00:00:00'), Timestamp('2025-01-09 00:00:00')) Current Date Range: 2020-01-10 00:00:00 to 2025-01-09 00:00:00 check is False\n",
      "Processed and saved data for KANSAINER.\n"
     ]
    },
    {
     "name": "stderr",
     "output_type": "stream",
     "text": [
      "[*********************100%***********************]  1 of 1 completed\n",
      "[*********************100%***********************]  1 of 1 completed\n"
     ]
    },
    {
     "name": "stdout",
     "output_type": "stream",
     "text": [
      "Reference Dates: (Timestamp('2020-01-10 00:00:00'), Timestamp('2025-01-09 00:00:00')) Current Date Range: 2020-01-10 00:00:00 to 2025-01-09 00:00:00 check is False\n",
      "Processed and saved data for KARURVYSYA.\n",
      "Reference Dates: (Timestamp('2020-01-10 00:00:00'), Timestamp('2025-01-09 00:00:00')) Current Date Range: 2022-11-22 00:00:00 to 2025-01-09 00:00:00 check is True\n",
      "Skipping...KAYNES\n"
     ]
    },
    {
     "name": "stderr",
     "output_type": "stream",
     "text": [
      "[*********************100%***********************]  1 of 1 completed\n"
     ]
    },
    {
     "name": "stdout",
     "output_type": "stream",
     "text": [
      "Reference Dates: (Timestamp('2020-01-10 00:00:00'), Timestamp('2025-01-09 00:00:00')) Current Date Range: 2020-01-10 00:00:00 to 2025-01-09 00:00:00 check is False\n",
      "Processed and saved data for KEC.\n"
     ]
    },
    {
     "name": "stderr",
     "output_type": "stream",
     "text": [
      "[*********************100%***********************]  1 of 1 completed\n"
     ]
    },
    {
     "name": "stdout",
     "output_type": "stream",
     "text": [
      "Reference Dates: (Timestamp('2020-01-10 00:00:00'), Timestamp('2025-01-09 00:00:00')) Current Date Range: 2022-12-29 00:00:00 to 2025-01-09 00:00:00 check is True\n",
      "Skipping...KFINTECH\n"
     ]
    },
    {
     "name": "stderr",
     "output_type": "stream",
     "text": [
      "[*********************100%***********************]  1 of 1 completed\n"
     ]
    },
    {
     "name": "stdout",
     "output_type": "stream",
     "text": [
      "Reference Dates: (Timestamp('2020-01-10 00:00:00'), Timestamp('2025-01-09 00:00:00')) Current Date Range: 2020-01-10 00:00:00 to 2025-01-09 00:00:00 check is False\n",
      "Processed and saved data for KIRLOSBROS.\n"
     ]
    },
    {
     "name": "stderr",
     "output_type": "stream",
     "text": [
      "[*********************100%***********************]  1 of 1 completed\n"
     ]
    },
    {
     "name": "stdout",
     "output_type": "stream",
     "text": [
      "Reference Dates: (Timestamp('2020-01-10 00:00:00'), Timestamp('2025-01-09 00:00:00')) Current Date Range: 2020-01-10 00:00:00 to 2025-01-09 00:00:00 check is False\n",
      "Processed and saved data for KIRLOSENG.\n"
     ]
    },
    {
     "name": "stderr",
     "output_type": "stream",
     "text": [
      "[*********************100%***********************]  1 of 1 completed\n",
      "[*********************100%***********************]  1 of 1 completed\n"
     ]
    },
    {
     "name": "stdout",
     "output_type": "stream",
     "text": [
      "Reference Dates: (Timestamp('2020-01-10 00:00:00'), Timestamp('2025-01-09 00:00:00')) Current Date Range: 2020-01-10 00:00:00 to 2025-01-09 00:00:00 check is False\n",
      "Processed and saved data for KOTAKBANK.\n",
      "Reference Dates: (Timestamp('2020-01-10 00:00:00'), Timestamp('2025-01-09 00:00:00')) Current Date Range: 2021-06-28 00:00:00 to 2025-01-09 00:00:00 check is True\n",
      "Processed and saved data for KIMS.\n"
     ]
    },
    {
     "name": "stderr",
     "output_type": "stream",
     "text": [
      "[*********************100%***********************]  1 of 1 completed\n"
     ]
    },
    {
     "name": "stdout",
     "output_type": "stream",
     "text": [
      "Reference Dates: (Timestamp('2020-01-10 00:00:00'), Timestamp('2025-01-09 00:00:00')) Current Date Range: 2020-01-10 00:00:00 to 2025-01-09 00:00:00 check is False\n",
      "Processed and saved data for LTF.\n"
     ]
    },
    {
     "name": "stderr",
     "output_type": "stream",
     "text": [
      "[*********************100%***********************]  1 of 1 completed\n"
     ]
    },
    {
     "name": "stdout",
     "output_type": "stream",
     "text": [
      "Reference Dates: (Timestamp('2020-01-10 00:00:00'), Timestamp('2025-01-09 00:00:00')) Current Date Range: 2020-01-10 00:00:00 to 2025-01-09 00:00:00 check is False\n",
      "Processed and saved data for LTTS.\n"
     ]
    },
    {
     "name": "stderr",
     "output_type": "stream",
     "text": [
      "[*********************100%***********************]  1 of 1 completed\n"
     ]
    },
    {
     "name": "stdout",
     "output_type": "stream",
     "text": [
      "Reference Dates: (Timestamp('2020-01-10 00:00:00'), Timestamp('2025-01-09 00:00:00')) Current Date Range: 2020-01-10 00:00:00 to 2025-01-09 00:00:00 check is False\n",
      "Processed and saved data for LICHSGFIN.\n"
     ]
    },
    {
     "name": "stderr",
     "output_type": "stream",
     "text": [
      "[*********************100%***********************]  1 of 1 completed\n"
     ]
    },
    {
     "name": "stdout",
     "output_type": "stream",
     "text": [
      "Reference Dates: (Timestamp('2020-01-10 00:00:00'), Timestamp('2025-01-09 00:00:00')) Current Date Range: 2020-01-10 00:00:00 to 2025-01-09 00:00:00 check is False\n",
      "Processed and saved data for LTIM.\n"
     ]
    },
    {
     "name": "stderr",
     "output_type": "stream",
     "text": [
      "[*********************100%***********************]  1 of 1 completed\n",
      "[*********************100%***********************]  1 of 1 completed\n"
     ]
    },
    {
     "name": "stdout",
     "output_type": "stream",
     "text": [
      "Reference Dates: (Timestamp('2020-01-10 00:00:00'), Timestamp('2025-01-09 00:00:00')) Current Date Range: 2020-01-10 00:00:00 to 2025-01-09 00:00:00 check is False\n",
      "Processed and saved data for LT.\n",
      "Reference Dates: (Timestamp('2020-01-10 00:00:00'), Timestamp('2025-01-09 00:00:00')) Current Date Range: 2021-11-23 00:00:00 to 2025-01-09 00:00:00 check is True\n",
      "Processed and saved data for LATENTVIEW.\n"
     ]
    },
    {
     "name": "stderr",
     "output_type": "stream",
     "text": [
      "[*********************100%***********************]  1 of 1 completed\n"
     ]
    },
    {
     "name": "stdout",
     "output_type": "stream",
     "text": [
      "Reference Dates: (Timestamp('2020-01-10 00:00:00'), Timestamp('2025-01-09 00:00:00')) Current Date Range: 2020-01-10 00:00:00 to 2025-01-09 00:00:00 check is False\n",
      "Processed and saved data for LAURUSLABS.\n"
     ]
    },
    {
     "name": "stderr",
     "output_type": "stream",
     "text": [
      "[*********************100%***********************]  1 of 1 completed\n"
     ]
    },
    {
     "name": "stdout",
     "output_type": "stream",
     "text": [
      "Reference Dates: (Timestamp('2020-01-10 00:00:00'), Timestamp('2025-01-09 00:00:00')) Current Date Range: 2020-01-10 00:00:00 to 2025-01-09 00:00:00 check is False\n",
      "Processed and saved data for LEMONTREE.\n"
     ]
    },
    {
     "name": "stderr",
     "output_type": "stream",
     "text": [
      "[*********************100%***********************]  1 of 1 completed\n"
     ]
    },
    {
     "name": "stdout",
     "output_type": "stream",
     "text": [
      "Reference Dates: (Timestamp('2020-01-10 00:00:00'), Timestamp('2025-01-09 00:00:00')) Current Date Range: 2022-05-17 00:00:00 to 2025-01-09 00:00:00 check is True\n",
      "Skipping...LICI\n"
     ]
    },
    {
     "name": "stderr",
     "output_type": "stream",
     "text": [
      "[*********************100%***********************]  1 of 1 completed\n",
      "[*********************100%***********************]  1 of 1 completed\n"
     ]
    },
    {
     "name": "stdout",
     "output_type": "stream",
     "text": [
      "Reference Dates: (Timestamp('2020-01-10 00:00:00'), Timestamp('2025-01-09 00:00:00')) Current Date Range: 2020-01-10 00:00:00 to 2025-01-09 00:00:00 check is False\n",
      "Processed and saved data for LINDEINDIA.\n",
      "Reference Dates: (Timestamp('2020-01-10 00:00:00'), Timestamp('2025-01-09 00:00:00')) Current Date Range: 2023-07-17 00:00:00 to 2025-01-09 00:00:00 check is True\n",
      "Skipping...LLOYDSME\n"
     ]
    },
    {
     "name": "stderr",
     "output_type": "stream",
     "text": [
      "[*********************100%***********************]  1 of 1 completed\n"
     ]
    },
    {
     "name": "stdout",
     "output_type": "stream",
     "text": [
      "Reference Dates: (Timestamp('2020-01-10 00:00:00'), Timestamp('2025-01-09 00:00:00')) Current Date Range: 2020-01-10 00:00:00 to 2025-01-09 00:00:00 check is False\n",
      "Processed and saved data for LUPIN.\n"
     ]
    },
    {
     "name": "stderr",
     "output_type": "stream",
     "text": [
      "[*********************100%***********************]  1 of 1 completed\n"
     ]
    },
    {
     "name": "stdout",
     "output_type": "stream",
     "text": [
      "Reference Dates: (Timestamp('2020-01-10 00:00:00'), Timestamp('2025-01-09 00:00:00')) Current Date Range: 2020-01-10 00:00:00 to 2025-01-09 00:00:00 check is False\n",
      "Processed and saved data for MMTC.\n"
     ]
    },
    {
     "name": "stderr",
     "output_type": "stream",
     "text": [
      "[*********************100%***********************]  1 of 1 completed\n"
     ]
    },
    {
     "name": "stdout",
     "output_type": "stream",
     "text": [
      "Reference Dates: (Timestamp('2020-01-10 00:00:00'), Timestamp('2025-01-09 00:00:00')) Current Date Range: 2020-01-10 00:00:00 to 2025-01-09 00:00:00 check is False\n",
      "Processed and saved data for MRF.\n"
     ]
    },
    {
     "name": "stderr",
     "output_type": "stream",
     "text": [
      "[*********************100%***********************]  1 of 1 completed\n"
     ]
    },
    {
     "name": "stdout",
     "output_type": "stream",
     "text": [
      "Reference Dates: (Timestamp('2020-01-10 00:00:00'), Timestamp('2025-01-09 00:00:00')) Current Date Range: 2021-04-19 00:00:00 to 2025-01-09 00:00:00 check is True\n",
      "Processed and saved data for LODHA.\n"
     ]
    },
    {
     "name": "stderr",
     "output_type": "stream",
     "text": [
      "[*********************100%***********************]  1 of 1 completed\n"
     ]
    },
    {
     "name": "stdout",
     "output_type": "stream",
     "text": [
      "Reference Dates: (Timestamp('2020-01-10 00:00:00'), Timestamp('2025-01-09 00:00:00')) Current Date Range: 2020-01-10 00:00:00 to 2025-01-09 00:00:00 check is False\n",
      "Processed and saved data for MGL.\n"
     ]
    },
    {
     "name": "stderr",
     "output_type": "stream",
     "text": [
      "[*********************100%***********************]  1 of 1 completed\n"
     ]
    },
    {
     "name": "stdout",
     "output_type": "stream",
     "text": [
      "Reference Dates: (Timestamp('2020-01-10 00:00:00'), Timestamp('2025-01-09 00:00:00')) Current Date Range: 2020-01-10 00:00:00 to 2025-01-09 00:00:00 check is False\n",
      "Processed and saved data for MAHSEAMLES.\n"
     ]
    },
    {
     "name": "stderr",
     "output_type": "stream",
     "text": [
      "[*********************100%***********************]  1 of 1 completed\n"
     ]
    },
    {
     "name": "stdout",
     "output_type": "stream",
     "text": [
      "Reference Dates: (Timestamp('2020-01-10 00:00:00'), Timestamp('2025-01-09 00:00:00')) Current Date Range: 2020-01-10 00:00:00 to 2025-01-09 00:00:00 check is False\n",
      "Processed and saved data for M&MFIN.\n"
     ]
    },
    {
     "name": "stderr",
     "output_type": "stream",
     "text": [
      "[*********************100%***********************]  1 of 1 completed\n"
     ]
    },
    {
     "name": "stdout",
     "output_type": "stream",
     "text": [
      "Reference Dates: (Timestamp('2020-01-10 00:00:00'), Timestamp('2025-01-09 00:00:00')) Current Date Range: 2020-01-10 00:00:00 to 2025-01-09 00:00:00 check is False\n",
      "Processed and saved data for M&M.\n"
     ]
    },
    {
     "name": "stderr",
     "output_type": "stream",
     "text": [
      "[*********************100%***********************]  1 of 1 completed\n"
     ]
    },
    {
     "name": "stdout",
     "output_type": "stream",
     "text": [
      "Reference Dates: (Timestamp('2020-01-10 00:00:00'), Timestamp('2025-01-09 00:00:00')) Current Date Range: 2020-01-10 00:00:00 to 2025-01-09 00:00:00 check is False\n",
      "Processed and saved data for MAHLIFE.\n"
     ]
    },
    {
     "name": "stderr",
     "output_type": "stream",
     "text": [
      "[*********************100%***********************]  1 of 1 completed\n"
     ]
    },
    {
     "name": "stdout",
     "output_type": "stream",
     "text": [
      "Reference Dates: (Timestamp('2020-01-10 00:00:00'), Timestamp('2025-01-09 00:00:00')) Current Date Range: 2020-01-10 00:00:00 to 2025-01-09 00:00:00 check is False\n",
      "Processed and saved data for MANAPPURAM.\n"
     ]
    },
    {
     "name": "stderr",
     "output_type": "stream",
     "text": [
      "[*********************100%***********************]  1 of 1 completed\n",
      "[*********************100%***********************]  1 of 1 completed\n"
     ]
    },
    {
     "name": "stdout",
     "output_type": "stream",
     "text": [
      "Reference Dates: (Timestamp('2020-01-10 00:00:00'), Timestamp('2025-01-09 00:00:00')) Current Date Range: 2020-01-10 00:00:00 to 2025-01-09 00:00:00 check is False\n",
      "Processed and saved data for MRPL.\n",
      "Reference Dates: (Timestamp('2020-01-10 00:00:00'), Timestamp('2025-01-09 00:00:00')) Current Date Range: 2023-05-09 00:00:00 to 2025-01-09 00:00:00 check is True\n",
      "Skipping...MANKIND\n"
     ]
    },
    {
     "name": "stderr",
     "output_type": "stream",
     "text": [
      "[*********************100%***********************]  1 of 1 completed\n"
     ]
    },
    {
     "name": "stdout",
     "output_type": "stream",
     "text": [
      "Reference Dates: (Timestamp('2020-01-10 00:00:00'), Timestamp('2025-01-09 00:00:00')) Current Date Range: 2020-01-10 00:00:00 to 2025-01-09 00:00:00 check is False\n",
      "Processed and saved data for MARICO.\n"
     ]
    },
    {
     "name": "stderr",
     "output_type": "stream",
     "text": [
      "[*********************100%***********************]  1 of 1 completed\n"
     ]
    },
    {
     "name": "stdout",
     "output_type": "stream",
     "text": [
      "Reference Dates: (Timestamp('2020-01-10 00:00:00'), Timestamp('2025-01-09 00:00:00')) Current Date Range: 2020-01-10 00:00:00 to 2025-01-09 00:00:00 check is False\n",
      "Processed and saved data for MARUTI.\n"
     ]
    },
    {
     "name": "stderr",
     "output_type": "stream",
     "text": [
      "[*********************100%***********************]  1 of 1 completed\n"
     ]
    },
    {
     "name": "stdout",
     "output_type": "stream",
     "text": [
      "Reference Dates: (Timestamp('2020-01-10 00:00:00'), Timestamp('2025-01-09 00:00:00')) Current Date Range: 2020-01-10 00:00:00 to 2025-01-09 00:00:00 check is False\n",
      "Processed and saved data for MASTEK.\n"
     ]
    },
    {
     "name": "stderr",
     "output_type": "stream",
     "text": [
      "[*********************100%***********************]  1 of 1 completed\n"
     ]
    },
    {
     "name": "stdout",
     "output_type": "stream",
     "text": [
      "Reference Dates: (Timestamp('2020-01-10 00:00:00'), Timestamp('2025-01-09 00:00:00')) Current Date Range: 2020-01-10 00:00:00 to 2025-01-09 00:00:00 check is False\n",
      "Processed and saved data for MFSL.\n"
     ]
    },
    {
     "name": "stderr",
     "output_type": "stream",
     "text": [
      "[*********************100%***********************]  1 of 1 completed\n"
     ]
    },
    {
     "name": "stdout",
     "output_type": "stream",
     "text": [
      "Reference Dates: (Timestamp('2020-01-10 00:00:00'), Timestamp('2025-01-09 00:00:00')) Current Date Range: 2020-08-21 00:00:00 to 2025-01-09 00:00:00 check is True\n",
      "Processed and saved data for MAXHEALTH.\n"
     ]
    },
    {
     "name": "stderr",
     "output_type": "stream",
     "text": [
      "[*********************100%***********************]  1 of 1 completed\n",
      "[*********************100%***********************]  1 of 1 completed\n"
     ]
    },
    {
     "name": "stdout",
     "output_type": "stream",
     "text": [
      "Reference Dates: (Timestamp('2020-01-10 00:00:00'), Timestamp('2025-01-09 00:00:00')) Current Date Range: 2020-10-12 00:00:00 to 2025-01-09 00:00:00 check is True\n",
      "Processed and saved data for MAZDOCK.\n",
      "Reference Dates: (Timestamp('2020-01-10 00:00:00'), Timestamp('2025-01-09 00:00:00')) Current Date Range: 2021-12-22 00:00:00 to 2025-01-09 00:00:00 check is True\n"
     ]
    },
    {
     "name": "stderr",
     "output_type": "stream",
     "text": [
      "[*********************100%***********************]  1 of 1 completed"
     ]
    },
    {
     "name": "stdout",
     "output_type": "stream",
     "text": [
      "Processed and saved data for METROBRAND.\n",
      "Reference Dates: (Timestamp('2020-01-10 00:00:00'), Timestamp('2025-01-09 00:00:00')) Current Date Range: 2020-01-10 00:00:00 to 2025-01-09 00:00:00 check is False\n"
     ]
    },
    {
     "name": "stderr",
     "output_type": "stream",
     "text": [
      "\n"
     ]
    },
    {
     "name": "stdout",
     "output_type": "stream",
     "text": [
      "Processed and saved data for METROPOLIS.\n"
     ]
    },
    {
     "name": "stderr",
     "output_type": "stream",
     "text": [
      "[*********************100%***********************]  1 of 1 completed\n",
      "[*********************100%***********************]  1 of 1 completed\n"
     ]
    },
    {
     "name": "stdout",
     "output_type": "stream",
     "text": [
      "Reference Dates: (Timestamp('2020-01-10 00:00:00'), Timestamp('2025-01-09 00:00:00')) Current Date Range: 2020-01-10 00:00:00 to 2025-01-09 00:00:00 check is False\n",
      "Processed and saved data for MINDACORP.\n",
      "Reference Dates: (Timestamp('2020-01-10 00:00:00'), Timestamp('2025-01-09 00:00:00')) Current Date Range: 2022-03-28 00:00:00 to 2025-01-09 00:00:00 check is True\n",
      "Skipping...MSUMI\n"
     ]
    },
    {
     "name": "stderr",
     "output_type": "stream",
     "text": [
      "[*********************100%***********************]  1 of 1 completed\n"
     ]
    },
    {
     "name": "stdout",
     "output_type": "stream",
     "text": [
      "Reference Dates: (Timestamp('2020-01-10 00:00:00'), Timestamp('2025-01-09 00:00:00')) Current Date Range: 2020-01-10 00:00:00 to 2025-01-09 00:00:00 check is False\n",
      "Processed and saved data for MOTILALOFS.\n"
     ]
    },
    {
     "name": "stderr",
     "output_type": "stream",
     "text": [
      "[*********************100%***********************]  1 of 1 completed\n"
     ]
    },
    {
     "name": "stdout",
     "output_type": "stream",
     "text": [
      "Reference Dates: (Timestamp('2020-01-10 00:00:00'), Timestamp('2025-01-09 00:00:00')) Current Date Range: 2020-01-10 00:00:00 to 2025-01-09 00:00:00 check is False\n",
      "Processed and saved data for MPHASIS.\n"
     ]
    },
    {
     "name": "stderr",
     "output_type": "stream",
     "text": [
      "[*********************100%***********************]  1 of 1 completed\n"
     ]
    },
    {
     "name": "stdout",
     "output_type": "stream",
     "text": [
      "Reference Dates: (Timestamp('2020-01-10 00:00:00'), Timestamp('2025-01-09 00:00:00')) Current Date Range: 2020-01-10 00:00:00 to 2025-01-09 00:00:00 check is False\n",
      "Processed and saved data for MCX.\n"
     ]
    },
    {
     "name": "stderr",
     "output_type": "stream",
     "text": [
      "[*********************100%***********************]  1 of 1 completed\n"
     ]
    },
    {
     "name": "stdout",
     "output_type": "stream",
     "text": [
      "Reference Dates: (Timestamp('2020-01-10 00:00:00'), Timestamp('2025-01-09 00:00:00')) Current Date Range: 2020-01-10 00:00:00 to 2025-01-09 00:00:00 check is False\n",
      "Processed and saved data for MUTHOOTFIN.\n"
     ]
    },
    {
     "name": "stderr",
     "output_type": "stream",
     "text": [
      "[*********************100%***********************]  1 of 1 completed\n"
     ]
    },
    {
     "name": "stdout",
     "output_type": "stream",
     "text": [
      "Reference Dates: (Timestamp('2020-01-10 00:00:00'), Timestamp('2025-01-09 00:00:00')) Current Date Range: 2020-01-10 00:00:00 to 2025-01-09 00:00:00 check is False\n",
      "Processed and saved data for NATCOPHARM.\n"
     ]
    },
    {
     "name": "stderr",
     "output_type": "stream",
     "text": [
      "[*********************100%***********************]  1 of 1 completed\n"
     ]
    },
    {
     "name": "stdout",
     "output_type": "stream",
     "text": [
      "Reference Dates: (Timestamp('2020-01-10 00:00:00'), Timestamp('2025-01-09 00:00:00')) Current Date Range: 2020-01-10 00:00:00 to 2025-01-09 00:00:00 check is False\n",
      "Processed and saved data for NBCC.\n"
     ]
    },
    {
     "name": "stderr",
     "output_type": "stream",
     "text": [
      "[*********************100%***********************]  1 of 1 completed\n"
     ]
    },
    {
     "name": "stdout",
     "output_type": "stream",
     "text": [
      "Reference Dates: (Timestamp('2020-01-10 00:00:00'), Timestamp('2025-01-09 00:00:00')) Current Date Range: 2020-01-10 00:00:00 to 2025-01-09 00:00:00 check is False\n",
      "Processed and saved data for NCC.\n"
     ]
    },
    {
     "name": "stderr",
     "output_type": "stream",
     "text": [
      "[*********************100%***********************]  1 of 1 completed\n"
     ]
    },
    {
     "name": "stdout",
     "output_type": "stream",
     "text": [
      "Reference Dates: (Timestamp('2020-01-10 00:00:00'), Timestamp('2025-01-09 00:00:00')) Current Date Range: 2020-01-10 00:00:00 to 2025-01-09 00:00:00 check is False\n",
      "Processed and saved data for NHPC.\n"
     ]
    },
    {
     "name": "stderr",
     "output_type": "stream",
     "text": [
      "[*********************100%***********************]  1 of 1 completed\n"
     ]
    },
    {
     "name": "stdout",
     "output_type": "stream",
     "text": [
      "Reference Dates: (Timestamp('2020-01-10 00:00:00'), Timestamp('2025-01-09 00:00:00')) Current Date Range: 2020-01-10 00:00:00 to 2025-01-09 00:00:00 check is False\n",
      "Processed and saved data for NLCINDIA.\n"
     ]
    },
    {
     "name": "stderr",
     "output_type": "stream",
     "text": [
      "[*********************100%***********************]  1 of 1 completed\n"
     ]
    },
    {
     "name": "stdout",
     "output_type": "stream",
     "text": [
      "Reference Dates: (Timestamp('2020-01-10 00:00:00'), Timestamp('2025-01-09 00:00:00')) Current Date Range: 2020-01-10 00:00:00 to 2025-01-09 00:00:00 check is False\n",
      "Processed and saved data for NMDC.\n"
     ]
    },
    {
     "name": "stderr",
     "output_type": "stream",
     "text": [
      "[*********************100%***********************]  1 of 1 completed\n"
     ]
    },
    {
     "name": "stdout",
     "output_type": "stream",
     "text": [
      "Reference Dates: (Timestamp('2020-01-10 00:00:00'), Timestamp('2025-01-09 00:00:00')) Current Date Range: 2023-02-20 00:00:00 to 2025-01-09 00:00:00 check is True\n",
      "Skipping...NSLNISP\n"
     ]
    },
    {
     "name": "stderr",
     "output_type": "stream",
     "text": [
      "[*********************100%***********************]  1 of 1 completed\n"
     ]
    },
    {
     "name": "stdout",
     "output_type": "stream",
     "text": [
      "Reference Dates: (Timestamp('2020-01-10 00:00:00'), Timestamp('2025-01-09 00:00:00')) Current Date Range: 2020-01-10 00:00:00 to 2025-01-09 00:00:00 check is False\n",
      "Processed and saved data for NTPC.\n"
     ]
    },
    {
     "name": "stderr",
     "output_type": "stream",
     "text": [
      "[*********************100%***********************]  1 of 1 completed\n"
     ]
    },
    {
     "name": "stdout",
     "output_type": "stream",
     "text": [
      "Reference Dates: (Timestamp('2020-01-10 00:00:00'), Timestamp('2025-01-09 00:00:00')) Current Date Range: 2020-01-10 00:00:00 to 2025-01-09 00:00:00 check is False\n",
      "Processed and saved data for NH.\n"
     ]
    },
    {
     "name": "stderr",
     "output_type": "stream",
     "text": [
      "[*********************100%***********************]  1 of 1 completed\n"
     ]
    },
    {
     "name": "stdout",
     "output_type": "stream",
     "text": [
      "Reference Dates: (Timestamp('2020-01-10 00:00:00'), Timestamp('2025-01-09 00:00:00')) Current Date Range: 2020-01-10 00:00:00 to 2025-01-09 00:00:00 check is False\n",
      "Processed and saved data for NATIONALUM.\n"
     ]
    },
    {
     "name": "stderr",
     "output_type": "stream",
     "text": [
      "[*********************100%***********************]  1 of 1 completed\n"
     ]
    },
    {
     "name": "stdout",
     "output_type": "stream",
     "text": [
      "Reference Dates: (Timestamp('2020-01-10 00:00:00'), Timestamp('2025-01-09 00:00:00')) Current Date Range: 2020-01-10 00:00:00 to 2025-01-09 00:00:00 check is False\n",
      "Processed and saved data for NAVINFLUOR.\n"
     ]
    },
    {
     "name": "stderr",
     "output_type": "stream",
     "text": [
      "[*********************100%***********************]  1 of 1 completed\n",
      "[*********************100%***********************]  1 of 1 completed\n"
     ]
    },
    {
     "name": "stdout",
     "output_type": "stream",
     "text": [
      "Reference Dates: (Timestamp('2020-01-10 00:00:00'), Timestamp('2025-01-09 00:00:00')) Current Date Range: 2020-01-10 00:00:00 to 2025-01-09 00:00:00 check is False\n",
      "Processed and saved data for NESTLEIND.\n",
      "Reference Dates: (Timestamp('2020-01-10 00:00:00'), Timestamp('2025-01-09 00:00:00')) Current Date Range: 2023-07-27 00:00:00 to 2025-01-09 00:00:00 check is True\n",
      "Skipping...NETWEB\n"
     ]
    },
    {
     "name": "stderr",
     "output_type": "stream",
     "text": [
      "[*********************100%***********************]  1 of 1 completed\n"
     ]
    },
    {
     "name": "stdout",
     "output_type": "stream",
     "text": [
      "Reference Dates: (Timestamp('2020-01-10 00:00:00'), Timestamp('2025-01-09 00:00:00')) Current Date Range: 2020-01-10 00:00:00 to 2025-01-09 00:00:00 check is False\n",
      "Processed and saved data for NETWORK18.\n"
     ]
    },
    {
     "name": "stderr",
     "output_type": "stream",
     "text": [
      "[*********************100%***********************]  1 of 1 completed\n"
     ]
    },
    {
     "name": "stdout",
     "output_type": "stream",
     "text": [
      "Reference Dates: (Timestamp('2020-01-10 00:00:00'), Timestamp('2025-01-09 00:00:00')) Current Date Range: 2020-01-10 00:00:00 to 2025-01-09 00:00:00 check is False\n",
      "Processed and saved data for NEWGEN.\n"
     ]
    },
    {
     "name": "stderr",
     "output_type": "stream",
     "text": [
      "[*********************100%***********************]  1 of 1 completed\n",
      "[*********************100%***********************]  1 of 1 completed\n"
     ]
    },
    {
     "name": "stdout",
     "output_type": "stream",
     "text": [
      "Reference Dates: (Timestamp('2020-01-10 00:00:00'), Timestamp('2025-01-09 00:00:00')) Current Date Range: 2020-01-10 00:00:00 to 2025-01-09 00:00:00 check is False\n",
      "Processed and saved data for NAM-INDIA.\n",
      "Reference Dates: (Timestamp('2020-01-10 00:00:00'), Timestamp('2025-01-09 00:00:00')) Current Date Range: 2023-09-26 00:00:00 to 2025-01-09 00:00:00 check is True\n",
      "Skipping...NUVAMA\n"
     ]
    },
    {
     "name": "stderr",
     "output_type": "stream",
     "text": [
      "[*********************100%***********************]  1 of 1 completed\n"
     ]
    },
    {
     "name": "stdout",
     "output_type": "stream",
     "text": [
      "Reference Dates: (Timestamp('2020-01-10 00:00:00'), Timestamp('2025-01-09 00:00:00')) Current Date Range: 2021-08-23 00:00:00 to 2025-01-09 00:00:00 check is True\n",
      "Processed and saved data for NUVOCO.\n"
     ]
    },
    {
     "name": "stderr",
     "output_type": "stream",
     "text": [
      "[*********************100%***********************]  1 of 1 completed\n"
     ]
    },
    {
     "name": "stdout",
     "output_type": "stream",
     "text": [
      "Reference Dates: (Timestamp('2020-01-10 00:00:00'), Timestamp('2025-01-09 00:00:00')) Current Date Range: 2020-01-10 00:00:00 to 2025-01-09 00:00:00 check is False\n",
      "Processed and saved data for OBEROIRLTY.\n"
     ]
    },
    {
     "name": "stderr",
     "output_type": "stream",
     "text": [
      "[*********************100%***********************]  1 of 1 completed\n"
     ]
    },
    {
     "name": "stdout",
     "output_type": "stream",
     "text": [
      "Reference Dates: (Timestamp('2020-01-10 00:00:00'), Timestamp('2025-01-09 00:00:00')) Current Date Range: 2020-01-10 00:00:00 to 2025-01-09 00:00:00 check is False\n",
      "Processed and saved data for ONGC.\n"
     ]
    },
    {
     "name": "stderr",
     "output_type": "stream",
     "text": [
      "[*********************100%***********************]  1 of 1 completed\n"
     ]
    },
    {
     "name": "stdout",
     "output_type": "stream",
     "text": [
      "Reference Dates: (Timestamp('2020-01-10 00:00:00'), Timestamp('2025-01-09 00:00:00')) Current Date Range: 2020-01-10 00:00:00 to 2025-01-09 00:00:00 check is False\n",
      "Processed and saved data for OIL.\n"
     ]
    },
    {
     "name": "stderr",
     "output_type": "stream",
     "text": [
      "[*********************100%***********************]  1 of 1 completed\n"
     ]
    },
    {
     "name": "stdout",
     "output_type": "stream",
     "text": [
      "Reference Dates: (Timestamp('2020-01-10 00:00:00'), Timestamp('2025-01-09 00:00:00')) Current Date Range: 2020-01-10 00:00:00 to 2025-01-09 00:00:00 check is False\n",
      "Processed and saved data for OLECTRA.\n"
     ]
    },
    {
     "name": "stderr",
     "output_type": "stream",
     "text": [
      "[*********************100%***********************]  1 of 1 completed\n"
     ]
    },
    {
     "name": "stdout",
     "output_type": "stream",
     "text": [
      "Reference Dates: (Timestamp('2020-01-10 00:00:00'), Timestamp('2025-01-09 00:00:00')) Current Date Range: 2021-11-18 00:00:00 to 2025-01-09 00:00:00 check is True\n",
      "Processed and saved data for PAYTM.\n"
     ]
    },
    {
     "name": "stderr",
     "output_type": "stream",
     "text": [
      "[*********************100%***********************]  1 of 1 completed\n",
      "[*********************100%***********************]  1 of 1 completed"
     ]
    },
    {
     "name": "stdout",
     "output_type": "stream",
     "text": [
      "Reference Dates: (Timestamp('2020-01-10 00:00:00'), Timestamp('2025-01-09 00:00:00')) Current Date Range: 2020-01-10 00:00:00 to 2025-01-09 00:00:00 check is False\n",
      "Processed and saved data for OFSS.\n",
      "Reference Dates: (Timestamp('2020-01-10 00:00:00'), Timestamp('2025-01-09 00:00:00')) Current Date Range: 2021-11-15 00:00:00 to 2025-01-09 00:00:00 check is True\n"
     ]
    },
    {
     "name": "stderr",
     "output_type": "stream",
     "text": [
      "\n"
     ]
    },
    {
     "name": "stdout",
     "output_type": "stream",
     "text": [
      "Processed and saved data for POLICYBZR.\n"
     ]
    },
    {
     "name": "stderr",
     "output_type": "stream",
     "text": [
      "[*********************100%***********************]  1 of 1 completed\n"
     ]
    },
    {
     "name": "stdout",
     "output_type": "stream",
     "text": [
      "Reference Dates: (Timestamp('2020-01-10 00:00:00'), Timestamp('2025-01-09 00:00:00')) Current Date Range: 2020-01-10 00:00:00 to 2025-01-09 00:00:00 check is False\n",
      "Processed and saved data for PCBL.\n"
     ]
    },
    {
     "name": "stderr",
     "output_type": "stream",
     "text": [
      "[*********************100%***********************]  1 of 1 completed\n"
     ]
    },
    {
     "name": "stdout",
     "output_type": "stream",
     "text": [
      "Reference Dates: (Timestamp('2020-01-10 00:00:00'), Timestamp('2025-01-09 00:00:00')) Current Date Range: 2020-01-10 00:00:00 to 2025-01-09 00:00:00 check is False\n",
      "Processed and saved data for PIIND.\n"
     ]
    },
    {
     "name": "stderr",
     "output_type": "stream",
     "text": [
      "[*********************100%***********************]  1 of 1 completed\n"
     ]
    },
    {
     "name": "stdout",
     "output_type": "stream",
     "text": [
      "Reference Dates: (Timestamp('2020-01-10 00:00:00'), Timestamp('2025-01-09 00:00:00')) Current Date Range: 2020-01-10 00:00:00 to 2025-01-09 00:00:00 check is False\n",
      "Processed and saved data for PNBHOUSING.\n"
     ]
    },
    {
     "name": "stderr",
     "output_type": "stream",
     "text": [
      "[*********************100%***********************]  1 of 1 completed\n",
      "[*********************100%***********************]  1 of 1 completed\n"
     ]
    },
    {
     "name": "stdout",
     "output_type": "stream",
     "text": [
      "Reference Dates: (Timestamp('2020-01-10 00:00:00'), Timestamp('2025-01-09 00:00:00')) Current Date Range: 2020-01-10 00:00:00 to 2025-01-09 00:00:00 check is False\n",
      "Processed and saved data for PNCINFRA.\n",
      "Reference Dates: (Timestamp('2020-01-10 00:00:00'), Timestamp('2025-01-09 00:00:00')) Current Date Range: 2023-06-09 00:00:00 to 2025-01-09 00:00:00 check is True\n",
      "Skipping...PTCIL\n"
     ]
    },
    {
     "name": "stderr",
     "output_type": "stream",
     "text": [
      "[*********************100%***********************]  1 of 1 completed\n"
     ]
    },
    {
     "name": "stdout",
     "output_type": "stream",
     "text": [
      "Reference Dates: (Timestamp('2020-01-10 00:00:00'), Timestamp('2025-01-09 00:00:00')) Current Date Range: 2022-11-10 00:00:00 to 2025-01-09 00:00:00 check is True\n",
      "Skipping...PVRINOX\n"
     ]
    },
    {
     "name": "stderr",
     "output_type": "stream",
     "text": [
      "[*********************100%***********************]  1 of 1 completed\n"
     ]
    },
    {
     "name": "stdout",
     "output_type": "stream",
     "text": [
      "Reference Dates: (Timestamp('2020-01-10 00:00:00'), Timestamp('2025-01-09 00:00:00')) Current Date Range: 2020-01-10 00:00:00 to 2025-01-09 00:00:00 check is False\n",
      "Processed and saved data for PAGEIND.\n"
     ]
    },
    {
     "name": "stderr",
     "output_type": "stream",
     "text": [
      "[*********************100%***********************]  1 of 1 completed\n"
     ]
    },
    {
     "name": "stdout",
     "output_type": "stream",
     "text": [
      "Reference Dates: (Timestamp('2020-01-10 00:00:00'), Timestamp('2025-01-09 00:00:00')) Current Date Range: 2020-01-10 00:00:00 to 2025-01-09 00:00:00 check is False\n",
      "Processed and saved data for PATANJALI.\n"
     ]
    },
    {
     "name": "stderr",
     "output_type": "stream",
     "text": [
      "[*********************100%***********************]  1 of 1 completed\n"
     ]
    },
    {
     "name": "stdout",
     "output_type": "stream",
     "text": [
      "Reference Dates: (Timestamp('2020-01-10 00:00:00'), Timestamp('2025-01-09 00:00:00')) Current Date Range: 2020-01-10 00:00:00 to 2025-01-09 00:00:00 check is False\n",
      "Processed and saved data for PERSISTENT.\n"
     ]
    },
    {
     "name": "stderr",
     "output_type": "stream",
     "text": [
      "[*********************100%***********************]  1 of 1 completed\n"
     ]
    },
    {
     "name": "stdout",
     "output_type": "stream",
     "text": [
      "Reference Dates: (Timestamp('2020-01-10 00:00:00'), Timestamp('2025-01-09 00:00:00')) Current Date Range: 2020-01-10 00:00:00 to 2025-01-09 00:00:00 check is False\n",
      "Processed and saved data for PETRONET.\n"
     ]
    },
    {
     "name": "stderr",
     "output_type": "stream",
     "text": [
      "[*********************100%***********************]  1 of 1 completed\n"
     ]
    },
    {
     "name": "stdout",
     "output_type": "stream",
     "text": [
      "Reference Dates: (Timestamp('2020-01-10 00:00:00'), Timestamp('2025-01-09 00:00:00')) Current Date Range: 2020-01-10 00:00:00 to 2025-01-09 00:00:00 check is False\n",
      "Processed and saved data for PFIZER.\n"
     ]
    },
    {
     "name": "stderr",
     "output_type": "stream",
     "text": [
      "[*********************100%***********************]  1 of 1 completed\n"
     ]
    },
    {
     "name": "stdout",
     "output_type": "stream",
     "text": [
      "Reference Dates: (Timestamp('2020-01-10 00:00:00'), Timestamp('2025-01-09 00:00:00')) Current Date Range: 2020-01-10 00:00:00 to 2025-01-09 00:00:00 check is False\n",
      "Processed and saved data for PHOENIXLTD.\n"
     ]
    },
    {
     "name": "stderr",
     "output_type": "stream",
     "text": [
      "[*********************100%***********************]  1 of 1 completed\n"
     ]
    },
    {
     "name": "stdout",
     "output_type": "stream",
     "text": [
      "Reference Dates: (Timestamp('2020-01-10 00:00:00'), Timestamp('2025-01-09 00:00:00')) Current Date Range: 2020-01-10 00:00:00 to 2025-01-09 00:00:00 check is False\n",
      "Processed and saved data for PIDILITIND.\n"
     ]
    },
    {
     "name": "stderr",
     "output_type": "stream",
     "text": [
      "[*********************100%***********************]  1 of 1 completed\n",
      "[*********************100%***********************]  1 of 1 completed\n"
     ]
    },
    {
     "name": "stdout",
     "output_type": "stream",
     "text": [
      "Reference Dates: (Timestamp('2020-01-10 00:00:00'), Timestamp('2025-01-09 00:00:00')) Current Date Range: 2020-01-10 00:00:00 to 2025-01-09 00:00:00 check is False\n",
      "Processed and saved data for PEL.\n",
      "Reference Dates: (Timestamp('2020-01-10 00:00:00'), Timestamp('2025-01-09 00:00:00')) Current Date Range: 2022-10-19 00:00:00 to 2025-01-09 00:00:00 check is True\n",
      "Skipping...PPLPHARMA\n"
     ]
    },
    {
     "name": "stderr",
     "output_type": "stream",
     "text": [
      "[*********************100%***********************]  1 of 1 completed\n"
     ]
    },
    {
     "name": "stdout",
     "output_type": "stream",
     "text": [
      "Reference Dates: (Timestamp('2020-01-10 00:00:00'), Timestamp('2025-01-09 00:00:00')) Current Date Range: 2020-01-10 00:00:00 to 2025-01-09 00:00:00 check is False\n",
      "Processed and saved data for POLYMED.\n"
     ]
    },
    {
     "name": "stderr",
     "output_type": "stream",
     "text": [
      "[*********************100%***********************]  1 of 1 completed\n"
     ]
    },
    {
     "name": "stdout",
     "output_type": "stream",
     "text": [
      "Reference Dates: (Timestamp('2020-01-10 00:00:00'), Timestamp('2025-01-09 00:00:00')) Current Date Range: 2020-01-10 00:00:00 to 2025-01-09 00:00:00 check is False\n",
      "Processed and saved data for POLYCAB.\n"
     ]
    },
    {
     "name": "stderr",
     "output_type": "stream",
     "text": [
      "[*********************100%***********************]  1 of 1 completed\n"
     ]
    },
    {
     "name": "stdout",
     "output_type": "stream",
     "text": [
      "Reference Dates: (Timestamp('2020-01-10 00:00:00'), Timestamp('2025-01-09 00:00:00')) Current Date Range: 2020-01-10 00:00:00 to 2025-01-09 00:00:00 check is False\n",
      "Processed and saved data for POONAWALLA.\n"
     ]
    },
    {
     "name": "stderr",
     "output_type": "stream",
     "text": [
      "[*********************100%***********************]  1 of 1 completed\n"
     ]
    },
    {
     "name": "stdout",
     "output_type": "stream",
     "text": [
      "Reference Dates: (Timestamp('2020-01-10 00:00:00'), Timestamp('2025-01-09 00:00:00')) Current Date Range: 2020-01-10 00:00:00 to 2025-01-09 00:00:00 check is False\n",
      "Processed and saved data for PFC.\n"
     ]
    },
    {
     "name": "stderr",
     "output_type": "stream",
     "text": [
      "[*********************100%***********************]  1 of 1 completed\n"
     ]
    },
    {
     "name": "stdout",
     "output_type": "stream",
     "text": [
      "Reference Dates: (Timestamp('2020-01-10 00:00:00'), Timestamp('2025-01-09 00:00:00')) Current Date Range: 2020-01-10 00:00:00 to 2025-01-09 00:00:00 check is False\n",
      "Processed and saved data for POWERGRID.\n"
     ]
    },
    {
     "name": "stderr",
     "output_type": "stream",
     "text": [
      "[*********************100%***********************]  1 of 1 completed\n"
     ]
    },
    {
     "name": "stdout",
     "output_type": "stream",
     "text": [
      "Reference Dates: (Timestamp('2020-01-10 00:00:00'), Timestamp('2025-01-09 00:00:00')) Current Date Range: 2020-01-10 00:00:00 to 2025-01-09 00:00:00 check is False\n",
      "Processed and saved data for PRAJIND.\n"
     ]
    },
    {
     "name": "stderr",
     "output_type": "stream",
     "text": [
      "[*********************100%***********************]  1 of 1 completed\n"
     ]
    },
    {
     "name": "stdout",
     "output_type": "stream",
     "text": [
      "Reference Dates: (Timestamp('2020-01-10 00:00:00'), Timestamp('2025-01-09 00:00:00')) Current Date Range: 2020-01-10 00:00:00 to 2025-01-09 00:00:00 check is False\n",
      "Processed and saved data for PRESTIGE.\n"
     ]
    },
    {
     "name": "stderr",
     "output_type": "stream",
     "text": [
      "[*********************100%***********************]  1 of 1 completed\n"
     ]
    },
    {
     "name": "stdout",
     "output_type": "stream",
     "text": [
      "Reference Dates: (Timestamp('2020-01-10 00:00:00'), Timestamp('2025-01-09 00:00:00')) Current Date Range: 2020-01-10 00:00:00 to 2025-01-09 00:00:00 check is False\n",
      "Processed and saved data for PGHH.\n"
     ]
    },
    {
     "name": "stderr",
     "output_type": "stream",
     "text": [
      "[*********************100%***********************]  1 of 1 completed\n",
      "[*********************100%***********************]  1 of 1 completed\n"
     ]
    },
    {
     "name": "stdout",
     "output_type": "stream",
     "text": [
      "Reference Dates: (Timestamp('2020-01-10 00:00:00'), Timestamp('2025-01-09 00:00:00')) Current Date Range: 2020-01-10 00:00:00 to 2025-01-09 00:00:00 check is False\n",
      "Processed and saved data for PNB.\n",
      "Reference Dates: (Timestamp('2020-01-10 00:00:00'), Timestamp('2025-01-09 00:00:00')) Current Date Range: 2020-01-10 00:00:00 to 2025-01-09 00:00:00 check is False\n"
     ]
    },
    {
     "name": "stderr",
     "output_type": "stream",
     "text": [
      "[*********************100%***********************]  1 of 1 completed\n"
     ]
    },
    {
     "name": "stdout",
     "output_type": "stream",
     "text": [
      "Processed and saved data for QUESS.\n",
      "Reference Dates: (Timestamp('2020-01-10 00:00:00'), Timestamp('2025-01-09 00:00:00')) Current Date Range: 2023-09-15 00:00:00 to 2025-01-09 00:00:00 check is True\n",
      "Skipping...RRKABEL\n"
     ]
    },
    {
     "name": "stderr",
     "output_type": "stream",
     "text": [
      "[*********************100%***********************]  1 of 1 completed\n"
     ]
    },
    {
     "name": "stdout",
     "output_type": "stream",
     "text": [
      "Reference Dates: (Timestamp('2020-01-10 00:00:00'), Timestamp('2025-01-09 00:00:00')) Current Date Range: 2020-01-10 00:00:00 to 2025-01-09 00:00:00 check is False\n",
      "Processed and saved data for RBLBANK.\n"
     ]
    },
    {
     "name": "stderr",
     "output_type": "stream",
     "text": [
      "[*********************100%***********************]  1 of 1 completed\n"
     ]
    },
    {
     "name": "stdout",
     "output_type": "stream",
     "text": [
      "Reference Dates: (Timestamp('2020-01-10 00:00:00'), Timestamp('2025-01-09 00:00:00')) Current Date Range: 2020-01-10 00:00:00 to 2025-01-09 00:00:00 check is False\n",
      "Processed and saved data for RECLTD.\n"
     ]
    },
    {
     "name": "stderr",
     "output_type": "stream",
     "text": [
      "[*********************100%***********************]  1 of 1 completed\n"
     ]
    },
    {
     "name": "stdout",
     "output_type": "stream",
     "text": [
      "Reference Dates: (Timestamp('2020-01-10 00:00:00'), Timestamp('2025-01-09 00:00:00')) Current Date Range: 2020-01-10 00:00:00 to 2025-01-09 00:00:00 check is False\n",
      "Processed and saved data for RHIM.\n"
     ]
    },
    {
     "name": "stderr",
     "output_type": "stream",
     "text": [
      "[*********************100%***********************]  1 of 1 completed\n"
     ]
    },
    {
     "name": "stdout",
     "output_type": "stream",
     "text": [
      "Reference Dates: (Timestamp('2020-01-10 00:00:00'), Timestamp('2025-01-09 00:00:00')) Current Date Range: 2020-01-10 00:00:00 to 2025-01-09 00:00:00 check is False\n",
      "Processed and saved data for RITES.\n"
     ]
    },
    {
     "name": "stderr",
     "output_type": "stream",
     "text": [
      "[*********************100%***********************]  1 of 1 completed\n"
     ]
    },
    {
     "name": "stdout",
     "output_type": "stream",
     "text": [
      "Reference Dates: (Timestamp('2020-01-10 00:00:00'), Timestamp('2025-01-09 00:00:00')) Current Date Range: 2020-01-10 00:00:00 to 2025-01-09 00:00:00 check is False\n",
      "Processed and saved data for RADICO.\n"
     ]
    },
    {
     "name": "stderr",
     "output_type": "stream",
     "text": [
      "[*********************100%***********************]  1 of 1 completed\n"
     ]
    },
    {
     "name": "stdout",
     "output_type": "stream",
     "text": [
      "Reference Dates: (Timestamp('2020-01-10 00:00:00'), Timestamp('2025-01-09 00:00:00')) Current Date Range: 2020-01-10 00:00:00 to 2025-01-09 00:00:00 check is False\n",
      "Processed and saved data for RVNL.\n"
     ]
    },
    {
     "name": "stderr",
     "output_type": "stream",
     "text": [
      "[*********************100%***********************]  1 of 1 completed\n",
      "[*********************100%***********************]  1 of 1 completed\n"
     ]
    },
    {
     "name": "stdout",
     "output_type": "stream",
     "text": [
      "Reference Dates: (Timestamp('2020-01-10 00:00:00'), Timestamp('2025-01-09 00:00:00')) Current Date Range: 2021-02-26 00:00:00 to 2025-01-09 00:00:00 check is True\n",
      "Processed and saved data for RAILTEL.\n",
      "Reference Dates: (Timestamp('2020-01-10 00:00:00'), Timestamp('2025-01-09 00:00:00')) Current Date Range: 2022-05-10 00:00:00 to 2025-01-09 00:00:00 check is True\n",
      "Skipping...RAINBOW\n"
     ]
    },
    {
     "name": "stderr",
     "output_type": "stream",
     "text": [
      "[*********************100%***********************]  1 of 1 completed\n"
     ]
    },
    {
     "name": "stdout",
     "output_type": "stream",
     "text": [
      "Reference Dates: (Timestamp('2020-01-10 00:00:00'), Timestamp('2025-01-09 00:00:00')) Current Date Range: 2020-01-10 00:00:00 to 2025-01-09 00:00:00 check is False\n",
      "Processed and saved data for RAJESHEXPO.\n"
     ]
    },
    {
     "name": "stderr",
     "output_type": "stream",
     "text": [
      "[*********************100%***********************]  1 of 1 completed\n"
     ]
    },
    {
     "name": "stdout",
     "output_type": "stream",
     "text": [
      "Reference Dates: (Timestamp('2020-01-10 00:00:00'), Timestamp('2025-01-09 00:00:00')) Current Date Range: 2020-01-10 00:00:00 to 2025-01-09 00:00:00 check is False\n",
      "Processed and saved data for RKFORGE.\n"
     ]
    },
    {
     "name": "stderr",
     "output_type": "stream",
     "text": [
      "[*********************100%***********************]  1 of 1 completed\n"
     ]
    },
    {
     "name": "stdout",
     "output_type": "stream",
     "text": [
      "Reference Dates: (Timestamp('2020-01-10 00:00:00'), Timestamp('2025-01-09 00:00:00')) Current Date Range: 2020-01-10 00:00:00 to 2025-01-09 00:00:00 check is False\n",
      "Processed and saved data for RCF.\n"
     ]
    },
    {
     "name": "stderr",
     "output_type": "stream",
     "text": [
      "[*********************100%***********************]  1 of 1 completed\n"
     ]
    },
    {
     "name": "stdout",
     "output_type": "stream",
     "text": [
      "Reference Dates: (Timestamp('2020-01-10 00:00:00'), Timestamp('2025-01-09 00:00:00')) Current Date Range: 2020-01-10 00:00:00 to 2025-01-09 00:00:00 check is False\n",
      "Processed and saved data for RATNAMANI.\n"
     ]
    },
    {
     "name": "stderr",
     "output_type": "stream",
     "text": [
      "[*********************100%***********************]  1 of 1 completed\n"
     ]
    },
    {
     "name": "stdout",
     "output_type": "stream",
     "text": [
      "Reference Dates: (Timestamp('2020-01-10 00:00:00'), Timestamp('2025-01-09 00:00:00')) Current Date Range: 2020-01-10 00:00:00 to 2025-01-09 00:00:00 check is False\n",
      "Processed and saved data for RTNINDIA.\n"
     ]
    },
    {
     "name": "stderr",
     "output_type": "stream",
     "text": [
      "[*********************100%***********************]  1 of 1 completed\n"
     ]
    },
    {
     "name": "stdout",
     "output_type": "stream",
     "text": [
      "Reference Dates: (Timestamp('2020-01-10 00:00:00'), Timestamp('2025-01-09 00:00:00')) Current Date Range: 2020-01-10 00:00:00 to 2025-01-09 00:00:00 check is False\n",
      "Processed and saved data for RAYMOND.\n"
     ]
    },
    {
     "name": "stderr",
     "output_type": "stream",
     "text": [
      "[*********************100%***********************]  1 of 1 completed\n"
     ]
    },
    {
     "name": "stdout",
     "output_type": "stream",
     "text": [
      "Reference Dates: (Timestamp('2020-01-10 00:00:00'), Timestamp('2025-01-09 00:00:00')) Current Date Range: 2020-01-10 00:00:00 to 2025-01-09 00:00:00 check is False\n",
      "Processed and saved data for REDINGTON.\n"
     ]
    },
    {
     "name": "stderr",
     "output_type": "stream",
     "text": [
      "[*********************100%***********************]  1 of 1 completed\n"
     ]
    },
    {
     "name": "stdout",
     "output_type": "stream",
     "text": [
      "Reference Dates: (Timestamp('2020-01-10 00:00:00'), Timestamp('2025-01-09 00:00:00')) Current Date Range: 2020-01-10 00:00:00 to 2025-01-09 00:00:00 check is False\n",
      "Processed and saved data for RELIANCE.\n"
     ]
    },
    {
     "name": "stderr",
     "output_type": "stream",
     "text": [
      "[*********************100%***********************]  1 of 1 completed\n",
      "[*********************100%***********************]  1 of 1 completed\n"
     ]
    },
    {
     "name": "stdout",
     "output_type": "stream",
     "text": [
      "Reference Dates: (Timestamp('2020-01-10 00:00:00'), Timestamp('2025-01-09 00:00:00')) Current Date Range: 2020-09-21 00:00:00 to 2025-01-09 00:00:00 check is True\n",
      "Processed and saved data for ROUTE.\n",
      "Reference Dates: (Timestamp('2020-01-10 00:00:00'), Timestamp('2025-01-09 00:00:00')) Current Date Range: 2023-08-16 00:00:00 to 2025-01-09 00:00:00 check is True\n",
      "Skipping...SBFC\n"
     ]
    },
    {
     "name": "stderr",
     "output_type": "stream",
     "text": [
      "[*********************100%***********************]  1 of 1 completed\n"
     ]
    },
    {
     "name": "stdout",
     "output_type": "stream",
     "text": [
      "Reference Dates: (Timestamp('2020-01-10 00:00:00'), Timestamp('2025-01-09 00:00:00')) Current Date Range: 2020-03-16 00:00:00 to 2025-01-09 00:00:00 check is True\n",
      "Processed and saved data for SBICARD.\n"
     ]
    },
    {
     "name": "stderr",
     "output_type": "stream",
     "text": [
      "[*********************100%***********************]  1 of 1 completed\n"
     ]
    },
    {
     "name": "stdout",
     "output_type": "stream",
     "text": [
      "Reference Dates: (Timestamp('2020-01-10 00:00:00'), Timestamp('2025-01-09 00:00:00')) Current Date Range: 2020-01-10 00:00:00 to 2025-01-09 00:00:00 check is False\n",
      "Processed and saved data for SBILIFE.\n"
     ]
    },
    {
     "name": "stderr",
     "output_type": "stream",
     "text": [
      "[*********************100%***********************]  1 of 1 completed\n"
     ]
    },
    {
     "name": "stdout",
     "output_type": "stream",
     "text": [
      "Reference Dates: (Timestamp('2020-01-10 00:00:00'), Timestamp('2025-01-09 00:00:00')) Current Date Range: 2020-01-10 00:00:00 to 2025-01-09 00:00:00 check is False\n",
      "Processed and saved data for SJVN.\n"
     ]
    },
    {
     "name": "stderr",
     "output_type": "stream",
     "text": [
      "[*********************100%***********************]  1 of 1 completed\n"
     ]
    },
    {
     "name": "stdout",
     "output_type": "stream",
     "text": [
      "Reference Dates: (Timestamp('2020-01-10 00:00:00'), Timestamp('2025-01-09 00:00:00')) Current Date Range: 2020-01-10 00:00:00 to 2025-01-09 00:00:00 check is False\n",
      "Processed and saved data for SKFINDIA.\n"
     ]
    },
    {
     "name": "stderr",
     "output_type": "stream",
     "text": [
      "[*********************100%***********************]  1 of 1 completed\n"
     ]
    },
    {
     "name": "stdout",
     "output_type": "stream",
     "text": [
      "Reference Dates: (Timestamp('2020-01-10 00:00:00'), Timestamp('2025-01-09 00:00:00')) Current Date Range: 2020-01-10 00:00:00 to 2025-01-09 00:00:00 check is False\n",
      "Processed and saved data for SRF.\n"
     ]
    },
    {
     "name": "stderr",
     "output_type": "stream",
     "text": [
      "[*********************100%***********************]  1 of 1 completed\n"
     ]
    },
    {
     "name": "stdout",
     "output_type": "stream",
     "text": [
      "Reference Dates: (Timestamp('2020-01-10 00:00:00'), Timestamp('2025-01-09 00:00:00')) Current Date Range: 2020-01-10 00:00:00 to 2025-01-09 00:00:00 check is False\n",
      "Processed and saved data for SAMMAANCAP.\n"
     ]
    },
    {
     "name": "stderr",
     "output_type": "stream",
     "text": [
      "[*********************100%***********************]  1 of 1 completed\n"
     ]
    },
    {
     "name": "stdout",
     "output_type": "stream",
     "text": [
      "Reference Dates: (Timestamp('2020-01-10 00:00:00'), Timestamp('2025-01-09 00:00:00')) Current Date Range: 2020-01-10 00:00:00 to 2025-01-09 00:00:00 check is False\n",
      "Processed and saved data for MOTHERSON.\n"
     ]
    },
    {
     "name": "stderr",
     "output_type": "stream",
     "text": [
      "[*********************100%***********************]  1 of 1 completed\n"
     ]
    },
    {
     "name": "stdout",
     "output_type": "stream",
     "text": [
      "Reference Dates: (Timestamp('2020-01-10 00:00:00'), Timestamp('2025-01-09 00:00:00')) Current Date Range: 2020-01-10 00:00:00 to 2025-01-09 00:00:00 check is False\n",
      "Processed and saved data for SANOFI.\n"
     ]
    },
    {
     "name": "stderr",
     "output_type": "stream",
     "text": [
      "[*********************100%***********************]  1 of 1 completed\n"
     ]
    },
    {
     "name": "stdout",
     "output_type": "stream",
     "text": [
      "Reference Dates: (Timestamp('2020-01-10 00:00:00'), Timestamp('2025-01-09 00:00:00')) Current Date Range: 2021-11-18 00:00:00 to 2025-01-09 00:00:00 check is True\n",
      "Processed and saved data for SAPPHIRE.\n"
     ]
    },
    {
     "name": "stderr",
     "output_type": "stream",
     "text": [
      "[*********************100%***********************]  1 of 1 completed\n"
     ]
    },
    {
     "name": "stdout",
     "output_type": "stream",
     "text": [
      "Reference Dates: (Timestamp('2020-01-10 00:00:00'), Timestamp('2025-01-09 00:00:00')) Current Date Range: 2020-01-10 00:00:00 to 2025-01-09 00:00:00 check is False\n",
      "Processed and saved data for SAREGAMA.\n"
     ]
    },
    {
     "name": "stderr",
     "output_type": "stream",
     "text": [
      "[*********************100%***********************]  1 of 1 completed\n"
     ]
    },
    {
     "name": "stdout",
     "output_type": "stream",
     "text": [
      "Reference Dates: (Timestamp('2020-01-10 00:00:00'), Timestamp('2025-01-09 00:00:00')) Current Date Range: 2020-01-10 00:00:00 to 2025-01-09 00:00:00 check is False\n",
      "Processed and saved data for SCHAEFFLER.\n"
     ]
    },
    {
     "name": "stderr",
     "output_type": "stream",
     "text": [
      "[*********************100%***********************]  1 of 1 completed\n"
     ]
    },
    {
     "name": "stdout",
     "output_type": "stream",
     "text": [
      "Reference Dates: (Timestamp('2020-01-10 00:00:00'), Timestamp('2025-01-09 00:00:00')) Current Date Range: 2020-01-10 00:00:00 to 2025-01-09 00:00:00 check is False\n",
      "Processed and saved data for SCHNEIDER.\n"
     ]
    },
    {
     "name": "stderr",
     "output_type": "stream",
     "text": [
      "[*********************100%***********************]  1 of 1 completed\n"
     ]
    },
    {
     "name": "stdout",
     "output_type": "stream",
     "text": [
      "Reference Dates: (Timestamp('2020-01-10 00:00:00'), Timestamp('2025-01-09 00:00:00')) Current Date Range: 2020-01-10 00:00:00 to 2025-01-09 00:00:00 check is False\n",
      "Processed and saved data for SCI.\n"
     ]
    },
    {
     "name": "stderr",
     "output_type": "stream",
     "text": [
      "[*********************100%***********************]  1 of 1 completed\n"
     ]
    },
    {
     "name": "stdout",
     "output_type": "stream",
     "text": [
      "Reference Dates: (Timestamp('2020-01-10 00:00:00'), Timestamp('2025-01-09 00:00:00')) Current Date Range: 2020-01-10 00:00:00 to 2025-01-09 00:00:00 check is False\n",
      "Processed and saved data for SHREECEM.\n"
     ]
    },
    {
     "name": "stderr",
     "output_type": "stream",
     "text": [
      "[*********************100%***********************]  1 of 1 completed\n"
     ]
    },
    {
     "name": "stdout",
     "output_type": "stream",
     "text": [
      "Reference Dates: (Timestamp('2020-01-10 00:00:00'), Timestamp('2025-01-09 00:00:00')) Current Date Range: 2020-01-10 00:00:00 to 2025-01-09 00:00:00 check is False\n",
      "Processed and saved data for RENUKA.\n"
     ]
    },
    {
     "name": "stderr",
     "output_type": "stream",
     "text": [
      "[*********************100%***********************]  1 of 1 completed\n"
     ]
    },
    {
     "name": "stdout",
     "output_type": "stream",
     "text": [
      "Reference Dates: (Timestamp('2020-01-10 00:00:00'), Timestamp('2025-01-09 00:00:00')) Current Date Range: 2020-01-10 00:00:00 to 2025-01-09 00:00:00 check is False\n",
      "Processed and saved data for SHRIRAMFIN.\n"
     ]
    },
    {
     "name": "stderr",
     "output_type": "stream",
     "text": [
      "[*********************100%***********************]  1 of 1 completed\n"
     ]
    },
    {
     "name": "stdout",
     "output_type": "stream",
     "text": [
      "Reference Dates: (Timestamp('2020-01-10 00:00:00'), Timestamp('2025-01-09 00:00:00')) Current Date Range: 2021-06-24 00:00:00 to 2025-01-09 00:00:00 check is True\n",
      "Processed and saved data for SHYAMMETL.\n"
     ]
    },
    {
     "name": "stderr",
     "output_type": "stream",
     "text": [
      "[*********************100%***********************]  1 of 1 completed\n",
      "[*********************100%***********************]  1 of 1 completed\n"
     ]
    },
    {
     "name": "stdout",
     "output_type": "stream",
     "text": [
      "Reference Dates: (Timestamp('2020-01-10 00:00:00'), Timestamp('2025-01-09 00:00:00')) Current Date Range: 2020-01-10 00:00:00 to 2025-01-09 00:00:00 check is False\n",
      "Processed and saved data for SIEMENS.\n",
      "Reference Dates: (Timestamp('2020-01-10 00:00:00'), Timestamp('2025-01-09 00:00:00')) Current Date Range: 2023-09-27 00:00:00 to 2025-01-09 00:00:00 check is True\n",
      "Skipping...SIGNATURE\n"
     ]
    },
    {
     "name": "stderr",
     "output_type": "stream",
     "text": [
      "[*********************100%***********************]  1 of 1 completed\n"
     ]
    },
    {
     "name": "stdout",
     "output_type": "stream",
     "text": [
      "Reference Dates: (Timestamp('2020-01-10 00:00:00'), Timestamp('2025-01-09 00:00:00')) Current Date Range: 2020-01-10 00:00:00 to 2025-01-09 00:00:00 check is False\n",
      "Processed and saved data for SOBHA.\n"
     ]
    },
    {
     "name": "stderr",
     "output_type": "stream",
     "text": [
      "[*********************100%***********************]  1 of 1 completed\n"
     ]
    },
    {
     "name": "stdout",
     "output_type": "stream",
     "text": [
      "Reference Dates: (Timestamp('2020-01-10 00:00:00'), Timestamp('2025-01-09 00:00:00')) Current Date Range: 2020-01-10 00:00:00 to 2025-01-09 00:00:00 check is False\n",
      "Processed and saved data for SOLARINDS.\n"
     ]
    },
    {
     "name": "stderr",
     "output_type": "stream",
     "text": [
      "[*********************100%***********************]  1 of 1 completed\n"
     ]
    },
    {
     "name": "stdout",
     "output_type": "stream",
     "text": [
      "Reference Dates: (Timestamp('2020-01-10 00:00:00'), Timestamp('2025-01-09 00:00:00')) Current Date Range: 2021-06-24 00:00:00 to 2025-01-09 00:00:00 check is True\n",
      "Processed and saved data for SONACOMS.\n"
     ]
    },
    {
     "name": "stderr",
     "output_type": "stream",
     "text": [
      "[*********************100%***********************]  1 of 1 completed\n"
     ]
    },
    {
     "name": "stdout",
     "output_type": "stream",
     "text": [
      "Reference Dates: (Timestamp('2020-01-10 00:00:00'), Timestamp('2025-01-09 00:00:00')) Current Date Range: 2020-01-10 00:00:00 to 2025-01-09 00:00:00 check is False\n",
      "Processed and saved data for SONATSOFTW.\n"
     ]
    },
    {
     "name": "stderr",
     "output_type": "stream",
     "text": [
      "[*********************100%***********************]  1 of 1 completed\n"
     ]
    },
    {
     "name": "stdout",
     "output_type": "stream",
     "text": [
      "Reference Dates: (Timestamp('2020-01-10 00:00:00'), Timestamp('2025-01-09 00:00:00')) Current Date Range: 2021-12-10 00:00:00 to 2025-01-09 00:00:00 check is True\n",
      "Processed and saved data for STARHEALTH.\n"
     ]
    },
    {
     "name": "stderr",
     "output_type": "stream",
     "text": [
      "[*********************100%***********************]  1 of 1 completed\n"
     ]
    },
    {
     "name": "stdout",
     "output_type": "stream",
     "text": [
      "Reference Dates: (Timestamp('2020-01-10 00:00:00'), Timestamp('2025-01-09 00:00:00')) Current Date Range: 2020-01-10 00:00:00 to 2025-01-09 00:00:00 check is False\n",
      "Processed and saved data for SBIN.\n"
     ]
    },
    {
     "name": "stderr",
     "output_type": "stream",
     "text": [
      "[*********************100%***********************]  1 of 1 completed\n"
     ]
    },
    {
     "name": "stdout",
     "output_type": "stream",
     "text": [
      "Reference Dates: (Timestamp('2020-01-10 00:00:00'), Timestamp('2025-01-09 00:00:00')) Current Date Range: 2020-01-10 00:00:00 to 2025-01-09 00:00:00 check is False\n",
      "Processed and saved data for SAIL.\n"
     ]
    },
    {
     "name": "stderr",
     "output_type": "stream",
     "text": [
      "[*********************100%***********************]  1 of 1 completed\n"
     ]
    },
    {
     "name": "stdout",
     "output_type": "stream",
     "text": [
      "Reference Dates: (Timestamp('2020-01-10 00:00:00'), Timestamp('2025-01-09 00:00:00')) Current Date Range: 2020-01-10 00:00:00 to 2025-01-09 00:00:00 check is False\n",
      "Processed and saved data for SWSOLAR.\n"
     ]
    },
    {
     "name": "stderr",
     "output_type": "stream",
     "text": [
      "[*********************100%***********************]  1 of 1 completed\n"
     ]
    },
    {
     "name": "stdout",
     "output_type": "stream",
     "text": [
      "Reference Dates: (Timestamp('2020-01-10 00:00:00'), Timestamp('2025-01-09 00:00:00')) Current Date Range: 2020-01-27 00:00:00 to 2025-01-09 00:00:00 check is True\n",
      "Processed and saved data for SUMICHEM.\n"
     ]
    },
    {
     "name": "stderr",
     "output_type": "stream",
     "text": [
      "[*********************100%***********************]  1 of 1 completed\n"
     ]
    },
    {
     "name": "stdout",
     "output_type": "stream",
     "text": [
      "Reference Dates: (Timestamp('2020-01-10 00:00:00'), Timestamp('2025-01-09 00:00:00')) Current Date Range: 2020-01-10 00:00:00 to 2025-01-09 00:00:00 check is False\n",
      "Processed and saved data for SPARC.\n"
     ]
    },
    {
     "name": "stderr",
     "output_type": "stream",
     "text": [
      "[*********************100%***********************]  1 of 1 completed\n"
     ]
    },
    {
     "name": "stdout",
     "output_type": "stream",
     "text": [
      "Reference Dates: (Timestamp('2020-01-10 00:00:00'), Timestamp('2025-01-09 00:00:00')) Current Date Range: 2020-01-10 00:00:00 to 2025-01-09 00:00:00 check is False\n",
      "Processed and saved data for SUNPHARMA.\n"
     ]
    },
    {
     "name": "stderr",
     "output_type": "stream",
     "text": [
      "[*********************100%***********************]  1 of 1 completed\n"
     ]
    },
    {
     "name": "stdout",
     "output_type": "stream",
     "text": [
      "Reference Dates: (Timestamp('2020-01-10 00:00:00'), Timestamp('2025-01-09 00:00:00')) Current Date Range: 2020-01-10 00:00:00 to 2025-01-09 00:00:00 check is False\n",
      "Processed and saved data for SUNTV.\n"
     ]
    },
    {
     "name": "stderr",
     "output_type": "stream",
     "text": [
      "[*********************100%***********************]  1 of 1 completed\n"
     ]
    },
    {
     "name": "stdout",
     "output_type": "stream",
     "text": [
      "Reference Dates: (Timestamp('2020-01-10 00:00:00'), Timestamp('2025-01-09 00:00:00')) Current Date Range: 2020-01-10 00:00:00 to 2025-01-09 00:00:00 check is False\n",
      "Processed and saved data for SUNDARMFIN.\n"
     ]
    },
    {
     "name": "stderr",
     "output_type": "stream",
     "text": [
      "[*********************100%***********************]  1 of 1 completed\n"
     ]
    },
    {
     "name": "stdout",
     "output_type": "stream",
     "text": [
      "Reference Dates: (Timestamp('2020-01-10 00:00:00'), Timestamp('2025-01-09 00:00:00')) Current Date Range: 2020-01-10 00:00:00 to 2025-01-09 00:00:00 check is False\n",
      "Processed and saved data for SUNDRMFAST.\n"
     ]
    },
    {
     "name": "stderr",
     "output_type": "stream",
     "text": [
      "[*********************100%***********************]  1 of 1 completed\n"
     ]
    },
    {
     "name": "stdout",
     "output_type": "stream",
     "text": [
      "Reference Dates: (Timestamp('2020-01-10 00:00:00'), Timestamp('2025-01-09 00:00:00')) Current Date Range: 2020-01-10 00:00:00 to 2025-01-09 00:00:00 check is False\n",
      "Processed and saved data for SUPREMEIND.\n"
     ]
    },
    {
     "name": "stderr",
     "output_type": "stream",
     "text": [
      "[*********************100%***********************]  1 of 1 completed\n"
     ]
    },
    {
     "name": "stdout",
     "output_type": "stream",
     "text": [
      "Reference Dates: (Timestamp('2020-01-10 00:00:00'), Timestamp('2025-01-09 00:00:00')) Current Date Range: 2020-03-09 00:00:00 to 2025-01-09 00:00:00 check is True\n",
      "Processed and saved data for SUVENPHAR.\n"
     ]
    },
    {
     "name": "stderr",
     "output_type": "stream",
     "text": [
      "[*********************100%***********************]  1 of 1 completed\n"
     ]
    },
    {
     "name": "stdout",
     "output_type": "stream",
     "text": [
      "Reference Dates: (Timestamp('2020-01-10 00:00:00'), Timestamp('2025-01-09 00:00:00')) Current Date Range: 2020-01-10 00:00:00 to 2025-01-09 00:00:00 check is False\n",
      "Processed and saved data for SUZLON.\n"
     ]
    },
    {
     "name": "stderr",
     "output_type": "stream",
     "text": [
      "[*********************100%***********************]  1 of 1 completed\n"
     ]
    },
    {
     "name": "stdout",
     "output_type": "stream",
     "text": [
      "Reference Dates: (Timestamp('2020-01-10 00:00:00'), Timestamp('2025-01-09 00:00:00')) Current Date Range: 2020-01-10 00:00:00 to 2025-01-09 00:00:00 check is False\n",
      "Processed and saved data for SWANENERGY.\n"
     ]
    },
    {
     "name": "stderr",
     "output_type": "stream",
     "text": [
      "[*********************100%***********************]  1 of 1 completed\n"
     ]
    },
    {
     "name": "stdout",
     "output_type": "stream",
     "text": [
      "Reference Dates: (Timestamp('2020-01-10 00:00:00'), Timestamp('2025-01-09 00:00:00')) Current Date Range: 2020-01-10 00:00:00 to 2025-01-09 00:00:00 check is False\n",
      "Processed and saved data for SYNGENE.\n"
     ]
    },
    {
     "name": "stderr",
     "output_type": "stream",
     "text": [
      "[*********************100%***********************]  1 of 1 completed\n",
      "[*********************100%***********************]  1 of 1 completed\n"
     ]
    },
    {
     "name": "stdout",
     "output_type": "stream",
     "text": [
      "Reference Dates: (Timestamp('2020-01-10 00:00:00'), Timestamp('2025-01-09 00:00:00')) Current Date Range: 2022-08-26 00:00:00 to 2025-01-09 00:00:00 check is True\n",
      "Skipping...SYRMA\n",
      "Reference Dates: (Timestamp('2020-01-10 00:00:00'), Timestamp('2025-01-09 00:00:00')) Current Date Range: 2024-05-15 00:00:00 to 2025-01-09 00:00:00 check is True\n",
      "Skipping...TBOTEK\n"
     ]
    },
    {
     "name": "stderr",
     "output_type": "stream",
     "text": [
      "[*********************100%***********************]  1 of 1 completed\n"
     ]
    },
    {
     "name": "stdout",
     "output_type": "stream",
     "text": [
      "Reference Dates: (Timestamp('2020-01-10 00:00:00'), Timestamp('2025-01-09 00:00:00')) Current Date Range: 2020-01-10 00:00:00 to 2025-01-09 00:00:00 check is False\n",
      "Processed and saved data for TVSMOTOR.\n"
     ]
    },
    {
     "name": "stderr",
     "output_type": "stream",
     "text": [
      "[*********************100%***********************]  1 of 1 completed\n"
     ]
    },
    {
     "name": "stdout",
     "output_type": "stream",
     "text": [
      "Reference Dates: (Timestamp('2020-01-10 00:00:00'), Timestamp('2025-01-09 00:00:00')) Current Date Range: 2023-08-23 00:00:00 to 2025-01-09 00:00:00 check is True\n",
      "Skipping...TVSSCS\n"
     ]
    },
    {
     "name": "stderr",
     "output_type": "stream",
     "text": [
      "[*********************100%***********************]  1 of 1 completed\n"
     ]
    },
    {
     "name": "stdout",
     "output_type": "stream",
     "text": [
      "Reference Dates: (Timestamp('2020-01-10 00:00:00'), Timestamp('2025-01-09 00:00:00')) Current Date Range: 2020-01-10 00:00:00 to 2025-01-09 00:00:00 check is False\n",
      "Processed and saved data for TANLA.\n"
     ]
    },
    {
     "name": "stderr",
     "output_type": "stream",
     "text": [
      "[*********************100%***********************]  1 of 1 completed\n"
     ]
    },
    {
     "name": "stdout",
     "output_type": "stream",
     "text": [
      "Reference Dates: (Timestamp('2020-01-10 00:00:00'), Timestamp('2025-01-09 00:00:00')) Current Date Range: 2020-01-10 00:00:00 to 2025-01-09 00:00:00 check is False\n",
      "Processed and saved data for TATACHEM.\n"
     ]
    },
    {
     "name": "stderr",
     "output_type": "stream",
     "text": [
      "[*********************100%***********************]  1 of 1 completed\n"
     ]
    },
    {
     "name": "stdout",
     "output_type": "stream",
     "text": [
      "Reference Dates: (Timestamp('2020-01-10 00:00:00'), Timestamp('2025-01-09 00:00:00')) Current Date Range: 2020-01-10 00:00:00 to 2025-01-09 00:00:00 check is False\n",
      "Processed and saved data for TATACOMM.\n"
     ]
    },
    {
     "name": "stderr",
     "output_type": "stream",
     "text": [
      "[*********************100%***********************]  1 of 1 completed\n"
     ]
    },
    {
     "name": "stdout",
     "output_type": "stream",
     "text": [
      "Reference Dates: (Timestamp('2020-01-10 00:00:00'), Timestamp('2025-01-09 00:00:00')) Current Date Range: 2020-01-10 00:00:00 to 2025-01-09 00:00:00 check is False\n",
      "Processed and saved data for TCS.\n"
     ]
    },
    {
     "name": "stderr",
     "output_type": "stream",
     "text": [
      "[*********************100%***********************]  1 of 1 completed\n"
     ]
    },
    {
     "name": "stdout",
     "output_type": "stream",
     "text": [
      "Reference Dates: (Timestamp('2020-01-10 00:00:00'), Timestamp('2025-01-09 00:00:00')) Current Date Range: 2020-01-10 00:00:00 to 2025-01-09 00:00:00 check is False\n",
      "Processed and saved data for TATACONSUM.\n"
     ]
    },
    {
     "name": "stderr",
     "output_type": "stream",
     "text": [
      "[*********************100%***********************]  1 of 1 completed\n"
     ]
    },
    {
     "name": "stdout",
     "output_type": "stream",
     "text": [
      "Reference Dates: (Timestamp('2020-01-10 00:00:00'), Timestamp('2025-01-09 00:00:00')) Current Date Range: 2020-01-10 00:00:00 to 2025-01-09 00:00:00 check is False\n",
      "Processed and saved data for TATAELXSI.\n"
     ]
    },
    {
     "name": "stderr",
     "output_type": "stream",
     "text": [
      "[*********************100%***********************]  1 of 1 completed\n"
     ]
    },
    {
     "name": "stdout",
     "output_type": "stream",
     "text": [
      "Reference Dates: (Timestamp('2020-01-10 00:00:00'), Timestamp('2025-01-09 00:00:00')) Current Date Range: 2020-01-10 00:00:00 to 2025-01-09 00:00:00 check is False\n",
      "Processed and saved data for TATAINVEST.\n"
     ]
    },
    {
     "name": "stderr",
     "output_type": "stream",
     "text": [
      "[*********************100%***********************]  1 of 1 completed\n"
     ]
    },
    {
     "name": "stdout",
     "output_type": "stream",
     "text": [
      "Reference Dates: (Timestamp('2020-01-10 00:00:00'), Timestamp('2025-01-09 00:00:00')) Current Date Range: 2020-01-10 00:00:00 to 2025-01-09 00:00:00 check is False\n",
      "Processed and saved data for TATAMOTORS.\n"
     ]
    },
    {
     "name": "stderr",
     "output_type": "stream",
     "text": [
      "[*********************100%***********************]  1 of 1 completed\n"
     ]
    },
    {
     "name": "stdout",
     "output_type": "stream",
     "text": [
      "Reference Dates: (Timestamp('2020-01-10 00:00:00'), Timestamp('2025-01-09 00:00:00')) Current Date Range: 2020-01-10 00:00:00 to 2025-01-09 00:00:00 check is False\n",
      "Processed and saved data for TATAPOWER.\n"
     ]
    },
    {
     "name": "stderr",
     "output_type": "stream",
     "text": [
      "[*********************100%***********************]  1 of 1 completed\n",
      "[*********************100%***********************]  1 of 1 completed\n"
     ]
    },
    {
     "name": "stdout",
     "output_type": "stream",
     "text": [
      "Reference Dates: (Timestamp('2020-01-10 00:00:00'), Timestamp('2025-01-09 00:00:00')) Current Date Range: 2020-01-10 00:00:00 to 2025-01-09 00:00:00 check is False\n",
      "Processed and saved data for TATASTEEL.\n",
      "Reference Dates: (Timestamp('2020-01-10 00:00:00'), Timestamp('2025-01-09 00:00:00')) Current Date Range: 2023-11-30 00:00:00 to 2025-01-09 00:00:00 check is True\n",
      "Skipping...TATATECH\n"
     ]
    },
    {
     "name": "stderr",
     "output_type": "stream",
     "text": [
      "[*********************100%***********************]  1 of 1 completed\n"
     ]
    },
    {
     "name": "stdout",
     "output_type": "stream",
     "text": [
      "Reference Dates: (Timestamp('2020-01-10 00:00:00'), Timestamp('2025-01-09 00:00:00')) Current Date Range: 2020-01-10 00:00:00 to 2025-01-09 00:00:00 check is False\n",
      "Processed and saved data for TTML.\n"
     ]
    },
    {
     "name": "stderr",
     "output_type": "stream",
     "text": [
      "[*********************100%***********************]  1 of 1 completed\n"
     ]
    },
    {
     "name": "stdout",
     "output_type": "stream",
     "text": [
      "Reference Dates: (Timestamp('2020-01-10 00:00:00'), Timestamp('2025-01-09 00:00:00')) Current Date Range: 2020-01-10 00:00:00 to 2025-01-09 00:00:00 check is False\n",
      "Processed and saved data for TECHM.\n"
     ]
    },
    {
     "name": "stderr",
     "output_type": "stream",
     "text": [
      "[*********************100%***********************]  1 of 1 completed\n",
      "[*********************100%***********************]  1 of 1 completed\n"
     ]
    },
    {
     "name": "stdout",
     "output_type": "stream",
     "text": [
      "Reference Dates: (Timestamp('2020-01-10 00:00:00'), Timestamp('2025-01-09 00:00:00')) Current Date Range: 2020-01-10 00:00:00 to 2025-01-09 00:00:00 check is False\n",
      "Processed and saved data for TECHNOE.\n",
      "Reference Dates: (Timestamp('2020-01-10 00:00:00'), Timestamp('2025-01-09 00:00:00')) Current Date Range: 2020-01-10 00:00:00 to 2025-01-09 00:00:00 check is False\n"
     ]
    },
    {
     "name": "stderr",
     "output_type": "stream",
     "text": [
      "[*********************100%***********************]  1 of 1 completed"
     ]
    },
    {
     "name": "stdout",
     "output_type": "stream",
     "text": [
      "Processed and saved data for TEJASNET.\n",
      "Reference Dates: (Timestamp('2020-01-10 00:00:00'), Timestamp('2025-01-09 00:00:00')) Current Date Range: 2020-01-10 00:00:00 to 2025-01-09 00:00:00 check is False\n"
     ]
    },
    {
     "name": "stderr",
     "output_type": "stream",
     "text": [
      "\n"
     ]
    },
    {
     "name": "stdout",
     "output_type": "stream",
     "text": [
      "Processed and saved data for NIACL.\n"
     ]
    },
    {
     "name": "stderr",
     "output_type": "stream",
     "text": [
      "[*********************100%***********************]  1 of 1 completed\n"
     ]
    },
    {
     "name": "stdout",
     "output_type": "stream",
     "text": [
      "Reference Dates: (Timestamp('2020-01-10 00:00:00'), Timestamp('2025-01-09 00:00:00')) Current Date Range: 2020-01-10 00:00:00 to 2025-01-09 00:00:00 check is False\n",
      "Processed and saved data for RAMCOCEM.\n"
     ]
    },
    {
     "name": "stderr",
     "output_type": "stream",
     "text": [
      "[*********************100%***********************]  1 of 1 completed\n"
     ]
    },
    {
     "name": "stdout",
     "output_type": "stream",
     "text": [
      "Reference Dates: (Timestamp('2020-01-10 00:00:00'), Timestamp('2025-01-09 00:00:00')) Current Date Range: 2020-01-10 00:00:00 to 2025-01-09 00:00:00 check is False\n",
      "Processed and saved data for THERMAX.\n"
     ]
    },
    {
     "name": "stderr",
     "output_type": "stream",
     "text": [
      "[*********************100%***********************]  1 of 1 completed\n"
     ]
    },
    {
     "name": "stdout",
     "output_type": "stream",
     "text": [
      "Reference Dates: (Timestamp('2020-01-10 00:00:00'), Timestamp('2025-01-09 00:00:00')) Current Date Range: 2020-01-10 00:00:00 to 2025-01-09 00:00:00 check is False\n",
      "Processed and saved data for TIMKEN.\n"
     ]
    },
    {
     "name": "stderr",
     "output_type": "stream",
     "text": [
      "[*********************100%***********************]  1 of 1 completed\n"
     ]
    },
    {
     "name": "stdout",
     "output_type": "stream",
     "text": [
      "Reference Dates: (Timestamp('2020-01-10 00:00:00'), Timestamp('2025-01-09 00:00:00')) Current Date Range: 2020-01-10 00:00:00 to 2025-01-09 00:00:00 check is False\n",
      "Processed and saved data for TITAGARH.\n"
     ]
    },
    {
     "name": "stderr",
     "output_type": "stream",
     "text": [
      "[*********************100%***********************]  1 of 1 completed\n"
     ]
    },
    {
     "name": "stdout",
     "output_type": "stream",
     "text": [
      "Reference Dates: (Timestamp('2020-01-10 00:00:00'), Timestamp('2025-01-09 00:00:00')) Current Date Range: 2020-01-10 00:00:00 to 2025-01-09 00:00:00 check is False\n",
      "Processed and saved data for TITAN.\n"
     ]
    },
    {
     "name": "stderr",
     "output_type": "stream",
     "text": [
      "[*********************100%***********************]  1 of 1 completed\n"
     ]
    },
    {
     "name": "stdout",
     "output_type": "stream",
     "text": [
      "Reference Dates: (Timestamp('2020-01-10 00:00:00'), Timestamp('2025-01-09 00:00:00')) Current Date Range: 2020-01-10 00:00:00 to 2025-01-09 00:00:00 check is False\n",
      "Processed and saved data for TORNTPHARM.\n"
     ]
    },
    {
     "name": "stderr",
     "output_type": "stream",
     "text": [
      "[*********************100%***********************]  1 of 1 completed\n"
     ]
    },
    {
     "name": "stdout",
     "output_type": "stream",
     "text": [
      "Reference Dates: (Timestamp('2020-01-10 00:00:00'), Timestamp('2025-01-09 00:00:00')) Current Date Range: 2020-01-10 00:00:00 to 2025-01-09 00:00:00 check is False\n",
      "Processed and saved data for TORNTPOWER.\n"
     ]
    },
    {
     "name": "stderr",
     "output_type": "stream",
     "text": [
      "[*********************100%***********************]  1 of 1 completed\n",
      "[*********************100%***********************]  1 of 1 completed\n"
     ]
    },
    {
     "name": "stdout",
     "output_type": "stream",
     "text": [
      "Reference Dates: (Timestamp('2020-01-10 00:00:00'), Timestamp('2025-01-09 00:00:00')) Current Date Range: 2020-01-10 00:00:00 to 2025-01-09 00:00:00 check is False\n",
      "Processed and saved data for TRENT.\n",
      "Reference Dates: (Timestamp('2020-01-10 00:00:00'), Timestamp('2025-01-09 00:00:00')) Current Date Range: 2020-01-10 00:00:00 to 2025-01-09 00:00:00 check is False\n",
      "Processed and saved data for TRIDENT.\n"
     ]
    },
    {
     "name": "stderr",
     "output_type": "stream",
     "text": [
      "[*********************100%***********************]  1 of 1 completed\n"
     ]
    },
    {
     "name": "stdout",
     "output_type": "stream",
     "text": [
      "Reference Dates: (Timestamp('2020-01-10 00:00:00'), Timestamp('2025-01-09 00:00:00')) Current Date Range: 2020-01-10 00:00:00 to 2025-01-09 00:00:00 check is False\n",
      "Processed and saved data for TRIVENI.\n"
     ]
    },
    {
     "name": "stderr",
     "output_type": "stream",
     "text": [
      "[*********************100%***********************]  1 of 1 completed\n"
     ]
    },
    {
     "name": "stdout",
     "output_type": "stream",
     "text": [
      "Reference Dates: (Timestamp('2020-01-10 00:00:00'), Timestamp('2025-01-09 00:00:00')) Current Date Range: 2020-01-10 00:00:00 to 2025-01-09 00:00:00 check is False\n",
      "Processed and saved data for TRITURBINE.\n"
     ]
    },
    {
     "name": "stderr",
     "output_type": "stream",
     "text": [
      "[*********************100%***********************]  1 of 1 completed\n"
     ]
    },
    {
     "name": "stdout",
     "output_type": "stream",
     "text": [
      "Reference Dates: (Timestamp('2020-01-10 00:00:00'), Timestamp('2025-01-09 00:00:00')) Current Date Range: 2020-01-10 00:00:00 to 2025-01-09 00:00:00 check is False\n",
      "Processed and saved data for TIINDIA.\n"
     ]
    },
    {
     "name": "stderr",
     "output_type": "stream",
     "text": [
      "[*********************100%***********************]  1 of 1 completed\n"
     ]
    },
    {
     "name": "stdout",
     "output_type": "stream",
     "text": [
      "Reference Dates: (Timestamp('2020-01-10 00:00:00'), Timestamp('2025-01-09 00:00:00')) Current Date Range: 2020-01-10 00:00:00 to 2025-01-09 00:00:00 check is False\n",
      "Processed and saved data for UCOBANK.\n"
     ]
    },
    {
     "name": "stderr",
     "output_type": "stream",
     "text": [
      "[*********************100%***********************]  1 of 1 completed\n",
      "[*********************100%***********************]  1 of 1 completed\n"
     ]
    },
    {
     "name": "stdout",
     "output_type": "stream",
     "text": [
      "Reference Dates: (Timestamp('2020-01-10 00:00:00'), Timestamp('2025-01-09 00:00:00')) Current Date Range: 2020-01-10 00:00:00 to 2025-01-09 00:00:00 check is False\n",
      "Processed and saved data for UNOMINDA.\n",
      "Reference Dates: (Timestamp('2020-01-10 00:00:00'), Timestamp('2025-01-09 00:00:00')) Current Date Range: 2020-01-10 00:00:00 to 2025-01-09 00:00:00 check is False\n",
      "Processed and saved data for UPL.\n"
     ]
    },
    {
     "name": "stderr",
     "output_type": "stream",
     "text": [
      "[*********************100%***********************]  1 of 1 completed\n"
     ]
    },
    {
     "name": "stdout",
     "output_type": "stream",
     "text": [
      "Reference Dates: (Timestamp('2020-01-10 00:00:00'), Timestamp('2025-01-09 00:00:00')) Current Date Range: 2020-10-13 00:00:00 to 2025-01-09 00:00:00 check is True\n",
      "Processed and saved data for UTIAMC.\n"
     ]
    },
    {
     "name": "stderr",
     "output_type": "stream",
     "text": [
      "[*********************100%***********************]  1 of 1 completed\n"
     ]
    },
    {
     "name": "stdout",
     "output_type": "stream",
     "text": [
      "Reference Dates: (Timestamp('2020-01-10 00:00:00'), Timestamp('2025-01-09 00:00:00')) Current Date Range: 2020-01-10 00:00:00 to 2025-01-09 00:00:00 check is False\n",
      "Processed and saved data for UJJIVANSFB.\n"
     ]
    },
    {
     "name": "stderr",
     "output_type": "stream",
     "text": [
      "[*********************100%***********************]  1 of 1 completed\n"
     ]
    },
    {
     "name": "stdout",
     "output_type": "stream",
     "text": [
      "Reference Dates: (Timestamp('2020-01-10 00:00:00'), Timestamp('2025-01-09 00:00:00')) Current Date Range: 2020-01-10 00:00:00 to 2025-01-09 00:00:00 check is False\n",
      "Processed and saved data for ULTRACEMCO.\n"
     ]
    },
    {
     "name": "stderr",
     "output_type": "stream",
     "text": [
      "[*********************100%***********************]  1 of 1 completed\n"
     ]
    },
    {
     "name": "stdout",
     "output_type": "stream",
     "text": [
      "Reference Dates: (Timestamp('2020-01-10 00:00:00'), Timestamp('2025-01-09 00:00:00')) Current Date Range: 2020-01-10 00:00:00 to 2025-01-09 00:00:00 check is False\n",
      "Processed and saved data for UNIONBANK.\n"
     ]
    },
    {
     "name": "stderr",
     "output_type": "stream",
     "text": [
      "[*********************100%***********************]  1 of 1 completed\n",
      "[*********************100%***********************]  1 of 1 completed\n"
     ]
    },
    {
     "name": "stdout",
     "output_type": "stream",
     "text": [
      "Reference Dates: (Timestamp('2020-01-10 00:00:00'), Timestamp('2025-01-09 00:00:00')) Current Date Range: 2020-01-10 00:00:00 to 2025-01-09 00:00:00 check is False\n",
      "Processed and saved data for UBL.\n",
      "Reference Dates: (Timestamp('2020-01-10 00:00:00'), Timestamp('2025-01-09 00:00:00')) Current Date Range: 2024-05-30 00:00:00 to 2025-01-09 00:00:00 check is True\n",
      "Skipping...UNITDSPR\n"
     ]
    },
    {
     "name": "stderr",
     "output_type": "stream",
     "text": [
      "[*********************100%***********************]  1 of 1 completed\n"
     ]
    },
    {
     "name": "stdout",
     "output_type": "stream",
     "text": [
      "Reference Dates: (Timestamp('2020-01-10 00:00:00'), Timestamp('2025-01-09 00:00:00')) Current Date Range: 2020-01-10 00:00:00 to 2025-01-09 00:00:00 check is False\n",
      "Processed and saved data for USHAMART.\n"
     ]
    },
    {
     "name": "stderr",
     "output_type": "stream",
     "text": [
      "[*********************100%***********************]  1 of 1 completed\n",
      "[*********************100%***********************]  1 of 1 completed\n"
     ]
    },
    {
     "name": "stdout",
     "output_type": "stream",
     "text": [
      "Reference Dates: (Timestamp('2020-01-10 00:00:00'), Timestamp('2025-01-09 00:00:00')) Current Date Range: 2020-01-10 00:00:00 to 2025-01-09 00:00:00 check is False\n",
      "Processed and saved data for VGUARD.\n",
      "Reference Dates: (Timestamp('2020-01-10 00:00:00'), Timestamp('2025-01-09 00:00:00')) Current Date Range: 2020-01-10 00:00:00 to 2025-01-09 00:00:00 check is False\n"
     ]
    },
    {
     "name": "stderr",
     "output_type": "stream",
     "text": [
      "[*********************100%***********************]  1 of 1 completed\n"
     ]
    },
    {
     "name": "stdout",
     "output_type": "stream",
     "text": [
      "Processed and saved data for VIPIND.\n",
      "Reference Dates: (Timestamp('2020-01-10 00:00:00'), Timestamp('2025-01-09 00:00:00')) Current Date Range: 2020-01-10 00:00:00 to 2025-01-09 00:00:00 check is False\n",
      "Processed and saved data for DBREALTY.\n"
     ]
    },
    {
     "name": "stderr",
     "output_type": "stream",
     "text": [
      "[*********************100%***********************]  1 of 1 completed\n"
     ]
    },
    {
     "name": "stdout",
     "output_type": "stream",
     "text": [
      "Reference Dates: (Timestamp('2020-01-10 00:00:00'), Timestamp('2025-01-09 00:00:00')) Current Date Range: 2020-01-10 00:00:00 to 2025-01-09 00:00:00 check is False\n",
      "Processed and saved data for VTL.\n"
     ]
    },
    {
     "name": "stderr",
     "output_type": "stream",
     "text": [
      "[*********************100%***********************]  1 of 1 completed\n"
     ]
    },
    {
     "name": "stdout",
     "output_type": "stream",
     "text": [
      "Reference Dates: (Timestamp('2020-01-10 00:00:00'), Timestamp('2025-01-09 00:00:00')) Current Date Range: 2020-01-10 00:00:00 to 2025-01-09 00:00:00 check is False\n",
      "Processed and saved data for VARROC.\n"
     ]
    },
    {
     "name": "stderr",
     "output_type": "stream",
     "text": [
      "[*********************100%***********************]  1 of 1 completed\n"
     ]
    },
    {
     "name": "stdout",
     "output_type": "stream",
     "text": [
      "Reference Dates: (Timestamp('2020-01-10 00:00:00'), Timestamp('2025-01-09 00:00:00')) Current Date Range: 2020-01-10 00:00:00 to 2025-01-09 00:00:00 check is False\n",
      "Processed and saved data for VBL.\n"
     ]
    },
    {
     "name": "stderr",
     "output_type": "stream",
     "text": [
      "[*********************100%***********************]  1 of 1 completed\n"
     ]
    },
    {
     "name": "stdout",
     "output_type": "stream",
     "text": [
      "Reference Dates: (Timestamp('2020-01-10 00:00:00'), Timestamp('2025-01-09 00:00:00')) Current Date Range: 2022-02-16 00:00:00 to 2025-01-09 00:00:00 check is True\n",
      "Skipping...MANYAVAR\n"
     ]
    },
    {
     "name": "stderr",
     "output_type": "stream",
     "text": [
      "[*********************100%***********************]  1 of 1 completed\n"
     ]
    },
    {
     "name": "stdout",
     "output_type": "stream",
     "text": [
      "Reference Dates: (Timestamp('2020-01-10 00:00:00'), Timestamp('2025-01-09 00:00:00')) Current Date Range: 2020-01-10 00:00:00 to 2025-01-09 00:00:00 check is False\n",
      "Processed and saved data for VEDL.\n"
     ]
    },
    {
     "name": "stderr",
     "output_type": "stream",
     "text": [
      "[*********************100%***********************]  1 of 1 completed\n"
     ]
    },
    {
     "name": "stdout",
     "output_type": "stream",
     "text": [
      "Reference Dates: (Timestamp('2020-01-10 00:00:00'), Timestamp('2025-01-09 00:00:00')) Current Date Range: 2021-09-14 00:00:00 to 2025-01-09 00:00:00 check is True\n",
      "Processed and saved data for VIJAYA.\n"
     ]
    },
    {
     "name": "stderr",
     "output_type": "stream",
     "text": [
      "[*********************100%***********************]  1 of 1 completed\n"
     ]
    },
    {
     "name": "stdout",
     "output_type": "stream",
     "text": [
      "Reference Dates: (Timestamp('2020-01-10 00:00:00'), Timestamp('2025-01-09 00:00:00')) Current Date Range: 2020-01-10 00:00:00 to 2025-01-09 00:00:00 check is False\n",
      "Processed and saved data for VINATIORGA.\n"
     ]
    },
    {
     "name": "stderr",
     "output_type": "stream",
     "text": [
      "[*********************100%***********************]  1 of 1 completed\n"
     ]
    },
    {
     "name": "stdout",
     "output_type": "stream",
     "text": [
      "Reference Dates: (Timestamp('2020-01-10 00:00:00'), Timestamp('2025-01-09 00:00:00')) Current Date Range: 2020-01-10 00:00:00 to 2025-01-09 00:00:00 check is False\n",
      "Processed and saved data for IDEA.\n"
     ]
    },
    {
     "name": "stderr",
     "output_type": "stream",
     "text": [
      "[*********************100%***********************]  1 of 1 completed\n"
     ]
    },
    {
     "name": "stdout",
     "output_type": "stream",
     "text": [
      "Reference Dates: (Timestamp('2020-01-10 00:00:00'), Timestamp('2025-01-09 00:00:00')) Current Date Range: 2020-01-10 00:00:00 to 2025-01-09 00:00:00 check is False\n",
      "Processed and saved data for VOLTAS.\n"
     ]
    },
    {
     "name": "stderr",
     "output_type": "stream",
     "text": [
      "[*********************100%***********************]  1 of 1 completed\n"
     ]
    },
    {
     "name": "stdout",
     "output_type": "stream",
     "text": [
      "Reference Dates: (Timestamp('2020-01-10 00:00:00'), Timestamp('2025-01-09 00:00:00')) Current Date Range: 2020-01-10 00:00:00 to 2025-01-09 00:00:00 check is False\n",
      "Processed and saved data for WELCORP.\n"
     ]
    },
    {
     "name": "stderr",
     "output_type": "stream",
     "text": [
      "[*********************100%***********************]  1 of 1 completed\n"
     ]
    },
    {
     "name": "stdout",
     "output_type": "stream",
     "text": [
      "Reference Dates: (Timestamp('2020-01-10 00:00:00'), Timestamp('2025-01-09 00:00:00')) Current Date Range: 2020-01-10 00:00:00 to 2025-01-09 00:00:00 check is False\n",
      "Processed and saved data for WELSPUNLIV.\n"
     ]
    },
    {
     "name": "stderr",
     "output_type": "stream",
     "text": [
      "[*********************100%***********************]  1 of 1 completed\n"
     ]
    },
    {
     "name": "stdout",
     "output_type": "stream",
     "text": [
      "Reference Dates: (Timestamp('2020-01-10 00:00:00'), Timestamp('2025-01-09 00:00:00')) Current Date Range: 2020-01-10 00:00:00 to 2025-01-09 00:00:00 check is False\n",
      "Processed and saved data for WESTLIFE.\n"
     ]
    },
    {
     "name": "stderr",
     "output_type": "stream",
     "text": [
      "[*********************100%***********************]  1 of 1 completed\n"
     ]
    },
    {
     "name": "stdout",
     "output_type": "stream",
     "text": [
      "Reference Dates: (Timestamp('2020-01-10 00:00:00'), Timestamp('2025-01-09 00:00:00')) Current Date Range: 2020-01-10 00:00:00 to 2025-01-09 00:00:00 check is False\n",
      "Processed and saved data for WHIRLPOOL.\n"
     ]
    },
    {
     "name": "stderr",
     "output_type": "stream",
     "text": [
      "[*********************100%***********************]  1 of 1 completed\n"
     ]
    },
    {
     "name": "stdout",
     "output_type": "stream",
     "text": [
      "Reference Dates: (Timestamp('2020-01-10 00:00:00'), Timestamp('2025-01-09 00:00:00')) Current Date Range: 2020-01-10 00:00:00 to 2025-01-09 00:00:00 check is False\n",
      "Processed and saved data for WIPRO.\n"
     ]
    },
    {
     "name": "stderr",
     "output_type": "stream",
     "text": [
      "[*********************100%***********************]  1 of 1 completed\n"
     ]
    },
    {
     "name": "stdout",
     "output_type": "stream",
     "text": [
      "Reference Dates: (Timestamp('2020-01-10 00:00:00'), Timestamp('2025-01-09 00:00:00')) Current Date Range: 2020-01-10 00:00:00 to 2025-01-09 00:00:00 check is False\n",
      "Processed and saved data for YESBANK.\n"
     ]
    },
    {
     "name": "stderr",
     "output_type": "stream",
     "text": [
      "[*********************100%***********************]  1 of 1 completed\n"
     ]
    },
    {
     "name": "stdout",
     "output_type": "stream",
     "text": [
      "Reference Dates: (Timestamp('2020-01-10 00:00:00'), Timestamp('2025-01-09 00:00:00')) Current Date Range: 2020-01-10 00:00:00 to 2025-01-09 00:00:00 check is False\n",
      "Processed and saved data for ZFCVINDIA.\n"
     ]
    },
    {
     "name": "stderr",
     "output_type": "stream",
     "text": [
      "[*********************100%***********************]  1 of 1 completed\n"
     ]
    },
    {
     "name": "stdout",
     "output_type": "stream",
     "text": [
      "Reference Dates: (Timestamp('2020-01-10 00:00:00'), Timestamp('2025-01-09 00:00:00')) Current Date Range: 2020-01-10 00:00:00 to 2025-01-09 00:00:00 check is False\n",
      "Processed and saved data for ZEEL.\n"
     ]
    },
    {
     "name": "stderr",
     "output_type": "stream",
     "text": [
      "[*********************100%***********************]  1 of 1 completed\n"
     ]
    },
    {
     "name": "stdout",
     "output_type": "stream",
     "text": [
      "Reference Dates: (Timestamp('2020-01-10 00:00:00'), Timestamp('2025-01-09 00:00:00')) Current Date Range: 2020-01-10 00:00:00 to 2025-01-09 00:00:00 check is False\n",
      "Processed and saved data for ZENSARTECH.\n"
     ]
    },
    {
     "name": "stderr",
     "output_type": "stream",
     "text": [
      "[*********************100%***********************]  1 of 1 completed\n"
     ]
    },
    {
     "name": "stdout",
     "output_type": "stream",
     "text": [
      "Reference Dates: (Timestamp('2020-01-10 00:00:00'), Timestamp('2025-01-09 00:00:00')) Current Date Range: 2021-07-23 00:00:00 to 2025-01-09 00:00:00 check is True\n",
      "Processed and saved data for ZOMATO.\n"
     ]
    },
    {
     "name": "stderr",
     "output_type": "stream",
     "text": [
      "[*********************100%***********************]  1 of 1 completed\n"
     ]
    },
    {
     "name": "stdout",
     "output_type": "stream",
     "text": [
      "Reference Dates: (Timestamp('2020-01-10 00:00:00'), Timestamp('2025-01-09 00:00:00')) Current Date Range: 2020-01-10 00:00:00 to 2025-01-09 00:00:00 check is False\n",
      "Processed and saved data for ZYDUSLIFE.\n"
     ]
    },
    {
     "name": "stderr",
     "output_type": "stream",
     "text": [
      "[*********************100%***********************]  1 of 1 completed"
     ]
    },
    {
     "name": "stdout",
     "output_type": "stream",
     "text": [
      "Reference Dates: (Timestamp('2020-01-10 00:00:00'), Timestamp('2025-01-09 00:00:00')) Current Date Range: 2020-01-10 00:00:00 to 2025-01-09 00:00:00 check is False\n",
      "Processed and saved data for ECLERX.\n",
      "All data processing completed.\n"
     ]
    },
    {
     "name": "stderr",
     "output_type": "stream",
     "text": [
      "\n"
     ]
    }
   ],
   "source": [
    "from sklearn.preprocessing import LabelEncoder\n",
    "import pandas as pd\n",
    "import yfinance as yf\n",
    "import os\n",
    "\n",
    "# Step 1: Load Company and Sector Information\n",
    "def load_company_data(filepath):\n",
    "    df = pd.read_csv(filepath)\n",
    "\n",
    "    label_encoder = LabelEncoder()\n",
    "    df['Industry Encoded']= label_encoder.fit_transform(df['Industry'])\n",
    "    return df['Symbol'].tolist(), df['Industry'].tolist(), df['Industry Encoded'].tolist()\n",
    "\n",
    "# Step 2: Fetch Stock Data\n",
    "def fetch_stock_data(ticker, start_date, end_date):\n",
    "    try:\n",
    "        data = yf.download(f\"{ticker}.NS\", start=start_date, end=end_date)\n",
    "        return data if not data.empty else None\n",
    "    except Exception as e:\n",
    "        print(f\"Error fetching data for {ticker}: {e}\")\n",
    "        return None\n",
    "\n",
    "from sklearn.preprocessing import StandardScaler\n",
    "\n",
    "# Step 3: Compute Financial Features\n",
    "def compute_features(stock_data):\n",
    "    stock_data['MA_20'] = stock_data['Close'].rolling(window=20).mean()\n",
    "    stock_data['MA_50'] = stock_data['Close'].rolling(window=50).mean()\n",
    "    \n",
    "    scaler = StandardScaler()\n",
    "    stock_data['Normalised Close'] = scaler.fit_transform(stock_data[['Close']])\n",
    "    # print(stock_data['Normalised Close'])\n",
    "    stock_data['Return Ratio'] = (stock_data['Close']-stock_data['Close'].shift(1))/stock_data['Close'].shift(1)\n",
    "    \n",
    "    stock_data['Percentage Change Open'] = stock_data['Open']/stock_data['Close'] - 1\n",
    "    stock_data['Percentage Change High'] = stock_data['High']/stock_data['Close'] - 1\n",
    "    stock_data['Percentage Change Low'] = stock_data['Low']/stock_data['Close'] - 1\n",
    "\n",
    "\n",
    "    return stock_data\n",
    "\n",
    "# Step 4: Align Data with Reference Dates\n",
    "def align_with_reference(stock_data, reference_dates):\n",
    "    print(f\"Reference Dates: {reference_dates} Current Date Range: {stock_data.index[0]} to {stock_data.index[-1]} check is {stock_data.index[0] != reference_dates[0]}\")\n",
    "    if stock_data.index[0] > pd.Timestamp(\"2022-01-10\"):\n",
    "        return False\n",
    "    else:\n",
    "        return True\n",
    "    \n",
    "\n",
    "# Step 5: Main Execution\n",
    "def main():\n",
    "    start_date, end_date = \"2020-01-10\", \"2025-01-10\"\n",
    "    companies, sector, sector_encoded  = load_company_data('ind_nifty500list.csv')\n",
    "    os.makedirs('stock_data', exist_ok=True)\n",
    "    \n",
    "    reference_data = fetch_stock_data(\"ONGC\", start_date, end_date)\n",
    "    if reference_data is None:\n",
    "        print(\"Failed to fetch reference data.\")\n",
    "        return\n",
    "    reference_dates = (reference_data.index[0], reference_data.index[-1])\n",
    "    missing = []\n",
    "    for ticker in companies:\n",
    "        stock_data = fetch_stock_data(ticker, start_date, end_date)\n",
    "        if stock_data is not None:\n",
    "            if not align_with_reference(stock_data, reference_dates):\n",
    "                print(\"Skipping...\"+ticker)\n",
    "                missing.append(ticker)\n",
    "                continue\n",
    "            stock_data = compute_features(stock_data)\n",
    "            # stock_data.fillna(0, inplace=True)\n",
    "            stock_data['Sector'] = sector[companies.index(ticker)]\n",
    "            stock_data['Sector Encoded'] = sector_encoded[companies.index(ticker)]\n",
    "            stock_data.to_csv(f'stock_data/{ticker}_data.csv')\n",
    "            print(f\"Processed and saved data for {ticker}.\")\n",
    "        else:\n",
    "            print(f\"Skipping {ticker} due to missing data.\")\n",
    "            missing.append(ticker)\n",
    "    with open(\"missing_nw.txt\", \"w\") as file:\n",
    "        for line in missing:\n",
    "            file.write(line + \"\\n\")\n",
    "    print(\"All data processing completed.\")\n",
    "\n",
    "if __name__ == \"__main__\":\n",
    "    main()\n"
   ]
  },
  {
   "cell_type": "code",
   "execution_count": null,
   "id": "652fa0fa-9e0d-49d1-a9ec-53802109c6b2",
   "metadata": {},
   "outputs": [],
   "source": [
    "import os\n",
    "import pandas as pd\n",
    "\n",
    "# Path to the stock data directory\n",
    "stock_data_directory = \"stock_data\"\n",
    "\n",
    "# Dictionary to store processed stock data\n",
    "NIFTY500_stock = {}\n",
    "\n",
    "# Function to compute additional features\n",
    "def compute_features(df):\n",
    "    # Ensure the DataFrame is sorted by date\n",
    "    df = df.sort_values(by=\"Date\")\n",
    "    \n",
    "    # Convert Date to datetime format\n",
    "    df['Date'] = pd.to_datetime(df['Date'])\n",
    "    \n",
    "    # Calculate daily return\n",
    "    df['return_ratio'] = df['Close'].pct_change()\n",
    "    \n",
    "    # Calculate moving averages (e.g., 20-day and 50-day)\n",
    "    df['MA_20'] = df['Close'].rolling(window=20).mean()\n",
    "    df['MA_50'] = df['Close'].rolling(window=50).mean()\n",
    "    \n",
    "    # Calculate volatility (e.g., 20-day rolling standard deviation of returns)\n",
    "    df['Volatility_20'] = df['return_ratio'].rolling(window=20).std()\n",
    "    \n",
    "    # Drop NA values introduced by rolling computations\n",
    "    df = df.dropna()\n",
    "    return df\n",
    "\n",
    "# Iterate over all CSV files in the stock_data directory\n",
    "for filename in os.listdir(stock_data_directory):\n",
    "    if filename.endswith(\".csv\"):\n",
    "        file_path = os.path.join(stock_data_directory, filename)\n",
    "        \n",
    "        # Extract company name (remove .csv extension)\n",
    "        company_name = filename.replace(\".csv\", \"\")\n",
    "        \n",
    "        # Load the stock data\n",
    "        stock_data = pd.read_csv(file_path)\n",
    "        \n",
    "        # Compute additional features\n",
    "        processed_data = compute_features(stock_data)\n",
    "        \n",
    "        # Save the processed data back to the CSV file\n",
    "        processed_data.to_csv(file_path, index=False)\n",
    "        \n",
    "        # Store data in the dictionary structure\n",
    "        NIFTY500_stock[company_name] = {\n",
    "            \"stock_price\": processed_data\n",
    "        }\n",
    "        \n",
    "        print(f\"Processed and saved: {filename}\")\n",
    "\n",
    "# Access Example\n",
    "print(\"Sample Access Example:\")\n",
    "example_company = list(NIFTY500_stock.keys())[0]  # Get the first company\n",
    "print(f\"Company: {example_company}\")\n",
    "print(NIFTY500_stock[example_company][\"stock_price\"].head())\n",
    "\n",
    "print(\"Feature computation and saving completed for all files.\")\n"
   ]
  }
 ],
 "metadata": {
  "kernelspec": {
   "display_name": "Python 3",
   "language": "python",
   "name": "python3"
  },
  "language_info": {
   "codemirror_mode": {
    "name": "ipython",
    "version": 3
   },
   "file_extension": ".py",
   "mimetype": "text/x-python",
   "name": "python",
   "nbconvert_exporter": "python",
   "pygments_lexer": "ipython3",
   "version": "3.12.3"
  }
 },
 "nbformat": 4,
 "nbformat_minor": 5
}
