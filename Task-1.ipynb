{
 "cells": [
  {
   "cell_type": "code",
   "execution_count": 5,
   "id": "942c1898-5bd5-48ea-8980-16e7ffb9a574",
   "metadata": {},
   "outputs": [
    {
     "name": "stderr",
     "output_type": "stream",
     "text": [
      "[*********************100%***********************]  1 of 1 completed\n"
     ]
    },
    {
     "name": "stdout",
     "output_type": "stream",
     "text": [
      "Data for 360ONE saved.\n"
     ]
    },
    {
     "name": "stderr",
     "output_type": "stream",
     "text": [
      "[*********************100%***********************]  1 of 1 completed\n"
     ]
    },
    {
     "name": "stdout",
     "output_type": "stream",
     "text": [
      "Data for 3MINDIA saved.\n"
     ]
    },
    {
     "name": "stderr",
     "output_type": "stream",
     "text": [
      "[*********************100%***********************]  1 of 1 completed\n"
     ]
    },
    {
     "name": "stdout",
     "output_type": "stream",
     "text": [
      "Data for ABB saved.\n"
     ]
    },
    {
     "name": "stderr",
     "output_type": "stream",
     "text": [
      "[*********************100%***********************]  1 of 1 completed\n"
     ]
    },
    {
     "name": "stdout",
     "output_type": "stream",
     "text": [
      "Data for ACC saved.\n"
     ]
    },
    {
     "name": "stderr",
     "output_type": "stream",
     "text": [
      "[*********************100%***********************]  1 of 1 completed\n"
     ]
    },
    {
     "name": "stdout",
     "output_type": "stream",
     "text": [
      "Data for AIAENG saved.\n"
     ]
    },
    {
     "name": "stderr",
     "output_type": "stream",
     "text": [
      "[*********************100%***********************]  1 of 1 completed\n"
     ]
    },
    {
     "name": "stdout",
     "output_type": "stream",
     "text": [
      "Data for APLAPOLLO saved.\n"
     ]
    },
    {
     "name": "stderr",
     "output_type": "stream",
     "text": [
      "[*********************100%***********************]  1 of 1 completed\n"
     ]
    },
    {
     "name": "stdout",
     "output_type": "stream",
     "text": [
      "Data for AUBANK saved.\n"
     ]
    },
    {
     "name": "stderr",
     "output_type": "stream",
     "text": [
      "[*********************100%***********************]  1 of 1 completed\n"
     ]
    },
    {
     "name": "stdout",
     "output_type": "stream",
     "text": [
      "Data for AADHARHFC saved.\n"
     ]
    },
    {
     "name": "stderr",
     "output_type": "stream",
     "text": [
      "[*********************100%***********************]  1 of 1 completed\n"
     ]
    },
    {
     "name": "stdout",
     "output_type": "stream",
     "text": [
      "Data for AARTIIND saved.\n"
     ]
    },
    {
     "name": "stderr",
     "output_type": "stream",
     "text": [
      "[*********************100%***********************]  1 of 1 completed\n"
     ]
    },
    {
     "name": "stdout",
     "output_type": "stream",
     "text": [
      "Data for AAVAS saved.\n"
     ]
    },
    {
     "name": "stderr",
     "output_type": "stream",
     "text": [
      "[*********************100%***********************]  1 of 1 completed\n"
     ]
    },
    {
     "name": "stdout",
     "output_type": "stream",
     "text": [
      "Data for ABBOTINDIA saved.\n"
     ]
    },
    {
     "name": "stderr",
     "output_type": "stream",
     "text": [
      "[*********************100%***********************]  1 of 1 completed\n"
     ]
    },
    {
     "name": "stdout",
     "output_type": "stream",
     "text": [
      "Data for ACE saved.\n"
     ]
    },
    {
     "name": "stderr",
     "output_type": "stream",
     "text": [
      "[*********************100%***********************]  1 of 1 completed\n"
     ]
    },
    {
     "name": "stdout",
     "output_type": "stream",
     "text": [
      "Data for ADANIENSOL saved.\n"
     ]
    },
    {
     "name": "stderr",
     "output_type": "stream",
     "text": [
      "[*********************100%***********************]  1 of 1 completed\n"
     ]
    },
    {
     "name": "stdout",
     "output_type": "stream",
     "text": [
      "Data for ADANIENT saved.\n"
     ]
    },
    {
     "name": "stderr",
     "output_type": "stream",
     "text": [
      "[*********************100%***********************]  1 of 1 completed\n"
     ]
    },
    {
     "name": "stdout",
     "output_type": "stream",
     "text": [
      "Data for ADANIGREEN saved.\n"
     ]
    },
    {
     "name": "stderr",
     "output_type": "stream",
     "text": [
      "[*********************100%***********************]  1 of 1 completed\n"
     ]
    },
    {
     "name": "stdout",
     "output_type": "stream",
     "text": [
      "Data for ADANIPORTS saved.\n"
     ]
    },
    {
     "name": "stderr",
     "output_type": "stream",
     "text": [
      "[*********************100%***********************]  1 of 1 completed\n"
     ]
    },
    {
     "name": "stdout",
     "output_type": "stream",
     "text": [
      "Data for ADANIPOWER saved.\n"
     ]
    },
    {
     "name": "stderr",
     "output_type": "stream",
     "text": [
      "[*********************100%***********************]  1 of 1 completed\n",
      "[*********************100%***********************]  1 of 1 completed"
     ]
    },
    {
     "name": "stdout",
     "output_type": "stream",
     "text": [
      "Data for ATGL saved.\n"
     ]
    },
    {
     "name": "stderr",
     "output_type": "stream",
     "text": [
      "\n"
     ]
    },
    {
     "name": "stdout",
     "output_type": "stream",
     "text": [
      "Data for AWL saved.\n"
     ]
    },
    {
     "name": "stderr",
     "output_type": "stream",
     "text": [
      "[*********************100%***********************]  1 of 1 completed\n"
     ]
    },
    {
     "name": "stdout",
     "output_type": "stream",
     "text": [
      "Data for ABCAPITAL saved.\n"
     ]
    },
    {
     "name": "stderr",
     "output_type": "stream",
     "text": [
      "[*********************100%***********************]  1 of 1 completed\n"
     ]
    },
    {
     "name": "stdout",
     "output_type": "stream",
     "text": [
      "Data for ABFRL saved.\n"
     ]
    },
    {
     "name": "stderr",
     "output_type": "stream",
     "text": [
      "[*********************100%***********************]  1 of 1 completed\n"
     ]
    },
    {
     "name": "stdout",
     "output_type": "stream",
     "text": [
      "Data for ABREL saved.\n"
     ]
    },
    {
     "name": "stderr",
     "output_type": "stream",
     "text": [
      "[*********************100%***********************]  1 of 1 completed\n"
     ]
    },
    {
     "name": "stdout",
     "output_type": "stream",
     "text": [
      "Data for ABSLAMC saved.\n"
     ]
    },
    {
     "name": "stderr",
     "output_type": "stream",
     "text": [
      "[*********************100%***********************]  1 of 1 completed\n"
     ]
    },
    {
     "name": "stdout",
     "output_type": "stream",
     "text": [
      "Data for AEGISLOG saved.\n"
     ]
    },
    {
     "name": "stderr",
     "output_type": "stream",
     "text": [
      "[*********************100%***********************]  1 of 1 completed\n"
     ]
    },
    {
     "name": "stdout",
     "output_type": "stream",
     "text": [
      "Data for AFFLE saved.\n"
     ]
    },
    {
     "name": "stderr",
     "output_type": "stream",
     "text": [
      "[*********************100%***********************]  1 of 1 completed\n",
      "[*********************100%***********************]  1 of 1 completed"
     ]
    },
    {
     "name": "stdout",
     "output_type": "stream",
     "text": [
      "Data for AJANTPHARM saved.\n"
     ]
    },
    {
     "name": "stderr",
     "output_type": "stream",
     "text": [
      "\n"
     ]
    },
    {
     "name": "stdout",
     "output_type": "stream",
     "text": [
      "Data for AKUMS saved.\n"
     ]
    },
    {
     "name": "stderr",
     "output_type": "stream",
     "text": [
      "[*********************100%***********************]  1 of 1 completed\n"
     ]
    },
    {
     "name": "stdout",
     "output_type": "stream",
     "text": [
      "Data for APLLTD saved.\n"
     ]
    },
    {
     "name": "stderr",
     "output_type": "stream",
     "text": [
      "[*********************100%***********************]  1 of 1 completed\n"
     ]
    },
    {
     "name": "stdout",
     "output_type": "stream",
     "text": [
      "Data for ALKEM saved.\n"
     ]
    },
    {
     "name": "stderr",
     "output_type": "stream",
     "text": [
      "[*********************100%***********************]  1 of 1 completed\n"
     ]
    },
    {
     "name": "stdout",
     "output_type": "stream",
     "text": [
      "Data for ALKYLAMINE saved.\n"
     ]
    },
    {
     "name": "stderr",
     "output_type": "stream",
     "text": [
      "[*********************100%***********************]  1 of 1 completed\n"
     ]
    },
    {
     "name": "stdout",
     "output_type": "stream",
     "text": [
      "Data for ALOKINDS saved.\n"
     ]
    },
    {
     "name": "stderr",
     "output_type": "stream",
     "text": [
      "[*********************100%***********************]  1 of 1 completed\n"
     ]
    },
    {
     "name": "stdout",
     "output_type": "stream",
     "text": [
      "Data for ARE&M saved.\n"
     ]
    },
    {
     "name": "stderr",
     "output_type": "stream",
     "text": [
      "[*********************100%***********************]  1 of 1 completed\n"
     ]
    },
    {
     "name": "stdout",
     "output_type": "stream",
     "text": [
      "Data for AMBER saved.\n"
     ]
    },
    {
     "name": "stderr",
     "output_type": "stream",
     "text": [
      "[*********************100%***********************]  1 of 1 completed\n"
     ]
    },
    {
     "name": "stdout",
     "output_type": "stream",
     "text": [
      "Data for AMBUJACEM saved.\n"
     ]
    },
    {
     "name": "stderr",
     "output_type": "stream",
     "text": [
      "[*********************100%***********************]  1 of 1 completed\n"
     ]
    },
    {
     "name": "stdout",
     "output_type": "stream",
     "text": [
      "Data for ANANDRATHI saved.\n"
     ]
    },
    {
     "name": "stderr",
     "output_type": "stream",
     "text": [
      "[*********************100%***********************]  1 of 1 completed\n"
     ]
    },
    {
     "name": "stdout",
     "output_type": "stream",
     "text": [
      "Data for ANANTRAJ saved.\n"
     ]
    },
    {
     "name": "stderr",
     "output_type": "stream",
     "text": [
      "[*********************100%***********************]  1 of 1 completed\n"
     ]
    },
    {
     "name": "stdout",
     "output_type": "stream",
     "text": [
      "Data for ANGELONE saved.\n"
     ]
    },
    {
     "name": "stderr",
     "output_type": "stream",
     "text": [
      "[*********************100%***********************]  1 of 1 completed\n"
     ]
    },
    {
     "name": "stdout",
     "output_type": "stream",
     "text": [
      "Data for APARINDS saved.\n"
     ]
    },
    {
     "name": "stderr",
     "output_type": "stream",
     "text": [
      "[*********************100%***********************]  1 of 1 completed\n"
     ]
    },
    {
     "name": "stdout",
     "output_type": "stream",
     "text": [
      "Data for APOLLOHOSP saved.\n"
     ]
    },
    {
     "name": "stderr",
     "output_type": "stream",
     "text": [
      "[*********************100%***********************]  1 of 1 completed\n"
     ]
    },
    {
     "name": "stdout",
     "output_type": "stream",
     "text": [
      "Data for APOLLOTYRE saved.\n"
     ]
    },
    {
     "name": "stderr",
     "output_type": "stream",
     "text": [
      "[*********************100%***********************]  1 of 1 completed\n"
     ]
    },
    {
     "name": "stdout",
     "output_type": "stream",
     "text": [
      "Data for APTUS saved.\n"
     ]
    },
    {
     "name": "stderr",
     "output_type": "stream",
     "text": [
      "[*********************100%***********************]  1 of 1 completed\n"
     ]
    },
    {
     "name": "stdout",
     "output_type": "stream",
     "text": [
      "Data for ACI saved.\n"
     ]
    },
    {
     "name": "stderr",
     "output_type": "stream",
     "text": [
      "[*********************100%***********************]  1 of 1 completed\n"
     ]
    },
    {
     "name": "stdout",
     "output_type": "stream",
     "text": [
      "Data for ASAHIINDIA saved.\n"
     ]
    },
    {
     "name": "stderr",
     "output_type": "stream",
     "text": [
      "[*********************100%***********************]  1 of 1 completed\n"
     ]
    },
    {
     "name": "stdout",
     "output_type": "stream",
     "text": [
      "Data for ASHOKLEY saved.\n"
     ]
    },
    {
     "name": "stderr",
     "output_type": "stream",
     "text": [
      "[*********************100%***********************]  1 of 1 completed\n"
     ]
    },
    {
     "name": "stdout",
     "output_type": "stream",
     "text": [
      "Data for ASIANPAINT saved.\n"
     ]
    },
    {
     "name": "stderr",
     "output_type": "stream",
     "text": [
      "[*********************100%***********************]  1 of 1 completed\n"
     ]
    },
    {
     "name": "stdout",
     "output_type": "stream",
     "text": [
      "Data for ASTERDM saved.\n"
     ]
    },
    {
     "name": "stderr",
     "output_type": "stream",
     "text": [
      "[*********************100%***********************]  1 of 1 completed\n"
     ]
    },
    {
     "name": "stdout",
     "output_type": "stream",
     "text": [
      "Data for ASTRAZEN saved.\n"
     ]
    },
    {
     "name": "stderr",
     "output_type": "stream",
     "text": [
      "[*********************100%***********************]  1 of 1 completed\n"
     ]
    },
    {
     "name": "stdout",
     "output_type": "stream",
     "text": [
      "Data for ASTRAL saved.\n"
     ]
    },
    {
     "name": "stderr",
     "output_type": "stream",
     "text": [
      "[*********************100%***********************]  1 of 1 completed\n"
     ]
    },
    {
     "name": "stdout",
     "output_type": "stream",
     "text": [
      "Data for ATUL saved.\n"
     ]
    },
    {
     "name": "stderr",
     "output_type": "stream",
     "text": [
      "[*********************100%***********************]  1 of 1 completed\n"
     ]
    },
    {
     "name": "stdout",
     "output_type": "stream",
     "text": [
      "Data for AUROPHARMA saved.\n"
     ]
    },
    {
     "name": "stderr",
     "output_type": "stream",
     "text": [
      "[*********************100%***********************]  1 of 1 completed\n"
     ]
    },
    {
     "name": "stdout",
     "output_type": "stream",
     "text": [
      "Data for AVANTIFEED saved.\n"
     ]
    },
    {
     "name": "stderr",
     "output_type": "stream",
     "text": [
      "[*********************100%***********************]  1 of 1 completed\n"
     ]
    },
    {
     "name": "stdout",
     "output_type": "stream",
     "text": [
      "Data for DMART saved.\n"
     ]
    },
    {
     "name": "stderr",
     "output_type": "stream",
     "text": [
      "[*********************100%***********************]  1 of 1 completed\n"
     ]
    },
    {
     "name": "stdout",
     "output_type": "stream",
     "text": [
      "Data for AXISBANK saved.\n"
     ]
    },
    {
     "name": "stderr",
     "output_type": "stream",
     "text": [
      "[*********************100%***********************]  1 of 1 completed\n"
     ]
    },
    {
     "name": "stdout",
     "output_type": "stream",
     "text": [
      "Data for BASF saved.\n"
     ]
    },
    {
     "name": "stderr",
     "output_type": "stream",
     "text": [
      "[*********************100%***********************]  1 of 1 completed\n"
     ]
    },
    {
     "name": "stdout",
     "output_type": "stream",
     "text": [
      "Data for BEML saved.\n"
     ]
    },
    {
     "name": "stderr",
     "output_type": "stream",
     "text": [
      "[*********************100%***********************]  1 of 1 completed\n"
     ]
    },
    {
     "name": "stdout",
     "output_type": "stream",
     "text": [
      "Data for BLS saved.\n"
     ]
    },
    {
     "name": "stderr",
     "output_type": "stream",
     "text": [
      "[*********************100%***********************]  1 of 1 completed\n"
     ]
    },
    {
     "name": "stdout",
     "output_type": "stream",
     "text": [
      "Data for BSE saved.\n"
     ]
    },
    {
     "name": "stderr",
     "output_type": "stream",
     "text": [
      "[*********************100%***********************]  1 of 1 completed\n"
     ]
    },
    {
     "name": "stdout",
     "output_type": "stream",
     "text": [
      "Data for BAJAJ-AUTO saved.\n"
     ]
    },
    {
     "name": "stderr",
     "output_type": "stream",
     "text": [
      "[*********************100%***********************]  1 of 1 completed\n"
     ]
    },
    {
     "name": "stdout",
     "output_type": "stream",
     "text": [
      "Data for BAJFINANCE saved.\n"
     ]
    },
    {
     "name": "stderr",
     "output_type": "stream",
     "text": [
      "[*********************100%***********************]  1 of 1 completed\n"
     ]
    },
    {
     "name": "stdout",
     "output_type": "stream",
     "text": [
      "Data for BAJAJFINSV saved.\n"
     ]
    },
    {
     "name": "stderr",
     "output_type": "stream",
     "text": [
      "[*********************100%***********************]  1 of 1 completed\n"
     ]
    },
    {
     "name": "stdout",
     "output_type": "stream",
     "text": [
      "Data for BAJAJHLDNG saved.\n"
     ]
    },
    {
     "name": "stderr",
     "output_type": "stream",
     "text": [
      "[*********************100%***********************]  1 of 1 completed\n"
     ]
    },
    {
     "name": "stdout",
     "output_type": "stream",
     "text": [
      "Data for BALAMINES saved.\n"
     ]
    },
    {
     "name": "stderr",
     "output_type": "stream",
     "text": [
      "[*********************100%***********************]  1 of 1 completed\n"
     ]
    },
    {
     "name": "stdout",
     "output_type": "stream",
     "text": [
      "Data for BALKRISIND saved.\n"
     ]
    },
    {
     "name": "stderr",
     "output_type": "stream",
     "text": [
      "[*********************100%***********************]  1 of 1 completed\n"
     ]
    },
    {
     "name": "stdout",
     "output_type": "stream",
     "text": [
      "Data for BALRAMCHIN saved.\n"
     ]
    },
    {
     "name": "stderr",
     "output_type": "stream",
     "text": [
      "[*********************100%***********************]  1 of 1 completed\n"
     ]
    },
    {
     "name": "stdout",
     "output_type": "stream",
     "text": [
      "Data for BANDHANBNK saved.\n"
     ]
    },
    {
     "name": "stderr",
     "output_type": "stream",
     "text": [
      "[*********************100%***********************]  1 of 1 completed\n"
     ]
    },
    {
     "name": "stdout",
     "output_type": "stream",
     "text": [
      "Data for BANKBARODA saved.\n"
     ]
    },
    {
     "name": "stderr",
     "output_type": "stream",
     "text": [
      "[*********************100%***********************]  1 of 1 completed\n"
     ]
    },
    {
     "name": "stdout",
     "output_type": "stream",
     "text": [
      "Data for BANKINDIA saved.\n"
     ]
    },
    {
     "name": "stderr",
     "output_type": "stream",
     "text": [
      "[*********************100%***********************]  1 of 1 completed\n"
     ]
    },
    {
     "name": "stdout",
     "output_type": "stream",
     "text": [
      "Data for MAHABANK saved.\n"
     ]
    },
    {
     "name": "stderr",
     "output_type": "stream",
     "text": [
      "[*********************100%***********************]  1 of 1 completed\n"
     ]
    },
    {
     "name": "stdout",
     "output_type": "stream",
     "text": [
      "Data for BATAINDIA saved.\n"
     ]
    },
    {
     "name": "stderr",
     "output_type": "stream",
     "text": [
      "[*********************100%***********************]  1 of 1 completed\n"
     ]
    },
    {
     "name": "stdout",
     "output_type": "stream",
     "text": [
      "Data for BAYERCROP saved.\n"
     ]
    },
    {
     "name": "stderr",
     "output_type": "stream",
     "text": [
      "[*********************100%***********************]  1 of 1 completed\n"
     ]
    },
    {
     "name": "stdout",
     "output_type": "stream",
     "text": [
      "Data for BERGEPAINT saved.\n"
     ]
    },
    {
     "name": "stderr",
     "output_type": "stream",
     "text": [
      "[*********************100%***********************]  1 of 1 completed\n"
     ]
    },
    {
     "name": "stdout",
     "output_type": "stream",
     "text": [
      "Data for BDL saved.\n"
     ]
    },
    {
     "name": "stderr",
     "output_type": "stream",
     "text": [
      "[*********************100%***********************]  1 of 1 completed\n"
     ]
    },
    {
     "name": "stdout",
     "output_type": "stream",
     "text": [
      "Data for BEL saved.\n"
     ]
    },
    {
     "name": "stderr",
     "output_type": "stream",
     "text": [
      "[*********************100%***********************]  1 of 1 completed\n"
     ]
    },
    {
     "name": "stdout",
     "output_type": "stream",
     "text": [
      "Data for BHARATFORG saved.\n"
     ]
    },
    {
     "name": "stderr",
     "output_type": "stream",
     "text": [
      "[*********************100%***********************]  1 of 1 completed\n"
     ]
    },
    {
     "name": "stdout",
     "output_type": "stream",
     "text": [
      "Data for BHEL saved.\n"
     ]
    },
    {
     "name": "stderr",
     "output_type": "stream",
     "text": [
      "[*********************100%***********************]  1 of 1 completed\n"
     ]
    },
    {
     "name": "stdout",
     "output_type": "stream",
     "text": [
      "Data for BPCL saved.\n"
     ]
    },
    {
     "name": "stderr",
     "output_type": "stream",
     "text": [
      "[*********************100%***********************]  1 of 1 completed\n",
      "[*********************100%***********************]  1 of 1 completed"
     ]
    },
    {
     "name": "stdout",
     "output_type": "stream",
     "text": [
      "Data for BHARTIARTL saved.\n"
     ]
    },
    {
     "name": "stderr",
     "output_type": "stream",
     "text": [
      "\n"
     ]
    },
    {
     "name": "stdout",
     "output_type": "stream",
     "text": [
      "Data for BHARTIHEXA saved.\n"
     ]
    },
    {
     "name": "stderr",
     "output_type": "stream",
     "text": [
      "[*********************100%***********************]  1 of 1 completed\n"
     ]
    },
    {
     "name": "stdout",
     "output_type": "stream",
     "text": [
      "Data for BIKAJI saved.\n"
     ]
    },
    {
     "name": "stderr",
     "output_type": "stream",
     "text": [
      "[*********************100%***********************]  1 of 1 completed\n"
     ]
    },
    {
     "name": "stdout",
     "output_type": "stream",
     "text": [
      "Data for BIOCON saved.\n"
     ]
    },
    {
     "name": "stderr",
     "output_type": "stream",
     "text": [
      "[*********************100%***********************]  1 of 1 completed\n"
     ]
    },
    {
     "name": "stdout",
     "output_type": "stream",
     "text": [
      "Data for BIRLACORPN saved.\n"
     ]
    },
    {
     "name": "stderr",
     "output_type": "stream",
     "text": [
      "[*********************100%***********************]  1 of 1 completed\n"
     ]
    },
    {
     "name": "stdout",
     "output_type": "stream",
     "text": [
      "Data for BSOFT saved.\n"
     ]
    },
    {
     "name": "stderr",
     "output_type": "stream",
     "text": [
      "[*********************100%***********************]  1 of 1 completed\n"
     ]
    },
    {
     "name": "stdout",
     "output_type": "stream",
     "text": [
      "Data for BLUEDART saved.\n"
     ]
    },
    {
     "name": "stderr",
     "output_type": "stream",
     "text": [
      "[*********************100%***********************]  1 of 1 completed\n"
     ]
    },
    {
     "name": "stdout",
     "output_type": "stream",
     "text": [
      "Data for BLUESTARCO saved.\n"
     ]
    },
    {
     "name": "stderr",
     "output_type": "stream",
     "text": [
      "[*********************100%***********************]  1 of 1 completed\n"
     ]
    },
    {
     "name": "stdout",
     "output_type": "stream",
     "text": [
      "Data for BBTC saved.\n"
     ]
    },
    {
     "name": "stderr",
     "output_type": "stream",
     "text": [
      "[*********************100%***********************]  1 of 1 completed\n"
     ]
    },
    {
     "name": "stdout",
     "output_type": "stream",
     "text": [
      "Data for BOSCHLTD saved.\n"
     ]
    },
    {
     "name": "stderr",
     "output_type": "stream",
     "text": [
      "[*********************100%***********************]  1 of 1 completed\n"
     ]
    },
    {
     "name": "stdout",
     "output_type": "stream",
     "text": [
      "Data for BRIGADE saved.\n"
     ]
    },
    {
     "name": "stderr",
     "output_type": "stream",
     "text": [
      "[*********************100%***********************]  1 of 1 completed\n"
     ]
    },
    {
     "name": "stdout",
     "output_type": "stream",
     "text": [
      "Data for BRITANNIA saved.\n"
     ]
    },
    {
     "name": "stderr",
     "output_type": "stream",
     "text": [
      "[*********************100%***********************]  1 of 1 completed\n"
     ]
    },
    {
     "name": "stdout",
     "output_type": "stream",
     "text": [
      "Data for MAPMYINDIA saved.\n"
     ]
    },
    {
     "name": "stderr",
     "output_type": "stream",
     "text": [
      "[*********************100%***********************]  1 of 1 completed\n"
     ]
    },
    {
     "name": "stdout",
     "output_type": "stream",
     "text": [
      "Data for CCL saved.\n"
     ]
    },
    {
     "name": "stderr",
     "output_type": "stream",
     "text": [
      "[*********************100%***********************]  1 of 1 completed\n"
     ]
    },
    {
     "name": "stdout",
     "output_type": "stream",
     "text": [
      "Data for CESC saved.\n"
     ]
    },
    {
     "name": "stderr",
     "output_type": "stream",
     "text": [
      "[*********************100%***********************]  1 of 1 completed\n"
     ]
    },
    {
     "name": "stdout",
     "output_type": "stream",
     "text": [
      "Data for CGPOWER saved.\n"
     ]
    },
    {
     "name": "stderr",
     "output_type": "stream",
     "text": [
      "[*********************100%***********************]  1 of 1 completed\n"
     ]
    },
    {
     "name": "stdout",
     "output_type": "stream",
     "text": [
      "Data for CIEINDIA saved.\n"
     ]
    },
    {
     "name": "stderr",
     "output_type": "stream",
     "text": [
      "[*********************100%***********************]  1 of 1 completed\n"
     ]
    },
    {
     "name": "stdout",
     "output_type": "stream",
     "text": [
      "Data for CRISIL saved.\n"
     ]
    },
    {
     "name": "stderr",
     "output_type": "stream",
     "text": [
      "[*********************100%***********************]  1 of 1 completed\n"
     ]
    },
    {
     "name": "stdout",
     "output_type": "stream",
     "text": [
      "Data for CAMPUS saved.\n"
     ]
    },
    {
     "name": "stderr",
     "output_type": "stream",
     "text": [
      "[*********************100%***********************]  1 of 1 completed\n"
     ]
    },
    {
     "name": "stdout",
     "output_type": "stream",
     "text": [
      "Data for CANFINHOME saved.\n"
     ]
    },
    {
     "name": "stderr",
     "output_type": "stream",
     "text": [
      "[*********************100%***********************]  1 of 1 completed\n"
     ]
    },
    {
     "name": "stdout",
     "output_type": "stream",
     "text": [
      "Data for CANBK saved.\n"
     ]
    },
    {
     "name": "stderr",
     "output_type": "stream",
     "text": [
      "[*********************100%***********************]  1 of 1 completed\n"
     ]
    },
    {
     "name": "stdout",
     "output_type": "stream",
     "text": [
      "Data for CAPLIPOINT saved.\n"
     ]
    },
    {
     "name": "stderr",
     "output_type": "stream",
     "text": [
      "[*********************100%***********************]  1 of 1 completed\n"
     ]
    },
    {
     "name": "stdout",
     "output_type": "stream",
     "text": [
      "Data for CGCL saved.\n"
     ]
    },
    {
     "name": "stderr",
     "output_type": "stream",
     "text": [
      "[*********************100%***********************]  1 of 1 completed\n"
     ]
    },
    {
     "name": "stdout",
     "output_type": "stream",
     "text": [
      "Data for CARBORUNIV saved.\n"
     ]
    },
    {
     "name": "stderr",
     "output_type": "stream",
     "text": [
      "[*********************100%***********************]  1 of 1 completed\n"
     ]
    },
    {
     "name": "stdout",
     "output_type": "stream",
     "text": [
      "Data for CASTROLIND saved.\n"
     ]
    },
    {
     "name": "stderr",
     "output_type": "stream",
     "text": [
      "[*********************100%***********************]  1 of 1 completed\n",
      "[*********************100%***********************]  1 of 1 completed"
     ]
    },
    {
     "name": "stdout",
     "output_type": "stream",
     "text": [
      "Data for CEATLTD saved.\n"
     ]
    },
    {
     "name": "stderr",
     "output_type": "stream",
     "text": [
      "\n"
     ]
    },
    {
     "name": "stdout",
     "output_type": "stream",
     "text": [
      "Data for CELLO saved.\n"
     ]
    },
    {
     "name": "stderr",
     "output_type": "stream",
     "text": [
      "[*********************100%***********************]  1 of 1 completed\n"
     ]
    },
    {
     "name": "stdout",
     "output_type": "stream",
     "text": [
      "Data for CENTRALBK saved.\n"
     ]
    },
    {
     "name": "stderr",
     "output_type": "stream",
     "text": [
      "[*********************100%***********************]  1 of 1 completed\n"
     ]
    },
    {
     "name": "stdout",
     "output_type": "stream",
     "text": [
      "Data for CDSL saved.\n"
     ]
    },
    {
     "name": "stderr",
     "output_type": "stream",
     "text": [
      "[*********************100%***********************]  1 of 1 completed\n"
     ]
    },
    {
     "name": "stdout",
     "output_type": "stream",
     "text": [
      "Data for CENTURYPLY saved.\n"
     ]
    },
    {
     "name": "stderr",
     "output_type": "stream",
     "text": [
      "[*********************100%***********************]  1 of 1 completed\n"
     ]
    },
    {
     "name": "stdout",
     "output_type": "stream",
     "text": [
      "Data for CERA saved.\n"
     ]
    },
    {
     "name": "stderr",
     "output_type": "stream",
     "text": [
      "[*********************100%***********************]  1 of 1 completed\n"
     ]
    },
    {
     "name": "stdout",
     "output_type": "stream",
     "text": [
      "Data for CHALET saved.\n"
     ]
    },
    {
     "name": "stderr",
     "output_type": "stream",
     "text": [
      "[*********************100%***********************]  1 of 1 completed\n"
     ]
    },
    {
     "name": "stdout",
     "output_type": "stream",
     "text": [
      "Data for CHAMBLFERT saved.\n"
     ]
    },
    {
     "name": "stderr",
     "output_type": "stream",
     "text": [
      "[*********************100%***********************]  1 of 1 completed\n"
     ]
    },
    {
     "name": "stdout",
     "output_type": "stream",
     "text": [
      "Data for CHEMPLASTS saved.\n"
     ]
    },
    {
     "name": "stderr",
     "output_type": "stream",
     "text": [
      "[*********************100%***********************]  1 of 1 completed\n"
     ]
    },
    {
     "name": "stdout",
     "output_type": "stream",
     "text": [
      "Data for CHENNPETRO saved.\n"
     ]
    },
    {
     "name": "stderr",
     "output_type": "stream",
     "text": [
      "[*********************100%***********************]  1 of 1 completed\n"
     ]
    },
    {
     "name": "stdout",
     "output_type": "stream",
     "text": [
      "Data for CHOLAHLDNG saved.\n"
     ]
    },
    {
     "name": "stderr",
     "output_type": "stream",
     "text": [
      "[*********************100%***********************]  1 of 1 completed\n"
     ]
    },
    {
     "name": "stdout",
     "output_type": "stream",
     "text": [
      "Data for CHOLAFIN saved.\n"
     ]
    },
    {
     "name": "stderr",
     "output_type": "stream",
     "text": [
      "[*********************100%***********************]  1 of 1 completed\n"
     ]
    },
    {
     "name": "stdout",
     "output_type": "stream",
     "text": [
      "Data for CIPLA saved.\n"
     ]
    },
    {
     "name": "stderr",
     "output_type": "stream",
     "text": [
      "[*********************100%***********************]  1 of 1 completed\n"
     ]
    },
    {
     "name": "stdout",
     "output_type": "stream",
     "text": [
      "Data for CUB saved.\n"
     ]
    },
    {
     "name": "stderr",
     "output_type": "stream",
     "text": [
      "[*********************100%***********************]  1 of 1 completed\n"
     ]
    },
    {
     "name": "stdout",
     "output_type": "stream",
     "text": [
      "Data for CLEAN saved.\n"
     ]
    },
    {
     "name": "stderr",
     "output_type": "stream",
     "text": [
      "[*********************100%***********************]  1 of 1 completed\n"
     ]
    },
    {
     "name": "stdout",
     "output_type": "stream",
     "text": [
      "Data for COALINDIA saved.\n"
     ]
    },
    {
     "name": "stderr",
     "output_type": "stream",
     "text": [
      "[*********************100%***********************]  1 of 1 completed\n"
     ]
    },
    {
     "name": "stdout",
     "output_type": "stream",
     "text": [
      "Data for COCHINSHIP saved.\n"
     ]
    },
    {
     "name": "stderr",
     "output_type": "stream",
     "text": [
      "[*********************100%***********************]  1 of 1 completed\n"
     ]
    },
    {
     "name": "stdout",
     "output_type": "stream",
     "text": [
      "Data for COFORGE saved.\n"
     ]
    },
    {
     "name": "stderr",
     "output_type": "stream",
     "text": [
      "[*********************100%***********************]  1 of 1 completed\n"
     ]
    },
    {
     "name": "stdout",
     "output_type": "stream",
     "text": [
      "Data for COLPAL saved.\n"
     ]
    },
    {
     "name": "stderr",
     "output_type": "stream",
     "text": [
      "[*********************100%***********************]  1 of 1 completed\n",
      "[*********************100%***********************]  1 of 1 completed"
     ]
    },
    {
     "name": "stdout",
     "output_type": "stream",
     "text": [
      "Data for CAMS saved.\n"
     ]
    },
    {
     "name": "stderr",
     "output_type": "stream",
     "text": [
      "\n"
     ]
    },
    {
     "name": "stdout",
     "output_type": "stream",
     "text": [
      "Data for CONCORDBIO saved.\n"
     ]
    },
    {
     "name": "stderr",
     "output_type": "stream",
     "text": [
      "[*********************100%***********************]  1 of 1 completed\n"
     ]
    },
    {
     "name": "stdout",
     "output_type": "stream",
     "text": [
      "Data for CONCOR saved.\n"
     ]
    },
    {
     "name": "stderr",
     "output_type": "stream",
     "text": [
      "[*********************100%***********************]  1 of 1 completed\n"
     ]
    },
    {
     "name": "stdout",
     "output_type": "stream",
     "text": [
      "Data for COROMANDEL saved.\n"
     ]
    },
    {
     "name": "stderr",
     "output_type": "stream",
     "text": [
      "[*********************100%***********************]  1 of 1 completed\n"
     ]
    },
    {
     "name": "stdout",
     "output_type": "stream",
     "text": [
      "Data for CRAFTSMAN saved.\n"
     ]
    },
    {
     "name": "stderr",
     "output_type": "stream",
     "text": [
      "[*********************100%***********************]  1 of 1 completed\n"
     ]
    },
    {
     "name": "stdout",
     "output_type": "stream",
     "text": [
      "Data for CREDITACC saved.\n"
     ]
    },
    {
     "name": "stderr",
     "output_type": "stream",
     "text": [
      "[*********************100%***********************]  1 of 1 completed\n"
     ]
    },
    {
     "name": "stdout",
     "output_type": "stream",
     "text": [
      "Data for CROMPTON saved.\n"
     ]
    },
    {
     "name": "stderr",
     "output_type": "stream",
     "text": [
      "[*********************100%***********************]  1 of 1 completed\n"
     ]
    },
    {
     "name": "stdout",
     "output_type": "stream",
     "text": [
      "Data for CUMMINSIND saved.\n"
     ]
    },
    {
     "name": "stderr",
     "output_type": "stream",
     "text": [
      "[*********************100%***********************]  1 of 1 completed\n"
     ]
    },
    {
     "name": "stdout",
     "output_type": "stream",
     "text": [
      "Data for CYIENT saved.\n"
     ]
    },
    {
     "name": "stderr",
     "output_type": "stream",
     "text": [
      "[*********************100%***********************]  1 of 1 completed\n",
      "[*********************100%***********************]  1 of 1 completed"
     ]
    },
    {
     "name": "stdout",
     "output_type": "stream",
     "text": [
      "Data for DLF saved.\n",
      "Data for DOMS saved.\n"
     ]
    },
    {
     "name": "stderr",
     "output_type": "stream",
     "text": [
      "\n",
      "[*********************100%***********************]  1 of 1 completed\n"
     ]
    },
    {
     "name": "stdout",
     "output_type": "stream",
     "text": [
      "Data for DABUR saved.\n"
     ]
    },
    {
     "name": "stderr",
     "output_type": "stream",
     "text": [
      "[*********************100%***********************]  1 of 1 completed\n"
     ]
    },
    {
     "name": "stdout",
     "output_type": "stream",
     "text": [
      "Data for DALBHARAT saved.\n"
     ]
    },
    {
     "name": "stderr",
     "output_type": "stream",
     "text": [
      "[*********************100%***********************]  1 of 1 completed\n"
     ]
    },
    {
     "name": "stdout",
     "output_type": "stream",
     "text": [
      "Data for DATAPATTNS saved.\n"
     ]
    },
    {
     "name": "stderr",
     "output_type": "stream",
     "text": [
      "[*********************100%***********************]  1 of 1 completed\n"
     ]
    },
    {
     "name": "stdout",
     "output_type": "stream",
     "text": [
      "Data for DEEPAKFERT saved.\n"
     ]
    },
    {
     "name": "stderr",
     "output_type": "stream",
     "text": [
      "[*********************100%***********************]  1 of 1 completed\n"
     ]
    },
    {
     "name": "stdout",
     "output_type": "stream",
     "text": [
      "Data for DEEPAKNTR saved.\n"
     ]
    },
    {
     "name": "stderr",
     "output_type": "stream",
     "text": [
      "[*********************100%***********************]  1 of 1 completed\n"
     ]
    },
    {
     "name": "stdout",
     "output_type": "stream",
     "text": [
      "Data for DELHIVERY saved.\n"
     ]
    },
    {
     "name": "stderr",
     "output_type": "stream",
     "text": [
      "[*********************100%***********************]  1 of 1 completed\n"
     ]
    },
    {
     "name": "stdout",
     "output_type": "stream",
     "text": [
      "Data for DEVYANI saved.\n"
     ]
    },
    {
     "name": "stderr",
     "output_type": "stream",
     "text": [
      "[*********************100%***********************]  1 of 1 completed\n"
     ]
    },
    {
     "name": "stdout",
     "output_type": "stream",
     "text": [
      "Data for DIVISLAB saved.\n"
     ]
    },
    {
     "name": "stderr",
     "output_type": "stream",
     "text": [
      "[*********************100%***********************]  1 of 1 completed\n"
     ]
    },
    {
     "name": "stdout",
     "output_type": "stream",
     "text": [
      "Data for DIXON saved.\n"
     ]
    },
    {
     "name": "stderr",
     "output_type": "stream",
     "text": [
      "[*********************100%***********************]  1 of 1 completed\n"
     ]
    },
    {
     "name": "stdout",
     "output_type": "stream",
     "text": [
      "Data for LALPATHLAB saved.\n"
     ]
    },
    {
     "name": "stderr",
     "output_type": "stream",
     "text": [
      "[*********************100%***********************]  1 of 1 completed\n"
     ]
    },
    {
     "name": "stdout",
     "output_type": "stream",
     "text": [
      "Data for DRREDDY saved.\n"
     ]
    },
    {
     "name": "stderr",
     "output_type": "stream",
     "text": [
      "[*********************100%***********************]  1 of 1 completed\n",
      "\n",
      "1 Failed download:\n",
      "['DUMMYITC.NS']: YFTzMissingError('$%ticker%: possibly delisted; no timezone found')\n"
     ]
    },
    {
     "name": "stdout",
     "output_type": "stream",
     "text": [
      "No data for DUMMYITC\n"
     ]
    },
    {
     "name": "stderr",
     "output_type": "stream",
     "text": [
      "[*********************100%***********************]  1 of 1 completed\n"
     ]
    },
    {
     "name": "stdout",
     "output_type": "stream",
     "text": [
      "Data for EIDPARRY saved.\n"
     ]
    },
    {
     "name": "stderr",
     "output_type": "stream",
     "text": [
      "[*********************100%***********************]  1 of 1 completed\n"
     ]
    },
    {
     "name": "stdout",
     "output_type": "stream",
     "text": [
      "Data for EIHOTEL saved.\n"
     ]
    },
    {
     "name": "stderr",
     "output_type": "stream",
     "text": [
      "[*********************100%***********************]  1 of 1 completed\n"
     ]
    },
    {
     "name": "stdout",
     "output_type": "stream",
     "text": [
      "Data for EASEMYTRIP saved.\n"
     ]
    },
    {
     "name": "stderr",
     "output_type": "stream",
     "text": [
      "[*********************100%***********************]  1 of 1 completed\n"
     ]
    },
    {
     "name": "stdout",
     "output_type": "stream",
     "text": [
      "Data for EICHERMOT saved.\n"
     ]
    },
    {
     "name": "stderr",
     "output_type": "stream",
     "text": [
      "[*********************100%***********************]  1 of 1 completed\n"
     ]
    },
    {
     "name": "stdout",
     "output_type": "stream",
     "text": [
      "Data for ELECON saved.\n"
     ]
    },
    {
     "name": "stderr",
     "output_type": "stream",
     "text": [
      "[*********************100%***********************]  1 of 1 completed\n"
     ]
    },
    {
     "name": "stdout",
     "output_type": "stream",
     "text": [
      "Data for ELGIEQUIP saved.\n"
     ]
    },
    {
     "name": "stderr",
     "output_type": "stream",
     "text": [
      "[*********************100%***********************]  1 of 1 completed\n",
      "[*********************100%***********************]  1 of 1 completed"
     ]
    },
    {
     "name": "stdout",
     "output_type": "stream",
     "text": [
      "Data for EMAMILTD saved.\n"
     ]
    },
    {
     "name": "stderr",
     "output_type": "stream",
     "text": [
      "\n"
     ]
    },
    {
     "name": "stdout",
     "output_type": "stream",
     "text": [
      "Data for EMCURE saved.\n"
     ]
    },
    {
     "name": "stderr",
     "output_type": "stream",
     "text": [
      "[*********************100%***********************]  1 of 1 completed\n"
     ]
    },
    {
     "name": "stdout",
     "output_type": "stream",
     "text": [
      "Data for ENDURANCE saved.\n"
     ]
    },
    {
     "name": "stderr",
     "output_type": "stream",
     "text": [
      "[*********************100%***********************]  1 of 1 completed\n"
     ]
    },
    {
     "name": "stdout",
     "output_type": "stream",
     "text": [
      "Data for ENGINERSIN saved.\n"
     ]
    },
    {
     "name": "stderr",
     "output_type": "stream",
     "text": [
      "[*********************100%***********************]  1 of 1 completed\n"
     ]
    },
    {
     "name": "stdout",
     "output_type": "stream",
     "text": [
      "Data for EQUITASBNK saved.\n"
     ]
    },
    {
     "name": "stderr",
     "output_type": "stream",
     "text": [
      "[*********************100%***********************]  1 of 1 completed\n"
     ]
    },
    {
     "name": "stdout",
     "output_type": "stream",
     "text": [
      "Data for ERIS saved.\n"
     ]
    },
    {
     "name": "stderr",
     "output_type": "stream",
     "text": [
      "[*********************100%***********************]  1 of 1 completed\n"
     ]
    },
    {
     "name": "stdout",
     "output_type": "stream",
     "text": [
      "Data for ESCORTS saved.\n"
     ]
    },
    {
     "name": "stderr",
     "output_type": "stream",
     "text": [
      "[*********************100%***********************]  1 of 1 completed\n"
     ]
    },
    {
     "name": "stdout",
     "output_type": "stream",
     "text": [
      "Data for EXIDEIND saved.\n"
     ]
    },
    {
     "name": "stderr",
     "output_type": "stream",
     "text": [
      "[*********************100%***********************]  1 of 1 completed\n"
     ]
    },
    {
     "name": "stdout",
     "output_type": "stream",
     "text": [
      "Data for NYKAA saved.\n"
     ]
    },
    {
     "name": "stderr",
     "output_type": "stream",
     "text": [
      "[*********************100%***********************]  1 of 1 completed\n"
     ]
    },
    {
     "name": "stdout",
     "output_type": "stream",
     "text": [
      "Data for FEDERALBNK saved.\n"
     ]
    },
    {
     "name": "stderr",
     "output_type": "stream",
     "text": [
      "[*********************100%***********************]  1 of 1 completed\n"
     ]
    },
    {
     "name": "stdout",
     "output_type": "stream",
     "text": [
      "Data for FACT saved.\n"
     ]
    },
    {
     "name": "stderr",
     "output_type": "stream",
     "text": [
      "[*********************100%***********************]  1 of 1 completed\n"
     ]
    },
    {
     "name": "stdout",
     "output_type": "stream",
     "text": [
      "Data for FINEORG saved.\n"
     ]
    },
    {
     "name": "stderr",
     "output_type": "stream",
     "text": [
      "[*********************100%***********************]  1 of 1 completed\n"
     ]
    },
    {
     "name": "stdout",
     "output_type": "stream",
     "text": [
      "Data for FINCABLES saved.\n"
     ]
    },
    {
     "name": "stderr",
     "output_type": "stream",
     "text": [
      "[*********************100%***********************]  1 of 1 completed\n"
     ]
    },
    {
     "name": "stdout",
     "output_type": "stream",
     "text": [
      "Data for FINPIPE saved.\n"
     ]
    },
    {
     "name": "stderr",
     "output_type": "stream",
     "text": [
      "[*********************100%***********************]  1 of 1 completed\n",
      "[*********************100%***********************]  1 of 1 completed"
     ]
    },
    {
     "name": "stdout",
     "output_type": "stream",
     "text": [
      "Data for FSL saved.\n"
     ]
    },
    {
     "name": "stderr",
     "output_type": "stream",
     "text": [
      "\n"
     ]
    },
    {
     "name": "stdout",
     "output_type": "stream",
     "text": [
      "Data for FIVESTAR saved.\n"
     ]
    },
    {
     "name": "stderr",
     "output_type": "stream",
     "text": [
      "[*********************100%***********************]  1 of 1 completed\n"
     ]
    },
    {
     "name": "stdout",
     "output_type": "stream",
     "text": [
      "Data for FORTIS saved.\n"
     ]
    },
    {
     "name": "stderr",
     "output_type": "stream",
     "text": [
      "[*********************100%***********************]  1 of 1 completed\n"
     ]
    },
    {
     "name": "stdout",
     "output_type": "stream",
     "text": [
      "Data for GRINFRA saved.\n"
     ]
    },
    {
     "name": "stderr",
     "output_type": "stream",
     "text": [
      "[*********************100%***********************]  1 of 1 completed\n"
     ]
    },
    {
     "name": "stdout",
     "output_type": "stream",
     "text": [
      "Data for GAIL saved.\n"
     ]
    },
    {
     "name": "stderr",
     "output_type": "stream",
     "text": [
      "[*********************100%***********************]  1 of 1 completed\n"
     ]
    },
    {
     "name": "stdout",
     "output_type": "stream",
     "text": [
      "Data for GVT&D saved.\n"
     ]
    },
    {
     "name": "stderr",
     "output_type": "stream",
     "text": [
      "[*********************100%***********************]  1 of 1 completed\n"
     ]
    },
    {
     "name": "stdout",
     "output_type": "stream",
     "text": [
      "Data for GMRAIRPORT saved.\n"
     ]
    },
    {
     "name": "stderr",
     "output_type": "stream",
     "text": [
      "[*********************100%***********************]  1 of 1 completed\n"
     ]
    },
    {
     "name": "stdout",
     "output_type": "stream",
     "text": [
      "Data for GRSE saved.\n"
     ]
    },
    {
     "name": "stderr",
     "output_type": "stream",
     "text": [
      "[*********************100%***********************]  1 of 1 completed\n"
     ]
    },
    {
     "name": "stdout",
     "output_type": "stream",
     "text": [
      "Data for GICRE saved.\n"
     ]
    },
    {
     "name": "stderr",
     "output_type": "stream",
     "text": [
      "[*********************100%***********************]  1 of 1 completed\n"
     ]
    },
    {
     "name": "stdout",
     "output_type": "stream",
     "text": [
      "Data for GILLETTE saved.\n"
     ]
    },
    {
     "name": "stderr",
     "output_type": "stream",
     "text": [
      "[*********************100%***********************]  1 of 1 completed\n"
     ]
    },
    {
     "name": "stdout",
     "output_type": "stream",
     "text": [
      "Data for GLAND saved.\n"
     ]
    },
    {
     "name": "stderr",
     "output_type": "stream",
     "text": [
      "[*********************100%***********************]  1 of 1 completed\n"
     ]
    },
    {
     "name": "stdout",
     "output_type": "stream",
     "text": [
      "Data for GLAXO saved.\n"
     ]
    },
    {
     "name": "stderr",
     "output_type": "stream",
     "text": [
      "[*********************100%***********************]  1 of 1 completed\n"
     ]
    },
    {
     "name": "stdout",
     "output_type": "stream",
     "text": [
      "Data for GLENMARK saved.\n"
     ]
    },
    {
     "name": "stderr",
     "output_type": "stream",
     "text": [
      "[*********************100%***********************]  1 of 1 completed\n",
      "[*********************100%***********************]  1 of 1 completed"
     ]
    },
    {
     "name": "stdout",
     "output_type": "stream",
     "text": [
      "Data for MEDANTA saved.\n"
     ]
    },
    {
     "name": "stderr",
     "output_type": "stream",
     "text": [
      "\n"
     ]
    },
    {
     "name": "stdout",
     "output_type": "stream",
     "text": [
      "Data for GODIGIT saved.\n"
     ]
    },
    {
     "name": "stderr",
     "output_type": "stream",
     "text": [
      "[*********************100%***********************]  1 of 1 completed\n"
     ]
    },
    {
     "name": "stdout",
     "output_type": "stream",
     "text": [
      "Data for GPIL saved.\n"
     ]
    },
    {
     "name": "stderr",
     "output_type": "stream",
     "text": [
      "[*********************100%***********************]  1 of 1 completed\n"
     ]
    },
    {
     "name": "stdout",
     "output_type": "stream",
     "text": [
      "Data for GODFRYPHLP saved.\n"
     ]
    },
    {
     "name": "stderr",
     "output_type": "stream",
     "text": [
      "[*********************100%***********************]  1 of 1 completed\n"
     ]
    },
    {
     "name": "stdout",
     "output_type": "stream",
     "text": [
      "Data for GODREJAGRO saved.\n"
     ]
    },
    {
     "name": "stderr",
     "output_type": "stream",
     "text": [
      "[*********************100%***********************]  1 of 1 completed\n"
     ]
    },
    {
     "name": "stdout",
     "output_type": "stream",
     "text": [
      "Data for GODREJCP saved.\n"
     ]
    },
    {
     "name": "stderr",
     "output_type": "stream",
     "text": [
      "[*********************100%***********************]  1 of 1 completed\n"
     ]
    },
    {
     "name": "stdout",
     "output_type": "stream",
     "text": [
      "Data for GODREJIND saved.\n"
     ]
    },
    {
     "name": "stderr",
     "output_type": "stream",
     "text": [
      "[*********************100%***********************]  1 of 1 completed\n"
     ]
    },
    {
     "name": "stdout",
     "output_type": "stream",
     "text": [
      "Data for GODREJPROP saved.\n"
     ]
    },
    {
     "name": "stderr",
     "output_type": "stream",
     "text": [
      "[*********************100%***********************]  1 of 1 completed\n"
     ]
    },
    {
     "name": "stdout",
     "output_type": "stream",
     "text": [
      "Data for GRANULES saved.\n"
     ]
    },
    {
     "name": "stderr",
     "output_type": "stream",
     "text": [
      "[*********************100%***********************]  1 of 1 completed\n"
     ]
    },
    {
     "name": "stdout",
     "output_type": "stream",
     "text": [
      "Data for GRAPHITE saved.\n"
     ]
    },
    {
     "name": "stderr",
     "output_type": "stream",
     "text": [
      "[*********************100%***********************]  1 of 1 completed\n"
     ]
    },
    {
     "name": "stdout",
     "output_type": "stream",
     "text": [
      "Data for GRASIM saved.\n"
     ]
    },
    {
     "name": "stderr",
     "output_type": "stream",
     "text": [
      "[*********************100%***********************]  1 of 1 completed\n"
     ]
    },
    {
     "name": "stdout",
     "output_type": "stream",
     "text": [
      "Data for GESHIP saved.\n"
     ]
    },
    {
     "name": "stderr",
     "output_type": "stream",
     "text": [
      "[*********************100%***********************]  1 of 1 completed\n"
     ]
    },
    {
     "name": "stdout",
     "output_type": "stream",
     "text": [
      "Data for GRINDWELL saved.\n"
     ]
    },
    {
     "name": "stderr",
     "output_type": "stream",
     "text": [
      "[*********************100%***********************]  1 of 1 completed\n"
     ]
    },
    {
     "name": "stdout",
     "output_type": "stream",
     "text": [
      "Data for GAEL saved.\n"
     ]
    },
    {
     "name": "stderr",
     "output_type": "stream",
     "text": [
      "[*********************100%***********************]  1 of 1 completed\n"
     ]
    },
    {
     "name": "stdout",
     "output_type": "stream",
     "text": [
      "Data for FLUOROCHEM saved.\n"
     ]
    },
    {
     "name": "stderr",
     "output_type": "stream",
     "text": [
      "[*********************100%***********************]  1 of 1 completed\n"
     ]
    },
    {
     "name": "stdout",
     "output_type": "stream",
     "text": [
      "Data for GUJGASLTD saved.\n"
     ]
    },
    {
     "name": "stderr",
     "output_type": "stream",
     "text": [
      "[*********************100%***********************]  1 of 1 completed\n"
     ]
    },
    {
     "name": "stdout",
     "output_type": "stream",
     "text": [
      "Data for GMDCLTD saved.\n"
     ]
    },
    {
     "name": "stderr",
     "output_type": "stream",
     "text": [
      "[*********************100%***********************]  1 of 1 completed\n"
     ]
    },
    {
     "name": "stdout",
     "output_type": "stream",
     "text": [
      "Data for GNFC saved.\n"
     ]
    },
    {
     "name": "stderr",
     "output_type": "stream",
     "text": [
      "[*********************100%***********************]  1 of 1 completed\n"
     ]
    },
    {
     "name": "stdout",
     "output_type": "stream",
     "text": [
      "Data for GPPL saved.\n"
     ]
    },
    {
     "name": "stderr",
     "output_type": "stream",
     "text": [
      "[*********************100%***********************]  1 of 1 completed\n"
     ]
    },
    {
     "name": "stdout",
     "output_type": "stream",
     "text": [
      "Data for GSFC saved.\n"
     ]
    },
    {
     "name": "stderr",
     "output_type": "stream",
     "text": [
      "[*********************100%***********************]  1 of 1 completed\n"
     ]
    },
    {
     "name": "stdout",
     "output_type": "stream",
     "text": [
      "Data for GSPL saved.\n"
     ]
    },
    {
     "name": "stderr",
     "output_type": "stream",
     "text": [
      "[*********************100%***********************]  1 of 1 completed\n",
      "[*********************100%***********************]  1 of 1 completed\n"
     ]
    },
    {
     "name": "stdout",
     "output_type": "stream",
     "text": [
      "Data for HEG saved.\n",
      "Data for HBLENGINE saved.\n"
     ]
    },
    {
     "name": "stderr",
     "output_type": "stream",
     "text": [
      "[*********************100%***********************]  1 of 1 completed\n"
     ]
    },
    {
     "name": "stdout",
     "output_type": "stream",
     "text": [
      "Data for HCLTECH saved.\n"
     ]
    },
    {
     "name": "stderr",
     "output_type": "stream",
     "text": [
      "[*********************100%***********************]  1 of 1 completed\n"
     ]
    },
    {
     "name": "stdout",
     "output_type": "stream",
     "text": [
      "Data for HDFCAMC saved.\n"
     ]
    },
    {
     "name": "stderr",
     "output_type": "stream",
     "text": [
      "[*********************100%***********************]  1 of 1 completed\n"
     ]
    },
    {
     "name": "stdout",
     "output_type": "stream",
     "text": [
      "Data for HDFCBANK saved.\n"
     ]
    },
    {
     "name": "stderr",
     "output_type": "stream",
     "text": [
      "[*********************100%***********************]  1 of 1 completed\n"
     ]
    },
    {
     "name": "stdout",
     "output_type": "stream",
     "text": [
      "Data for HDFCLIFE saved.\n"
     ]
    },
    {
     "name": "stderr",
     "output_type": "stream",
     "text": [
      "[*********************100%***********************]  1 of 1 completed\n"
     ]
    },
    {
     "name": "stdout",
     "output_type": "stream",
     "text": [
      "Data for HFCL saved.\n"
     ]
    },
    {
     "name": "stderr",
     "output_type": "stream",
     "text": [
      "[*********************100%***********************]  1 of 1 completed\n"
     ]
    },
    {
     "name": "stdout",
     "output_type": "stream",
     "text": [
      "Data for HAPPSTMNDS saved.\n"
     ]
    },
    {
     "name": "stderr",
     "output_type": "stream",
     "text": [
      "[*********************100%***********************]  1 of 1 completed\n"
     ]
    },
    {
     "name": "stdout",
     "output_type": "stream",
     "text": [
      "Data for HAVELLS saved.\n"
     ]
    },
    {
     "name": "stderr",
     "output_type": "stream",
     "text": [
      "[*********************100%***********************]  1 of 1 completed\n"
     ]
    },
    {
     "name": "stdout",
     "output_type": "stream",
     "text": [
      "Data for HEROMOTOCO saved.\n"
     ]
    },
    {
     "name": "stderr",
     "output_type": "stream",
     "text": [
      "[*********************100%***********************]  1 of 1 completed\n"
     ]
    },
    {
     "name": "stdout",
     "output_type": "stream",
     "text": [
      "Data for HSCL saved.\n"
     ]
    },
    {
     "name": "stderr",
     "output_type": "stream",
     "text": [
      "[*********************100%***********************]  1 of 1 completed\n"
     ]
    },
    {
     "name": "stdout",
     "output_type": "stream",
     "text": [
      "Data for HINDALCO saved.\n"
     ]
    },
    {
     "name": "stderr",
     "output_type": "stream",
     "text": [
      "[*********************100%***********************]  1 of 1 completed\n"
     ]
    },
    {
     "name": "stdout",
     "output_type": "stream",
     "text": [
      "Data for HAL saved.\n"
     ]
    },
    {
     "name": "stderr",
     "output_type": "stream",
     "text": [
      "[*********************100%***********************]  1 of 1 completed\n"
     ]
    },
    {
     "name": "stdout",
     "output_type": "stream",
     "text": [
      "Data for HINDCOPPER saved.\n"
     ]
    },
    {
     "name": "stderr",
     "output_type": "stream",
     "text": [
      "[*********************100%***********************]  1 of 1 completed\n"
     ]
    },
    {
     "name": "stdout",
     "output_type": "stream",
     "text": [
      "Data for HINDPETRO saved.\n"
     ]
    },
    {
     "name": "stderr",
     "output_type": "stream",
     "text": [
      "[*********************100%***********************]  1 of 1 completed\n"
     ]
    },
    {
     "name": "stdout",
     "output_type": "stream",
     "text": [
      "Data for HINDUNILVR saved.\n"
     ]
    },
    {
     "name": "stderr",
     "output_type": "stream",
     "text": [
      "[*********************100%***********************]  1 of 1 completed\n"
     ]
    },
    {
     "name": "stdout",
     "output_type": "stream",
     "text": [
      "Data for HINDZINC saved.\n"
     ]
    },
    {
     "name": "stderr",
     "output_type": "stream",
     "text": [
      "[*********************100%***********************]  1 of 1 completed\n"
     ]
    },
    {
     "name": "stdout",
     "output_type": "stream",
     "text": [
      "Data for POWERINDIA saved.\n"
     ]
    },
    {
     "name": "stderr",
     "output_type": "stream",
     "text": [
      "[*********************100%***********************]  1 of 1 completed\n",
      "[*********************100%***********************]  1 of 1 completed"
     ]
    },
    {
     "name": "stdout",
     "output_type": "stream",
     "text": [
      "Data for HOMEFIRST saved.\n"
     ]
    },
    {
     "name": "stderr",
     "output_type": "stream",
     "text": [
      "\n"
     ]
    },
    {
     "name": "stdout",
     "output_type": "stream",
     "text": [
      "Data for HONASA saved.\n"
     ]
    },
    {
     "name": "stderr",
     "output_type": "stream",
     "text": [
      "[*********************100%***********************]  1 of 1 completed\n"
     ]
    },
    {
     "name": "stdout",
     "output_type": "stream",
     "text": [
      "Data for HONAUT saved.\n"
     ]
    },
    {
     "name": "stderr",
     "output_type": "stream",
     "text": [
      "[*********************100%***********************]  1 of 1 completed\n"
     ]
    },
    {
     "name": "stdout",
     "output_type": "stream",
     "text": [
      "Data for HUDCO saved.\n"
     ]
    },
    {
     "name": "stderr",
     "output_type": "stream",
     "text": [
      "[*********************100%***********************]  1 of 1 completed\n"
     ]
    },
    {
     "name": "stdout",
     "output_type": "stream",
     "text": [
      "Data for ICICIBANK saved.\n"
     ]
    },
    {
     "name": "stderr",
     "output_type": "stream",
     "text": [
      "[*********************100%***********************]  1 of 1 completed\n"
     ]
    },
    {
     "name": "stdout",
     "output_type": "stream",
     "text": [
      "Data for ICICIGI saved.\n"
     ]
    },
    {
     "name": "stderr",
     "output_type": "stream",
     "text": [
      "[*********************100%***********************]  1 of 1 completed\n"
     ]
    },
    {
     "name": "stdout",
     "output_type": "stream",
     "text": [
      "Data for ICICIPRULI saved.\n"
     ]
    },
    {
     "name": "stderr",
     "output_type": "stream",
     "text": [
      "[*********************100%***********************]  1 of 1 completed\n"
     ]
    },
    {
     "name": "stdout",
     "output_type": "stream",
     "text": [
      "Data for ISEC saved.\n"
     ]
    },
    {
     "name": "stderr",
     "output_type": "stream",
     "text": [
      "[*********************100%***********************]  1 of 1 completed\n"
     ]
    },
    {
     "name": "stdout",
     "output_type": "stream",
     "text": [
      "Data for IDBI saved.\n"
     ]
    },
    {
     "name": "stderr",
     "output_type": "stream",
     "text": [
      "[*********************100%***********************]  1 of 1 completed\n"
     ]
    },
    {
     "name": "stdout",
     "output_type": "stream",
     "text": [
      "Data for IDFCFIRSTB saved.\n"
     ]
    },
    {
     "name": "stderr",
     "output_type": "stream",
     "text": [
      "[*********************100%***********************]  1 of 1 completed\n"
     ]
    },
    {
     "name": "stdout",
     "output_type": "stream",
     "text": [
      "Data for IFCI saved.\n"
     ]
    },
    {
     "name": "stderr",
     "output_type": "stream",
     "text": [
      "[*********************100%***********************]  1 of 1 completed\n",
      "[*********************100%***********************]  1 of 1 completed"
     ]
    },
    {
     "name": "stdout",
     "output_type": "stream",
     "text": [
      "Data for IIFL saved.\n",
      "Data for INOXINDIA saved.\n"
     ]
    },
    {
     "name": "stderr",
     "output_type": "stream",
     "text": [
      "\n",
      "[*********************100%***********************]  1 of 1 completed\n"
     ]
    },
    {
     "name": "stdout",
     "output_type": "stream",
     "text": [
      "Data for IRB saved.\n"
     ]
    },
    {
     "name": "stderr",
     "output_type": "stream",
     "text": [
      "[*********************100%***********************]  1 of 1 completed\n"
     ]
    },
    {
     "name": "stdout",
     "output_type": "stream",
     "text": [
      "Data for IRCON saved.\n"
     ]
    },
    {
     "name": "stderr",
     "output_type": "stream",
     "text": [
      "[*********************100%***********************]  1 of 1 completed\n"
     ]
    },
    {
     "name": "stdout",
     "output_type": "stream",
     "text": [
      "Data for ITC saved.\n"
     ]
    },
    {
     "name": "stderr",
     "output_type": "stream",
     "text": [
      "[*********************100%***********************]  1 of 1 completed\n"
     ]
    },
    {
     "name": "stdout",
     "output_type": "stream",
     "text": [
      "Data for ITI saved.\n"
     ]
    },
    {
     "name": "stderr",
     "output_type": "stream",
     "text": [
      "[*********************100%***********************]  1 of 1 completed\n"
     ]
    },
    {
     "name": "stdout",
     "output_type": "stream",
     "text": [
      "Data for INDGN saved.\n"
     ]
    },
    {
     "name": "stderr",
     "output_type": "stream",
     "text": [
      "[*********************100%***********************]  1 of 1 completed\n"
     ]
    },
    {
     "name": "stdout",
     "output_type": "stream",
     "text": [
      "Data for INDIACEM saved.\n"
     ]
    },
    {
     "name": "stderr",
     "output_type": "stream",
     "text": [
      "[*********************100%***********************]  1 of 1 completed\n"
     ]
    },
    {
     "name": "stdout",
     "output_type": "stream",
     "text": [
      "Data for INDIAMART saved.\n"
     ]
    },
    {
     "name": "stderr",
     "output_type": "stream",
     "text": [
      "[*********************100%***********************]  1 of 1 completed\n"
     ]
    },
    {
     "name": "stdout",
     "output_type": "stream",
     "text": [
      "Data for INDIANB saved.\n"
     ]
    },
    {
     "name": "stderr",
     "output_type": "stream",
     "text": [
      "[*********************100%***********************]  1 of 1 completed\n"
     ]
    },
    {
     "name": "stdout",
     "output_type": "stream",
     "text": [
      "Data for IEX saved.\n"
     ]
    },
    {
     "name": "stderr",
     "output_type": "stream",
     "text": [
      "[*********************100%***********************]  1 of 1 completed\n"
     ]
    },
    {
     "name": "stdout",
     "output_type": "stream",
     "text": [
      "Data for INDHOTEL saved.\n"
     ]
    },
    {
     "name": "stderr",
     "output_type": "stream",
     "text": [
      "[*********************100%***********************]  1 of 1 completed\n"
     ]
    },
    {
     "name": "stdout",
     "output_type": "stream",
     "text": [
      "Data for IOC saved.\n"
     ]
    },
    {
     "name": "stderr",
     "output_type": "stream",
     "text": [
      "[*********************100%***********************]  1 of 1 completed\n"
     ]
    },
    {
     "name": "stdout",
     "output_type": "stream",
     "text": [
      "Data for IOB saved.\n"
     ]
    },
    {
     "name": "stderr",
     "output_type": "stream",
     "text": [
      "[*********************100%***********************]  1 of 1 completed\n"
     ]
    },
    {
     "name": "stdout",
     "output_type": "stream",
     "text": [
      "Data for IRCTC saved.\n"
     ]
    },
    {
     "name": "stderr",
     "output_type": "stream",
     "text": [
      "[*********************100%***********************]  1 of 1 completed\n",
      "[*********************100%***********************]  1 of 1 completed"
     ]
    },
    {
     "name": "stdout",
     "output_type": "stream",
     "text": [
      "Data for IRFC saved.\n"
     ]
    },
    {
     "name": "stderr",
     "output_type": "stream",
     "text": [
      "\n"
     ]
    },
    {
     "name": "stdout",
     "output_type": "stream",
     "text": [
      "Data for IREDA saved.\n"
     ]
    },
    {
     "name": "stderr",
     "output_type": "stream",
     "text": [
      "[*********************100%***********************]  1 of 1 completed\n"
     ]
    },
    {
     "name": "stdout",
     "output_type": "stream",
     "text": [
      "Data for IGL saved.\n"
     ]
    },
    {
     "name": "stderr",
     "output_type": "stream",
     "text": [
      "[*********************100%***********************]  1 of 1 completed\n"
     ]
    },
    {
     "name": "stdout",
     "output_type": "stream",
     "text": [
      "Data for INDUSTOWER saved.\n"
     ]
    },
    {
     "name": "stderr",
     "output_type": "stream",
     "text": [
      "[*********************100%***********************]  1 of 1 completed\n"
     ]
    },
    {
     "name": "stdout",
     "output_type": "stream",
     "text": [
      "Data for INDUSINDBK saved.\n"
     ]
    },
    {
     "name": "stderr",
     "output_type": "stream",
     "text": [
      "[*********************100%***********************]  1 of 1 completed\n"
     ]
    },
    {
     "name": "stdout",
     "output_type": "stream",
     "text": [
      "Data for NAUKRI saved.\n"
     ]
    },
    {
     "name": "stderr",
     "output_type": "stream",
     "text": [
      "[*********************100%***********************]  1 of 1 completed\n"
     ]
    },
    {
     "name": "stdout",
     "output_type": "stream",
     "text": [
      "Data for INFY saved.\n"
     ]
    },
    {
     "name": "stderr",
     "output_type": "stream",
     "text": [
      "[*********************100%***********************]  1 of 1 completed\n"
     ]
    },
    {
     "name": "stdout",
     "output_type": "stream",
     "text": [
      "Data for INOXWIND saved.\n"
     ]
    },
    {
     "name": "stderr",
     "output_type": "stream",
     "text": [
      "[*********************100%***********************]  1 of 1 completed\n"
     ]
    },
    {
     "name": "stdout",
     "output_type": "stream",
     "text": [
      "Data for INTELLECT saved.\n"
     ]
    },
    {
     "name": "stderr",
     "output_type": "stream",
     "text": [
      "[*********************100%***********************]  1 of 1 completed\n"
     ]
    },
    {
     "name": "stdout",
     "output_type": "stream",
     "text": [
      "Data for INDIGO saved.\n"
     ]
    },
    {
     "name": "stderr",
     "output_type": "stream",
     "text": [
      "[*********************100%***********************]  1 of 1 completed\n"
     ]
    },
    {
     "name": "stdout",
     "output_type": "stream",
     "text": [
      "Data for IPCALAB saved.\n"
     ]
    },
    {
     "name": "stderr",
     "output_type": "stream",
     "text": [
      "[*********************100%***********************]  1 of 1 completed\n"
     ]
    },
    {
     "name": "stdout",
     "output_type": "stream",
     "text": [
      "Data for JBCHEPHARM saved.\n"
     ]
    },
    {
     "name": "stderr",
     "output_type": "stream",
     "text": [
      "[*********************100%***********************]  1 of 1 completed\n"
     ]
    },
    {
     "name": "stdout",
     "output_type": "stream",
     "text": [
      "Data for JKCEMENT saved.\n"
     ]
    },
    {
     "name": "stderr",
     "output_type": "stream",
     "text": [
      "[*********************100%***********************]  1 of 1 completed\n"
     ]
    },
    {
     "name": "stdout",
     "output_type": "stream",
     "text": [
      "Data for JBMA saved.\n"
     ]
    },
    {
     "name": "stderr",
     "output_type": "stream",
     "text": [
      "[*********************100%***********************]  1 of 1 completed\n"
     ]
    },
    {
     "name": "stdout",
     "output_type": "stream",
     "text": [
      "Data for JKLAKSHMI saved.\n"
     ]
    },
    {
     "name": "stderr",
     "output_type": "stream",
     "text": [
      "[*********************100%***********************]  1 of 1 completed\n"
     ]
    },
    {
     "name": "stdout",
     "output_type": "stream",
     "text": [
      "Data for JKTYRE saved.\n"
     ]
    },
    {
     "name": "stderr",
     "output_type": "stream",
     "text": [
      "[*********************100%***********************]  1 of 1 completed\n"
     ]
    },
    {
     "name": "stdout",
     "output_type": "stream",
     "text": [
      "Data for JMFINANCIL saved.\n"
     ]
    },
    {
     "name": "stderr",
     "output_type": "stream",
     "text": [
      "[*********************100%***********************]  1 of 1 completed\n",
      "[*********************100%***********************]  1 of 1 completed"
     ]
    },
    {
     "name": "stdout",
     "output_type": "stream",
     "text": [
      "Data for JSWENERGY saved.\n"
     ]
    },
    {
     "name": "stderr",
     "output_type": "stream",
     "text": [
      "\n"
     ]
    },
    {
     "name": "stdout",
     "output_type": "stream",
     "text": [
      "Data for JSWINFRA saved.\n"
     ]
    },
    {
     "name": "stderr",
     "output_type": "stream",
     "text": [
      "[*********************100%***********************]  1 of 1 completed\n"
     ]
    },
    {
     "name": "stdout",
     "output_type": "stream",
     "text": [
      "Data for JSWSTEEL saved.\n"
     ]
    },
    {
     "name": "stderr",
     "output_type": "stream",
     "text": [
      "[*********************100%***********************]  1 of 1 completed\n"
     ]
    },
    {
     "name": "stdout",
     "output_type": "stream",
     "text": [
      "Data for JPPOWER saved.\n"
     ]
    },
    {
     "name": "stderr",
     "output_type": "stream",
     "text": [
      "[*********************100%***********************]  1 of 1 completed\n"
     ]
    },
    {
     "name": "stdout",
     "output_type": "stream",
     "text": [
      "Data for J&KBANK saved.\n"
     ]
    },
    {
     "name": "stderr",
     "output_type": "stream",
     "text": [
      "[*********************100%***********************]  1 of 1 completed\n"
     ]
    },
    {
     "name": "stdout",
     "output_type": "stream",
     "text": [
      "Data for JINDALSAW saved.\n"
     ]
    },
    {
     "name": "stderr",
     "output_type": "stream",
     "text": [
      "[*********************100%***********************]  1 of 1 completed\n"
     ]
    },
    {
     "name": "stdout",
     "output_type": "stream",
     "text": [
      "Data for JSL saved.\n"
     ]
    },
    {
     "name": "stderr",
     "output_type": "stream",
     "text": [
      "[*********************100%***********************]  1 of 1 completed\n",
      "[*********************100%***********************]  1 of 1 completed"
     ]
    },
    {
     "name": "stdout",
     "output_type": "stream",
     "text": [
      "Data for JINDALSTEL saved.\n"
     ]
    },
    {
     "name": "stderr",
     "output_type": "stream",
     "text": [
      "\n"
     ]
    },
    {
     "name": "stdout",
     "output_type": "stream",
     "text": [
      "Data for JIOFIN saved.\n"
     ]
    },
    {
     "name": "stderr",
     "output_type": "stream",
     "text": [
      "[*********************100%***********************]  1 of 1 completed\n"
     ]
    },
    {
     "name": "stdout",
     "output_type": "stream",
     "text": [
      "Data for JUBLFOOD saved.\n"
     ]
    },
    {
     "name": "stderr",
     "output_type": "stream",
     "text": [
      "[*********************100%***********************]  1 of 1 completed\n"
     ]
    },
    {
     "name": "stdout",
     "output_type": "stream",
     "text": [
      "Data for JUBLINGREA saved.\n"
     ]
    },
    {
     "name": "stderr",
     "output_type": "stream",
     "text": [
      "[*********************100%***********************]  1 of 1 completed\n"
     ]
    },
    {
     "name": "stdout",
     "output_type": "stream",
     "text": [
      "Data for JUBLPHARMA saved.\n"
     ]
    },
    {
     "name": "stderr",
     "output_type": "stream",
     "text": [
      "[*********************100%***********************]  1 of 1 completed\n"
     ]
    },
    {
     "name": "stdout",
     "output_type": "stream",
     "text": [
      "Data for JWL saved.\n"
     ]
    },
    {
     "name": "stderr",
     "output_type": "stream",
     "text": [
      "[*********************100%***********************]  1 of 1 completed\n"
     ]
    },
    {
     "name": "stdout",
     "output_type": "stream",
     "text": [
      "Data for JUSTDIAL saved.\n"
     ]
    },
    {
     "name": "stderr",
     "output_type": "stream",
     "text": [
      "[*********************100%***********************]  1 of 1 completed\n"
     ]
    },
    {
     "name": "stdout",
     "output_type": "stream",
     "text": [
      "Data for JYOTHYLAB saved.\n"
     ]
    },
    {
     "name": "stderr",
     "output_type": "stream",
     "text": [
      "[*********************100%***********************]  1 of 1 completed\n"
     ]
    },
    {
     "name": "stdout",
     "output_type": "stream",
     "text": [
      "Data for JYOTICNC saved.\n"
     ]
    },
    {
     "name": "stderr",
     "output_type": "stream",
     "text": [
      "[*********************100%***********************]  1 of 1 completed\n"
     ]
    },
    {
     "name": "stdout",
     "output_type": "stream",
     "text": [
      "Data for KPRMILL saved.\n"
     ]
    },
    {
     "name": "stderr",
     "output_type": "stream",
     "text": [
      "[*********************100%***********************]  1 of 1 completed\n"
     ]
    },
    {
     "name": "stdout",
     "output_type": "stream",
     "text": [
      "Data for KEI saved.\n"
     ]
    },
    {
     "name": "stderr",
     "output_type": "stream",
     "text": [
      "[*********************100%***********************]  1 of 1 completed\n"
     ]
    },
    {
     "name": "stdout",
     "output_type": "stream",
     "text": [
      "Data for KNRCON saved.\n"
     ]
    },
    {
     "name": "stderr",
     "output_type": "stream",
     "text": [
      "[*********************100%***********************]  1 of 1 completed\n"
     ]
    },
    {
     "name": "stdout",
     "output_type": "stream",
     "text": [
      "Data for KPITTECH saved.\n"
     ]
    },
    {
     "name": "stderr",
     "output_type": "stream",
     "text": [
      "[*********************100%***********************]  1 of 1 completed\n"
     ]
    },
    {
     "name": "stdout",
     "output_type": "stream",
     "text": [
      "Data for KSB saved.\n"
     ]
    },
    {
     "name": "stderr",
     "output_type": "stream",
     "text": [
      "[*********************100%***********************]  1 of 1 completed\n"
     ]
    },
    {
     "name": "stdout",
     "output_type": "stream",
     "text": [
      "Data for KAJARIACER saved.\n"
     ]
    },
    {
     "name": "stderr",
     "output_type": "stream",
     "text": [
      "[*********************100%***********************]  1 of 1 completed\n"
     ]
    },
    {
     "name": "stdout",
     "output_type": "stream",
     "text": [
      "Data for KPIL saved.\n"
     ]
    },
    {
     "name": "stderr",
     "output_type": "stream",
     "text": [
      "[*********************100%***********************]  1 of 1 completed\n"
     ]
    },
    {
     "name": "stdout",
     "output_type": "stream",
     "text": [
      "Data for KALYANKJIL saved.\n"
     ]
    },
    {
     "name": "stderr",
     "output_type": "stream",
     "text": [
      "[*********************100%***********************]  1 of 1 completed\n"
     ]
    },
    {
     "name": "stdout",
     "output_type": "stream",
     "text": [
      "Data for KANSAINER saved.\n"
     ]
    },
    {
     "name": "stderr",
     "output_type": "stream",
     "text": [
      "[*********************100%***********************]  1 of 1 completed\n"
     ]
    },
    {
     "name": "stdout",
     "output_type": "stream",
     "text": [
      "Data for KARURVYSYA saved.\n"
     ]
    },
    {
     "name": "stderr",
     "output_type": "stream",
     "text": [
      "[*********************100%***********************]  1 of 1 completed\n"
     ]
    },
    {
     "name": "stdout",
     "output_type": "stream",
     "text": [
      "Data for KAYNES saved.\n"
     ]
    },
    {
     "name": "stderr",
     "output_type": "stream",
     "text": [
      "[*********************100%***********************]  1 of 1 completed\n"
     ]
    },
    {
     "name": "stdout",
     "output_type": "stream",
     "text": [
      "Data for KEC saved.\n"
     ]
    },
    {
     "name": "stderr",
     "output_type": "stream",
     "text": [
      "[*********************100%***********************]  1 of 1 completed\n"
     ]
    },
    {
     "name": "stdout",
     "output_type": "stream",
     "text": [
      "Data for KFINTECH saved.\n"
     ]
    },
    {
     "name": "stderr",
     "output_type": "stream",
     "text": [
      "[*********************100%***********************]  1 of 1 completed\n"
     ]
    },
    {
     "name": "stdout",
     "output_type": "stream",
     "text": [
      "Data for KIRLOSBROS saved.\n"
     ]
    },
    {
     "name": "stderr",
     "output_type": "stream",
     "text": [
      "[*********************100%***********************]  1 of 1 completed\n"
     ]
    },
    {
     "name": "stdout",
     "output_type": "stream",
     "text": [
      "Data for KIRLOSENG saved.\n"
     ]
    },
    {
     "name": "stderr",
     "output_type": "stream",
     "text": [
      "[*********************100%***********************]  1 of 1 completed\n"
     ]
    },
    {
     "name": "stdout",
     "output_type": "stream",
     "text": [
      "Data for KOTAKBANK saved.\n"
     ]
    },
    {
     "name": "stderr",
     "output_type": "stream",
     "text": [
      "[*********************100%***********************]  1 of 1 completed\n"
     ]
    },
    {
     "name": "stdout",
     "output_type": "stream",
     "text": [
      "Data for KIMS saved.\n"
     ]
    },
    {
     "name": "stderr",
     "output_type": "stream",
     "text": [
      "[*********************100%***********************]  1 of 1 completed\n"
     ]
    },
    {
     "name": "stdout",
     "output_type": "stream",
     "text": [
      "Data for LTF saved.\n"
     ]
    },
    {
     "name": "stderr",
     "output_type": "stream",
     "text": [
      "[*********************100%***********************]  1 of 1 completed\n"
     ]
    },
    {
     "name": "stdout",
     "output_type": "stream",
     "text": [
      "Data for LTTS saved.\n"
     ]
    },
    {
     "name": "stderr",
     "output_type": "stream",
     "text": [
      "[*********************100%***********************]  1 of 1 completed\n"
     ]
    },
    {
     "name": "stdout",
     "output_type": "stream",
     "text": [
      "Data for LICHSGFIN saved.\n"
     ]
    },
    {
     "name": "stderr",
     "output_type": "stream",
     "text": [
      "[*********************100%***********************]  1 of 1 completed\n"
     ]
    },
    {
     "name": "stdout",
     "output_type": "stream",
     "text": [
      "Data for LTIM saved.\n"
     ]
    },
    {
     "name": "stderr",
     "output_type": "stream",
     "text": [
      "[*********************100%***********************]  1 of 1 completed\n"
     ]
    },
    {
     "name": "stdout",
     "output_type": "stream",
     "text": [
      "Data for LT saved.\n"
     ]
    },
    {
     "name": "stderr",
     "output_type": "stream",
     "text": [
      "[*********************100%***********************]  1 of 1 completed\n"
     ]
    },
    {
     "name": "stdout",
     "output_type": "stream",
     "text": [
      "Data for LATENTVIEW saved.\n"
     ]
    },
    {
     "name": "stderr",
     "output_type": "stream",
     "text": [
      "[*********************100%***********************]  1 of 1 completed\n"
     ]
    },
    {
     "name": "stdout",
     "output_type": "stream",
     "text": [
      "Data for LAURUSLABS saved.\n"
     ]
    },
    {
     "name": "stderr",
     "output_type": "stream",
     "text": [
      "[*********************100%***********************]  1 of 1 completed\n"
     ]
    },
    {
     "name": "stdout",
     "output_type": "stream",
     "text": [
      "Data for LEMONTREE saved.\n"
     ]
    },
    {
     "name": "stderr",
     "output_type": "stream",
     "text": [
      "[*********************100%***********************]  1 of 1 completed\n"
     ]
    },
    {
     "name": "stdout",
     "output_type": "stream",
     "text": [
      "Data for LICI saved.\n"
     ]
    },
    {
     "name": "stderr",
     "output_type": "stream",
     "text": [
      "[*********************100%***********************]  1 of 1 completed\n",
      "[*********************100%***********************]  1 of 1 completed"
     ]
    },
    {
     "name": "stdout",
     "output_type": "stream",
     "text": [
      "Data for LINDEINDIA saved.\n"
     ]
    },
    {
     "name": "stderr",
     "output_type": "stream",
     "text": [
      "\n"
     ]
    },
    {
     "name": "stdout",
     "output_type": "stream",
     "text": [
      "Data for LLOYDSME saved.\n"
     ]
    },
    {
     "name": "stderr",
     "output_type": "stream",
     "text": [
      "[*********************100%***********************]  1 of 1 completed\n"
     ]
    },
    {
     "name": "stdout",
     "output_type": "stream",
     "text": [
      "Data for LUPIN saved.\n"
     ]
    },
    {
     "name": "stderr",
     "output_type": "stream",
     "text": [
      "[*********************100%***********************]  1 of 1 completed\n"
     ]
    },
    {
     "name": "stdout",
     "output_type": "stream",
     "text": [
      "Data for MMTC saved.\n"
     ]
    },
    {
     "name": "stderr",
     "output_type": "stream",
     "text": [
      "[*********************100%***********************]  1 of 1 completed\n"
     ]
    },
    {
     "name": "stdout",
     "output_type": "stream",
     "text": [
      "Data for MRF saved.\n"
     ]
    },
    {
     "name": "stderr",
     "output_type": "stream",
     "text": [
      "[*********************100%***********************]  1 of 1 completed\n"
     ]
    },
    {
     "name": "stdout",
     "output_type": "stream",
     "text": [
      "Data for LODHA saved.\n"
     ]
    },
    {
     "name": "stderr",
     "output_type": "stream",
     "text": [
      "[*********************100%***********************]  1 of 1 completed\n"
     ]
    },
    {
     "name": "stdout",
     "output_type": "stream",
     "text": [
      "Data for MGL saved.\n"
     ]
    },
    {
     "name": "stderr",
     "output_type": "stream",
     "text": [
      "[*********************100%***********************]  1 of 1 completed\n"
     ]
    },
    {
     "name": "stdout",
     "output_type": "stream",
     "text": [
      "Data for MAHSEAMLES saved.\n"
     ]
    },
    {
     "name": "stderr",
     "output_type": "stream",
     "text": [
      "[*********************100%***********************]  1 of 1 completed\n"
     ]
    },
    {
     "name": "stdout",
     "output_type": "stream",
     "text": [
      "Data for M&MFIN saved.\n"
     ]
    },
    {
     "name": "stderr",
     "output_type": "stream",
     "text": [
      "[*********************100%***********************]  1 of 1 completed\n"
     ]
    },
    {
     "name": "stdout",
     "output_type": "stream",
     "text": [
      "Data for M&M saved.\n"
     ]
    },
    {
     "name": "stderr",
     "output_type": "stream",
     "text": [
      "[*********************100%***********************]  1 of 1 completed\n"
     ]
    },
    {
     "name": "stdout",
     "output_type": "stream",
     "text": [
      "Data for MAHLIFE saved.\n"
     ]
    },
    {
     "name": "stderr",
     "output_type": "stream",
     "text": [
      "[*********************100%***********************]  1 of 1 completed\n"
     ]
    },
    {
     "name": "stdout",
     "output_type": "stream",
     "text": [
      "Data for MANAPPURAM saved.\n"
     ]
    },
    {
     "name": "stderr",
     "output_type": "stream",
     "text": [
      "[*********************100%***********************]  1 of 1 completed\n",
      "[*********************100%***********************]  1 of 1 completed"
     ]
    },
    {
     "name": "stdout",
     "output_type": "stream",
     "text": [
      "Data for MRPL saved.\n"
     ]
    },
    {
     "name": "stderr",
     "output_type": "stream",
     "text": [
      "\n"
     ]
    },
    {
     "name": "stdout",
     "output_type": "stream",
     "text": [
      "Data for MANKIND saved.\n"
     ]
    },
    {
     "name": "stderr",
     "output_type": "stream",
     "text": [
      "[*********************100%***********************]  1 of 1 completed\n"
     ]
    },
    {
     "name": "stdout",
     "output_type": "stream",
     "text": [
      "Data for MARICO saved.\n"
     ]
    },
    {
     "name": "stderr",
     "output_type": "stream",
     "text": [
      "[*********************100%***********************]  1 of 1 completed\n"
     ]
    },
    {
     "name": "stdout",
     "output_type": "stream",
     "text": [
      "Data for MARUTI saved.\n"
     ]
    },
    {
     "name": "stderr",
     "output_type": "stream",
     "text": [
      "[*********************100%***********************]  1 of 1 completed\n"
     ]
    },
    {
     "name": "stdout",
     "output_type": "stream",
     "text": [
      "Data for MASTEK saved.\n"
     ]
    },
    {
     "name": "stderr",
     "output_type": "stream",
     "text": [
      "[*********************100%***********************]  1 of 1 completed\n"
     ]
    },
    {
     "name": "stdout",
     "output_type": "stream",
     "text": [
      "Data for MFSL saved.\n"
     ]
    },
    {
     "name": "stderr",
     "output_type": "stream",
     "text": [
      "[*********************100%***********************]  1 of 1 completed\n"
     ]
    },
    {
     "name": "stdout",
     "output_type": "stream",
     "text": [
      "Data for MAXHEALTH saved.\n"
     ]
    },
    {
     "name": "stderr",
     "output_type": "stream",
     "text": [
      "[*********************100%***********************]  1 of 1 completed\n"
     ]
    },
    {
     "name": "stdout",
     "output_type": "stream",
     "text": [
      "Data for MAZDOCK saved.\n"
     ]
    },
    {
     "name": "stderr",
     "output_type": "stream",
     "text": [
      "[*********************100%***********************]  1 of 1 completed\n"
     ]
    },
    {
     "name": "stdout",
     "output_type": "stream",
     "text": [
      "Data for METROBRAND saved.\n"
     ]
    },
    {
     "name": "stderr",
     "output_type": "stream",
     "text": [
      "[*********************100%***********************]  1 of 1 completed\n"
     ]
    },
    {
     "name": "stdout",
     "output_type": "stream",
     "text": [
      "Data for METROPOLIS saved.\n"
     ]
    },
    {
     "name": "stderr",
     "output_type": "stream",
     "text": [
      "[*********************100%***********************]  1 of 1 completed\n"
     ]
    },
    {
     "name": "stdout",
     "output_type": "stream",
     "text": [
      "Data for MINDACORP saved.\n"
     ]
    },
    {
     "name": "stderr",
     "output_type": "stream",
     "text": [
      "[*********************100%***********************]  1 of 1 completed\n"
     ]
    },
    {
     "name": "stdout",
     "output_type": "stream",
     "text": [
      "Data for MSUMI saved.\n"
     ]
    },
    {
     "name": "stderr",
     "output_type": "stream",
     "text": [
      "[*********************100%***********************]  1 of 1 completed\n"
     ]
    },
    {
     "name": "stdout",
     "output_type": "stream",
     "text": [
      "Data for MOTILALOFS saved.\n"
     ]
    },
    {
     "name": "stderr",
     "output_type": "stream",
     "text": [
      "[*********************100%***********************]  1 of 1 completed\n"
     ]
    },
    {
     "name": "stdout",
     "output_type": "stream",
     "text": [
      "Data for MPHASIS saved.\n"
     ]
    },
    {
     "name": "stderr",
     "output_type": "stream",
     "text": [
      "[*********************100%***********************]  1 of 1 completed\n"
     ]
    },
    {
     "name": "stdout",
     "output_type": "stream",
     "text": [
      "Data for MCX saved.\n"
     ]
    },
    {
     "name": "stderr",
     "output_type": "stream",
     "text": [
      "[*********************100%***********************]  1 of 1 completed\n"
     ]
    },
    {
     "name": "stdout",
     "output_type": "stream",
     "text": [
      "Data for MUTHOOTFIN saved.\n"
     ]
    },
    {
     "name": "stderr",
     "output_type": "stream",
     "text": [
      "[*********************100%***********************]  1 of 1 completed\n"
     ]
    },
    {
     "name": "stdout",
     "output_type": "stream",
     "text": [
      "Data for NATCOPHARM saved.\n"
     ]
    },
    {
     "name": "stderr",
     "output_type": "stream",
     "text": [
      "[*********************100%***********************]  1 of 1 completed\n"
     ]
    },
    {
     "name": "stdout",
     "output_type": "stream",
     "text": [
      "Data for NBCC saved.\n"
     ]
    },
    {
     "name": "stderr",
     "output_type": "stream",
     "text": [
      "[*********************100%***********************]  1 of 1 completed\n"
     ]
    },
    {
     "name": "stdout",
     "output_type": "stream",
     "text": [
      "Data for NCC saved.\n"
     ]
    },
    {
     "name": "stderr",
     "output_type": "stream",
     "text": [
      "[*********************100%***********************]  1 of 1 completed\n"
     ]
    },
    {
     "name": "stdout",
     "output_type": "stream",
     "text": [
      "Data for NHPC saved.\n"
     ]
    },
    {
     "name": "stderr",
     "output_type": "stream",
     "text": [
      "[*********************100%***********************]  1 of 1 completed\n"
     ]
    },
    {
     "name": "stdout",
     "output_type": "stream",
     "text": [
      "Data for NLCINDIA saved.\n"
     ]
    },
    {
     "name": "stderr",
     "output_type": "stream",
     "text": [
      "[*********************100%***********************]  1 of 1 completed\n"
     ]
    },
    {
     "name": "stdout",
     "output_type": "stream",
     "text": [
      "Data for NMDC saved.\n"
     ]
    },
    {
     "name": "stderr",
     "output_type": "stream",
     "text": [
      "[*********************100%***********************]  1 of 1 completed\n"
     ]
    },
    {
     "name": "stdout",
     "output_type": "stream",
     "text": [
      "Data for NSLNISP saved.\n"
     ]
    },
    {
     "name": "stderr",
     "output_type": "stream",
     "text": [
      "[*********************100%***********************]  1 of 1 completed\n"
     ]
    },
    {
     "name": "stdout",
     "output_type": "stream",
     "text": [
      "Data for NTPC saved.\n"
     ]
    },
    {
     "name": "stderr",
     "output_type": "stream",
     "text": [
      "[*********************100%***********************]  1 of 1 completed\n"
     ]
    },
    {
     "name": "stdout",
     "output_type": "stream",
     "text": [
      "Data for NH saved.\n"
     ]
    },
    {
     "name": "stderr",
     "output_type": "stream",
     "text": [
      "[*********************100%***********************]  1 of 1 completed\n"
     ]
    },
    {
     "name": "stdout",
     "output_type": "stream",
     "text": [
      "Data for NATIONALUM saved.\n"
     ]
    },
    {
     "name": "stderr",
     "output_type": "stream",
     "text": [
      "[*********************100%***********************]  1 of 1 completed\n"
     ]
    },
    {
     "name": "stdout",
     "output_type": "stream",
     "text": [
      "Data for NAVINFLUOR saved.\n"
     ]
    },
    {
     "name": "stderr",
     "output_type": "stream",
     "text": [
      "[*********************100%***********************]  1 of 1 completed\n",
      "[*********************100%***********************]  1 of 1 completed"
     ]
    },
    {
     "name": "stdout",
     "output_type": "stream",
     "text": [
      "Data for NESTLEIND saved.\n",
      "Data for NETWEB saved.\n"
     ]
    },
    {
     "name": "stderr",
     "output_type": "stream",
     "text": [
      "\n",
      "[*********************100%***********************]  1 of 1 completed\n"
     ]
    },
    {
     "name": "stdout",
     "output_type": "stream",
     "text": [
      "Data for NETWORK18 saved.\n"
     ]
    },
    {
     "name": "stderr",
     "output_type": "stream",
     "text": [
      "[*********************100%***********************]  1 of 1 completed\n"
     ]
    },
    {
     "name": "stdout",
     "output_type": "stream",
     "text": [
      "Data for NEWGEN saved.\n"
     ]
    },
    {
     "name": "stderr",
     "output_type": "stream",
     "text": [
      "[*********************100%***********************]  1 of 1 completed\n"
     ]
    },
    {
     "name": "stdout",
     "output_type": "stream",
     "text": [
      "Data for NAM-INDIA saved.\n"
     ]
    },
    {
     "name": "stderr",
     "output_type": "stream",
     "text": [
      "[*********************100%***********************]  1 of 1 completed\n"
     ]
    },
    {
     "name": "stdout",
     "output_type": "stream",
     "text": [
      "Data for NUVAMA saved.\n"
     ]
    },
    {
     "name": "stderr",
     "output_type": "stream",
     "text": [
      "[*********************100%***********************]  1 of 1 completed\n"
     ]
    },
    {
     "name": "stdout",
     "output_type": "stream",
     "text": [
      "Data for NUVOCO saved.\n"
     ]
    },
    {
     "name": "stderr",
     "output_type": "stream",
     "text": [
      "[*********************100%***********************]  1 of 1 completed\n"
     ]
    },
    {
     "name": "stdout",
     "output_type": "stream",
     "text": [
      "Data for OBEROIRLTY saved.\n"
     ]
    },
    {
     "name": "stderr",
     "output_type": "stream",
     "text": [
      "[*********************100%***********************]  1 of 1 completed\n"
     ]
    },
    {
     "name": "stdout",
     "output_type": "stream",
     "text": [
      "Data for ONGC saved.\n"
     ]
    },
    {
     "name": "stderr",
     "output_type": "stream",
     "text": [
      "[*********************100%***********************]  1 of 1 completed\n"
     ]
    },
    {
     "name": "stdout",
     "output_type": "stream",
     "text": [
      "Data for OIL saved.\n"
     ]
    },
    {
     "name": "stderr",
     "output_type": "stream",
     "text": [
      "[*********************100%***********************]  1 of 1 completed\n"
     ]
    },
    {
     "name": "stdout",
     "output_type": "stream",
     "text": [
      "Data for OLECTRA saved.\n"
     ]
    },
    {
     "name": "stderr",
     "output_type": "stream",
     "text": [
      "[*********************100%***********************]  1 of 1 completed\n"
     ]
    },
    {
     "name": "stdout",
     "output_type": "stream",
     "text": [
      "Data for PAYTM saved.\n"
     ]
    },
    {
     "name": "stderr",
     "output_type": "stream",
     "text": [
      "[*********************100%***********************]  1 of 1 completed\n"
     ]
    },
    {
     "name": "stdout",
     "output_type": "stream",
     "text": [
      "Data for OFSS saved.\n"
     ]
    },
    {
     "name": "stderr",
     "output_type": "stream",
     "text": [
      "[*********************100%***********************]  1 of 1 completed\n"
     ]
    },
    {
     "name": "stdout",
     "output_type": "stream",
     "text": [
      "Data for POLICYBZR saved.\n"
     ]
    },
    {
     "name": "stderr",
     "output_type": "stream",
     "text": [
      "[*********************100%***********************]  1 of 1 completed\n"
     ]
    },
    {
     "name": "stdout",
     "output_type": "stream",
     "text": [
      "Data for PCBL saved.\n"
     ]
    },
    {
     "name": "stderr",
     "output_type": "stream",
     "text": [
      "[*********************100%***********************]  1 of 1 completed\n"
     ]
    },
    {
     "name": "stdout",
     "output_type": "stream",
     "text": [
      "Data for PIIND saved.\n"
     ]
    },
    {
     "name": "stderr",
     "output_type": "stream",
     "text": [
      "[*********************100%***********************]  1 of 1 completed\n"
     ]
    },
    {
     "name": "stdout",
     "output_type": "stream",
     "text": [
      "Data for PNBHOUSING saved.\n"
     ]
    },
    {
     "name": "stderr",
     "output_type": "stream",
     "text": [
      "[*********************100%***********************]  1 of 1 completed\n",
      "[*********************100%***********************]  1 of 1 completed"
     ]
    },
    {
     "name": "stdout",
     "output_type": "stream",
     "text": [
      "Data for PNCINFRA saved.\n"
     ]
    },
    {
     "name": "stderr",
     "output_type": "stream",
     "text": [
      "\n"
     ]
    },
    {
     "name": "stdout",
     "output_type": "stream",
     "text": [
      "Data for PTCIL saved.\n"
     ]
    },
    {
     "name": "stderr",
     "output_type": "stream",
     "text": [
      "[*********************100%***********************]  1 of 1 completed\n"
     ]
    },
    {
     "name": "stdout",
     "output_type": "stream",
     "text": [
      "Data for PVRINOX saved.\n"
     ]
    },
    {
     "name": "stderr",
     "output_type": "stream",
     "text": [
      "[*********************100%***********************]  1 of 1 completed\n"
     ]
    },
    {
     "name": "stdout",
     "output_type": "stream",
     "text": [
      "Data for PAGEIND saved.\n"
     ]
    },
    {
     "name": "stderr",
     "output_type": "stream",
     "text": [
      "[*********************100%***********************]  1 of 1 completed\n"
     ]
    },
    {
     "name": "stdout",
     "output_type": "stream",
     "text": [
      "Data for PATANJALI saved.\n"
     ]
    },
    {
     "name": "stderr",
     "output_type": "stream",
     "text": [
      "[*********************100%***********************]  1 of 1 completed\n"
     ]
    },
    {
     "name": "stdout",
     "output_type": "stream",
     "text": [
      "Data for PERSISTENT saved.\n"
     ]
    },
    {
     "name": "stderr",
     "output_type": "stream",
     "text": [
      "[*********************100%***********************]  1 of 1 completed\n"
     ]
    },
    {
     "name": "stdout",
     "output_type": "stream",
     "text": [
      "Data for PETRONET saved.\n"
     ]
    },
    {
     "name": "stderr",
     "output_type": "stream",
     "text": [
      "[*********************100%***********************]  1 of 1 completed\n"
     ]
    },
    {
     "name": "stdout",
     "output_type": "stream",
     "text": [
      "Data for PFIZER saved.\n"
     ]
    },
    {
     "name": "stderr",
     "output_type": "stream",
     "text": [
      "[*********************100%***********************]  1 of 1 completed\n"
     ]
    },
    {
     "name": "stdout",
     "output_type": "stream",
     "text": [
      "Data for PHOENIXLTD saved.\n"
     ]
    },
    {
     "name": "stderr",
     "output_type": "stream",
     "text": [
      "[*********************100%***********************]  1 of 1 completed\n"
     ]
    },
    {
     "name": "stdout",
     "output_type": "stream",
     "text": [
      "Data for PIDILITIND saved.\n"
     ]
    },
    {
     "name": "stderr",
     "output_type": "stream",
     "text": [
      "[*********************100%***********************]  1 of 1 completed\n"
     ]
    },
    {
     "name": "stdout",
     "output_type": "stream",
     "text": [
      "Data for PEL saved.\n"
     ]
    },
    {
     "name": "stderr",
     "output_type": "stream",
     "text": [
      "[*********************100%***********************]  1 of 1 completed\n"
     ]
    },
    {
     "name": "stdout",
     "output_type": "stream",
     "text": [
      "Data for PPLPHARMA saved.\n"
     ]
    },
    {
     "name": "stderr",
     "output_type": "stream",
     "text": [
      "[*********************100%***********************]  1 of 1 completed\n"
     ]
    },
    {
     "name": "stdout",
     "output_type": "stream",
     "text": [
      "Data for POLYMED saved.\n"
     ]
    },
    {
     "name": "stderr",
     "output_type": "stream",
     "text": [
      "[*********************100%***********************]  1 of 1 completed\n"
     ]
    },
    {
     "name": "stdout",
     "output_type": "stream",
     "text": [
      "Data for POLYCAB saved.\n"
     ]
    },
    {
     "name": "stderr",
     "output_type": "stream",
     "text": [
      "[*********************100%***********************]  1 of 1 completed\n"
     ]
    },
    {
     "name": "stdout",
     "output_type": "stream",
     "text": [
      "Data for POONAWALLA saved.\n"
     ]
    },
    {
     "name": "stderr",
     "output_type": "stream",
     "text": [
      "[*********************100%***********************]  1 of 1 completed\n"
     ]
    },
    {
     "name": "stdout",
     "output_type": "stream",
     "text": [
      "Data for PFC saved.\n"
     ]
    },
    {
     "name": "stderr",
     "output_type": "stream",
     "text": [
      "[*********************100%***********************]  1 of 1 completed\n"
     ]
    },
    {
     "name": "stdout",
     "output_type": "stream",
     "text": [
      "Data for POWERGRID saved.\n"
     ]
    },
    {
     "name": "stderr",
     "output_type": "stream",
     "text": [
      "[*********************100%***********************]  1 of 1 completed\n"
     ]
    },
    {
     "name": "stdout",
     "output_type": "stream",
     "text": [
      "Data for PRAJIND saved.\n"
     ]
    },
    {
     "name": "stderr",
     "output_type": "stream",
     "text": [
      "[*********************100%***********************]  1 of 1 completed\n"
     ]
    },
    {
     "name": "stdout",
     "output_type": "stream",
     "text": [
      "Data for PRESTIGE saved.\n"
     ]
    },
    {
     "name": "stderr",
     "output_type": "stream",
     "text": [
      "[*********************100%***********************]  1 of 1 completed\n"
     ]
    },
    {
     "name": "stdout",
     "output_type": "stream",
     "text": [
      "Data for PGHH saved.\n"
     ]
    },
    {
     "name": "stderr",
     "output_type": "stream",
     "text": [
      "[*********************100%***********************]  1 of 1 completed\n"
     ]
    },
    {
     "name": "stdout",
     "output_type": "stream",
     "text": [
      "Data for PNB saved.\n"
     ]
    },
    {
     "name": "stderr",
     "output_type": "stream",
     "text": [
      "[*********************100%***********************]  1 of 1 completed\n"
     ]
    },
    {
     "name": "stdout",
     "output_type": "stream",
     "text": [
      "Data for QUESS saved.\n"
     ]
    },
    {
     "name": "stderr",
     "output_type": "stream",
     "text": [
      "[*********************100%***********************]  1 of 1 completed\n"
     ]
    },
    {
     "name": "stdout",
     "output_type": "stream",
     "text": [
      "Data for RRKABEL saved.\n"
     ]
    },
    {
     "name": "stderr",
     "output_type": "stream",
     "text": [
      "[*********************100%***********************]  1 of 1 completed\n"
     ]
    },
    {
     "name": "stdout",
     "output_type": "stream",
     "text": [
      "Data for RBLBANK saved.\n"
     ]
    },
    {
     "name": "stderr",
     "output_type": "stream",
     "text": [
      "[*********************100%***********************]  1 of 1 completed\n"
     ]
    },
    {
     "name": "stdout",
     "output_type": "stream",
     "text": [
      "Data for RECLTD saved.\n"
     ]
    },
    {
     "name": "stderr",
     "output_type": "stream",
     "text": [
      "[*********************100%***********************]  1 of 1 completed\n"
     ]
    },
    {
     "name": "stdout",
     "output_type": "stream",
     "text": [
      "Data for RHIM saved.\n"
     ]
    },
    {
     "name": "stderr",
     "output_type": "stream",
     "text": [
      "[*********************100%***********************]  1 of 1 completed\n"
     ]
    },
    {
     "name": "stdout",
     "output_type": "stream",
     "text": [
      "Data for RITES saved.\n"
     ]
    },
    {
     "name": "stderr",
     "output_type": "stream",
     "text": [
      "[*********************100%***********************]  1 of 1 completed\n"
     ]
    },
    {
     "name": "stdout",
     "output_type": "stream",
     "text": [
      "Data for RADICO saved.\n"
     ]
    },
    {
     "name": "stderr",
     "output_type": "stream",
     "text": [
      "[*********************100%***********************]  1 of 1 completed\n"
     ]
    },
    {
     "name": "stdout",
     "output_type": "stream",
     "text": [
      "Data for RVNL saved.\n"
     ]
    },
    {
     "name": "stderr",
     "output_type": "stream",
     "text": [
      "[*********************100%***********************]  1 of 1 completed\n"
     ]
    },
    {
     "name": "stdout",
     "output_type": "stream",
     "text": [
      "Data for RAILTEL saved.\n"
     ]
    },
    {
     "name": "stderr",
     "output_type": "stream",
     "text": [
      "[*********************100%***********************]  1 of 1 completed\n"
     ]
    },
    {
     "name": "stdout",
     "output_type": "stream",
     "text": [
      "Data for RAINBOW saved.\n"
     ]
    },
    {
     "name": "stderr",
     "output_type": "stream",
     "text": [
      "[*********************100%***********************]  1 of 1 completed\n"
     ]
    },
    {
     "name": "stdout",
     "output_type": "stream",
     "text": [
      "Data for RAJESHEXPO saved.\n"
     ]
    },
    {
     "name": "stderr",
     "output_type": "stream",
     "text": [
      "[*********************100%***********************]  1 of 1 completed\n"
     ]
    },
    {
     "name": "stdout",
     "output_type": "stream",
     "text": [
      "Data for RKFORGE saved.\n"
     ]
    },
    {
     "name": "stderr",
     "output_type": "stream",
     "text": [
      "[*********************100%***********************]  1 of 1 completed\n"
     ]
    },
    {
     "name": "stdout",
     "output_type": "stream",
     "text": [
      "Data for RCF saved.\n"
     ]
    },
    {
     "name": "stderr",
     "output_type": "stream",
     "text": [
      "[*********************100%***********************]  1 of 1 completed\n"
     ]
    },
    {
     "name": "stdout",
     "output_type": "stream",
     "text": [
      "Data for RATNAMANI saved.\n"
     ]
    },
    {
     "name": "stderr",
     "output_type": "stream",
     "text": [
      "[*********************100%***********************]  1 of 1 completed\n"
     ]
    },
    {
     "name": "stdout",
     "output_type": "stream",
     "text": [
      "Data for RTNINDIA saved.\n"
     ]
    },
    {
     "name": "stderr",
     "output_type": "stream",
     "text": [
      "[*********************100%***********************]  1 of 1 completed\n"
     ]
    },
    {
     "name": "stdout",
     "output_type": "stream",
     "text": [
      "Data for RAYMOND saved.\n"
     ]
    },
    {
     "name": "stderr",
     "output_type": "stream",
     "text": [
      "[*********************100%***********************]  1 of 1 completed\n"
     ]
    },
    {
     "name": "stdout",
     "output_type": "stream",
     "text": [
      "Data for REDINGTON saved.\n"
     ]
    },
    {
     "name": "stderr",
     "output_type": "stream",
     "text": [
      "[*********************100%***********************]  1 of 1 completed\n"
     ]
    },
    {
     "name": "stdout",
     "output_type": "stream",
     "text": [
      "Data for RELIANCE saved.\n"
     ]
    },
    {
     "name": "stderr",
     "output_type": "stream",
     "text": [
      "[*********************100%***********************]  1 of 1 completed\n",
      "[*********************100%***********************]  1 of 1 completed"
     ]
    },
    {
     "name": "stdout",
     "output_type": "stream",
     "text": [
      "Data for ROUTE saved.\n"
     ]
    },
    {
     "name": "stderr",
     "output_type": "stream",
     "text": [
      "\n"
     ]
    },
    {
     "name": "stdout",
     "output_type": "stream",
     "text": [
      "Data for SBFC saved.\n"
     ]
    },
    {
     "name": "stderr",
     "output_type": "stream",
     "text": [
      "[*********************100%***********************]  1 of 1 completed\n"
     ]
    },
    {
     "name": "stdout",
     "output_type": "stream",
     "text": [
      "Data for SBICARD saved.\n"
     ]
    },
    {
     "name": "stderr",
     "output_type": "stream",
     "text": [
      "[*********************100%***********************]  1 of 1 completed\n"
     ]
    },
    {
     "name": "stdout",
     "output_type": "stream",
     "text": [
      "Data for SBILIFE saved.\n"
     ]
    },
    {
     "name": "stderr",
     "output_type": "stream",
     "text": [
      "[*********************100%***********************]  1 of 1 completed\n"
     ]
    },
    {
     "name": "stdout",
     "output_type": "stream",
     "text": [
      "Data for SJVN saved.\n"
     ]
    },
    {
     "name": "stderr",
     "output_type": "stream",
     "text": [
      "[*********************100%***********************]  1 of 1 completed\n"
     ]
    },
    {
     "name": "stdout",
     "output_type": "stream",
     "text": [
      "Data for SKFINDIA saved.\n"
     ]
    },
    {
     "name": "stderr",
     "output_type": "stream",
     "text": [
      "[*********************100%***********************]  1 of 1 completed\n"
     ]
    },
    {
     "name": "stdout",
     "output_type": "stream",
     "text": [
      "Data for SRF saved.\n"
     ]
    },
    {
     "name": "stderr",
     "output_type": "stream",
     "text": [
      "[*********************100%***********************]  1 of 1 completed\n"
     ]
    },
    {
     "name": "stdout",
     "output_type": "stream",
     "text": [
      "Data for SAMMAANCAP saved.\n"
     ]
    },
    {
     "name": "stderr",
     "output_type": "stream",
     "text": [
      "[*********************100%***********************]  1 of 1 completed\n"
     ]
    },
    {
     "name": "stdout",
     "output_type": "stream",
     "text": [
      "Data for MOTHERSON saved.\n"
     ]
    },
    {
     "name": "stderr",
     "output_type": "stream",
     "text": [
      "[*********************100%***********************]  1 of 1 completed\n"
     ]
    },
    {
     "name": "stdout",
     "output_type": "stream",
     "text": [
      "Data for SANOFI saved.\n"
     ]
    },
    {
     "name": "stderr",
     "output_type": "stream",
     "text": [
      "[*********************100%***********************]  1 of 1 completed\n"
     ]
    },
    {
     "name": "stdout",
     "output_type": "stream",
     "text": [
      "Data for SAPPHIRE saved.\n"
     ]
    },
    {
     "name": "stderr",
     "output_type": "stream",
     "text": [
      "[*********************100%***********************]  1 of 1 completed\n"
     ]
    },
    {
     "name": "stdout",
     "output_type": "stream",
     "text": [
      "Data for SAREGAMA saved.\n"
     ]
    },
    {
     "name": "stderr",
     "output_type": "stream",
     "text": [
      "[*********************100%***********************]  1 of 1 completed\n"
     ]
    },
    {
     "name": "stdout",
     "output_type": "stream",
     "text": [
      "Data for SCHAEFFLER saved.\n"
     ]
    },
    {
     "name": "stderr",
     "output_type": "stream",
     "text": [
      "[*********************100%***********************]  1 of 1 completed\n"
     ]
    },
    {
     "name": "stdout",
     "output_type": "stream",
     "text": [
      "Data for SCHNEIDER saved.\n"
     ]
    },
    {
     "name": "stderr",
     "output_type": "stream",
     "text": [
      "[*********************100%***********************]  1 of 1 completed\n"
     ]
    },
    {
     "name": "stdout",
     "output_type": "stream",
     "text": [
      "Data for SCI saved.\n"
     ]
    },
    {
     "name": "stderr",
     "output_type": "stream",
     "text": [
      "[*********************100%***********************]  1 of 1 completed\n"
     ]
    },
    {
     "name": "stdout",
     "output_type": "stream",
     "text": [
      "Data for SHREECEM saved.\n"
     ]
    },
    {
     "name": "stderr",
     "output_type": "stream",
     "text": [
      "[*********************100%***********************]  1 of 1 completed\n"
     ]
    },
    {
     "name": "stdout",
     "output_type": "stream",
     "text": [
      "Data for RENUKA saved.\n"
     ]
    },
    {
     "name": "stderr",
     "output_type": "stream",
     "text": [
      "[*********************100%***********************]  1 of 1 completed\n"
     ]
    },
    {
     "name": "stdout",
     "output_type": "stream",
     "text": [
      "Data for SHRIRAMFIN saved.\n"
     ]
    },
    {
     "name": "stderr",
     "output_type": "stream",
     "text": [
      "[*********************100%***********************]  1 of 1 completed\n"
     ]
    },
    {
     "name": "stdout",
     "output_type": "stream",
     "text": [
      "Data for SHYAMMETL saved.\n"
     ]
    },
    {
     "name": "stderr",
     "output_type": "stream",
     "text": [
      "[*********************100%***********************]  1 of 1 completed\n"
     ]
    },
    {
     "name": "stdout",
     "output_type": "stream",
     "text": [
      "Data for SIEMENS saved.\n"
     ]
    },
    {
     "name": "stderr",
     "output_type": "stream",
     "text": [
      "[*********************100%***********************]  1 of 1 completed\n"
     ]
    },
    {
     "name": "stdout",
     "output_type": "stream",
     "text": [
      "Data for SIGNATURE saved.\n"
     ]
    },
    {
     "name": "stderr",
     "output_type": "stream",
     "text": [
      "[*********************100%***********************]  1 of 1 completed\n"
     ]
    },
    {
     "name": "stdout",
     "output_type": "stream",
     "text": [
      "Data for SOBHA saved.\n"
     ]
    },
    {
     "name": "stderr",
     "output_type": "stream",
     "text": [
      "[*********************100%***********************]  1 of 1 completed\n"
     ]
    },
    {
     "name": "stdout",
     "output_type": "stream",
     "text": [
      "Data for SOLARINDS saved.\n"
     ]
    },
    {
     "name": "stderr",
     "output_type": "stream",
     "text": [
      "[*********************100%***********************]  1 of 1 completed\n"
     ]
    },
    {
     "name": "stdout",
     "output_type": "stream",
     "text": [
      "Data for SONACOMS saved.\n"
     ]
    },
    {
     "name": "stderr",
     "output_type": "stream",
     "text": [
      "[*********************100%***********************]  1 of 1 completed\n"
     ]
    },
    {
     "name": "stdout",
     "output_type": "stream",
     "text": [
      "Data for SONATSOFTW saved.\n"
     ]
    },
    {
     "name": "stderr",
     "output_type": "stream",
     "text": [
      "[*********************100%***********************]  1 of 1 completed\n"
     ]
    },
    {
     "name": "stdout",
     "output_type": "stream",
     "text": [
      "Data for STARHEALTH saved.\n"
     ]
    },
    {
     "name": "stderr",
     "output_type": "stream",
     "text": [
      "[*********************100%***********************]  1 of 1 completed\n"
     ]
    },
    {
     "name": "stdout",
     "output_type": "stream",
     "text": [
      "Data for SBIN saved.\n"
     ]
    },
    {
     "name": "stderr",
     "output_type": "stream",
     "text": [
      "[*********************100%***********************]  1 of 1 completed\n"
     ]
    },
    {
     "name": "stdout",
     "output_type": "stream",
     "text": [
      "Data for SAIL saved.\n"
     ]
    },
    {
     "name": "stderr",
     "output_type": "stream",
     "text": [
      "[*********************100%***********************]  1 of 1 completed\n"
     ]
    },
    {
     "name": "stdout",
     "output_type": "stream",
     "text": [
      "Data for SWSOLAR saved.\n"
     ]
    },
    {
     "name": "stderr",
     "output_type": "stream",
     "text": [
      "[*********************100%***********************]  1 of 1 completed\n"
     ]
    },
    {
     "name": "stdout",
     "output_type": "stream",
     "text": [
      "Data for SUMICHEM saved.\n"
     ]
    },
    {
     "name": "stderr",
     "output_type": "stream",
     "text": [
      "[*********************100%***********************]  1 of 1 completed\n"
     ]
    },
    {
     "name": "stdout",
     "output_type": "stream",
     "text": [
      "Data for SPARC saved.\n"
     ]
    },
    {
     "name": "stderr",
     "output_type": "stream",
     "text": [
      "[*********************100%***********************]  1 of 1 completed\n"
     ]
    },
    {
     "name": "stdout",
     "output_type": "stream",
     "text": [
      "Data for SUNPHARMA saved.\n"
     ]
    },
    {
     "name": "stderr",
     "output_type": "stream",
     "text": [
      "[*********************100%***********************]  1 of 1 completed\n"
     ]
    },
    {
     "name": "stdout",
     "output_type": "stream",
     "text": [
      "Data for SUNTV saved.\n"
     ]
    },
    {
     "name": "stderr",
     "output_type": "stream",
     "text": [
      "[*********************100%***********************]  1 of 1 completed\n"
     ]
    },
    {
     "name": "stdout",
     "output_type": "stream",
     "text": [
      "Data for SUNDARMFIN saved.\n"
     ]
    },
    {
     "name": "stderr",
     "output_type": "stream",
     "text": [
      "[*********************100%***********************]  1 of 1 completed\n"
     ]
    },
    {
     "name": "stdout",
     "output_type": "stream",
     "text": [
      "Data for SUNDRMFAST saved.\n"
     ]
    },
    {
     "name": "stderr",
     "output_type": "stream",
     "text": [
      "[*********************100%***********************]  1 of 1 completed\n"
     ]
    },
    {
     "name": "stdout",
     "output_type": "stream",
     "text": [
      "Data for SUPREMEIND saved.\n"
     ]
    },
    {
     "name": "stderr",
     "output_type": "stream",
     "text": [
      "[*********************100%***********************]  1 of 1 completed\n"
     ]
    },
    {
     "name": "stdout",
     "output_type": "stream",
     "text": [
      "Data for SUVENPHAR saved.\n"
     ]
    },
    {
     "name": "stderr",
     "output_type": "stream",
     "text": [
      "[*********************100%***********************]  1 of 1 completed\n"
     ]
    },
    {
     "name": "stdout",
     "output_type": "stream",
     "text": [
      "Data for SUZLON saved.\n"
     ]
    },
    {
     "name": "stderr",
     "output_type": "stream",
     "text": [
      "[*********************100%***********************]  1 of 1 completed\n"
     ]
    },
    {
     "name": "stdout",
     "output_type": "stream",
     "text": [
      "Data for SWANENERGY saved.\n"
     ]
    },
    {
     "name": "stderr",
     "output_type": "stream",
     "text": [
      "[*********************100%***********************]  1 of 1 completed\n"
     ]
    },
    {
     "name": "stdout",
     "output_type": "stream",
     "text": [
      "Data for SYNGENE saved.\n"
     ]
    },
    {
     "name": "stderr",
     "output_type": "stream",
     "text": [
      "[*********************100%***********************]  1 of 1 completed\n",
      "[*********************100%***********************]  1 of 1 completed"
     ]
    },
    {
     "name": "stdout",
     "output_type": "stream",
     "text": [
      "Data for SYRMA saved.\n",
      "Data for TBOTEK saved.\n"
     ]
    },
    {
     "name": "stderr",
     "output_type": "stream",
     "text": [
      "\n",
      "[*********************100%***********************]  1 of 1 completed\n",
      "[*********************100%***********************]  1 of 1 completed"
     ]
    },
    {
     "name": "stdout",
     "output_type": "stream",
     "text": [
      "Data for TVSMOTOR saved.\n",
      "Data for TVSSCS saved.\n"
     ]
    },
    {
     "name": "stderr",
     "output_type": "stream",
     "text": [
      "\n",
      "[*********************100%***********************]  1 of 1 completed\n"
     ]
    },
    {
     "name": "stdout",
     "output_type": "stream",
     "text": [
      "Data for TANLA saved.\n"
     ]
    },
    {
     "name": "stderr",
     "output_type": "stream",
     "text": [
      "[*********************100%***********************]  1 of 1 completed\n"
     ]
    },
    {
     "name": "stdout",
     "output_type": "stream",
     "text": [
      "Data for TATACHEM saved.\n"
     ]
    },
    {
     "name": "stderr",
     "output_type": "stream",
     "text": [
      "[*********************100%***********************]  1 of 1 completed\n"
     ]
    },
    {
     "name": "stdout",
     "output_type": "stream",
     "text": [
      "Data for TATACOMM saved.\n"
     ]
    },
    {
     "name": "stderr",
     "output_type": "stream",
     "text": [
      "[*********************100%***********************]  1 of 1 completed\n"
     ]
    },
    {
     "name": "stdout",
     "output_type": "stream",
     "text": [
      "Data for TCS saved.\n"
     ]
    },
    {
     "name": "stderr",
     "output_type": "stream",
     "text": [
      "[*********************100%***********************]  1 of 1 completed\n"
     ]
    },
    {
     "name": "stdout",
     "output_type": "stream",
     "text": [
      "Data for TATACONSUM saved.\n"
     ]
    },
    {
     "name": "stderr",
     "output_type": "stream",
     "text": [
      "[*********************100%***********************]  1 of 1 completed\n"
     ]
    },
    {
     "name": "stdout",
     "output_type": "stream",
     "text": [
      "Data for TATAELXSI saved.\n"
     ]
    },
    {
     "name": "stderr",
     "output_type": "stream",
     "text": [
      "[*********************100%***********************]  1 of 1 completed\n"
     ]
    },
    {
     "name": "stdout",
     "output_type": "stream",
     "text": [
      "Data for TATAINVEST saved.\n"
     ]
    },
    {
     "name": "stderr",
     "output_type": "stream",
     "text": [
      "[*********************100%***********************]  1 of 1 completed\n"
     ]
    },
    {
     "name": "stdout",
     "output_type": "stream",
     "text": [
      "Data for TATAMOTORS saved.\n"
     ]
    },
    {
     "name": "stderr",
     "output_type": "stream",
     "text": [
      "[*********************100%***********************]  1 of 1 completed\n"
     ]
    },
    {
     "name": "stdout",
     "output_type": "stream",
     "text": [
      "Data for TATAPOWER saved.\n"
     ]
    },
    {
     "name": "stderr",
     "output_type": "stream",
     "text": [
      "[*********************100%***********************]  1 of 1 completed\n",
      "[*********************100%***********************]  1 of 1 completed"
     ]
    },
    {
     "name": "stdout",
     "output_type": "stream",
     "text": [
      "Data for TATASTEEL saved.\n"
     ]
    },
    {
     "name": "stderr",
     "output_type": "stream",
     "text": [
      "\n"
     ]
    },
    {
     "name": "stdout",
     "output_type": "stream",
     "text": [
      "Data for TATATECH saved.\n"
     ]
    },
    {
     "name": "stderr",
     "output_type": "stream",
     "text": [
      "[*********************100%***********************]  1 of 1 completed\n"
     ]
    },
    {
     "name": "stdout",
     "output_type": "stream",
     "text": [
      "Data for TTML saved.\n"
     ]
    },
    {
     "name": "stderr",
     "output_type": "stream",
     "text": [
      "[*********************100%***********************]  1 of 1 completed\n"
     ]
    },
    {
     "name": "stdout",
     "output_type": "stream",
     "text": [
      "Data for TECHM saved.\n"
     ]
    },
    {
     "name": "stderr",
     "output_type": "stream",
     "text": [
      "[*********************100%***********************]  1 of 1 completed\n"
     ]
    },
    {
     "name": "stdout",
     "output_type": "stream",
     "text": [
      "Data for TECHNOE saved.\n"
     ]
    },
    {
     "name": "stderr",
     "output_type": "stream",
     "text": [
      "[*********************100%***********************]  1 of 1 completed\n"
     ]
    },
    {
     "name": "stdout",
     "output_type": "stream",
     "text": [
      "Data for TEJASNET saved.\n"
     ]
    },
    {
     "name": "stderr",
     "output_type": "stream",
     "text": [
      "[*********************100%***********************]  1 of 1 completed\n"
     ]
    },
    {
     "name": "stdout",
     "output_type": "stream",
     "text": [
      "Data for NIACL saved.\n"
     ]
    },
    {
     "name": "stderr",
     "output_type": "stream",
     "text": [
      "[*********************100%***********************]  1 of 1 completed\n"
     ]
    },
    {
     "name": "stdout",
     "output_type": "stream",
     "text": [
      "Data for RAMCOCEM saved.\n"
     ]
    },
    {
     "name": "stderr",
     "output_type": "stream",
     "text": [
      "[*********************100%***********************]  1 of 1 completed\n"
     ]
    },
    {
     "name": "stdout",
     "output_type": "stream",
     "text": [
      "Data for THERMAX saved.\n"
     ]
    },
    {
     "name": "stderr",
     "output_type": "stream",
     "text": [
      "[*********************100%***********************]  1 of 1 completed\n"
     ]
    },
    {
     "name": "stdout",
     "output_type": "stream",
     "text": [
      "Data for TIMKEN saved.\n"
     ]
    },
    {
     "name": "stderr",
     "output_type": "stream",
     "text": [
      "[*********************100%***********************]  1 of 1 completed\n"
     ]
    },
    {
     "name": "stdout",
     "output_type": "stream",
     "text": [
      "Data for TITAGARH saved.\n"
     ]
    },
    {
     "name": "stderr",
     "output_type": "stream",
     "text": [
      "[*********************100%***********************]  1 of 1 completed\n"
     ]
    },
    {
     "name": "stdout",
     "output_type": "stream",
     "text": [
      "Data for TITAN saved.\n"
     ]
    },
    {
     "name": "stderr",
     "output_type": "stream",
     "text": [
      "[*********************100%***********************]  1 of 1 completed\n"
     ]
    },
    {
     "name": "stdout",
     "output_type": "stream",
     "text": [
      "Data for TORNTPHARM saved.\n"
     ]
    },
    {
     "name": "stderr",
     "output_type": "stream",
     "text": [
      "[*********************100%***********************]  1 of 1 completed\n"
     ]
    },
    {
     "name": "stdout",
     "output_type": "stream",
     "text": [
      "Data for TORNTPOWER saved.\n"
     ]
    },
    {
     "name": "stderr",
     "output_type": "stream",
     "text": [
      "[*********************100%***********************]  1 of 1 completed\n"
     ]
    },
    {
     "name": "stdout",
     "output_type": "stream",
     "text": [
      "Data for TRENT saved.\n"
     ]
    },
    {
     "name": "stderr",
     "output_type": "stream",
     "text": [
      "[*********************100%***********************]  1 of 1 completed\n"
     ]
    },
    {
     "name": "stdout",
     "output_type": "stream",
     "text": [
      "Data for TRIDENT saved.\n"
     ]
    },
    {
     "name": "stderr",
     "output_type": "stream",
     "text": [
      "[*********************100%***********************]  1 of 1 completed\n"
     ]
    },
    {
     "name": "stdout",
     "output_type": "stream",
     "text": [
      "Data for TRIVENI saved.\n"
     ]
    },
    {
     "name": "stderr",
     "output_type": "stream",
     "text": [
      "[*********************100%***********************]  1 of 1 completed\n"
     ]
    },
    {
     "name": "stdout",
     "output_type": "stream",
     "text": [
      "Data for TRITURBINE saved.\n"
     ]
    },
    {
     "name": "stderr",
     "output_type": "stream",
     "text": [
      "[*********************100%***********************]  1 of 1 completed\n"
     ]
    },
    {
     "name": "stdout",
     "output_type": "stream",
     "text": [
      "Data for TIINDIA saved.\n"
     ]
    },
    {
     "name": "stderr",
     "output_type": "stream",
     "text": [
      "[*********************100%***********************]  1 of 1 completed\n"
     ]
    },
    {
     "name": "stdout",
     "output_type": "stream",
     "text": [
      "Data for UCOBANK saved.\n"
     ]
    },
    {
     "name": "stderr",
     "output_type": "stream",
     "text": [
      "[*********************100%***********************]  1 of 1 completed\n"
     ]
    },
    {
     "name": "stdout",
     "output_type": "stream",
     "text": [
      "Data for UNOMINDA saved.\n"
     ]
    },
    {
     "name": "stderr",
     "output_type": "stream",
     "text": [
      "[*********************100%***********************]  1 of 1 completed\n"
     ]
    },
    {
     "name": "stdout",
     "output_type": "stream",
     "text": [
      "Data for UPL saved.\n"
     ]
    },
    {
     "name": "stderr",
     "output_type": "stream",
     "text": [
      "[*********************100%***********************]  1 of 1 completed\n"
     ]
    },
    {
     "name": "stdout",
     "output_type": "stream",
     "text": [
      "Data for UTIAMC saved.\n"
     ]
    },
    {
     "name": "stderr",
     "output_type": "stream",
     "text": [
      "[*********************100%***********************]  1 of 1 completed\n"
     ]
    },
    {
     "name": "stdout",
     "output_type": "stream",
     "text": [
      "Data for UJJIVANSFB saved.\n"
     ]
    },
    {
     "name": "stderr",
     "output_type": "stream",
     "text": [
      "[*********************100%***********************]  1 of 1 completed\n"
     ]
    },
    {
     "name": "stdout",
     "output_type": "stream",
     "text": [
      "Data for ULTRACEMCO saved.\n"
     ]
    },
    {
     "name": "stderr",
     "output_type": "stream",
     "text": [
      "[*********************100%***********************]  1 of 1 completed\n"
     ]
    },
    {
     "name": "stdout",
     "output_type": "stream",
     "text": [
      "Data for UNIONBANK saved.\n"
     ]
    },
    {
     "name": "stderr",
     "output_type": "stream",
     "text": [
      "[*********************100%***********************]  1 of 1 completed\n"
     ]
    },
    {
     "name": "stdout",
     "output_type": "stream",
     "text": [
      "Data for UBL saved.\n"
     ]
    },
    {
     "name": "stderr",
     "output_type": "stream",
     "text": [
      "[*********************100%***********************]  1 of 1 completed\n"
     ]
    },
    {
     "name": "stdout",
     "output_type": "stream",
     "text": [
      "Data for UNITDSPR saved.\n"
     ]
    },
    {
     "name": "stderr",
     "output_type": "stream",
     "text": [
      "[*********************100%***********************]  1 of 1 completed\n"
     ]
    },
    {
     "name": "stdout",
     "output_type": "stream",
     "text": [
      "Data for USHAMART saved.\n"
     ]
    },
    {
     "name": "stderr",
     "output_type": "stream",
     "text": [
      "[*********************100%***********************]  1 of 1 completed\n"
     ]
    },
    {
     "name": "stdout",
     "output_type": "stream",
     "text": [
      "Data for VGUARD saved.\n"
     ]
    },
    {
     "name": "stderr",
     "output_type": "stream",
     "text": [
      "[*********************100%***********************]  1 of 1 completed\n"
     ]
    },
    {
     "name": "stdout",
     "output_type": "stream",
     "text": [
      "Data for VIPIND saved.\n"
     ]
    },
    {
     "name": "stderr",
     "output_type": "stream",
     "text": [
      "[*********************100%***********************]  1 of 1 completed\n"
     ]
    },
    {
     "name": "stdout",
     "output_type": "stream",
     "text": [
      "Data for DBREALTY saved.\n"
     ]
    },
    {
     "name": "stderr",
     "output_type": "stream",
     "text": [
      "[*********************100%***********************]  1 of 1 completed\n"
     ]
    },
    {
     "name": "stdout",
     "output_type": "stream",
     "text": [
      "Data for VTL saved.\n"
     ]
    },
    {
     "name": "stderr",
     "output_type": "stream",
     "text": [
      "[*********************100%***********************]  1 of 1 completed\n"
     ]
    },
    {
     "name": "stdout",
     "output_type": "stream",
     "text": [
      "Data for VARROC saved.\n"
     ]
    },
    {
     "name": "stderr",
     "output_type": "stream",
     "text": [
      "[*********************100%***********************]  1 of 1 completed\n"
     ]
    },
    {
     "name": "stdout",
     "output_type": "stream",
     "text": [
      "Data for VBL saved.\n"
     ]
    },
    {
     "name": "stderr",
     "output_type": "stream",
     "text": [
      "[*********************100%***********************]  1 of 1 completed\n"
     ]
    },
    {
     "name": "stdout",
     "output_type": "stream",
     "text": [
      "Data for MANYAVAR saved.\n"
     ]
    },
    {
     "name": "stderr",
     "output_type": "stream",
     "text": [
      "[*********************100%***********************]  1 of 1 completed\n"
     ]
    },
    {
     "name": "stdout",
     "output_type": "stream",
     "text": [
      "Data for VEDL saved.\n"
     ]
    },
    {
     "name": "stderr",
     "output_type": "stream",
     "text": [
      "[*********************100%***********************]  1 of 1 completed\n"
     ]
    },
    {
     "name": "stdout",
     "output_type": "stream",
     "text": [
      "Data for VIJAYA saved.\n"
     ]
    },
    {
     "name": "stderr",
     "output_type": "stream",
     "text": [
      "[*********************100%***********************]  1 of 1 completed\n"
     ]
    },
    {
     "name": "stdout",
     "output_type": "stream",
     "text": [
      "Data for VINATIORGA saved.\n"
     ]
    },
    {
     "name": "stderr",
     "output_type": "stream",
     "text": [
      "[*********************100%***********************]  1 of 1 completed\n"
     ]
    },
    {
     "name": "stdout",
     "output_type": "stream",
     "text": [
      "Data for IDEA saved.\n"
     ]
    },
    {
     "name": "stderr",
     "output_type": "stream",
     "text": [
      "[*********************100%***********************]  1 of 1 completed\n"
     ]
    },
    {
     "name": "stdout",
     "output_type": "stream",
     "text": [
      "Data for VOLTAS saved.\n"
     ]
    },
    {
     "name": "stderr",
     "output_type": "stream",
     "text": [
      "[*********************100%***********************]  1 of 1 completed\n"
     ]
    },
    {
     "name": "stdout",
     "output_type": "stream",
     "text": [
      "Data for WELCORP saved.\n"
     ]
    },
    {
     "name": "stderr",
     "output_type": "stream",
     "text": [
      "[*********************100%***********************]  1 of 1 completed\n"
     ]
    },
    {
     "name": "stdout",
     "output_type": "stream",
     "text": [
      "Data for WELSPUNLIV saved.\n"
     ]
    },
    {
     "name": "stderr",
     "output_type": "stream",
     "text": [
      "[*********************100%***********************]  1 of 1 completed\n"
     ]
    },
    {
     "name": "stdout",
     "output_type": "stream",
     "text": [
      "Data for WESTLIFE saved.\n"
     ]
    },
    {
     "name": "stderr",
     "output_type": "stream",
     "text": [
      "[*********************100%***********************]  1 of 1 completed\n"
     ]
    },
    {
     "name": "stdout",
     "output_type": "stream",
     "text": [
      "Data for WHIRLPOOL saved.\n"
     ]
    },
    {
     "name": "stderr",
     "output_type": "stream",
     "text": [
      "[*********************100%***********************]  1 of 1 completed\n"
     ]
    },
    {
     "name": "stdout",
     "output_type": "stream",
     "text": [
      "Data for WIPRO saved.\n"
     ]
    },
    {
     "name": "stderr",
     "output_type": "stream",
     "text": [
      "[*********************100%***********************]  1 of 1 completed\n"
     ]
    },
    {
     "name": "stdout",
     "output_type": "stream",
     "text": [
      "Data for YESBANK saved.\n"
     ]
    },
    {
     "name": "stderr",
     "output_type": "stream",
     "text": [
      "[*********************100%***********************]  1 of 1 completed\n"
     ]
    },
    {
     "name": "stdout",
     "output_type": "stream",
     "text": [
      "Data for ZFCVINDIA saved.\n"
     ]
    },
    {
     "name": "stderr",
     "output_type": "stream",
     "text": [
      "[*********************100%***********************]  1 of 1 completed\n"
     ]
    },
    {
     "name": "stdout",
     "output_type": "stream",
     "text": [
      "Data for ZEEL saved.\n"
     ]
    },
    {
     "name": "stderr",
     "output_type": "stream",
     "text": [
      "[*********************100%***********************]  1 of 1 completed\n"
     ]
    },
    {
     "name": "stdout",
     "output_type": "stream",
     "text": [
      "Data for ZENSARTECH saved.\n"
     ]
    },
    {
     "name": "stderr",
     "output_type": "stream",
     "text": [
      "[*********************100%***********************]  1 of 1 completed\n"
     ]
    },
    {
     "name": "stdout",
     "output_type": "stream",
     "text": [
      "Data for ZOMATO saved.\n"
     ]
    },
    {
     "name": "stderr",
     "output_type": "stream",
     "text": [
      "[*********************100%***********************]  1 of 1 completed\n"
     ]
    },
    {
     "name": "stdout",
     "output_type": "stream",
     "text": [
      "Data for ZYDUSLIFE saved.\n"
     ]
    },
    {
     "name": "stderr",
     "output_type": "stream",
     "text": [
      "[*********************100%***********************]  1 of 1 completed"
     ]
    },
    {
     "name": "stdout",
     "output_type": "stream",
     "text": [
      "Data for ECLERX saved.\n",
      "Data scraping and feature computation completed.\n"
     ]
    },
    {
     "name": "stderr",
     "output_type": "stream",
     "text": [
      "\n"
     ]
    }
   ],
   "source": [
    "import pandas as pd\n",
    "import yfinance as yf\n",
    "import os\n",
    "\n",
    "# Step 1: Load Company and Sector Information\n",
    "nifty500_df = pd.read_csv('ind_nifty500list.csv')\n",
    "companies = nifty500_df['Symbol'].tolist()\n",
    "sectors = nifty500_df.set_index('Symbol')['Industry'].to_dict()\n",
    "\n",
    "# Create a directory to save data if it doesn't exist\n",
    "os.makedirs('stock_data', exist_ok=True)\n",
    "\n",
    "# Step 2: Scrape Historical Stock Data and Compute Features\n",
    "def fetch_and_process_data(ticker):\n",
    "    try:\n",
    "        stock = yf.download(ticker + \".NS\", start=\"2020-01-10\", end=\"2025-01-10\")\n",
    "        if stock.empty:\n",
    "            print(f\"No data for {ticker}\")\n",
    "            return\n",
    "        \n",
    "        # Calculate Moving Averages\n",
    "        stock['MA_20'] = stock['Close'].rolling(window=20).mean()\n",
    "        stock['MA_50'] = stock['Close'].rolling(window=50).mean()\n",
    "        \n",
    "        # Calculate Volatility (Standard Deviation)\n",
    "        stock['Volatility_20'] = stock['Close'].rolling(window=20).std()\n",
    "        stock['Volatility_50'] = stock['Close'].rolling(window=50).std()\n",
    "        \n",
    "        # Save to CSV\n",
    "        stock.to_csv(f'stock_data/{ticker}_data.csv')\n",
    "        print(f\"Data for {ticker} saved.\")\n",
    "    except Exception as e:\n",
    "        print(f\"Error fetching data for {ticker}: {e}\")\n",
    "\n",
    "for ticker in companies:\n",
    "    fetch_and_process_data(ticker)\n",
    "\n",
    "print(\"Data scraping and feature computation completed.\")\n"
   ]
  },
  {
   "cell_type": "code",
   "execution_count": 3,
   "id": "5ca910f9",
   "metadata": {},
   "outputs": [
    {
     "name": "stdout",
     "output_type": "stream",
     "text": [
      "Collecting yfinance\n",
      "  Downloading yfinance-0.2.51-py2.py3-none-any.whl.metadata (5.5 kB)\n",
      "Requirement already satisfied: pandas>=1.3.0 in /Users/dishantharya/micromamba/envs/py3.11/lib/python3.11/site-packages (from yfinance) (1.5.3)\n",
      "Requirement already satisfied: numpy>=1.16.5 in /Users/dishantharya/micromamba/envs/py3.11/lib/python3.11/site-packages (from yfinance) (1.25.1)\n",
      "Collecting requests>=2.31 (from yfinance)\n",
      "  Downloading requests-2.32.3-py3-none-any.whl.metadata (4.6 kB)\n",
      "Collecting multitasking>=0.0.7 (from yfinance)\n",
      "  Downloading multitasking-0.0.11-py3-none-any.whl.metadata (5.5 kB)\n",
      "Requirement already satisfied: lxml>=4.9.1 in /Users/dishantharya/micromamba/envs/py3.11/lib/python3.11/site-packages (from yfinance) (5.3.0)\n",
      "Requirement already satisfied: platformdirs>=2.0.0 in /Users/dishantharya/micromamba/envs/py3.11/lib/python3.11/site-packages (from yfinance) (3.10.0)\n",
      "Requirement already satisfied: pytz>=2022.5 in /Users/dishantharya/micromamba/envs/py3.11/lib/python3.11/site-packages (from yfinance) (2023.3.post1)\n",
      "Collecting frozendict>=2.3.4 (from yfinance)\n",
      "  Downloading frozendict-2.4.6-py311-none-any.whl.metadata (23 kB)\n",
      "Requirement already satisfied: peewee>=3.16.2 in /Users/dishantharya/micromamba/envs/py3.11/lib/python3.11/site-packages (from yfinance) (3.17.5)\n",
      "Requirement already satisfied: beautifulsoup4>=4.11.1 in /Users/dishantharya/micromamba/envs/py3.11/lib/python3.11/site-packages (from yfinance) (4.12.2)\n",
      "Collecting html5lib>=1.1 (from yfinance)\n",
      "  Downloading html5lib-1.1-py2.py3-none-any.whl.metadata (16 kB)\n",
      "Requirement already satisfied: soupsieve>1.2 in /Users/dishantharya/micromamba/envs/py3.11/lib/python3.11/site-packages (from beautifulsoup4>=4.11.1->yfinance) (2.5)\n",
      "Requirement already satisfied: six>=1.9 in /Users/dishantharya/micromamba/envs/py3.11/lib/python3.11/site-packages (from html5lib>=1.1->yfinance) (1.16.0)\n",
      "Requirement already satisfied: webencodings in /Users/dishantharya/micromamba/envs/py3.11/lib/python3.11/site-packages (from html5lib>=1.1->yfinance) (0.5.1)\n",
      "Requirement already satisfied: python-dateutil>=2.8.1 in /Users/dishantharya/micromamba/envs/py3.11/lib/python3.11/site-packages (from pandas>=1.3.0->yfinance) (2.8.2)\n",
      "Requirement already satisfied: charset-normalizer<4,>=2 in /Users/dishantharya/micromamba/envs/py3.11/lib/python3.11/site-packages (from requests>=2.31->yfinance) (3.1.0)\n",
      "Requirement already satisfied: idna<4,>=2.5 in /Users/dishantharya/micromamba/envs/py3.11/lib/python3.11/site-packages (from requests>=2.31->yfinance) (3.4)\n",
      "Requirement already satisfied: urllib3<3,>=1.21.1 in /Users/dishantharya/micromamba/envs/py3.11/lib/python3.11/site-packages (from requests>=2.31->yfinance) (1.26.15)\n",
      "Requirement already satisfied: certifi>=2017.4.17 in /Users/dishantharya/micromamba/envs/py3.11/lib/python3.11/site-packages (from requests>=2.31->yfinance) (2022.12.7)\n",
      "Downloading yfinance-0.2.51-py2.py3-none-any.whl (104 kB)\n",
      "Downloading frozendict-2.4.6-py311-none-any.whl (16 kB)\n",
      "Downloading html5lib-1.1-py2.py3-none-any.whl (112 kB)\n",
      "Downloading multitasking-0.0.11-py3-none-any.whl (8.5 kB)\n",
      "Downloading requests-2.32.3-py3-none-any.whl (64 kB)\n",
      "Installing collected packages: multitasking, requests, html5lib, frozendict, yfinance\n",
      "  Attempting uninstall: requests\n",
      "    Found existing installation: requests 2.29.0\n",
      "    Uninstalling requests-2.29.0:\n",
      "      Successfully uninstalled requests-2.29.0\n",
      "\u001b[31mERROR: pip's dependency resolver does not currently take into account all the packages that are installed. This behaviour is the source of the following dependency conflicts.\n",
      "streamlit 1.30.0 requires importlib-metadata<8,>=1.4, but you have importlib-metadata 8.4.0 which is incompatible.\n",
      "streamlit 1.30.0 requires packaging<24,>=16.8, but you have packaging 24.2 which is incompatible.\n",
      "chromadb 0.5.3 requires tenacity>=8.2.3, but you have tenacity 8.2.2 which is incompatible.\n",
      "unstructured-client 0.23.8 requires certifi>=2023.7.22, but you have certifi 2022.12.7 which is incompatible.\n",
      "unstructured-client 0.23.8 requires charset-normalizer>=3.2.0, but you have charset-normalizer 3.1.0 which is incompatible.\n",
      "unstructured-client 0.23.8 requires urllib3>=1.26.18, but you have urllib3 1.26.15 which is incompatible.\u001b[0m\u001b[31m\n",
      "\u001b[0mSuccessfully installed frozendict-2.4.6 html5lib-1.1 multitasking-0.0.11 requests-2.32.3 yfinance-0.2.51\n",
      "Note: you may need to restart the kernel to use updated packages.\n"
     ]
    }
   ],
   "source": [
    "pip install yfinance"
   ]
  },
  {
   "cell_type": "code",
   "execution_count": 35,
   "id": "5d1bf379-7fea-4c8a-ac0e-2562045fcf23",
   "metadata": {},
   "outputs": [
    {
     "name": "stderr",
     "output_type": "stream",
     "text": [
      "[*********************100%***********************]  1 of 1 completed\n",
      "[*********************100%***********************]  1 of 1 completed\n"
     ]
    },
    {
     "name": "stdout",
     "output_type": "stream",
     "text": [
      "Reference Dates: (Timestamp('2020-01-10 00:00:00'), Timestamp('2025-01-09 00:00:00')) Current Date Range: 2020-01-10 00:00:00 to 2025-01-09 00:00:00 check is False\n",
      "Processed and saved data for 360ONE.\n"
     ]
    },
    {
     "name": "stderr",
     "output_type": "stream",
     "text": [
      "[*********************100%***********************]  1 of 1 completed\n"
     ]
    },
    {
     "name": "stdout",
     "output_type": "stream",
     "text": [
      "Reference Dates: (Timestamp('2020-01-10 00:00:00'), Timestamp('2025-01-09 00:00:00')) Current Date Range: 2020-01-10 00:00:00 to 2025-01-09 00:00:00 check is False\n",
      "Processed and saved data for 3MINDIA.\n"
     ]
    },
    {
     "name": "stderr",
     "output_type": "stream",
     "text": [
      "[*********************100%***********************]  1 of 1 completed\n"
     ]
    },
    {
     "name": "stdout",
     "output_type": "stream",
     "text": [
      "Reference Dates: (Timestamp('2020-01-10 00:00:00'), Timestamp('2025-01-09 00:00:00')) Current Date Range: 2020-01-10 00:00:00 to 2025-01-09 00:00:00 check is False\n",
      "Processed and saved data for ABB.\n"
     ]
    },
    {
     "name": "stderr",
     "output_type": "stream",
     "text": [
      "[*********************100%***********************]  1 of 1 completed\n"
     ]
    },
    {
     "name": "stdout",
     "output_type": "stream",
     "text": [
      "Reference Dates: (Timestamp('2020-01-10 00:00:00'), Timestamp('2025-01-09 00:00:00')) Current Date Range: 2020-01-10 00:00:00 to 2025-01-09 00:00:00 check is False\n",
      "Processed and saved data for ACC.\n"
     ]
    },
    {
     "name": "stderr",
     "output_type": "stream",
     "text": [
      "[*********************100%***********************]  1 of 1 completed\n"
     ]
    },
    {
     "name": "stdout",
     "output_type": "stream",
     "text": [
      "Reference Dates: (Timestamp('2020-01-10 00:00:00'), Timestamp('2025-01-09 00:00:00')) Current Date Range: 2020-01-10 00:00:00 to 2025-01-09 00:00:00 check is False\n",
      "Processed and saved data for AIAENG.\n"
     ]
    },
    {
     "name": "stderr",
     "output_type": "stream",
     "text": [
      "[*********************100%***********************]  1 of 1 completed\n"
     ]
    },
    {
     "name": "stdout",
     "output_type": "stream",
     "text": [
      "Reference Dates: (Timestamp('2020-01-10 00:00:00'), Timestamp('2025-01-09 00:00:00')) Current Date Range: 2020-01-10 00:00:00 to 2025-01-09 00:00:00 check is False\n",
      "Processed and saved data for APLAPOLLO.\n"
     ]
    },
    {
     "name": "stderr",
     "output_type": "stream",
     "text": [
      "[*********************100%***********************]  1 of 1 completed\n"
     ]
    },
    {
     "name": "stdout",
     "output_type": "stream",
     "text": [
      "Reference Dates: (Timestamp('2020-01-10 00:00:00'), Timestamp('2025-01-09 00:00:00')) Current Date Range: 2020-01-10 00:00:00 to 2025-01-09 00:00:00 check is False\n",
      "Processed and saved data for AUBANK.\n"
     ]
    },
    {
     "name": "stderr",
     "output_type": "stream",
     "text": [
      "[*********************100%***********************]  1 of 1 completed\n"
     ]
    },
    {
     "name": "stdout",
     "output_type": "stream",
     "text": [
      "Reference Dates: (Timestamp('2020-01-10 00:00:00'), Timestamp('2025-01-09 00:00:00')) Current Date Range: 2024-05-15 00:00:00 to 2025-01-09 00:00:00 check is True\n",
      "Skipping...AADHARHFC\n"
     ]
    },
    {
     "name": "stderr",
     "output_type": "stream",
     "text": [
      "[*********************100%***********************]  1 of 1 completed\n"
     ]
    },
    {
     "name": "stdout",
     "output_type": "stream",
     "text": [
      "Reference Dates: (Timestamp('2020-01-10 00:00:00'), Timestamp('2025-01-09 00:00:00')) Current Date Range: 2020-01-10 00:00:00 to 2025-01-09 00:00:00 check is False\n",
      "Processed and saved data for AARTIIND.\n"
     ]
    },
    {
     "name": "stderr",
     "output_type": "stream",
     "text": [
      "[*********************100%***********************]  1 of 1 completed\n"
     ]
    },
    {
     "name": "stdout",
     "output_type": "stream",
     "text": [
      "Reference Dates: (Timestamp('2020-01-10 00:00:00'), Timestamp('2025-01-09 00:00:00')) Current Date Range: 2020-01-10 00:00:00 to 2025-01-09 00:00:00 check is False\n",
      "Processed and saved data for AAVAS.\n"
     ]
    },
    {
     "name": "stderr",
     "output_type": "stream",
     "text": [
      "[*********************100%***********************]  1 of 1 completed\n"
     ]
    },
    {
     "name": "stdout",
     "output_type": "stream",
     "text": [
      "Reference Dates: (Timestamp('2020-01-10 00:00:00'), Timestamp('2025-01-09 00:00:00')) Current Date Range: 2020-01-10 00:00:00 to 2025-01-09 00:00:00 check is False\n",
      "Processed and saved data for ABBOTINDIA.\n"
     ]
    },
    {
     "name": "stderr",
     "output_type": "stream",
     "text": [
      "[*********************100%***********************]  1 of 1 completed\n",
      "[*********************100%***********************]  1 of 1 completed\n"
     ]
    },
    {
     "name": "stdout",
     "output_type": "stream",
     "text": [
      "Reference Dates: (Timestamp('2020-01-10 00:00:00'), Timestamp('2025-01-09 00:00:00')) Current Date Range: 2020-01-10 00:00:00 to 2025-01-09 00:00:00 check is False\n",
      "Processed and saved data for ACE.\n",
      "Reference Dates: (Timestamp('2020-01-10 00:00:00'), Timestamp('2025-01-09 00:00:00')) Current Date Range: 2023-08-16 00:00:00 to 2025-01-09 00:00:00 check is True\n",
      "Skipping...ADANIENSOL\n"
     ]
    },
    {
     "name": "stderr",
     "output_type": "stream",
     "text": [
      "[*********************100%***********************]  1 of 1 completed\n"
     ]
    },
    {
     "name": "stdout",
     "output_type": "stream",
     "text": [
      "Reference Dates: (Timestamp('2020-01-10 00:00:00'), Timestamp('2025-01-09 00:00:00')) Current Date Range: 2020-01-10 00:00:00 to 2025-01-09 00:00:00 check is False\n",
      "Processed and saved data for ADANIENT.\n"
     ]
    },
    {
     "name": "stderr",
     "output_type": "stream",
     "text": [
      "[*********************100%***********************]  1 of 1 completed\n"
     ]
    },
    {
     "name": "stdout",
     "output_type": "stream",
     "text": [
      "Reference Dates: (Timestamp('2020-01-10 00:00:00'), Timestamp('2025-01-09 00:00:00')) Current Date Range: 2020-01-10 00:00:00 to 2025-01-09 00:00:00 check is False\n",
      "Processed and saved data for ADANIGREEN.\n"
     ]
    },
    {
     "name": "stderr",
     "output_type": "stream",
     "text": [
      "[*********************100%***********************]  1 of 1 completed\n",
      "[*********************100%***********************]  1 of 1 completed\n"
     ]
    },
    {
     "name": "stdout",
     "output_type": "stream",
     "text": [
      "Reference Dates: (Timestamp('2020-01-10 00:00:00'), Timestamp('2025-01-09 00:00:00')) Current Date Range: 2020-01-10 00:00:00 to 2025-01-09 00:00:00 check is False\n",
      "Processed and saved data for ADANIPORTS.\n",
      "Reference Dates: (Timestamp('2020-01-10 00:00:00'), Timestamp('2025-01-09 00:00:00')) Current Date Range: 2020-01-10 00:00:00 to 2025-01-09 00:00:00 check is False\n",
      "Processed and saved data for ADANIPOWER.\n"
     ]
    },
    {
     "name": "stderr",
     "output_type": "stream",
     "text": [
      "[*********************100%***********************]  1 of 1 completed\n"
     ]
    },
    {
     "name": "stdout",
     "output_type": "stream",
     "text": [
      "Reference Dates: (Timestamp('2020-01-10 00:00:00'), Timestamp('2025-01-09 00:00:00')) Current Date Range: 2020-01-10 00:00:00 to 2025-01-09 00:00:00 check is False\n",
      "Processed and saved data for ATGL.\n"
     ]
    },
    {
     "name": "stderr",
     "output_type": "stream",
     "text": [
      "[*********************100%***********************]  1 of 1 completed\n",
      "[*********************100%***********************]  1 of 1 completed\n"
     ]
    },
    {
     "name": "stdout",
     "output_type": "stream",
     "text": [
      "Reference Dates: (Timestamp('2020-01-10 00:00:00'), Timestamp('2025-01-09 00:00:00')) Current Date Range: 2022-02-08 00:00:00 to 2025-01-09 00:00:00 check is True\n",
      "Skipping...AWL\n",
      "Reference Dates: (Timestamp('2020-01-10 00:00:00'), Timestamp('2025-01-09 00:00:00')) Current Date Range: 2020-01-10 00:00:00 to 2025-01-09 00:00:00 check is False\n",
      "Processed and saved data for ABCAPITAL.\n"
     ]
    },
    {
     "name": "stderr",
     "output_type": "stream",
     "text": [
      "[*********************100%***********************]  1 of 1 completed\n"
     ]
    },
    {
     "name": "stdout",
     "output_type": "stream",
     "text": [
      "Reference Dates: (Timestamp('2020-01-10 00:00:00'), Timestamp('2025-01-09 00:00:00')) Current Date Range: 2020-01-10 00:00:00 to 2025-01-09 00:00:00 check is False\n",
      "Processed and saved data for ABFRL.\n"
     ]
    },
    {
     "name": "stderr",
     "output_type": "stream",
     "text": [
      "[*********************100%***********************]  1 of 1 completed\n"
     ]
    },
    {
     "name": "stdout",
     "output_type": "stream",
     "text": [
      "Reference Dates: (Timestamp('2020-01-10 00:00:00'), Timestamp('2025-01-09 00:00:00')) Current Date Range: 2020-01-10 00:00:00 to 2025-01-09 00:00:00 check is False\n",
      "Processed and saved data for ABREL.\n"
     ]
    },
    {
     "name": "stderr",
     "output_type": "stream",
     "text": [
      "[*********************100%***********************]  1 of 1 completed\n"
     ]
    },
    {
     "name": "stdout",
     "output_type": "stream",
     "text": [
      "Reference Dates: (Timestamp('2020-01-10 00:00:00'), Timestamp('2025-01-09 00:00:00')) Current Date Range: 2021-10-11 00:00:00 to 2025-01-09 00:00:00 check is True\n",
      "Processed and saved data for ABSLAMC.\n"
     ]
    },
    {
     "name": "stderr",
     "output_type": "stream",
     "text": [
      "[*********************100%***********************]  1 of 1 completed\n"
     ]
    },
    {
     "name": "stdout",
     "output_type": "stream",
     "text": [
      "Reference Dates: (Timestamp('2020-01-10 00:00:00'), Timestamp('2025-01-09 00:00:00')) Current Date Range: 2024-05-30 00:00:00 to 2025-01-09 00:00:00 check is True\n",
      "Skipping...AEGISLOG\n"
     ]
    },
    {
     "name": "stderr",
     "output_type": "stream",
     "text": [
      "[*********************100%***********************]  1 of 1 completed\n"
     ]
    },
    {
     "name": "stdout",
     "output_type": "stream",
     "text": [
      "Reference Dates: (Timestamp('2020-01-10 00:00:00'), Timestamp('2025-01-09 00:00:00')) Current Date Range: 2020-01-10 00:00:00 to 2025-01-09 00:00:00 check is False\n",
      "Processed and saved data for AFFLE.\n"
     ]
    },
    {
     "name": "stderr",
     "output_type": "stream",
     "text": [
      "[*********************100%***********************]  1 of 1 completed\n",
      "[*********************100%***********************]  1 of 1 completed\n"
     ]
    },
    {
     "name": "stdout",
     "output_type": "stream",
     "text": [
      "Reference Dates: (Timestamp('2020-01-10 00:00:00'), Timestamp('2025-01-09 00:00:00')) Current Date Range: 2020-01-10 00:00:00 to 2025-01-09 00:00:00 check is False\n",
      "Processed and saved data for AJANTPHARM.\n",
      "Reference Dates: (Timestamp('2020-01-10 00:00:00'), Timestamp('2025-01-09 00:00:00')) Current Date Range: 2024-08-06 00:00:00 to 2025-01-09 00:00:00 check is True\n",
      "Skipping...AKUMS\n"
     ]
    },
    {
     "name": "stderr",
     "output_type": "stream",
     "text": [
      "[*********************100%***********************]  1 of 1 completed\n"
     ]
    },
    {
     "name": "stdout",
     "output_type": "stream",
     "text": [
      "Reference Dates: (Timestamp('2020-01-10 00:00:00'), Timestamp('2025-01-09 00:00:00')) Current Date Range: 2020-01-10 00:00:00 to 2025-01-09 00:00:00 check is False\n",
      "Processed and saved data for APLLTD.\n"
     ]
    },
    {
     "name": "stderr",
     "output_type": "stream",
     "text": [
      "[*********************100%***********************]  1 of 1 completed\n"
     ]
    },
    {
     "name": "stdout",
     "output_type": "stream",
     "text": [
      "Reference Dates: (Timestamp('2020-01-10 00:00:00'), Timestamp('2025-01-09 00:00:00')) Current Date Range: 2020-01-10 00:00:00 to 2025-01-09 00:00:00 check is False\n",
      "Processed and saved data for ALKEM.\n"
     ]
    },
    {
     "name": "stderr",
     "output_type": "stream",
     "text": [
      "[*********************100%***********************]  1 of 1 completed\n"
     ]
    },
    {
     "name": "stdout",
     "output_type": "stream",
     "text": [
      "Reference Dates: (Timestamp('2020-01-10 00:00:00'), Timestamp('2025-01-09 00:00:00')) Current Date Range: 2020-01-10 00:00:00 to 2025-01-09 00:00:00 check is False\n",
      "Processed and saved data for ALKYLAMINE.\n"
     ]
    },
    {
     "name": "stderr",
     "output_type": "stream",
     "text": [
      "[*********************100%***********************]  1 of 1 completed\n"
     ]
    },
    {
     "name": "stdout",
     "output_type": "stream",
     "text": [
      "Reference Dates: (Timestamp('2020-01-10 00:00:00'), Timestamp('2025-01-09 00:00:00')) Current Date Range: 2020-01-10 00:00:00 to 2025-01-09 00:00:00 check is False\n",
      "Processed and saved data for ALOKINDS.\n"
     ]
    },
    {
     "name": "stderr",
     "output_type": "stream",
     "text": [
      "[*********************100%***********************]  1 of 1 completed\n"
     ]
    },
    {
     "name": "stdout",
     "output_type": "stream",
     "text": [
      "Reference Dates: (Timestamp('2020-01-10 00:00:00'), Timestamp('2025-01-09 00:00:00')) Current Date Range: 2023-10-18 00:00:00 to 2025-01-09 00:00:00 check is True\n",
      "Skipping...ARE&M\n"
     ]
    },
    {
     "name": "stderr",
     "output_type": "stream",
     "text": [
      "[*********************100%***********************]  1 of 1 completed\n"
     ]
    },
    {
     "name": "stdout",
     "output_type": "stream",
     "text": [
      "Reference Dates: (Timestamp('2020-01-10 00:00:00'), Timestamp('2025-01-09 00:00:00')) Current Date Range: 2020-01-10 00:00:00 to 2025-01-09 00:00:00 check is False\n",
      "Processed and saved data for AMBER.\n"
     ]
    },
    {
     "name": "stderr",
     "output_type": "stream",
     "text": [
      "[*********************100%***********************]  1 of 1 completed\n"
     ]
    },
    {
     "name": "stdout",
     "output_type": "stream",
     "text": [
      "Reference Dates: (Timestamp('2020-01-10 00:00:00'), Timestamp('2025-01-09 00:00:00')) Current Date Range: 2020-01-10 00:00:00 to 2025-01-09 00:00:00 check is False\n",
      "Processed and saved data for AMBUJACEM.\n"
     ]
    },
    {
     "name": "stderr",
     "output_type": "stream",
     "text": [
      "[*********************100%***********************]  1 of 1 completed\n"
     ]
    },
    {
     "name": "stdout",
     "output_type": "stream",
     "text": [
      "Reference Dates: (Timestamp('2020-01-10 00:00:00'), Timestamp('2025-01-09 00:00:00')) Current Date Range: 2021-12-14 00:00:00 to 2025-01-09 00:00:00 check is True\n",
      "Processed and saved data for ANANDRATHI.\n"
     ]
    },
    {
     "name": "stderr",
     "output_type": "stream",
     "text": [
      "[*********************100%***********************]  1 of 1 completed\n"
     ]
    },
    {
     "name": "stdout",
     "output_type": "stream",
     "text": [
      "Reference Dates: (Timestamp('2020-01-10 00:00:00'), Timestamp('2025-01-09 00:00:00')) Current Date Range: 2020-01-10 00:00:00 to 2025-01-09 00:00:00 check is False\n",
      "Processed and saved data for ANANTRAJ.\n"
     ]
    },
    {
     "name": "stderr",
     "output_type": "stream",
     "text": [
      "[*********************100%***********************]  1 of 1 completed\n"
     ]
    },
    {
     "name": "stdout",
     "output_type": "stream",
     "text": [
      "Reference Dates: (Timestamp('2020-01-10 00:00:00'), Timestamp('2025-01-09 00:00:00')) Current Date Range: 2020-10-05 00:00:00 to 2025-01-09 00:00:00 check is True\n",
      "Processed and saved data for ANGELONE.\n"
     ]
    },
    {
     "name": "stderr",
     "output_type": "stream",
     "text": [
      "[*********************100%***********************]  1 of 1 completed\n"
     ]
    },
    {
     "name": "stdout",
     "output_type": "stream",
     "text": [
      "Reference Dates: (Timestamp('2020-01-10 00:00:00'), Timestamp('2025-01-09 00:00:00')) Current Date Range: 2020-01-10 00:00:00 to 2025-01-09 00:00:00 check is False\n",
      "Processed and saved data for APARINDS.\n"
     ]
    },
    {
     "name": "stderr",
     "output_type": "stream",
     "text": [
      "[*********************100%***********************]  1 of 1 completed\n"
     ]
    },
    {
     "name": "stdout",
     "output_type": "stream",
     "text": [
      "Reference Dates: (Timestamp('2020-01-10 00:00:00'), Timestamp('2025-01-09 00:00:00')) Current Date Range: 2020-01-10 00:00:00 to 2025-01-09 00:00:00 check is False\n",
      "Processed and saved data for APOLLOHOSP.\n"
     ]
    },
    {
     "name": "stderr",
     "output_type": "stream",
     "text": [
      "[*********************100%***********************]  1 of 1 completed\n"
     ]
    },
    {
     "name": "stdout",
     "output_type": "stream",
     "text": [
      "Reference Dates: (Timestamp('2020-01-10 00:00:00'), Timestamp('2025-01-09 00:00:00')) Current Date Range: 2020-01-10 00:00:00 to 2025-01-09 00:00:00 check is False\n",
      "Processed and saved data for APOLLOTYRE.\n"
     ]
    },
    {
     "name": "stderr",
     "output_type": "stream",
     "text": [
      "[*********************100%***********************]  1 of 1 completed\n",
      "[*********************100%***********************]  1 of 1 completed\n"
     ]
    },
    {
     "name": "stdout",
     "output_type": "stream",
     "text": [
      "Reference Dates: (Timestamp('2020-01-10 00:00:00'), Timestamp('2025-01-09 00:00:00')) Current Date Range: 2021-08-24 00:00:00 to 2025-01-09 00:00:00 check is True\n",
      "Processed and saved data for APTUS.\n",
      "Reference Dates: (Timestamp('2020-01-10 00:00:00'), Timestamp('2025-01-09 00:00:00')) Current Date Range: 2022-11-21 00:00:00 to 2025-01-09 00:00:00 check is True\n",
      "Skipping...ACI\n"
     ]
    },
    {
     "name": "stderr",
     "output_type": "stream",
     "text": [
      "[*********************100%***********************]  1 of 1 completed\n"
     ]
    },
    {
     "name": "stdout",
     "output_type": "stream",
     "text": [
      "Reference Dates: (Timestamp('2020-01-10 00:00:00'), Timestamp('2025-01-09 00:00:00')) Current Date Range: 2020-01-10 00:00:00 to 2025-01-09 00:00:00 check is False\n",
      "Processed and saved data for ASAHIINDIA.\n"
     ]
    },
    {
     "name": "stderr",
     "output_type": "stream",
     "text": [
      "[*********************100%***********************]  1 of 1 completed\n"
     ]
    },
    {
     "name": "stdout",
     "output_type": "stream",
     "text": [
      "Reference Dates: (Timestamp('2020-01-10 00:00:00'), Timestamp('2025-01-09 00:00:00')) Current Date Range: 2020-01-10 00:00:00 to 2025-01-09 00:00:00 check is False\n",
      "Processed and saved data for ASHOKLEY.\n"
     ]
    },
    {
     "name": "stderr",
     "output_type": "stream",
     "text": [
      "[*********************100%***********************]  1 of 1 completed\n"
     ]
    },
    {
     "name": "stdout",
     "output_type": "stream",
     "text": [
      "Reference Dates: (Timestamp('2020-01-10 00:00:00'), Timestamp('2025-01-09 00:00:00')) Current Date Range: 2020-01-10 00:00:00 to 2025-01-09 00:00:00 check is False\n",
      "Processed and saved data for ASIANPAINT.\n"
     ]
    },
    {
     "name": "stderr",
     "output_type": "stream",
     "text": [
      "[*********************100%***********************]  1 of 1 completed\n"
     ]
    },
    {
     "name": "stdout",
     "output_type": "stream",
     "text": [
      "Reference Dates: (Timestamp('2020-01-10 00:00:00'), Timestamp('2025-01-09 00:00:00')) Current Date Range: 2020-01-10 00:00:00 to 2025-01-09 00:00:00 check is False\n",
      "Processed and saved data for ASTERDM.\n"
     ]
    },
    {
     "name": "stderr",
     "output_type": "stream",
     "text": [
      "[*********************100%***********************]  1 of 1 completed\n"
     ]
    },
    {
     "name": "stdout",
     "output_type": "stream",
     "text": [
      "Reference Dates: (Timestamp('2020-01-10 00:00:00'), Timestamp('2025-01-09 00:00:00')) Current Date Range: 2020-01-10 00:00:00 to 2025-01-09 00:00:00 check is False\n",
      "Processed and saved data for ASTRAZEN.\n"
     ]
    },
    {
     "name": "stderr",
     "output_type": "stream",
     "text": [
      "[*********************100%***********************]  1 of 1 completed\n"
     ]
    },
    {
     "name": "stdout",
     "output_type": "stream",
     "text": [
      "Reference Dates: (Timestamp('2020-01-10 00:00:00'), Timestamp('2025-01-09 00:00:00')) Current Date Range: 2020-01-10 00:00:00 to 2025-01-09 00:00:00 check is False\n",
      "Processed and saved data for ASTRAL.\n"
     ]
    },
    {
     "name": "stderr",
     "output_type": "stream",
     "text": [
      "[*********************100%***********************]  1 of 1 completed\n"
     ]
    },
    {
     "name": "stdout",
     "output_type": "stream",
     "text": [
      "Reference Dates: (Timestamp('2020-01-10 00:00:00'), Timestamp('2025-01-09 00:00:00')) Current Date Range: 2020-01-10 00:00:00 to 2025-01-09 00:00:00 check is False\n",
      "Processed and saved data for ATUL.\n"
     ]
    },
    {
     "name": "stderr",
     "output_type": "stream",
     "text": [
      "[*********************100%***********************]  1 of 1 completed\n"
     ]
    },
    {
     "name": "stdout",
     "output_type": "stream",
     "text": [
      "Reference Dates: (Timestamp('2020-01-10 00:00:00'), Timestamp('2025-01-09 00:00:00')) Current Date Range: 2020-01-10 00:00:00 to 2025-01-09 00:00:00 check is False\n",
      "Processed and saved data for AUROPHARMA.\n"
     ]
    },
    {
     "name": "stderr",
     "output_type": "stream",
     "text": [
      "[*********************100%***********************]  1 of 1 completed\n",
      "[*********************100%***********************]  1 of 1 completed\n"
     ]
    },
    {
     "name": "stdout",
     "output_type": "stream",
     "text": [
      "Reference Dates: (Timestamp('2020-01-10 00:00:00'), Timestamp('2025-01-09 00:00:00')) Current Date Range: 2020-01-10 00:00:00 to 2025-01-09 00:00:00 check is False\n",
      "Processed and saved data for AVANTIFEED.\n",
      "Reference Dates: (Timestamp('2020-01-10 00:00:00'), Timestamp('2025-01-09 00:00:00')) Current Date Range: 2020-01-10 00:00:00 to 2025-01-09 00:00:00 check is False\n",
      "Processed and saved data for DMART.\n"
     ]
    },
    {
     "name": "stderr",
     "output_type": "stream",
     "text": [
      "[*********************100%***********************]  1 of 1 completed\n"
     ]
    },
    {
     "name": "stdout",
     "output_type": "stream",
     "text": [
      "Reference Dates: (Timestamp('2020-01-10 00:00:00'), Timestamp('2025-01-09 00:00:00')) Current Date Range: 2020-01-10 00:00:00 to 2025-01-09 00:00:00 check is False\n",
      "Processed and saved data for AXISBANK.\n"
     ]
    },
    {
     "name": "stderr",
     "output_type": "stream",
     "text": [
      "[*********************100%***********************]  1 of 1 completed\n"
     ]
    },
    {
     "name": "stdout",
     "output_type": "stream",
     "text": [
      "Reference Dates: (Timestamp('2020-01-10 00:00:00'), Timestamp('2025-01-09 00:00:00')) Current Date Range: 2020-01-10 00:00:00 to 2025-01-09 00:00:00 check is False\n",
      "Processed and saved data for BASF.\n"
     ]
    },
    {
     "name": "stderr",
     "output_type": "stream",
     "text": [
      "[*********************100%***********************]  1 of 1 completed\n"
     ]
    },
    {
     "name": "stdout",
     "output_type": "stream",
     "text": [
      "Reference Dates: (Timestamp('2020-01-10 00:00:00'), Timestamp('2025-01-09 00:00:00')) Current Date Range: 2020-01-10 00:00:00 to 2025-01-09 00:00:00 check is False\n",
      "Processed and saved data for BEML.\n"
     ]
    },
    {
     "name": "stderr",
     "output_type": "stream",
     "text": [
      "[*********************100%***********************]  1 of 1 completed\n",
      "[*********************100%***********************]  1 of 1 completed\n"
     ]
    },
    {
     "name": "stdout",
     "output_type": "stream",
     "text": [
      "Reference Dates: (Timestamp('2020-01-10 00:00:00'), Timestamp('2025-01-09 00:00:00')) Current Date Range: 2020-01-10 00:00:00 to 2025-01-09 00:00:00 check is False\n",
      "Processed and saved data for BLS.\n",
      "Reference Dates: (Timestamp('2020-01-10 00:00:00'), Timestamp('2025-01-09 00:00:00')) Current Date Range: 2020-01-10 00:00:00 to 2025-01-09 00:00:00 check is False\n",
      "Processed and saved data for BSE.\n"
     ]
    },
    {
     "name": "stderr",
     "output_type": "stream",
     "text": [
      "[*********************100%***********************]  1 of 1 completed\n"
     ]
    },
    {
     "name": "stdout",
     "output_type": "stream",
     "text": [
      "Reference Dates: (Timestamp('2020-01-10 00:00:00'), Timestamp('2025-01-09 00:00:00')) Current Date Range: 2020-01-10 00:00:00 to 2025-01-09 00:00:00 check is False\n",
      "Processed and saved data for BAJAJ-AUTO.\n"
     ]
    },
    {
     "name": "stderr",
     "output_type": "stream",
     "text": [
      "[*********************100%***********************]  1 of 1 completed\n"
     ]
    },
    {
     "name": "stdout",
     "output_type": "stream",
     "text": [
      "Reference Dates: (Timestamp('2020-01-10 00:00:00'), Timestamp('2025-01-09 00:00:00')) Current Date Range: 2020-01-10 00:00:00 to 2025-01-09 00:00:00 check is False\n",
      "Processed and saved data for BAJFINANCE.\n"
     ]
    },
    {
     "name": "stderr",
     "output_type": "stream",
     "text": [
      "[*********************100%***********************]  1 of 1 completed\n"
     ]
    },
    {
     "name": "stdout",
     "output_type": "stream",
     "text": [
      "Reference Dates: (Timestamp('2020-01-10 00:00:00'), Timestamp('2025-01-09 00:00:00')) Current Date Range: 2020-01-10 00:00:00 to 2025-01-09 00:00:00 check is False\n",
      "Processed and saved data for BAJAJFINSV.\n"
     ]
    },
    {
     "name": "stderr",
     "output_type": "stream",
     "text": [
      "[*********************100%***********************]  1 of 1 completed\n"
     ]
    },
    {
     "name": "stdout",
     "output_type": "stream",
     "text": [
      "Reference Dates: (Timestamp('2020-01-10 00:00:00'), Timestamp('2025-01-09 00:00:00')) Current Date Range: 2020-01-10 00:00:00 to 2025-01-09 00:00:00 check is False\n",
      "Processed and saved data for BAJAJHLDNG.\n"
     ]
    },
    {
     "name": "stderr",
     "output_type": "stream",
     "text": [
      "[*********************100%***********************]  1 of 1 completed\n"
     ]
    },
    {
     "name": "stdout",
     "output_type": "stream",
     "text": [
      "Reference Dates: (Timestamp('2020-01-10 00:00:00'), Timestamp('2025-01-09 00:00:00')) Current Date Range: 2020-01-10 00:00:00 to 2025-01-09 00:00:00 check is False\n",
      "Processed and saved data for BALAMINES.\n"
     ]
    },
    {
     "name": "stderr",
     "output_type": "stream",
     "text": [
      "[*********************100%***********************]  1 of 1 completed\n"
     ]
    },
    {
     "name": "stdout",
     "output_type": "stream",
     "text": [
      "Reference Dates: (Timestamp('2020-01-10 00:00:00'), Timestamp('2025-01-09 00:00:00')) Current Date Range: 2020-01-10 00:00:00 to 2025-01-09 00:00:00 check is False\n",
      "Processed and saved data for BALKRISIND.\n"
     ]
    },
    {
     "name": "stderr",
     "output_type": "stream",
     "text": [
      "[*********************100%***********************]  1 of 1 completed\n",
      "[*********************100%***********************]  1 of 1 completed\n"
     ]
    },
    {
     "name": "stdout",
     "output_type": "stream",
     "text": [
      "Reference Dates: (Timestamp('2020-01-10 00:00:00'), Timestamp('2025-01-09 00:00:00')) Current Date Range: 2020-01-10 00:00:00 to 2025-01-09 00:00:00 check is False\n",
      "Processed and saved data for BALRAMCHIN.\n",
      "Reference Dates: (Timestamp('2020-01-10 00:00:00'), Timestamp('2025-01-09 00:00:00')) Current Date Range: 2020-01-10 00:00:00 to 2025-01-09 00:00:00 check is False\n",
      "Processed and saved data for BANDHANBNK.\n"
     ]
    },
    {
     "name": "stderr",
     "output_type": "stream",
     "text": [
      "[*********************100%***********************]  1 of 1 completed\n"
     ]
    },
    {
     "name": "stdout",
     "output_type": "stream",
     "text": [
      "Reference Dates: (Timestamp('2020-01-10 00:00:00'), Timestamp('2025-01-09 00:00:00')) Current Date Range: 2020-01-10 00:00:00 to 2025-01-09 00:00:00 check is False\n",
      "Processed and saved data for BANKBARODA.\n"
     ]
    },
    {
     "name": "stderr",
     "output_type": "stream",
     "text": [
      "[*********************100%***********************]  1 of 1 completed\n"
     ]
    },
    {
     "name": "stdout",
     "output_type": "stream",
     "text": [
      "Reference Dates: (Timestamp('2020-01-10 00:00:00'), Timestamp('2025-01-09 00:00:00')) Current Date Range: 2020-01-10 00:00:00 to 2025-01-09 00:00:00 check is False\n",
      "Processed and saved data for BANKINDIA.\n"
     ]
    },
    {
     "name": "stderr",
     "output_type": "stream",
     "text": [
      "[*********************100%***********************]  1 of 1 completed\n"
     ]
    },
    {
     "name": "stdout",
     "output_type": "stream",
     "text": [
      "Reference Dates: (Timestamp('2020-01-10 00:00:00'), Timestamp('2025-01-09 00:00:00')) Current Date Range: 2020-01-10 00:00:00 to 2025-01-09 00:00:00 check is False\n",
      "Processed and saved data for MAHABANK.\n"
     ]
    },
    {
     "name": "stderr",
     "output_type": "stream",
     "text": [
      "[*********************100%***********************]  1 of 1 completed\n"
     ]
    },
    {
     "name": "stdout",
     "output_type": "stream",
     "text": [
      "Reference Dates: (Timestamp('2020-01-10 00:00:00'), Timestamp('2025-01-09 00:00:00')) Current Date Range: 2020-01-10 00:00:00 to 2025-01-09 00:00:00 check is False\n",
      "Processed and saved data for BATAINDIA.\n"
     ]
    },
    {
     "name": "stderr",
     "output_type": "stream",
     "text": [
      "[*********************100%***********************]  1 of 1 completed\n"
     ]
    },
    {
     "name": "stdout",
     "output_type": "stream",
     "text": [
      "Reference Dates: (Timestamp('2020-01-10 00:00:00'), Timestamp('2025-01-09 00:00:00')) Current Date Range: 2020-01-10 00:00:00 to 2025-01-09 00:00:00 check is False\n",
      "Processed and saved data for BAYERCROP.\n"
     ]
    },
    {
     "name": "stderr",
     "output_type": "stream",
     "text": [
      "[*********************100%***********************]  1 of 1 completed\n"
     ]
    },
    {
     "name": "stdout",
     "output_type": "stream",
     "text": [
      "Reference Dates: (Timestamp('2020-01-10 00:00:00'), Timestamp('2025-01-09 00:00:00')) Current Date Range: 2020-01-10 00:00:00 to 2025-01-09 00:00:00 check is False\n",
      "Processed and saved data for BERGEPAINT.\n"
     ]
    },
    {
     "name": "stderr",
     "output_type": "stream",
     "text": [
      "[*********************100%***********************]  1 of 1 completed\n"
     ]
    },
    {
     "name": "stdout",
     "output_type": "stream",
     "text": [
      "Reference Dates: (Timestamp('2020-01-10 00:00:00'), Timestamp('2025-01-09 00:00:00')) Current Date Range: 2020-01-10 00:00:00 to 2025-01-09 00:00:00 check is False\n",
      "Processed and saved data for BDL.\n"
     ]
    },
    {
     "name": "stderr",
     "output_type": "stream",
     "text": [
      "[*********************100%***********************]  1 of 1 completed\n"
     ]
    },
    {
     "name": "stdout",
     "output_type": "stream",
     "text": [
      "Reference Dates: (Timestamp('2020-01-10 00:00:00'), Timestamp('2025-01-09 00:00:00')) Current Date Range: 2020-01-10 00:00:00 to 2025-01-09 00:00:00 check is False\n",
      "Processed and saved data for BEL.\n"
     ]
    },
    {
     "name": "stderr",
     "output_type": "stream",
     "text": [
      "[*********************100%***********************]  1 of 1 completed\n"
     ]
    },
    {
     "name": "stdout",
     "output_type": "stream",
     "text": [
      "Reference Dates: (Timestamp('2020-01-10 00:00:00'), Timestamp('2025-01-09 00:00:00')) Current Date Range: 2020-01-10 00:00:00 to 2025-01-09 00:00:00 check is False\n",
      "Processed and saved data for BHARATFORG.\n"
     ]
    },
    {
     "name": "stderr",
     "output_type": "stream",
     "text": [
      "[*********************100%***********************]  1 of 1 completed\n"
     ]
    },
    {
     "name": "stdout",
     "output_type": "stream",
     "text": [
      "Reference Dates: (Timestamp('2020-01-10 00:00:00'), Timestamp('2025-01-09 00:00:00')) Current Date Range: 2020-01-10 00:00:00 to 2025-01-09 00:00:00 check is False\n",
      "Processed and saved data for BHEL.\n"
     ]
    },
    {
     "name": "stderr",
     "output_type": "stream",
     "text": [
      "[*********************100%***********************]  1 of 1 completed\n"
     ]
    },
    {
     "name": "stdout",
     "output_type": "stream",
     "text": [
      "Reference Dates: (Timestamp('2020-01-10 00:00:00'), Timestamp('2025-01-09 00:00:00')) Current Date Range: 2020-01-10 00:00:00 to 2025-01-09 00:00:00 check is False\n",
      "Processed and saved data for BPCL.\n"
     ]
    },
    {
     "name": "stderr",
     "output_type": "stream",
     "text": [
      "[*********************100%***********************]  1 of 1 completed\n",
      "[*********************100%***********************]  1 of 1 completed\n"
     ]
    },
    {
     "name": "stdout",
     "output_type": "stream",
     "text": [
      "Reference Dates: (Timestamp('2020-01-10 00:00:00'), Timestamp('2025-01-09 00:00:00')) Current Date Range: 2020-01-10 00:00:00 to 2025-01-09 00:00:00 check is False\n",
      "Processed and saved data for BHARTIARTL.\n",
      "Reference Dates: (Timestamp('2020-01-10 00:00:00'), Timestamp('2025-01-09 00:00:00')) Current Date Range: 2024-04-12 00:00:00 to 2025-01-09 00:00:00 check is True\n",
      "Skipping...BHARTIHEXA\n"
     ]
    },
    {
     "name": "stderr",
     "output_type": "stream",
     "text": [
      "[*********************100%***********************]  1 of 1 completed\n"
     ]
    },
    {
     "name": "stdout",
     "output_type": "stream",
     "text": [
      "Reference Dates: (Timestamp('2020-01-10 00:00:00'), Timestamp('2025-01-09 00:00:00')) Current Date Range: 2022-11-16 00:00:00 to 2025-01-09 00:00:00 check is True\n",
      "Skipping...BIKAJI\n"
     ]
    },
    {
     "name": "stderr",
     "output_type": "stream",
     "text": [
      "[*********************100%***********************]  1 of 1 completed\n"
     ]
    },
    {
     "name": "stdout",
     "output_type": "stream",
     "text": [
      "Reference Dates: (Timestamp('2020-01-10 00:00:00'), Timestamp('2025-01-09 00:00:00')) Current Date Range: 2020-01-10 00:00:00 to 2025-01-09 00:00:00 check is False\n",
      "Processed and saved data for BIOCON.\n"
     ]
    },
    {
     "name": "stderr",
     "output_type": "stream",
     "text": [
      "[*********************100%***********************]  1 of 1 completed\n"
     ]
    },
    {
     "name": "stdout",
     "output_type": "stream",
     "text": [
      "Reference Dates: (Timestamp('2020-01-10 00:00:00'), Timestamp('2025-01-09 00:00:00')) Current Date Range: 2020-01-10 00:00:00 to 2025-01-09 00:00:00 check is False\n",
      "Processed and saved data for BIRLACORPN.\n"
     ]
    },
    {
     "name": "stderr",
     "output_type": "stream",
     "text": [
      "[*********************100%***********************]  1 of 1 completed\n"
     ]
    },
    {
     "name": "stdout",
     "output_type": "stream",
     "text": [
      "Reference Dates: (Timestamp('2020-01-10 00:00:00'), Timestamp('2025-01-09 00:00:00')) Current Date Range: 2020-01-10 00:00:00 to 2025-01-09 00:00:00 check is False\n",
      "Processed and saved data for BSOFT.\n"
     ]
    },
    {
     "name": "stderr",
     "output_type": "stream",
     "text": [
      "[*********************100%***********************]  1 of 1 completed\n"
     ]
    },
    {
     "name": "stdout",
     "output_type": "stream",
     "text": [
      "Reference Dates: (Timestamp('2020-01-10 00:00:00'), Timestamp('2025-01-09 00:00:00')) Current Date Range: 2020-01-10 00:00:00 to 2025-01-09 00:00:00 check is False\n",
      "Processed and saved data for BLUEDART.\n"
     ]
    },
    {
     "name": "stderr",
     "output_type": "stream",
     "text": [
      "[*********************100%***********************]  1 of 1 completed\n"
     ]
    },
    {
     "name": "stdout",
     "output_type": "stream",
     "text": [
      "Reference Dates: (Timestamp('2020-01-10 00:00:00'), Timestamp('2025-01-09 00:00:00')) Current Date Range: 2020-01-10 00:00:00 to 2025-01-09 00:00:00 check is False\n",
      "Processed and saved data for BLUESTARCO.\n"
     ]
    },
    {
     "name": "stderr",
     "output_type": "stream",
     "text": [
      "[*********************100%***********************]  1 of 1 completed\n"
     ]
    },
    {
     "name": "stdout",
     "output_type": "stream",
     "text": [
      "Reference Dates: (Timestamp('2020-01-10 00:00:00'), Timestamp('2025-01-09 00:00:00')) Current Date Range: 2020-01-10 00:00:00 to 2025-01-09 00:00:00 check is False\n",
      "Processed and saved data for BBTC.\n"
     ]
    },
    {
     "name": "stderr",
     "output_type": "stream",
     "text": [
      "[*********************100%***********************]  1 of 1 completed\n"
     ]
    },
    {
     "name": "stdout",
     "output_type": "stream",
     "text": [
      "Reference Dates: (Timestamp('2020-01-10 00:00:00'), Timestamp('2025-01-09 00:00:00')) Current Date Range: 2020-01-10 00:00:00 to 2025-01-09 00:00:00 check is False\n",
      "Processed and saved data for BOSCHLTD.\n"
     ]
    },
    {
     "name": "stderr",
     "output_type": "stream",
     "text": [
      "[*********************100%***********************]  1 of 1 completed\n"
     ]
    },
    {
     "name": "stdout",
     "output_type": "stream",
     "text": [
      "Reference Dates: (Timestamp('2020-01-10 00:00:00'), Timestamp('2025-01-09 00:00:00')) Current Date Range: 2020-01-10 00:00:00 to 2025-01-09 00:00:00 check is False\n",
      "Processed and saved data for BRIGADE.\n"
     ]
    },
    {
     "name": "stderr",
     "output_type": "stream",
     "text": [
      "[*********************100%***********************]  1 of 1 completed\n"
     ]
    },
    {
     "name": "stdout",
     "output_type": "stream",
     "text": [
      "Reference Dates: (Timestamp('2020-01-10 00:00:00'), Timestamp('2025-01-09 00:00:00')) Current Date Range: 2020-01-10 00:00:00 to 2025-01-09 00:00:00 check is False\n",
      "Processed and saved data for BRITANNIA.\n"
     ]
    },
    {
     "name": "stderr",
     "output_type": "stream",
     "text": [
      "[*********************100%***********************]  1 of 1 completed\n"
     ]
    },
    {
     "name": "stdout",
     "output_type": "stream",
     "text": [
      "Reference Dates: (Timestamp('2020-01-10 00:00:00'), Timestamp('2025-01-09 00:00:00')) Current Date Range: 2021-12-21 00:00:00 to 2025-01-09 00:00:00 check is True\n",
      "Processed and saved data for MAPMYINDIA.\n"
     ]
    },
    {
     "name": "stderr",
     "output_type": "stream",
     "text": [
      "[*********************100%***********************]  1 of 1 completed\n"
     ]
    },
    {
     "name": "stdout",
     "output_type": "stream",
     "text": [
      "Reference Dates: (Timestamp('2020-01-10 00:00:00'), Timestamp('2025-01-09 00:00:00')) Current Date Range: 2020-01-10 00:00:00 to 2025-01-09 00:00:00 check is False\n",
      "Processed and saved data for CCL.\n"
     ]
    },
    {
     "name": "stderr",
     "output_type": "stream",
     "text": [
      "[*********************100%***********************]  1 of 1 completed\n"
     ]
    },
    {
     "name": "stdout",
     "output_type": "stream",
     "text": [
      "Reference Dates: (Timestamp('2020-01-10 00:00:00'), Timestamp('2025-01-09 00:00:00')) Current Date Range: 2020-01-10 00:00:00 to 2025-01-09 00:00:00 check is False\n",
      "Processed and saved data for CESC.\n"
     ]
    },
    {
     "name": "stderr",
     "output_type": "stream",
     "text": [
      "[*********************100%***********************]  1 of 1 completed\n"
     ]
    },
    {
     "name": "stdout",
     "output_type": "stream",
     "text": [
      "Reference Dates: (Timestamp('2020-01-10 00:00:00'), Timestamp('2025-01-09 00:00:00')) Current Date Range: 2020-01-10 00:00:00 to 2025-01-09 00:00:00 check is False\n",
      "Processed and saved data for CGPOWER.\n"
     ]
    },
    {
     "name": "stderr",
     "output_type": "stream",
     "text": [
      "[*********************100%***********************]  1 of 1 completed\n"
     ]
    },
    {
     "name": "stdout",
     "output_type": "stream",
     "text": [
      "Reference Dates: (Timestamp('2020-01-10 00:00:00'), Timestamp('2025-01-09 00:00:00')) Current Date Range: 2020-01-10 00:00:00 to 2025-01-09 00:00:00 check is False\n",
      "Processed and saved data for CIEINDIA.\n"
     ]
    },
    {
     "name": "stderr",
     "output_type": "stream",
     "text": [
      "[*********************100%***********************]  1 of 1 completed\n"
     ]
    },
    {
     "name": "stdout",
     "output_type": "stream",
     "text": [
      "Reference Dates: (Timestamp('2020-01-10 00:00:00'), Timestamp('2025-01-09 00:00:00')) Current Date Range: 2020-01-10 00:00:00 to 2025-01-09 00:00:00 check is False\n",
      "Processed and saved data for CRISIL.\n"
     ]
    },
    {
     "name": "stderr",
     "output_type": "stream",
     "text": [
      "[*********************100%***********************]  1 of 1 completed\n"
     ]
    },
    {
     "name": "stdout",
     "output_type": "stream",
     "text": [
      "Reference Dates: (Timestamp('2020-01-10 00:00:00'), Timestamp('2025-01-09 00:00:00')) Current Date Range: 2022-05-09 00:00:00 to 2025-01-09 00:00:00 check is True\n",
      "Skipping...CAMPUS\n"
     ]
    },
    {
     "name": "stderr",
     "output_type": "stream",
     "text": [
      "[*********************100%***********************]  1 of 1 completed\n"
     ]
    },
    {
     "name": "stdout",
     "output_type": "stream",
     "text": [
      "Reference Dates: (Timestamp('2020-01-10 00:00:00'), Timestamp('2025-01-09 00:00:00')) Current Date Range: 2020-01-10 00:00:00 to 2025-01-09 00:00:00 check is False\n",
      "Processed and saved data for CANFINHOME.\n"
     ]
    },
    {
     "name": "stderr",
     "output_type": "stream",
     "text": [
      "[*********************100%***********************]  1 of 1 completed\n"
     ]
    },
    {
     "name": "stdout",
     "output_type": "stream",
     "text": [
      "Reference Dates: (Timestamp('2020-01-10 00:00:00'), Timestamp('2025-01-09 00:00:00')) Current Date Range: 2020-01-10 00:00:00 to 2025-01-09 00:00:00 check is False\n",
      "Processed and saved data for CANBK.\n"
     ]
    },
    {
     "name": "stderr",
     "output_type": "stream",
     "text": [
      "[*********************100%***********************]  1 of 1 completed\n"
     ]
    },
    {
     "name": "stdout",
     "output_type": "stream",
     "text": [
      "Reference Dates: (Timestamp('2020-01-10 00:00:00'), Timestamp('2025-01-09 00:00:00')) Current Date Range: 2020-01-10 00:00:00 to 2025-01-09 00:00:00 check is False\n",
      "Processed and saved data for CAPLIPOINT.\n"
     ]
    },
    {
     "name": "stderr",
     "output_type": "stream",
     "text": [
      "[*********************100%***********************]  1 of 1 completed\n"
     ]
    },
    {
     "name": "stdout",
     "output_type": "stream",
     "text": [
      "Reference Dates: (Timestamp('2020-01-10 00:00:00'), Timestamp('2025-01-09 00:00:00')) Current Date Range: 2020-01-10 00:00:00 to 2025-01-09 00:00:00 check is False\n",
      "Processed and saved data for CGCL.\n"
     ]
    },
    {
     "name": "stderr",
     "output_type": "stream",
     "text": [
      "[*********************100%***********************]  1 of 1 completed\n"
     ]
    },
    {
     "name": "stdout",
     "output_type": "stream",
     "text": [
      "Reference Dates: (Timestamp('2020-01-10 00:00:00'), Timestamp('2025-01-09 00:00:00')) Current Date Range: 2020-01-10 00:00:00 to 2025-01-09 00:00:00 check is False\n",
      "Processed and saved data for CARBORUNIV.\n"
     ]
    },
    {
     "name": "stderr",
     "output_type": "stream",
     "text": [
      "[*********************100%***********************]  1 of 1 completed\n"
     ]
    },
    {
     "name": "stdout",
     "output_type": "stream",
     "text": [
      "Reference Dates: (Timestamp('2020-01-10 00:00:00'), Timestamp('2025-01-09 00:00:00')) Current Date Range: 2020-01-10 00:00:00 to 2025-01-09 00:00:00 check is False\n",
      "Processed and saved data for CASTROLIND.\n"
     ]
    },
    {
     "name": "stderr",
     "output_type": "stream",
     "text": [
      "[*********************100%***********************]  1 of 1 completed\n",
      "[*********************100%***********************]  1 of 1 completed\n"
     ]
    },
    {
     "name": "stdout",
     "output_type": "stream",
     "text": [
      "Reference Dates: (Timestamp('2020-01-10 00:00:00'), Timestamp('2025-01-09 00:00:00')) Current Date Range: 2020-01-10 00:00:00 to 2025-01-09 00:00:00 check is False\n",
      "Processed and saved data for CEATLTD.\n",
      "Reference Dates: (Timestamp('2020-01-10 00:00:00'), Timestamp('2025-01-09 00:00:00')) Current Date Range: 2023-11-06 00:00:00 to 2025-01-09 00:00:00 check is True\n",
      "Skipping...CELLO\n"
     ]
    },
    {
     "name": "stderr",
     "output_type": "stream",
     "text": [
      "[*********************100%***********************]  1 of 1 completed\n"
     ]
    },
    {
     "name": "stdout",
     "output_type": "stream",
     "text": [
      "Reference Dates: (Timestamp('2020-01-10 00:00:00'), Timestamp('2025-01-09 00:00:00')) Current Date Range: 2020-01-10 00:00:00 to 2025-01-09 00:00:00 check is False\n",
      "Processed and saved data for CENTRALBK.\n"
     ]
    },
    {
     "name": "stderr",
     "output_type": "stream",
     "text": [
      "[*********************100%***********************]  1 of 1 completed\n"
     ]
    },
    {
     "name": "stdout",
     "output_type": "stream",
     "text": [
      "Reference Dates: (Timestamp('2020-01-10 00:00:00'), Timestamp('2025-01-09 00:00:00')) Current Date Range: 2020-01-10 00:00:00 to 2025-01-09 00:00:00 check is False\n",
      "Processed and saved data for CDSL.\n"
     ]
    },
    {
     "name": "stderr",
     "output_type": "stream",
     "text": [
      "[*********************100%***********************]  1 of 1 completed\n"
     ]
    },
    {
     "name": "stdout",
     "output_type": "stream",
     "text": [
      "Reference Dates: (Timestamp('2020-01-10 00:00:00'), Timestamp('2025-01-09 00:00:00')) Current Date Range: 2020-01-10 00:00:00 to 2025-01-09 00:00:00 check is False\n",
      "Processed and saved data for CENTURYPLY.\n"
     ]
    },
    {
     "name": "stderr",
     "output_type": "stream",
     "text": [
      "[*********************100%***********************]  1 of 1 completed\n"
     ]
    },
    {
     "name": "stdout",
     "output_type": "stream",
     "text": [
      "Reference Dates: (Timestamp('2020-01-10 00:00:00'), Timestamp('2025-01-09 00:00:00')) Current Date Range: 2020-01-10 00:00:00 to 2025-01-09 00:00:00 check is False\n",
      "Processed and saved data for CERA.\n"
     ]
    },
    {
     "name": "stderr",
     "output_type": "stream",
     "text": [
      "[*********************100%***********************]  1 of 1 completed\n"
     ]
    },
    {
     "name": "stdout",
     "output_type": "stream",
     "text": [
      "Reference Dates: (Timestamp('2020-01-10 00:00:00'), Timestamp('2025-01-09 00:00:00')) Current Date Range: 2020-01-10 00:00:00 to 2025-01-09 00:00:00 check is False\n",
      "Processed and saved data for CHALET.\n"
     ]
    },
    {
     "name": "stderr",
     "output_type": "stream",
     "text": [
      "[*********************100%***********************]  1 of 1 completed\n"
     ]
    },
    {
     "name": "stdout",
     "output_type": "stream",
     "text": [
      "Reference Dates: (Timestamp('2020-01-10 00:00:00'), Timestamp('2025-01-09 00:00:00')) Current Date Range: 2020-01-10 00:00:00 to 2025-01-09 00:00:00 check is False\n",
      "Processed and saved data for CHAMBLFERT.\n"
     ]
    },
    {
     "name": "stderr",
     "output_type": "stream",
     "text": [
      "[*********************100%***********************]  1 of 1 completed\n"
     ]
    },
    {
     "name": "stdout",
     "output_type": "stream",
     "text": [
      "Reference Dates: (Timestamp('2020-01-10 00:00:00'), Timestamp('2025-01-09 00:00:00')) Current Date Range: 2021-08-24 00:00:00 to 2025-01-09 00:00:00 check is True\n",
      "Processed and saved data for CHEMPLASTS.\n"
     ]
    },
    {
     "name": "stderr",
     "output_type": "stream",
     "text": [
      "[*********************100%***********************]  1 of 1 completed\n"
     ]
    },
    {
     "name": "stdout",
     "output_type": "stream",
     "text": [
      "Reference Dates: (Timestamp('2020-01-10 00:00:00'), Timestamp('2025-01-09 00:00:00')) Current Date Range: 2020-01-10 00:00:00 to 2025-01-09 00:00:00 check is False\n",
      "Processed and saved data for CHENNPETRO.\n"
     ]
    },
    {
     "name": "stderr",
     "output_type": "stream",
     "text": [
      "[*********************100%***********************]  1 of 1 completed\n"
     ]
    },
    {
     "name": "stdout",
     "output_type": "stream",
     "text": [
      "Reference Dates: (Timestamp('2020-01-10 00:00:00'), Timestamp('2025-01-09 00:00:00')) Current Date Range: 2020-01-10 00:00:00 to 2025-01-09 00:00:00 check is False\n",
      "Processed and saved data for CHOLAHLDNG.\n"
     ]
    },
    {
     "name": "stderr",
     "output_type": "stream",
     "text": [
      "[*********************100%***********************]  1 of 1 completed\n"
     ]
    },
    {
     "name": "stdout",
     "output_type": "stream",
     "text": [
      "Reference Dates: (Timestamp('2020-01-10 00:00:00'), Timestamp('2025-01-09 00:00:00')) Current Date Range: 2020-01-10 00:00:00 to 2025-01-09 00:00:00 check is False\n",
      "Processed and saved data for CHOLAFIN.\n"
     ]
    },
    {
     "name": "stderr",
     "output_type": "stream",
     "text": [
      "[*********************100%***********************]  1 of 1 completed\n"
     ]
    },
    {
     "name": "stdout",
     "output_type": "stream",
     "text": [
      "Reference Dates: (Timestamp('2020-01-10 00:00:00'), Timestamp('2025-01-09 00:00:00')) Current Date Range: 2020-01-10 00:00:00 to 2025-01-09 00:00:00 check is False\n",
      "Processed and saved data for CIPLA.\n"
     ]
    },
    {
     "name": "stderr",
     "output_type": "stream",
     "text": [
      "[*********************100%***********************]  1 of 1 completed\n"
     ]
    },
    {
     "name": "stdout",
     "output_type": "stream",
     "text": [
      "Reference Dates: (Timestamp('2020-01-10 00:00:00'), Timestamp('2025-01-09 00:00:00')) Current Date Range: 2020-01-10 00:00:00 to 2025-01-09 00:00:00 check is False\n",
      "Processed and saved data for CUB.\n"
     ]
    },
    {
     "name": "stderr",
     "output_type": "stream",
     "text": [
      "[*********************100%***********************]  1 of 1 completed\n"
     ]
    },
    {
     "name": "stdout",
     "output_type": "stream",
     "text": [
      "Reference Dates: (Timestamp('2020-01-10 00:00:00'), Timestamp('2025-01-09 00:00:00')) Current Date Range: 2021-07-19 00:00:00 to 2025-01-09 00:00:00 check is True\n",
      "Processed and saved data for CLEAN.\n"
     ]
    },
    {
     "name": "stderr",
     "output_type": "stream",
     "text": [
      "[*********************100%***********************]  1 of 1 completed\n"
     ]
    },
    {
     "name": "stdout",
     "output_type": "stream",
     "text": [
      "Reference Dates: (Timestamp('2020-01-10 00:00:00'), Timestamp('2025-01-09 00:00:00')) Current Date Range: 2020-01-10 00:00:00 to 2025-01-09 00:00:00 check is False\n",
      "Processed and saved data for COALINDIA.\n"
     ]
    },
    {
     "name": "stderr",
     "output_type": "stream",
     "text": [
      "[*********************100%***********************]  1 of 1 completed\n"
     ]
    },
    {
     "name": "stdout",
     "output_type": "stream",
     "text": [
      "Reference Dates: (Timestamp('2020-01-10 00:00:00'), Timestamp('2025-01-09 00:00:00')) Current Date Range: 2020-01-10 00:00:00 to 2025-01-09 00:00:00 check is False\n",
      "Processed and saved data for COCHINSHIP.\n"
     ]
    },
    {
     "name": "stderr",
     "output_type": "stream",
     "text": [
      "[*********************100%***********************]  1 of 1 completed\n"
     ]
    },
    {
     "name": "stdout",
     "output_type": "stream",
     "text": [
      "Reference Dates: (Timestamp('2020-01-10 00:00:00'), Timestamp('2025-01-09 00:00:00')) Current Date Range: 2020-01-10 00:00:00 to 2025-01-09 00:00:00 check is False\n",
      "Processed and saved data for COFORGE.\n"
     ]
    },
    {
     "name": "stderr",
     "output_type": "stream",
     "text": [
      "[*********************100%***********************]  1 of 1 completed\n"
     ]
    },
    {
     "name": "stdout",
     "output_type": "stream",
     "text": [
      "Reference Dates: (Timestamp('2020-01-10 00:00:00'), Timestamp('2025-01-09 00:00:00')) Current Date Range: 2020-01-10 00:00:00 to 2025-01-09 00:00:00 check is False\n",
      "Processed and saved data for COLPAL.\n"
     ]
    },
    {
     "name": "stderr",
     "output_type": "stream",
     "text": [
      "[*********************100%***********************]  1 of 1 completed\n",
      "[*********************100%***********************]  1 of 1 completed\n"
     ]
    },
    {
     "name": "stdout",
     "output_type": "stream",
     "text": [
      "Reference Dates: (Timestamp('2020-01-10 00:00:00'), Timestamp('2025-01-09 00:00:00')) Current Date Range: 2020-10-05 00:00:00 to 2025-01-09 00:00:00 check is True\n",
      "Processed and saved data for CAMS.\n",
      "Reference Dates: (Timestamp('2020-01-10 00:00:00'), Timestamp('2025-01-09 00:00:00')) Current Date Range: 2023-08-18 00:00:00 to 2025-01-09 00:00:00 check is True\n",
      "Skipping...CONCORDBIO\n"
     ]
    },
    {
     "name": "stderr",
     "output_type": "stream",
     "text": [
      "[*********************100%***********************]  1 of 1 completed\n"
     ]
    },
    {
     "name": "stdout",
     "output_type": "stream",
     "text": [
      "Reference Dates: (Timestamp('2020-01-10 00:00:00'), Timestamp('2025-01-09 00:00:00')) Current Date Range: 2020-01-10 00:00:00 to 2025-01-09 00:00:00 check is False\n",
      "Processed and saved data for CONCOR.\n"
     ]
    },
    {
     "name": "stderr",
     "output_type": "stream",
     "text": [
      "[*********************100%***********************]  1 of 1 completed\n",
      "\n",
      "1 Failed download:\n",
      "['COROMANDEL.NS']: ChunkedEncodingError(ProtocolError('Connection broken: IncompleteRead(10038 bytes read, 202 more expected)', IncompleteRead(10038 bytes read, 202 more expected)))\n"
     ]
    },
    {
     "name": "stdout",
     "output_type": "stream",
     "text": [
      "Skipping COROMANDEL due to missing data.\n"
     ]
    },
    {
     "name": "stderr",
     "output_type": "stream",
     "text": [
      "[*********************100%***********************]  1 of 1 completed\n"
     ]
    },
    {
     "name": "stdout",
     "output_type": "stream",
     "text": [
      "Reference Dates: (Timestamp('2020-01-10 00:00:00'), Timestamp('2025-01-09 00:00:00')) Current Date Range: 2021-03-25 00:00:00 to 2025-01-09 00:00:00 check is True\n",
      "Processed and saved data for CRAFTSMAN.\n"
     ]
    },
    {
     "name": "stderr",
     "output_type": "stream",
     "text": [
      "[*********************100%***********************]  1 of 1 completed\n"
     ]
    },
    {
     "name": "stdout",
     "output_type": "stream",
     "text": [
      "Reference Dates: (Timestamp('2020-01-10 00:00:00'), Timestamp('2025-01-09 00:00:00')) Current Date Range: 2020-01-10 00:00:00 to 2025-01-09 00:00:00 check is False\n",
      "Processed and saved data for CREDITACC.\n"
     ]
    },
    {
     "name": "stderr",
     "output_type": "stream",
     "text": [
      "[*********************100%***********************]  1 of 1 completed\n"
     ]
    },
    {
     "name": "stdout",
     "output_type": "stream",
     "text": [
      "Reference Dates: (Timestamp('2020-01-10 00:00:00'), Timestamp('2025-01-09 00:00:00')) Current Date Range: 2020-01-10 00:00:00 to 2025-01-09 00:00:00 check is False\n",
      "Processed and saved data for CROMPTON.\n"
     ]
    },
    {
     "name": "stderr",
     "output_type": "stream",
     "text": [
      "[*********************100%***********************]  1 of 1 completed\n"
     ]
    },
    {
     "name": "stdout",
     "output_type": "stream",
     "text": [
      "Reference Dates: (Timestamp('2020-01-10 00:00:00'), Timestamp('2025-01-09 00:00:00')) Current Date Range: 2020-01-10 00:00:00 to 2025-01-09 00:00:00 check is False\n",
      "Processed and saved data for CUMMINSIND.\n"
     ]
    },
    {
     "name": "stderr",
     "output_type": "stream",
     "text": [
      "[*********************100%***********************]  1 of 1 completed\n"
     ]
    },
    {
     "name": "stdout",
     "output_type": "stream",
     "text": [
      "Reference Dates: (Timestamp('2020-01-10 00:00:00'), Timestamp('2025-01-09 00:00:00')) Current Date Range: 2020-01-10 00:00:00 to 2025-01-09 00:00:00 check is False\n",
      "Processed and saved data for CYIENT.\n"
     ]
    },
    {
     "name": "stderr",
     "output_type": "stream",
     "text": [
      "[*********************100%***********************]  1 of 1 completed\n",
      "[*********************100%***********************]  1 of 1 completed\n"
     ]
    },
    {
     "name": "stdout",
     "output_type": "stream",
     "text": [
      "Reference Dates: (Timestamp('2020-01-10 00:00:00'), Timestamp('2025-01-09 00:00:00')) Current Date Range: 2020-01-10 00:00:00 to 2025-01-09 00:00:00 check is False\n",
      "Processed and saved data for DLF.\n",
      "Reference Dates: (Timestamp('2020-01-10 00:00:00'), Timestamp('2025-01-09 00:00:00')) Current Date Range: 2023-12-20 00:00:00 to 2025-01-09 00:00:00 check is True\n",
      "Skipping...DOMS\n"
     ]
    },
    {
     "name": "stderr",
     "output_type": "stream",
     "text": [
      "[*********************100%***********************]  1 of 1 completed\n",
      "[*********************100%***********************]  1 of 1 completed\n"
     ]
    },
    {
     "name": "stdout",
     "output_type": "stream",
     "text": [
      "Reference Dates: (Timestamp('2020-01-10 00:00:00'), Timestamp('2025-01-09 00:00:00')) Current Date Range: 2020-01-10 00:00:00 to 2025-01-09 00:00:00 check is False\n",
      "Processed and saved data for DABUR.\n",
      "Reference Dates: (Timestamp('2020-01-10 00:00:00'), Timestamp('2025-01-09 00:00:00')) Current Date Range: 2020-01-10 00:00:00 to 2025-01-09 00:00:00 check is False\n"
     ]
    },
    {
     "name": "stderr",
     "output_type": "stream",
     "text": [
      "[*********************100%***********************]  1 of 1 completed\n"
     ]
    },
    {
     "name": "stdout",
     "output_type": "stream",
     "text": [
      "Processed and saved data for DALBHARAT.\n",
      "Reference Dates: (Timestamp('2020-01-10 00:00:00'), Timestamp('2025-01-09 00:00:00')) Current Date Range: 2021-12-24 00:00:00 to 2025-01-09 00:00:00 check is True\n",
      "Processed and saved data for DATAPATTNS.\n"
     ]
    },
    {
     "name": "stderr",
     "output_type": "stream",
     "text": [
      "[*********************100%***********************]  1 of 1 completed\n"
     ]
    },
    {
     "name": "stdout",
     "output_type": "stream",
     "text": [
      "Reference Dates: (Timestamp('2020-01-10 00:00:00'), Timestamp('2025-01-09 00:00:00')) Current Date Range: 2020-01-10 00:00:00 to 2025-01-09 00:00:00 check is False\n",
      "Processed and saved data for DEEPAKFERT.\n"
     ]
    },
    {
     "name": "stderr",
     "output_type": "stream",
     "text": [
      "[*********************100%***********************]  1 of 1 completed\n"
     ]
    },
    {
     "name": "stdout",
     "output_type": "stream",
     "text": [
      "Reference Dates: (Timestamp('2020-01-10 00:00:00'), Timestamp('2025-01-09 00:00:00')) Current Date Range: 2020-01-10 00:00:00 to 2025-01-09 00:00:00 check is False\n",
      "Processed and saved data for DEEPAKNTR.\n"
     ]
    },
    {
     "name": "stderr",
     "output_type": "stream",
     "text": [
      "[*********************100%***********************]  1 of 1 completed\n"
     ]
    },
    {
     "name": "stdout",
     "output_type": "stream",
     "text": [
      "Reference Dates: (Timestamp('2020-01-10 00:00:00'), Timestamp('2025-01-09 00:00:00')) Current Date Range: 2022-05-24 00:00:00 to 2025-01-09 00:00:00 check is True\n",
      "Skipping...DELHIVERY\n"
     ]
    },
    {
     "name": "stderr",
     "output_type": "stream",
     "text": [
      "[*********************100%***********************]  1 of 1 completed\n"
     ]
    },
    {
     "name": "stdout",
     "output_type": "stream",
     "text": [
      "Reference Dates: (Timestamp('2020-01-10 00:00:00'), Timestamp('2025-01-09 00:00:00')) Current Date Range: 2021-08-16 00:00:00 to 2025-01-09 00:00:00 check is True\n",
      "Processed and saved data for DEVYANI.\n"
     ]
    },
    {
     "name": "stderr",
     "output_type": "stream",
     "text": [
      "[*********************100%***********************]  1 of 1 completed\n"
     ]
    },
    {
     "name": "stdout",
     "output_type": "stream",
     "text": [
      "Reference Dates: (Timestamp('2020-01-10 00:00:00'), Timestamp('2025-01-09 00:00:00')) Current Date Range: 2020-01-10 00:00:00 to 2025-01-09 00:00:00 check is False\n",
      "Processed and saved data for DIVISLAB.\n"
     ]
    },
    {
     "name": "stderr",
     "output_type": "stream",
     "text": [
      "[*********************100%***********************]  1 of 1 completed\n"
     ]
    },
    {
     "name": "stdout",
     "output_type": "stream",
     "text": [
      "Reference Dates: (Timestamp('2020-01-10 00:00:00'), Timestamp('2025-01-09 00:00:00')) Current Date Range: 2020-01-10 00:00:00 to 2025-01-09 00:00:00 check is False\n",
      "Processed and saved data for DIXON.\n"
     ]
    },
    {
     "name": "stderr",
     "output_type": "stream",
     "text": [
      "[*********************100%***********************]  1 of 1 completed\n",
      "[*********************100%***********************]  1 of 1 completed\n"
     ]
    },
    {
     "name": "stdout",
     "output_type": "stream",
     "text": [
      "Reference Dates: (Timestamp('2020-01-10 00:00:00'), Timestamp('2025-01-09 00:00:00')) Current Date Range: 2020-01-10 00:00:00 to 2025-01-09 00:00:00 check is False\n",
      "Processed and saved data for LALPATHLAB.\n",
      "Reference Dates: (Timestamp('2020-01-10 00:00:00'), Timestamp('2025-01-09 00:00:00')) Current Date Range: 2020-01-10 00:00:00 to 2025-01-09 00:00:00 check is False\n",
      "Processed and saved data for DRREDDY.\n"
     ]
    },
    {
     "name": "stderr",
     "output_type": "stream",
     "text": [
      "[*********************100%***********************]  1 of 1 completed\n",
      "\n",
      "1 Failed download:\n",
      "['DUMMYITC.NS']: YFTzMissingError('$%ticker%: possibly delisted; no timezone found')\n"
     ]
    },
    {
     "name": "stdout",
     "output_type": "stream",
     "text": [
      "Skipping DUMMYITC due to missing data.\n"
     ]
    },
    {
     "name": "stderr",
     "output_type": "stream",
     "text": [
      "[*********************100%***********************]  1 of 1 completed\n"
     ]
    },
    {
     "name": "stdout",
     "output_type": "stream",
     "text": [
      "Reference Dates: (Timestamp('2020-01-10 00:00:00'), Timestamp('2025-01-09 00:00:00')) Current Date Range: 2020-01-10 00:00:00 to 2025-01-09 00:00:00 check is False\n",
      "Processed and saved data for EIDPARRY.\n"
     ]
    },
    {
     "name": "stderr",
     "output_type": "stream",
     "text": [
      "[*********************100%***********************]  1 of 1 completed\n",
      "[*********************100%***********************]  1 of 1 completed\n"
     ]
    },
    {
     "name": "stdout",
     "output_type": "stream",
     "text": [
      "Reference Dates: (Timestamp('2020-01-10 00:00:00'), Timestamp('2025-01-09 00:00:00')) Current Date Range: 2020-01-10 00:00:00 to 2025-01-09 00:00:00 check is False\n",
      "Processed and saved data for EIHOTEL.\n",
      "Reference Dates: (Timestamp('2020-01-10 00:00:00'), Timestamp('2025-01-09 00:00:00')) Current Date Range: 2021-03-19 00:00:00 to 2025-01-09 00:00:00 check is True\n",
      "Processed and saved data for EASEMYTRIP.\n"
     ]
    },
    {
     "name": "stderr",
     "output_type": "stream",
     "text": [
      "[*********************100%***********************]  1 of 1 completed\n"
     ]
    },
    {
     "name": "stdout",
     "output_type": "stream",
     "text": [
      "Reference Dates: (Timestamp('2020-01-10 00:00:00'), Timestamp('2025-01-09 00:00:00')) Current Date Range: 2020-01-10 00:00:00 to 2025-01-09 00:00:00 check is False\n",
      "Processed and saved data for EICHERMOT.\n"
     ]
    },
    {
     "name": "stderr",
     "output_type": "stream",
     "text": [
      "[*********************100%***********************]  1 of 1 completed\n"
     ]
    },
    {
     "name": "stdout",
     "output_type": "stream",
     "text": [
      "Reference Dates: (Timestamp('2020-01-10 00:00:00'), Timestamp('2025-01-09 00:00:00')) Current Date Range: 2020-01-10 00:00:00 to 2025-01-09 00:00:00 check is False\n",
      "Processed and saved data for ELECON.\n"
     ]
    },
    {
     "name": "stderr",
     "output_type": "stream",
     "text": [
      "[*********************100%***********************]  1 of 1 completed\n"
     ]
    },
    {
     "name": "stdout",
     "output_type": "stream",
     "text": [
      "Reference Dates: (Timestamp('2020-01-10 00:00:00'), Timestamp('2025-01-09 00:00:00')) Current Date Range: 2020-01-10 00:00:00 to 2025-01-09 00:00:00 check is False\n",
      "Processed and saved data for ELGIEQUIP.\n"
     ]
    },
    {
     "name": "stderr",
     "output_type": "stream",
     "text": [
      "[*********************100%***********************]  1 of 1 completed\n",
      "[*********************100%***********************]  1 of 1 completed\n"
     ]
    },
    {
     "name": "stdout",
     "output_type": "stream",
     "text": [
      "Reference Dates: (Timestamp('2020-01-10 00:00:00'), Timestamp('2025-01-09 00:00:00')) Current Date Range: 2020-01-10 00:00:00 to 2025-01-09 00:00:00 check is False\n",
      "Processed and saved data for EMAMILTD.\n",
      "Reference Dates: (Timestamp('2020-01-10 00:00:00'), Timestamp('2025-01-09 00:00:00')) Current Date Range: 2024-07-10 00:00:00 to 2025-01-09 00:00:00 check is True\n",
      "Skipping...EMCURE\n"
     ]
    },
    {
     "name": "stderr",
     "output_type": "stream",
     "text": [
      "[*********************100%***********************]  1 of 1 completed\n"
     ]
    },
    {
     "name": "stdout",
     "output_type": "stream",
     "text": [
      "Reference Dates: (Timestamp('2020-01-10 00:00:00'), Timestamp('2025-01-09 00:00:00')) Current Date Range: 2020-01-10 00:00:00 to 2025-01-09 00:00:00 check is False\n",
      "Processed and saved data for ENDURANCE.\n"
     ]
    },
    {
     "name": "stderr",
     "output_type": "stream",
     "text": [
      "[*********************100%***********************]  1 of 1 completed\n"
     ]
    },
    {
     "name": "stdout",
     "output_type": "stream",
     "text": [
      "Reference Dates: (Timestamp('2020-01-10 00:00:00'), Timestamp('2025-01-09 00:00:00')) Current Date Range: 2020-01-10 00:00:00 to 2025-01-09 00:00:00 check is False\n",
      "Processed and saved data for ENGINERSIN.\n"
     ]
    },
    {
     "name": "stderr",
     "output_type": "stream",
     "text": [
      "[*********************100%***********************]  1 of 1 completed\n",
      "[*********************100%***********************]  1 of 1 completed\n"
     ]
    },
    {
     "name": "stdout",
     "output_type": "stream",
     "text": [
      "Reference Dates: (Timestamp('2020-01-10 00:00:00'), Timestamp('2025-01-09 00:00:00')) Current Date Range: 2020-11-02 00:00:00 to 2025-01-09 00:00:00 check is True\n",
      "Processed and saved data for EQUITASBNK.\n",
      "Reference Dates: (Timestamp('2020-01-10 00:00:00'), Timestamp('2025-01-09 00:00:00')) Current Date Range: 2020-01-10 00:00:00 to 2025-01-09 00:00:00 check is False\n"
     ]
    },
    {
     "name": "stderr",
     "output_type": "stream",
     "text": [
      "[*********************100%***********************]  1 of 1 completed\n"
     ]
    },
    {
     "name": "stdout",
     "output_type": "stream",
     "text": [
      "Processed and saved data for ERIS.\n",
      "Reference Dates: (Timestamp('2020-01-10 00:00:00'), Timestamp('2025-01-09 00:00:00')) Current Date Range: 2020-01-10 00:00:00 to 2025-01-09 00:00:00 check is False\n",
      "Processed and saved data for ESCORTS.\n"
     ]
    },
    {
     "name": "stderr",
     "output_type": "stream",
     "text": [
      "[*********************100%***********************]  1 of 1 completed\n",
      "[*********************100%***********************]  1 of 1 completed\n"
     ]
    },
    {
     "name": "stdout",
     "output_type": "stream",
     "text": [
      "Reference Dates: (Timestamp('2020-01-10 00:00:00'), Timestamp('2025-01-09 00:00:00')) Current Date Range: 2020-01-10 00:00:00 to 2025-01-09 00:00:00 check is False\n",
      "Processed and saved data for EXIDEIND.\n",
      "Reference Dates: (Timestamp('2020-01-10 00:00:00'), Timestamp('2025-01-09 00:00:00')) Current Date Range: 2021-11-10 00:00:00 to 2025-01-09 00:00:00 check is True\n",
      "Processed and saved data for NYKAA.\n"
     ]
    },
    {
     "name": "stderr",
     "output_type": "stream",
     "text": [
      "[*********************100%***********************]  1 of 1 completed\n"
     ]
    },
    {
     "name": "stdout",
     "output_type": "stream",
     "text": [
      "Reference Dates: (Timestamp('2020-01-10 00:00:00'), Timestamp('2025-01-09 00:00:00')) Current Date Range: 2020-01-10 00:00:00 to 2025-01-09 00:00:00 check is False\n",
      "Processed and saved data for FEDERALBNK.\n"
     ]
    },
    {
     "name": "stderr",
     "output_type": "stream",
     "text": [
      "[*********************100%***********************]  1 of 1 completed\n"
     ]
    },
    {
     "name": "stdout",
     "output_type": "stream",
     "text": [
      "Reference Dates: (Timestamp('2020-01-10 00:00:00'), Timestamp('2025-01-09 00:00:00')) Current Date Range: 2020-01-10 00:00:00 to 2025-01-09 00:00:00 check is False\n",
      "Processed and saved data for FACT.\n"
     ]
    },
    {
     "name": "stderr",
     "output_type": "stream",
     "text": [
      "[*********************100%***********************]  1 of 1 completed\n"
     ]
    },
    {
     "name": "stdout",
     "output_type": "stream",
     "text": [
      "Reference Dates: (Timestamp('2020-01-10 00:00:00'), Timestamp('2025-01-09 00:00:00')) Current Date Range: 2020-01-10 00:00:00 to 2025-01-09 00:00:00 check is False\n",
      "Processed and saved data for FINEORG.\n"
     ]
    },
    {
     "name": "stderr",
     "output_type": "stream",
     "text": [
      "[*********************100%***********************]  1 of 1 completed\n"
     ]
    },
    {
     "name": "stdout",
     "output_type": "stream",
     "text": [
      "Reference Dates: (Timestamp('2020-01-10 00:00:00'), Timestamp('2025-01-09 00:00:00')) Current Date Range: 2020-01-10 00:00:00 to 2025-01-09 00:00:00 check is False\n",
      "Processed and saved data for FINCABLES.\n"
     ]
    },
    {
     "name": "stderr",
     "output_type": "stream",
     "text": [
      "[*********************100%***********************]  1 of 1 completed\n",
      "[*********************100%***********************]  1 of 1 completed\n"
     ]
    },
    {
     "name": "stdout",
     "output_type": "stream",
     "text": [
      "Reference Dates: (Timestamp('2020-01-10 00:00:00'), Timestamp('2025-01-09 00:00:00')) Current Date Range: 2020-01-10 00:00:00 to 2025-01-09 00:00:00 check is False\n",
      "Processed and saved data for FINPIPE.\n",
      "Reference Dates: (Timestamp('2020-01-10 00:00:00'), Timestamp('2025-01-09 00:00:00')) Current Date Range: 2020-01-10 00:00:00 to 2025-01-09 00:00:00 check is False\n"
     ]
    },
    {
     "name": "stderr",
     "output_type": "stream",
     "text": [
      "[*********************100%***********************]  1 of 1 completed\n"
     ]
    },
    {
     "name": "stdout",
     "output_type": "stream",
     "text": [
      "Processed and saved data for FSL.\n",
      "Reference Dates: (Timestamp('2020-01-10 00:00:00'), Timestamp('2025-01-09 00:00:00')) Current Date Range: 2022-11-21 00:00:00 to 2025-01-09 00:00:00 check is True\n",
      "Skipping...FIVESTAR\n"
     ]
    },
    {
     "name": "stderr",
     "output_type": "stream",
     "text": [
      "[*********************100%***********************]  1 of 1 completed\n",
      "[*********************100%***********************]  1 of 1 completed\n"
     ]
    },
    {
     "name": "stdout",
     "output_type": "stream",
     "text": [
      "Reference Dates: (Timestamp('2020-01-10 00:00:00'), Timestamp('2025-01-09 00:00:00')) Current Date Range: 2020-01-10 00:00:00 to 2025-01-09 00:00:00 check is False\n",
      "Processed and saved data for FORTIS.\n",
      "Reference Dates: (Timestamp('2020-01-10 00:00:00'), Timestamp('2025-01-09 00:00:00')) Current Date Range: 2021-07-19 00:00:00 to 2025-01-09 00:00:00 check is True\n",
      "Processed and saved data for GRINFRA.\n"
     ]
    },
    {
     "name": "stderr",
     "output_type": "stream",
     "text": [
      "[*********************100%***********************]  1 of 1 completed\n",
      "[*********************100%***********************]  1 of 1 completed\n"
     ]
    },
    {
     "name": "stdout",
     "output_type": "stream",
     "text": [
      "Reference Dates: (Timestamp('2020-01-10 00:00:00'), Timestamp('2025-01-09 00:00:00')) Current Date Range: 2020-01-10 00:00:00 to 2025-01-09 00:00:00 check is False\n",
      "Processed and saved data for GAIL.\n",
      "Reference Dates: (Timestamp('2020-01-10 00:00:00'), Timestamp('2025-01-09 00:00:00')) Current Date Range: 2020-01-10 00:00:00 to 2025-01-09 00:00:00 check is False\n",
      "Processed and saved data for GVT&D.\n"
     ]
    },
    {
     "name": "stderr",
     "output_type": "stream",
     "text": [
      "[*********************100%***********************]  1 of 1 completed\n"
     ]
    },
    {
     "name": "stdout",
     "output_type": "stream",
     "text": [
      "Reference Dates: (Timestamp('2020-01-10 00:00:00'), Timestamp('2025-01-09 00:00:00')) Current Date Range: 2020-01-10 00:00:00 to 2025-01-09 00:00:00 check is False\n",
      "Processed and saved data for GMRAIRPORT.\n"
     ]
    },
    {
     "name": "stderr",
     "output_type": "stream",
     "text": [
      "[*********************100%***********************]  1 of 1 completed\n"
     ]
    },
    {
     "name": "stdout",
     "output_type": "stream",
     "text": [
      "Reference Dates: (Timestamp('2020-01-10 00:00:00'), Timestamp('2025-01-09 00:00:00')) Current Date Range: 2020-01-10 00:00:00 to 2025-01-09 00:00:00 check is False\n",
      "Processed and saved data for GRSE.\n"
     ]
    },
    {
     "name": "stderr",
     "output_type": "stream",
     "text": [
      "[*********************100%***********************]  1 of 1 completed\n"
     ]
    },
    {
     "name": "stdout",
     "output_type": "stream",
     "text": [
      "Reference Dates: (Timestamp('2020-01-10 00:00:00'), Timestamp('2025-01-09 00:00:00')) Current Date Range: 2020-01-10 00:00:00 to 2025-01-09 00:00:00 check is False\n",
      "Processed and saved data for GICRE.\n"
     ]
    },
    {
     "name": "stderr",
     "output_type": "stream",
     "text": [
      "[*********************100%***********************]  1 of 1 completed\n"
     ]
    },
    {
     "name": "stdout",
     "output_type": "stream",
     "text": [
      "Reference Dates: (Timestamp('2020-01-10 00:00:00'), Timestamp('2025-01-09 00:00:00')) Current Date Range: 2020-01-10 00:00:00 to 2025-01-09 00:00:00 check is False\n",
      "Processed and saved data for GILLETTE.\n"
     ]
    },
    {
     "name": "stderr",
     "output_type": "stream",
     "text": [
      "[*********************100%***********************]  1 of 1 completed\n"
     ]
    },
    {
     "name": "stdout",
     "output_type": "stream",
     "text": [
      "Reference Dates: (Timestamp('2020-01-10 00:00:00'), Timestamp('2025-01-09 00:00:00')) Current Date Range: 2020-11-20 00:00:00 to 2025-01-09 00:00:00 check is True\n",
      "Processed and saved data for GLAND.\n"
     ]
    },
    {
     "name": "stderr",
     "output_type": "stream",
     "text": [
      "[*********************100%***********************]  1 of 1 completed\n"
     ]
    },
    {
     "name": "stdout",
     "output_type": "stream",
     "text": [
      "Reference Dates: (Timestamp('2020-01-10 00:00:00'), Timestamp('2025-01-09 00:00:00')) Current Date Range: 2020-01-10 00:00:00 to 2025-01-09 00:00:00 check is False\n",
      "Processed and saved data for GLAXO.\n"
     ]
    },
    {
     "name": "stderr",
     "output_type": "stream",
     "text": [
      "[*********************100%***********************]  1 of 1 completed\n",
      "[*********************100%***********************]  1 of 1 completed\n"
     ]
    },
    {
     "name": "stdout",
     "output_type": "stream",
     "text": [
      "Reference Dates: (Timestamp('2020-01-10 00:00:00'), Timestamp('2025-01-09 00:00:00')) Current Date Range: 2020-01-10 00:00:00 to 2025-01-09 00:00:00 check is False\n",
      "Processed and saved data for GLENMARK.\n",
      "Reference Dates: (Timestamp('2020-01-10 00:00:00'), Timestamp('2025-01-09 00:00:00')) Current Date Range: 2022-11-18 00:00:00 to 2025-01-09 00:00:00 check is True\n",
      "Skipping...MEDANTA\n"
     ]
    },
    {
     "name": "stderr",
     "output_type": "stream",
     "text": [
      "[*********************100%***********************]  1 of 1 completed\n",
      "[*********************100%***********************]  1 of 1 completed\n"
     ]
    },
    {
     "name": "stdout",
     "output_type": "stream",
     "text": [
      "Reference Dates: (Timestamp('2020-01-10 00:00:00'), Timestamp('2025-01-09 00:00:00')) Current Date Range: 2024-05-23 00:00:00 to 2025-01-09 00:00:00 check is True\n",
      "Skipping...GODIGIT\n",
      "Reference Dates: (Timestamp('2020-01-10 00:00:00'), Timestamp('2025-01-09 00:00:00')) Current Date Range: 2020-01-10 00:00:00 to 2025-01-09 00:00:00 check is False\n",
      "Processed and saved data for GPIL.\n"
     ]
    },
    {
     "name": "stderr",
     "output_type": "stream",
     "text": [
      "[*********************100%***********************]  1 of 1 completed\n"
     ]
    },
    {
     "name": "stdout",
     "output_type": "stream",
     "text": [
      "Reference Dates: (Timestamp('2020-01-10 00:00:00'), Timestamp('2025-01-09 00:00:00')) Current Date Range: 2020-01-10 00:00:00 to 2025-01-09 00:00:00 check is False\n",
      "Processed and saved data for GODFRYPHLP.\n"
     ]
    },
    {
     "name": "stderr",
     "output_type": "stream",
     "text": [
      "[*********************100%***********************]  1 of 1 completed\n"
     ]
    },
    {
     "name": "stdout",
     "output_type": "stream",
     "text": [
      "Reference Dates: (Timestamp('2020-01-10 00:00:00'), Timestamp('2025-01-09 00:00:00')) Current Date Range: 2020-01-10 00:00:00 to 2025-01-09 00:00:00 check is False\n",
      "Processed and saved data for GODREJAGRO.\n"
     ]
    },
    {
     "name": "stderr",
     "output_type": "stream",
     "text": [
      "[*********************100%***********************]  1 of 1 completed\n"
     ]
    },
    {
     "name": "stdout",
     "output_type": "stream",
     "text": [
      "Reference Dates: (Timestamp('2020-01-10 00:00:00'), Timestamp('2025-01-09 00:00:00')) Current Date Range: 2020-01-10 00:00:00 to 2025-01-09 00:00:00 check is False\n",
      "Processed and saved data for GODREJCP.\n"
     ]
    },
    {
     "name": "stderr",
     "output_type": "stream",
     "text": [
      "[*********************100%***********************]  1 of 1 completed\n"
     ]
    },
    {
     "name": "stdout",
     "output_type": "stream",
     "text": [
      "Reference Dates: (Timestamp('2020-01-10 00:00:00'), Timestamp('2025-01-09 00:00:00')) Current Date Range: 2020-01-10 00:00:00 to 2025-01-09 00:00:00 check is False\n",
      "Processed and saved data for GODREJIND.\n"
     ]
    },
    {
     "name": "stderr",
     "output_type": "stream",
     "text": [
      "[*********************100%***********************]  1 of 1 completed\n"
     ]
    },
    {
     "name": "stdout",
     "output_type": "stream",
     "text": [
      "Reference Dates: (Timestamp('2020-01-10 00:00:00'), Timestamp('2025-01-09 00:00:00')) Current Date Range: 2020-01-10 00:00:00 to 2025-01-09 00:00:00 check is False\n",
      "Processed and saved data for GODREJPROP.\n"
     ]
    },
    {
     "name": "stderr",
     "output_type": "stream",
     "text": [
      "[*********************100%***********************]  1 of 1 completed\n"
     ]
    },
    {
     "name": "stdout",
     "output_type": "stream",
     "text": [
      "Reference Dates: (Timestamp('2020-01-10 00:00:00'), Timestamp('2025-01-09 00:00:00')) Current Date Range: 2020-01-10 00:00:00 to 2025-01-09 00:00:00 check is False\n",
      "Processed and saved data for GRANULES.\n"
     ]
    },
    {
     "name": "stderr",
     "output_type": "stream",
     "text": [
      "[*********************100%***********************]  1 of 1 completed\n"
     ]
    },
    {
     "name": "stdout",
     "output_type": "stream",
     "text": [
      "Reference Dates: (Timestamp('2020-01-10 00:00:00'), Timestamp('2025-01-09 00:00:00')) Current Date Range: 2020-01-10 00:00:00 to 2025-01-09 00:00:00 check is False\n",
      "Processed and saved data for GRAPHITE.\n"
     ]
    },
    {
     "name": "stderr",
     "output_type": "stream",
     "text": [
      "[*********************100%***********************]  1 of 1 completed\n"
     ]
    },
    {
     "name": "stdout",
     "output_type": "stream",
     "text": [
      "Reference Dates: (Timestamp('2020-01-10 00:00:00'), Timestamp('2025-01-09 00:00:00')) Current Date Range: 2020-01-10 00:00:00 to 2025-01-09 00:00:00 check is False\n",
      "Processed and saved data for GRASIM.\n"
     ]
    },
    {
     "name": "stderr",
     "output_type": "stream",
     "text": [
      "[*********************100%***********************]  1 of 1 completed\n",
      "[*********************100%***********************]  1 of 1 completed\n"
     ]
    },
    {
     "name": "stdout",
     "output_type": "stream",
     "text": [
      "Reference Dates: (Timestamp('2020-01-10 00:00:00'), Timestamp('2025-01-09 00:00:00')) Current Date Range: 2020-01-10 00:00:00 to 2025-01-09 00:00:00 check is False\n",
      "Processed and saved data for GESHIP.\n",
      "Reference Dates: (Timestamp('2020-01-10 00:00:00'), Timestamp('2025-01-09 00:00:00')) Current Date Range: 2020-01-10 00:00:00 to 2025-01-09 00:00:00 check is False\n"
     ]
    },
    {
     "name": "stderr",
     "output_type": "stream",
     "text": [
      "[*********************100%***********************]  1 of 1 completed"
     ]
    },
    {
     "name": "stdout",
     "output_type": "stream",
     "text": [
      "Processed and saved data for GRINDWELL.\n",
      "Reference Dates: (Timestamp('2020-01-10 00:00:00'), Timestamp('2025-01-09 00:00:00')) Current Date Range: 2020-01-10 00:00:00 to 2025-01-09 00:00:00 check is False\n"
     ]
    },
    {
     "name": "stderr",
     "output_type": "stream",
     "text": [
      "\n",
      "[*********************100%***********************]  1 of 1 completed"
     ]
    },
    {
     "name": "stdout",
     "output_type": "stream",
     "text": [
      "Processed and saved data for GAEL.\n",
      "Reference Dates: (Timestamp('2020-01-10 00:00:00'), Timestamp('2025-01-09 00:00:00')) Current Date Range: 2020-01-10 00:00:00 to 2025-01-09 00:00:00 check is False\n"
     ]
    },
    {
     "name": "stderr",
     "output_type": "stream",
     "text": [
      "\n"
     ]
    },
    {
     "name": "stdout",
     "output_type": "stream",
     "text": [
      "Processed and saved data for FLUOROCHEM.\n"
     ]
    },
    {
     "name": "stderr",
     "output_type": "stream",
     "text": [
      "[*********************100%***********************]  1 of 1 completed\n"
     ]
    },
    {
     "name": "stdout",
     "output_type": "stream",
     "text": [
      "Reference Dates: (Timestamp('2020-01-10 00:00:00'), Timestamp('2025-01-09 00:00:00')) Current Date Range: 2020-01-10 00:00:00 to 2025-01-09 00:00:00 check is False\n",
      "Processed and saved data for GUJGASLTD.\n"
     ]
    },
    {
     "name": "stderr",
     "output_type": "stream",
     "text": [
      "[*********************100%***********************]  1 of 1 completed\n"
     ]
    },
    {
     "name": "stdout",
     "output_type": "stream",
     "text": [
      "Reference Dates: (Timestamp('2020-01-10 00:00:00'), Timestamp('2025-01-09 00:00:00')) Current Date Range: 2020-01-10 00:00:00 to 2025-01-09 00:00:00 check is False\n",
      "Processed and saved data for GMDCLTD.\n"
     ]
    },
    {
     "name": "stderr",
     "output_type": "stream",
     "text": [
      "[*********************100%***********************]  1 of 1 completed\n"
     ]
    },
    {
     "name": "stdout",
     "output_type": "stream",
     "text": [
      "Reference Dates: (Timestamp('2020-01-10 00:00:00'), Timestamp('2025-01-09 00:00:00')) Current Date Range: 2020-01-10 00:00:00 to 2025-01-09 00:00:00 check is False\n",
      "Processed and saved data for GNFC.\n"
     ]
    },
    {
     "name": "stderr",
     "output_type": "stream",
     "text": [
      "[*********************100%***********************]  1 of 1 completed\n"
     ]
    },
    {
     "name": "stdout",
     "output_type": "stream",
     "text": [
      "Reference Dates: (Timestamp('2020-01-10 00:00:00'), Timestamp('2025-01-09 00:00:00')) Current Date Range: 2020-01-10 00:00:00 to 2025-01-09 00:00:00 check is False\n",
      "Processed and saved data for GPPL.\n"
     ]
    },
    {
     "name": "stderr",
     "output_type": "stream",
     "text": [
      "[*********************100%***********************]  1 of 1 completed\n"
     ]
    },
    {
     "name": "stdout",
     "output_type": "stream",
     "text": [
      "Reference Dates: (Timestamp('2020-01-10 00:00:00'), Timestamp('2025-01-09 00:00:00')) Current Date Range: 2020-01-10 00:00:00 to 2025-01-09 00:00:00 check is False\n",
      "Processed and saved data for GSFC.\n"
     ]
    },
    {
     "name": "stderr",
     "output_type": "stream",
     "text": [
      "[*********************100%***********************]  1 of 1 completed\n"
     ]
    },
    {
     "name": "stdout",
     "output_type": "stream",
     "text": [
      "Reference Dates: (Timestamp('2020-01-10 00:00:00'), Timestamp('2025-01-09 00:00:00')) Current Date Range: 2020-01-10 00:00:00 to 2025-01-09 00:00:00 check is False\n",
      "Processed and saved data for GSPL.\n"
     ]
    },
    {
     "name": "stderr",
     "output_type": "stream",
     "text": [
      "[*********************100%***********************]  1 of 1 completed\n"
     ]
    },
    {
     "name": "stdout",
     "output_type": "stream",
     "text": [
      "Reference Dates: (Timestamp('2020-01-10 00:00:00'), Timestamp('2025-01-09 00:00:00')) Current Date Range: 2020-01-10 00:00:00 to 2025-01-09 00:00:00 check is False\n",
      "Processed and saved data for HEG.\n"
     ]
    },
    {
     "name": "stderr",
     "output_type": "stream",
     "text": [
      "[*********************100%***********************]  1 of 1 completed\n",
      "[*********************100%***********************]  1 of 1 completed\n"
     ]
    },
    {
     "name": "stdout",
     "output_type": "stream",
     "text": [
      "Reference Dates: (Timestamp('2020-01-10 00:00:00'), Timestamp('2025-01-09 00:00:00')) Current Date Range: 2024-12-12 00:00:00 to 2025-01-09 00:00:00 check is True\n",
      "Skipping...HBLENGINE\n",
      "Reference Dates: (Timestamp('2020-01-10 00:00:00'), Timestamp('2025-01-09 00:00:00')) Current Date Range: 2020-01-10 00:00:00 to 2025-01-09 00:00:00 check is False\n"
     ]
    },
    {
     "name": "stderr",
     "output_type": "stream",
     "text": [
      "[*********************100%***********************]  1 of 1 completed"
     ]
    },
    {
     "name": "stdout",
     "output_type": "stream",
     "text": [
      "Processed and saved data for HCLTECH.\n",
      "Reference Dates: (Timestamp('2020-01-10 00:00:00'), Timestamp('2025-01-09 00:00:00')) Current Date Range: 2020-01-10 00:00:00 to 2025-01-09 00:00:00 check is False\n"
     ]
    },
    {
     "name": "stderr",
     "output_type": "stream",
     "text": [
      "\n"
     ]
    },
    {
     "name": "stdout",
     "output_type": "stream",
     "text": [
      "Processed and saved data for HDFCAMC.\n"
     ]
    },
    {
     "name": "stderr",
     "output_type": "stream",
     "text": [
      "[*********************100%***********************]  1 of 1 completed\n"
     ]
    },
    {
     "name": "stdout",
     "output_type": "stream",
     "text": [
      "Reference Dates: (Timestamp('2020-01-10 00:00:00'), Timestamp('2025-01-09 00:00:00')) Current Date Range: 2020-01-10 00:00:00 to 2025-01-09 00:00:00 check is False\n",
      "Processed and saved data for HDFCBANK.\n"
     ]
    },
    {
     "name": "stderr",
     "output_type": "stream",
     "text": [
      "[*********************100%***********************]  1 of 1 completed\n"
     ]
    },
    {
     "name": "stdout",
     "output_type": "stream",
     "text": [
      "Reference Dates: (Timestamp('2020-01-10 00:00:00'), Timestamp('2025-01-09 00:00:00')) Current Date Range: 2020-01-10 00:00:00 to 2025-01-09 00:00:00 check is False\n",
      "Processed and saved data for HDFCLIFE.\n"
     ]
    },
    {
     "name": "stderr",
     "output_type": "stream",
     "text": [
      "[*********************100%***********************]  1 of 1 completed\n",
      "[*********************100%***********************]  1 of 1 completed\n"
     ]
    },
    {
     "name": "stdout",
     "output_type": "stream",
     "text": [
      "Reference Dates: (Timestamp('2020-01-10 00:00:00'), Timestamp('2025-01-09 00:00:00')) Current Date Range: 2020-01-10 00:00:00 to 2025-01-09 00:00:00 check is False\n",
      "Processed and saved data for HFCL.\n",
      "Reference Dates: (Timestamp('2020-01-10 00:00:00'), Timestamp('2025-01-09 00:00:00')) Current Date Range: 2020-09-17 00:00:00 to 2025-01-09 00:00:00 check is True\n",
      "Processed and saved data for HAPPSTMNDS.\n"
     ]
    },
    {
     "name": "stderr",
     "output_type": "stream",
     "text": [
      "[*********************100%***********************]  1 of 1 completed\n",
      "[*********************100%***********************]  1 of 1 completed"
     ]
    },
    {
     "name": "stdout",
     "output_type": "stream",
     "text": [
      "Reference Dates: (Timestamp('2020-01-10 00:00:00'), Timestamp('2025-01-09 00:00:00')) Current Date Range: 2020-01-10 00:00:00 to 2025-01-09 00:00:00 check is False\n",
      "Processed and saved data for HAVELLS.\n",
      "Reference Dates: (Timestamp('2020-01-10 00:00:00'), Timestamp('2025-01-09 00:00:00')) Current Date Range: 2020-01-10 00:00:00 to 2025-01-09 00:00:00 check is False\n"
     ]
    },
    {
     "name": "stderr",
     "output_type": "stream",
     "text": [
      "\n",
      "[*********************100%***********************]  1 of 1 completed\n"
     ]
    },
    {
     "name": "stdout",
     "output_type": "stream",
     "text": [
      "Processed and saved data for HEROMOTOCO.\n",
      "Reference Dates: (Timestamp('2020-01-10 00:00:00'), Timestamp('2025-01-09 00:00:00')) Current Date Range: 2020-01-10 00:00:00 to 2025-01-09 00:00:00 check is False\n",
      "Processed and saved data for HSCL.\n"
     ]
    },
    {
     "name": "stderr",
     "output_type": "stream",
     "text": [
      "[*********************100%***********************]  1 of 1 completed\n"
     ]
    },
    {
     "name": "stdout",
     "output_type": "stream",
     "text": [
      "Reference Dates: (Timestamp('2020-01-10 00:00:00'), Timestamp('2025-01-09 00:00:00')) Current Date Range: 2020-01-10 00:00:00 to 2025-01-09 00:00:00 check is False\n",
      "Processed and saved data for HINDALCO.\n"
     ]
    },
    {
     "name": "stderr",
     "output_type": "stream",
     "text": [
      "[*********************100%***********************]  1 of 1 completed\n",
      "[*********************100%***********************]  1 of 1 completed\n"
     ]
    },
    {
     "name": "stdout",
     "output_type": "stream",
     "text": [
      "Reference Dates: (Timestamp('2020-01-10 00:00:00'), Timestamp('2025-01-09 00:00:00')) Current Date Range: 2020-01-10 00:00:00 to 2025-01-09 00:00:00 check is False\n",
      "Processed and saved data for HAL.\n",
      "Reference Dates: (Timestamp('2020-01-10 00:00:00'), Timestamp('2025-01-09 00:00:00')) Current Date Range: 2020-01-10 00:00:00 to 2025-01-09 00:00:00 check is False\n",
      "Processed and saved data for HINDCOPPER.\n"
     ]
    },
    {
     "name": "stderr",
     "output_type": "stream",
     "text": [
      "[*********************100%***********************]  1 of 1 completed\n"
     ]
    },
    {
     "name": "stdout",
     "output_type": "stream",
     "text": [
      "Reference Dates: (Timestamp('2020-01-10 00:00:00'), Timestamp('2025-01-09 00:00:00')) Current Date Range: 2020-01-10 00:00:00 to 2025-01-09 00:00:00 check is False\n",
      "Processed and saved data for HINDPETRO.\n"
     ]
    },
    {
     "name": "stderr",
     "output_type": "stream",
     "text": [
      "[*********************100%***********************]  1 of 1 completed\n"
     ]
    },
    {
     "name": "stdout",
     "output_type": "stream",
     "text": [
      "Reference Dates: (Timestamp('2020-01-10 00:00:00'), Timestamp('2025-01-09 00:00:00')) Current Date Range: 2020-01-10 00:00:00 to 2025-01-09 00:00:00 check is False\n",
      "Processed and saved data for HINDUNILVR.\n"
     ]
    },
    {
     "name": "stderr",
     "output_type": "stream",
     "text": [
      "[*********************100%***********************]  1 of 1 completed\n"
     ]
    },
    {
     "name": "stdout",
     "output_type": "stream",
     "text": [
      "Reference Dates: (Timestamp('2020-01-10 00:00:00'), Timestamp('2025-01-09 00:00:00')) Current Date Range: 2020-01-10 00:00:00 to 2025-01-09 00:00:00 check is False\n",
      "Processed and saved data for HINDZINC.\n"
     ]
    },
    {
     "name": "stderr",
     "output_type": "stream",
     "text": [
      "[*********************100%***********************]  1 of 1 completed\n",
      "[*********************100%***********************]  1 of 1 completed\n"
     ]
    },
    {
     "name": "stdout",
     "output_type": "stream",
     "text": [
      "Reference Dates: (Timestamp('2020-01-10 00:00:00'), Timestamp('2025-01-09 00:00:00')) Current Date Range: 2020-03-30 00:00:00 to 2025-01-09 00:00:00 check is True\n",
      "Processed and saved data for POWERINDIA.\n",
      "Reference Dates: (Timestamp('2020-01-10 00:00:00'), Timestamp('2025-01-09 00:00:00')) Current Date Range: 2021-02-03 00:00:00 to 2025-01-09 00:00:00 check is True\n",
      "Processed and saved data for HOMEFIRST.\n"
     ]
    },
    {
     "name": "stderr",
     "output_type": "stream",
     "text": [
      "[*********************100%***********************]  1 of 1 completed\n"
     ]
    },
    {
     "name": "stdout",
     "output_type": "stream",
     "text": [
      "Reference Dates: (Timestamp('2020-01-10 00:00:00'), Timestamp('2025-01-09 00:00:00')) Current Date Range: 2023-11-07 00:00:00 to 2025-01-09 00:00:00 check is True\n",
      "Skipping...HONASA\n"
     ]
    },
    {
     "name": "stderr",
     "output_type": "stream",
     "text": [
      "[*********************100%***********************]  1 of 1 completed\n"
     ]
    },
    {
     "name": "stdout",
     "output_type": "stream",
     "text": [
      "Reference Dates: (Timestamp('2020-01-10 00:00:00'), Timestamp('2025-01-09 00:00:00')) Current Date Range: 2020-01-10 00:00:00 to 2025-01-09 00:00:00 check is False\n",
      "Processed and saved data for HONAUT.\n"
     ]
    },
    {
     "name": "stderr",
     "output_type": "stream",
     "text": [
      "[*********************100%***********************]  1 of 1 completed\n"
     ]
    },
    {
     "name": "stdout",
     "output_type": "stream",
     "text": [
      "Reference Dates: (Timestamp('2020-01-10 00:00:00'), Timestamp('2025-01-09 00:00:00')) Current Date Range: 2020-01-10 00:00:00 to 2025-01-09 00:00:00 check is False\n",
      "Processed and saved data for HUDCO.\n"
     ]
    },
    {
     "name": "stderr",
     "output_type": "stream",
     "text": [
      "[*********************100%***********************]  1 of 1 completed\n"
     ]
    },
    {
     "name": "stdout",
     "output_type": "stream",
     "text": [
      "Reference Dates: (Timestamp('2020-01-10 00:00:00'), Timestamp('2025-01-09 00:00:00')) Current Date Range: 2020-01-10 00:00:00 to 2025-01-09 00:00:00 check is False\n",
      "Processed and saved data for ICICIBANK.\n"
     ]
    },
    {
     "name": "stderr",
     "output_type": "stream",
     "text": [
      "[*********************100%***********************]  1 of 1 completed\n"
     ]
    },
    {
     "name": "stdout",
     "output_type": "stream",
     "text": [
      "Reference Dates: (Timestamp('2020-01-10 00:00:00'), Timestamp('2025-01-09 00:00:00')) Current Date Range: 2020-01-10 00:00:00 to 2025-01-09 00:00:00 check is False\n",
      "Processed and saved data for ICICIGI.\n"
     ]
    },
    {
     "name": "stderr",
     "output_type": "stream",
     "text": [
      "[*********************100%***********************]  1 of 1 completed\n"
     ]
    },
    {
     "name": "stdout",
     "output_type": "stream",
     "text": [
      "Reference Dates: (Timestamp('2020-01-10 00:00:00'), Timestamp('2025-01-09 00:00:00')) Current Date Range: 2020-01-10 00:00:00 to 2025-01-09 00:00:00 check is False\n",
      "Processed and saved data for ICICIPRULI.\n"
     ]
    },
    {
     "name": "stderr",
     "output_type": "stream",
     "text": [
      "[*********************100%***********************]  1 of 1 completed\n"
     ]
    },
    {
     "name": "stdout",
     "output_type": "stream",
     "text": [
      "Reference Dates: (Timestamp('2020-01-10 00:00:00'), Timestamp('2025-01-09 00:00:00')) Current Date Range: 2020-01-10 00:00:00 to 2025-01-09 00:00:00 check is False\n",
      "Processed and saved data for ISEC.\n"
     ]
    },
    {
     "name": "stderr",
     "output_type": "stream",
     "text": [
      "[*********************100%***********************]  1 of 1 completed\n"
     ]
    },
    {
     "name": "stdout",
     "output_type": "stream",
     "text": [
      "Reference Dates: (Timestamp('2020-01-10 00:00:00'), Timestamp('2025-01-09 00:00:00')) Current Date Range: 2020-01-10 00:00:00 to 2025-01-09 00:00:00 check is False\n",
      "Processed and saved data for IDBI.\n"
     ]
    },
    {
     "name": "stderr",
     "output_type": "stream",
     "text": [
      "[*********************100%***********************]  1 of 1 completed\n"
     ]
    },
    {
     "name": "stdout",
     "output_type": "stream",
     "text": [
      "Reference Dates: (Timestamp('2020-01-10 00:00:00'), Timestamp('2025-01-09 00:00:00')) Current Date Range: 2020-01-10 00:00:00 to 2025-01-09 00:00:00 check is False\n",
      "Processed and saved data for IDFCFIRSTB.\n"
     ]
    },
    {
     "name": "stderr",
     "output_type": "stream",
     "text": [
      "[*********************100%***********************]  1 of 1 completed\n"
     ]
    },
    {
     "name": "stdout",
     "output_type": "stream",
     "text": [
      "Reference Dates: (Timestamp('2020-01-10 00:00:00'), Timestamp('2025-01-09 00:00:00')) Current Date Range: 2020-01-10 00:00:00 to 2025-01-09 00:00:00 check is False\n",
      "Processed and saved data for IFCI.\n"
     ]
    },
    {
     "name": "stderr",
     "output_type": "stream",
     "text": [
      "[*********************100%***********************]  1 of 1 completed\n",
      "[*********************100%***********************]  1 of 1 completed\n"
     ]
    },
    {
     "name": "stdout",
     "output_type": "stream",
     "text": [
      "Reference Dates: (Timestamp('2020-01-10 00:00:00'), Timestamp('2025-01-09 00:00:00')) Current Date Range: 2020-01-10 00:00:00 to 2025-01-09 00:00:00 check is False\n",
      "Processed and saved data for IIFL.\n",
      "Reference Dates: (Timestamp('2020-01-10 00:00:00'), Timestamp('2025-01-09 00:00:00')) Current Date Range: 2023-12-21 00:00:00 to 2025-01-09 00:00:00 check is True\n",
      "Skipping...INOXINDIA\n"
     ]
    },
    {
     "name": "stderr",
     "output_type": "stream",
     "text": [
      "[*********************100%***********************]  1 of 1 completed\n"
     ]
    },
    {
     "name": "stdout",
     "output_type": "stream",
     "text": [
      "Reference Dates: (Timestamp('2020-01-10 00:00:00'), Timestamp('2025-01-09 00:00:00')) Current Date Range: 2020-01-10 00:00:00 to 2025-01-09 00:00:00 check is False\n",
      "Processed and saved data for IRB.\n"
     ]
    },
    {
     "name": "stderr",
     "output_type": "stream",
     "text": [
      "[*********************100%***********************]  1 of 1 completed\n"
     ]
    },
    {
     "name": "stdout",
     "output_type": "stream",
     "text": [
      "Reference Dates: (Timestamp('2020-01-10 00:00:00'), Timestamp('2025-01-09 00:00:00')) Current Date Range: 2020-01-10 00:00:00 to 2025-01-09 00:00:00 check is False\n",
      "Processed and saved data for IRCON.\n"
     ]
    },
    {
     "name": "stderr",
     "output_type": "stream",
     "text": [
      "[*********************100%***********************]  1 of 1 completed\n"
     ]
    },
    {
     "name": "stdout",
     "output_type": "stream",
     "text": [
      "Reference Dates: (Timestamp('2020-01-10 00:00:00'), Timestamp('2025-01-09 00:00:00')) Current Date Range: 2020-01-10 00:00:00 to 2025-01-09 00:00:00 check is False\n",
      "Processed and saved data for ITC.\n"
     ]
    },
    {
     "name": "stderr",
     "output_type": "stream",
     "text": [
      "[*********************100%***********************]  1 of 1 completed\n",
      "[*********************100%***********************]  1 of 1 completed\n"
     ]
    },
    {
     "name": "stdout",
     "output_type": "stream",
     "text": [
      "Reference Dates: (Timestamp('2020-01-10 00:00:00'), Timestamp('2025-01-09 00:00:00')) Current Date Range: 2020-01-10 00:00:00 to 2025-01-09 00:00:00 check is False\n",
      "Processed and saved data for ITI.\n",
      "Reference Dates: (Timestamp('2020-01-10 00:00:00'), Timestamp('2025-01-09 00:00:00')) Current Date Range: 2024-05-13 00:00:00 to 2025-01-09 00:00:00 check is True\n",
      "Skipping...INDGN\n"
     ]
    },
    {
     "name": "stderr",
     "output_type": "stream",
     "text": [
      "[*********************100%***********************]  1 of 1 completed\n"
     ]
    },
    {
     "name": "stdout",
     "output_type": "stream",
     "text": [
      "Reference Dates: (Timestamp('2020-01-10 00:00:00'), Timestamp('2025-01-09 00:00:00')) Current Date Range: 2020-01-10 00:00:00 to 2025-01-09 00:00:00 check is False\n",
      "Processed and saved data for INDIACEM.\n"
     ]
    },
    {
     "name": "stderr",
     "output_type": "stream",
     "text": [
      "[*********************100%***********************]  1 of 1 completed\n"
     ]
    },
    {
     "name": "stdout",
     "output_type": "stream",
     "text": [
      "Reference Dates: (Timestamp('2020-01-10 00:00:00'), Timestamp('2025-01-09 00:00:00')) Current Date Range: 2020-01-10 00:00:00 to 2025-01-09 00:00:00 check is False\n",
      "Processed and saved data for INDIAMART.\n"
     ]
    },
    {
     "name": "stderr",
     "output_type": "stream",
     "text": [
      "[*********************100%***********************]  1 of 1 completed\n",
      "[*********************100%***********************]  1 of 1 completed\n"
     ]
    },
    {
     "name": "stdout",
     "output_type": "stream",
     "text": [
      "Reference Dates: (Timestamp('2020-01-10 00:00:00'), Timestamp('2025-01-09 00:00:00')) Current Date Range: 2020-01-10 00:00:00 to 2025-01-09 00:00:00 check is False\n",
      "Processed and saved data for INDIANB.\n",
      "Reference Dates: (Timestamp('2020-01-10 00:00:00'), Timestamp('2025-01-09 00:00:00')) Current Date Range: 2020-01-10 00:00:00 to 2025-01-09 00:00:00 check is False\n",
      "Processed and saved data for IEX.\n"
     ]
    },
    {
     "name": "stderr",
     "output_type": "stream",
     "text": [
      "[*********************100%***********************]  1 of 1 completed\n"
     ]
    },
    {
     "name": "stdout",
     "output_type": "stream",
     "text": [
      "Reference Dates: (Timestamp('2020-01-10 00:00:00'), Timestamp('2025-01-09 00:00:00')) Current Date Range: 2020-01-10 00:00:00 to 2025-01-09 00:00:00 check is False\n",
      "Processed and saved data for INDHOTEL.\n"
     ]
    },
    {
     "name": "stderr",
     "output_type": "stream",
     "text": [
      "[*********************100%***********************]  1 of 1 completed\n",
      "[*********************100%***********************]  1 of 1 completed\n"
     ]
    },
    {
     "name": "stdout",
     "output_type": "stream",
     "text": [
      "Reference Dates: (Timestamp('2020-01-10 00:00:00'), Timestamp('2025-01-09 00:00:00')) Current Date Range: 2020-01-10 00:00:00 to 2025-01-09 00:00:00 check is False\n",
      "Processed and saved data for IOC.\n",
      "Reference Dates: (Timestamp('2020-01-10 00:00:00'), Timestamp('2025-01-09 00:00:00')) Current Date Range: 2020-01-10 00:00:00 to 2025-01-09 00:00:00 check is False\n",
      "Processed and saved data for IOB.\n"
     ]
    },
    {
     "name": "stderr",
     "output_type": "stream",
     "text": [
      "[*********************100%***********************]  1 of 1 completed\n",
      "[*********************100%***********************]  1 of 1 completed\n"
     ]
    },
    {
     "name": "stdout",
     "output_type": "stream",
     "text": [
      "Reference Dates: (Timestamp('2020-01-10 00:00:00'), Timestamp('2025-01-09 00:00:00')) Current Date Range: 2020-01-10 00:00:00 to 2025-01-09 00:00:00 check is False\n",
      "Processed and saved data for IRCTC.\n",
      "Reference Dates: (Timestamp('2020-01-10 00:00:00'), Timestamp('2025-01-09 00:00:00')) Current Date Range: 2021-01-29 00:00:00 to 2025-01-09 00:00:00 check is True\n",
      "Processed and saved data for IRFC.\n"
     ]
    },
    {
     "name": "stderr",
     "output_type": "stream",
     "text": [
      "[*********************100%***********************]  1 of 1 completed\n"
     ]
    },
    {
     "name": "stdout",
     "output_type": "stream",
     "text": [
      "Reference Dates: (Timestamp('2020-01-10 00:00:00'), Timestamp('2025-01-09 00:00:00')) Current Date Range: 2023-11-29 00:00:00 to 2025-01-09 00:00:00 check is True\n",
      "Skipping...IREDA\n"
     ]
    },
    {
     "name": "stderr",
     "output_type": "stream",
     "text": [
      "[*********************100%***********************]  1 of 1 completed\n",
      "\n",
      "1 Failed download:\n",
      "['IGL.NS']: ChunkedEncodingError(ProtocolError('Connection broken: IncompleteRead(2595 bytes read, 1324 more expected)', IncompleteRead(2595 bytes read, 1324 more expected)))\n"
     ]
    },
    {
     "name": "stdout",
     "output_type": "stream",
     "text": [
      "Skipping IGL due to missing data.\n"
     ]
    },
    {
     "name": "stderr",
     "output_type": "stream",
     "text": [
      "[*********************100%***********************]  1 of 1 completed\n"
     ]
    },
    {
     "name": "stdout",
     "output_type": "stream",
     "text": [
      "Reference Dates: (Timestamp('2020-01-10 00:00:00'), Timestamp('2025-01-09 00:00:00')) Current Date Range: 2020-01-10 00:00:00 to 2025-01-09 00:00:00 check is False\n",
      "Processed and saved data for INDUSTOWER.\n"
     ]
    },
    {
     "name": "stderr",
     "output_type": "stream",
     "text": [
      "[*********************100%***********************]  1 of 1 completed\n"
     ]
    },
    {
     "name": "stdout",
     "output_type": "stream",
     "text": [
      "Reference Dates: (Timestamp('2020-01-10 00:00:00'), Timestamp('2025-01-09 00:00:00')) Current Date Range: 2020-01-10 00:00:00 to 2025-01-09 00:00:00 check is False\n",
      "Processed and saved data for INDUSINDBK.\n"
     ]
    },
    {
     "name": "stderr",
     "output_type": "stream",
     "text": [
      "[*********************100%***********************]  1 of 1 completed\n"
     ]
    },
    {
     "name": "stdout",
     "output_type": "stream",
     "text": [
      "Reference Dates: (Timestamp('2020-01-10 00:00:00'), Timestamp('2025-01-09 00:00:00')) Current Date Range: 2020-01-10 00:00:00 to 2025-01-09 00:00:00 check is False\n",
      "Processed and saved data for NAUKRI.\n"
     ]
    },
    {
     "name": "stderr",
     "output_type": "stream",
     "text": [
      "[*********************100%***********************]  1 of 1 completed\n"
     ]
    },
    {
     "name": "stdout",
     "output_type": "stream",
     "text": [
      "Reference Dates: (Timestamp('2020-01-10 00:00:00'), Timestamp('2025-01-09 00:00:00')) Current Date Range: 2020-01-10 00:00:00 to 2025-01-09 00:00:00 check is False\n",
      "Processed and saved data for INFY.\n"
     ]
    },
    {
     "name": "stderr",
     "output_type": "stream",
     "text": [
      "[*********************100%***********************]  1 of 1 completed\n",
      "[*********************100%***********************]  1 of 1 completed\n"
     ]
    },
    {
     "name": "stdout",
     "output_type": "stream",
     "text": [
      "Reference Dates: (Timestamp('2020-01-10 00:00:00'), Timestamp('2025-01-09 00:00:00')) Current Date Range: 2020-01-10 00:00:00 to 2025-01-09 00:00:00 check is False\n",
      "Processed and saved data for INOXWIND.\n",
      "Reference Dates: (Timestamp('2020-01-10 00:00:00'), Timestamp('2025-01-09 00:00:00')) Current Date Range: 2020-01-10 00:00:00 to 2025-01-09 00:00:00 check is False\n"
     ]
    },
    {
     "name": "stderr",
     "output_type": "stream",
     "text": [
      "[*********************100%***********************]  1 of 1 completed\n"
     ]
    },
    {
     "name": "stdout",
     "output_type": "stream",
     "text": [
      "Processed and saved data for INTELLECT.\n",
      "Reference Dates: (Timestamp('2020-01-10 00:00:00'), Timestamp('2025-01-09 00:00:00')) Current Date Range: 2020-01-10 00:00:00 to 2025-01-09 00:00:00 check is False\n",
      "Processed and saved data for INDIGO.\n"
     ]
    },
    {
     "name": "stderr",
     "output_type": "stream",
     "text": [
      "[*********************100%***********************]  1 of 1 completed\n"
     ]
    },
    {
     "name": "stdout",
     "output_type": "stream",
     "text": [
      "Reference Dates: (Timestamp('2020-01-10 00:00:00'), Timestamp('2025-01-09 00:00:00')) Current Date Range: 2020-01-10 00:00:00 to 2025-01-09 00:00:00 check is False\n",
      "Processed and saved data for IPCALAB.\n"
     ]
    },
    {
     "name": "stderr",
     "output_type": "stream",
     "text": [
      "[*********************100%***********************]  1 of 1 completed\n"
     ]
    },
    {
     "name": "stdout",
     "output_type": "stream",
     "text": [
      "Reference Dates: (Timestamp('2020-01-10 00:00:00'), Timestamp('2025-01-09 00:00:00')) Current Date Range: 2020-01-10 00:00:00 to 2025-01-09 00:00:00 check is False\n",
      "Processed and saved data for JBCHEPHARM.\n"
     ]
    },
    {
     "name": "stderr",
     "output_type": "stream",
     "text": [
      "[*********************100%***********************]  1 of 1 completed\n"
     ]
    },
    {
     "name": "stdout",
     "output_type": "stream",
     "text": [
      "Reference Dates: (Timestamp('2020-01-10 00:00:00'), Timestamp('2025-01-09 00:00:00')) Current Date Range: 2020-01-10 00:00:00 to 2025-01-09 00:00:00 check is False\n",
      "Processed and saved data for JKCEMENT.\n"
     ]
    },
    {
     "name": "stderr",
     "output_type": "stream",
     "text": [
      "[*********************100%***********************]  1 of 1 completed\n"
     ]
    },
    {
     "name": "stdout",
     "output_type": "stream",
     "text": [
      "Reference Dates: (Timestamp('2020-01-10 00:00:00'), Timestamp('2025-01-09 00:00:00')) Current Date Range: 2020-01-10 00:00:00 to 2025-01-09 00:00:00 check is False\n",
      "Processed and saved data for JBMA.\n"
     ]
    },
    {
     "name": "stderr",
     "output_type": "stream",
     "text": [
      "[*********************100%***********************]  1 of 1 completed\n"
     ]
    },
    {
     "name": "stdout",
     "output_type": "stream",
     "text": [
      "Reference Dates: (Timestamp('2020-01-10 00:00:00'), Timestamp('2025-01-09 00:00:00')) Current Date Range: 2020-01-10 00:00:00 to 2025-01-09 00:00:00 check is False\n",
      "Processed and saved data for JKLAKSHMI.\n"
     ]
    },
    {
     "name": "stderr",
     "output_type": "stream",
     "text": [
      "[*********************100%***********************]  1 of 1 completed\n"
     ]
    },
    {
     "name": "stdout",
     "output_type": "stream",
     "text": [
      "Reference Dates: (Timestamp('2020-01-10 00:00:00'), Timestamp('2025-01-09 00:00:00')) Current Date Range: 2020-01-10 00:00:00 to 2025-01-09 00:00:00 check is False\n",
      "Processed and saved data for JKTYRE.\n"
     ]
    },
    {
     "name": "stderr",
     "output_type": "stream",
     "text": [
      "[*********************100%***********************]  1 of 1 completed\n"
     ]
    },
    {
     "name": "stdout",
     "output_type": "stream",
     "text": [
      "Reference Dates: (Timestamp('2020-01-10 00:00:00'), Timestamp('2025-01-09 00:00:00')) Current Date Range: 2020-01-10 00:00:00 to 2025-01-09 00:00:00 check is False\n",
      "Processed and saved data for JMFINANCIL.\n"
     ]
    },
    {
     "name": "stderr",
     "output_type": "stream",
     "text": [
      "[*********************100%***********************]  1 of 1 completed\n",
      "[*********************100%***********************]  1 of 1 completed\n"
     ]
    },
    {
     "name": "stdout",
     "output_type": "stream",
     "text": [
      "Reference Dates: (Timestamp('2020-01-10 00:00:00'), Timestamp('2025-01-09 00:00:00')) Current Date Range: 2020-01-10 00:00:00 to 2025-01-09 00:00:00 check is False\n",
      "Processed and saved data for JSWENERGY.\n",
      "Reference Dates: (Timestamp('2020-01-10 00:00:00'), Timestamp('2025-01-09 00:00:00')) Current Date Range: 2023-10-03 00:00:00 to 2025-01-09 00:00:00 check is True\n",
      "Skipping...JSWINFRA\n"
     ]
    },
    {
     "name": "stderr",
     "output_type": "stream",
     "text": [
      "[*********************100%***********************]  1 of 1 completed\n",
      "[*********************100%***********************]  1 of 1 completed\n"
     ]
    },
    {
     "name": "stdout",
     "output_type": "stream",
     "text": [
      "Reference Dates: (Timestamp('2020-01-10 00:00:00'), Timestamp('2025-01-09 00:00:00')) Current Date Range: 2020-01-10 00:00:00 to 2025-01-09 00:00:00 check is False\n",
      "Processed and saved data for JSWSTEEL.\n",
      "Reference Dates: (Timestamp('2020-01-10 00:00:00'), Timestamp('2025-01-09 00:00:00')) Current Date Range: 2020-01-10 00:00:00 to 2025-01-09 00:00:00 check is False\n",
      "Processed and saved data for JPPOWER.\n"
     ]
    },
    {
     "name": "stderr",
     "output_type": "stream",
     "text": [
      "[*********************100%***********************]  1 of 1 completed\n"
     ]
    },
    {
     "name": "stdout",
     "output_type": "stream",
     "text": [
      "Reference Dates: (Timestamp('2020-01-10 00:00:00'), Timestamp('2025-01-09 00:00:00')) Current Date Range: 2020-01-10 00:00:00 to 2025-01-09 00:00:00 check is False\n",
      "Processed and saved data for J&KBANK.\n"
     ]
    },
    {
     "name": "stderr",
     "output_type": "stream",
     "text": [
      "[*********************100%***********************]  1 of 1 completed\n"
     ]
    },
    {
     "name": "stdout",
     "output_type": "stream",
     "text": [
      "Reference Dates: (Timestamp('2020-01-10 00:00:00'), Timestamp('2025-01-09 00:00:00')) Current Date Range: 2020-01-10 00:00:00 to 2025-01-09 00:00:00 check is False\n",
      "Processed and saved data for JINDALSAW.\n"
     ]
    },
    {
     "name": "stderr",
     "output_type": "stream",
     "text": [
      "[*********************100%***********************]  1 of 1 completed\n"
     ]
    },
    {
     "name": "stdout",
     "output_type": "stream",
     "text": [
      "Reference Dates: (Timestamp('2020-01-10 00:00:00'), Timestamp('2025-01-09 00:00:00')) Current Date Range: 2020-01-10 00:00:00 to 2025-01-09 00:00:00 check is False\n",
      "Processed and saved data for JSL.\n"
     ]
    },
    {
     "name": "stderr",
     "output_type": "stream",
     "text": [
      "[*********************100%***********************]  1 of 1 completed\n",
      "[*********************100%***********************]  1 of 1 completed\n"
     ]
    },
    {
     "name": "stdout",
     "output_type": "stream",
     "text": [
      "Reference Dates: (Timestamp('2020-01-10 00:00:00'), Timestamp('2025-01-09 00:00:00')) Current Date Range: 2020-01-10 00:00:00 to 2025-01-09 00:00:00 check is False\n",
      "Processed and saved data for JINDALSTEL.\n",
      "Reference Dates: (Timestamp('2020-01-10 00:00:00'), Timestamp('2025-01-09 00:00:00')) Current Date Range: 2023-08-21 00:00:00 to 2025-01-09 00:00:00 check is True\n",
      "Skipping...JIOFIN\n"
     ]
    },
    {
     "name": "stderr",
     "output_type": "stream",
     "text": [
      "[*********************100%***********************]  1 of 1 completed\n"
     ]
    },
    {
     "name": "stdout",
     "output_type": "stream",
     "text": [
      "Reference Dates: (Timestamp('2020-01-10 00:00:00'), Timestamp('2025-01-09 00:00:00')) Current Date Range: 2020-01-10 00:00:00 to 2025-01-09 00:00:00 check is False\n",
      "Processed and saved data for JUBLFOOD.\n"
     ]
    },
    {
     "name": "stderr",
     "output_type": "stream",
     "text": [
      "[*********************100%***********************]  1 of 1 completed\n"
     ]
    },
    {
     "name": "stdout",
     "output_type": "stream",
     "text": [
      "Reference Dates: (Timestamp('2020-01-10 00:00:00'), Timestamp('2025-01-09 00:00:00')) Current Date Range: 2021-03-19 00:00:00 to 2025-01-09 00:00:00 check is True\n",
      "Processed and saved data for JUBLINGREA.\n"
     ]
    },
    {
     "name": "stderr",
     "output_type": "stream",
     "text": [
      "[*********************100%***********************]  1 of 1 completed\n"
     ]
    },
    {
     "name": "stdout",
     "output_type": "stream",
     "text": [
      "Reference Dates: (Timestamp('2020-01-10 00:00:00'), Timestamp('2025-01-09 00:00:00')) Current Date Range: 2020-01-10 00:00:00 to 2025-01-09 00:00:00 check is False\n",
      "Processed and saved data for JUBLPHARMA.\n"
     ]
    },
    {
     "name": "stderr",
     "output_type": "stream",
     "text": [
      "[*********************100%***********************]  1 of 1 completed\n"
     ]
    },
    {
     "name": "stdout",
     "output_type": "stream",
     "text": [
      "Reference Dates: (Timestamp('2020-01-10 00:00:00'), Timestamp('2025-01-09 00:00:00')) Current Date Range: 2020-01-10 00:00:00 to 2025-01-09 00:00:00 check is False\n",
      "Processed and saved data for JWL.\n"
     ]
    },
    {
     "name": "stderr",
     "output_type": "stream",
     "text": [
      "[*********************100%***********************]  1 of 1 completed\n"
     ]
    },
    {
     "name": "stdout",
     "output_type": "stream",
     "text": [
      "Reference Dates: (Timestamp('2020-01-10 00:00:00'), Timestamp('2025-01-09 00:00:00')) Current Date Range: 2020-01-10 00:00:00 to 2025-01-09 00:00:00 check is False\n",
      "Processed and saved data for JUSTDIAL.\n"
     ]
    },
    {
     "name": "stderr",
     "output_type": "stream",
     "text": [
      "[*********************100%***********************]  1 of 1 completed\n",
      "[*********************100%***********************]  1 of 1 completed\n"
     ]
    },
    {
     "name": "stdout",
     "output_type": "stream",
     "text": [
      "Reference Dates: (Timestamp('2020-01-10 00:00:00'), Timestamp('2025-01-09 00:00:00')) Current Date Range: 2020-01-10 00:00:00 to 2025-01-09 00:00:00 check is False\n",
      "Processed and saved data for JYOTHYLAB.\n",
      "Reference Dates: (Timestamp('2020-01-10 00:00:00'), Timestamp('2025-01-09 00:00:00')) Current Date Range: 2024-01-16 00:00:00 to 2025-01-09 00:00:00 check is True\n",
      "Skipping...JYOTICNC\n"
     ]
    },
    {
     "name": "stderr",
     "output_type": "stream",
     "text": [
      "[*********************100%***********************]  1 of 1 completed\n"
     ]
    },
    {
     "name": "stdout",
     "output_type": "stream",
     "text": [
      "Reference Dates: (Timestamp('2020-01-10 00:00:00'), Timestamp('2025-01-09 00:00:00')) Current Date Range: 2020-01-10 00:00:00 to 2025-01-09 00:00:00 check is False\n",
      "Processed and saved data for KPRMILL.\n"
     ]
    },
    {
     "name": "stderr",
     "output_type": "stream",
     "text": [
      "[*********************100%***********************]  1 of 1 completed\n"
     ]
    },
    {
     "name": "stdout",
     "output_type": "stream",
     "text": [
      "Reference Dates: (Timestamp('2020-01-10 00:00:00'), Timestamp('2025-01-09 00:00:00')) Current Date Range: 2020-01-10 00:00:00 to 2025-01-09 00:00:00 check is False\n",
      "Processed and saved data for KEI.\n"
     ]
    },
    {
     "name": "stderr",
     "output_type": "stream",
     "text": [
      "[*********************100%***********************]  1 of 1 completed\n"
     ]
    },
    {
     "name": "stdout",
     "output_type": "stream",
     "text": [
      "Reference Dates: (Timestamp('2020-01-10 00:00:00'), Timestamp('2025-01-09 00:00:00')) Current Date Range: 2020-01-10 00:00:00 to 2025-01-09 00:00:00 check is False\n",
      "Processed and saved data for KNRCON.\n"
     ]
    },
    {
     "name": "stderr",
     "output_type": "stream",
     "text": [
      "[*********************100%***********************]  1 of 1 completed\n"
     ]
    },
    {
     "name": "stdout",
     "output_type": "stream",
     "text": [
      "Reference Dates: (Timestamp('2020-01-10 00:00:00'), Timestamp('2025-01-09 00:00:00')) Current Date Range: 2020-01-10 00:00:00 to 2025-01-09 00:00:00 check is False\n",
      "Processed and saved data for KPITTECH.\n"
     ]
    },
    {
     "name": "stderr",
     "output_type": "stream",
     "text": [
      "[*********************100%***********************]  1 of 1 completed\n"
     ]
    },
    {
     "name": "stdout",
     "output_type": "stream",
     "text": [
      "Reference Dates: (Timestamp('2020-01-10 00:00:00'), Timestamp('2025-01-09 00:00:00')) Current Date Range: 2020-01-10 00:00:00 to 2025-01-09 00:00:00 check is False\n",
      "Processed and saved data for KSB.\n"
     ]
    },
    {
     "name": "stderr",
     "output_type": "stream",
     "text": [
      "[*********************100%***********************]  1 of 1 completed\n",
      "[*********************100%***********************]  1 of 1 completed\n"
     ]
    },
    {
     "name": "stdout",
     "output_type": "stream",
     "text": [
      "Reference Dates: (Timestamp('2020-01-10 00:00:00'), Timestamp('2025-01-09 00:00:00')) Current Date Range: 2020-01-10 00:00:00 to 2025-01-09 00:00:00 check is False\n",
      "Processed and saved data for KAJARIACER.\n",
      "Reference Dates: (Timestamp('2020-01-10 00:00:00'), Timestamp('2025-01-09 00:00:00')) Current Date Range: 2023-05-30 00:00:00 to 2025-01-09 00:00:00 check is True\n",
      "Skipping...KPIL\n"
     ]
    },
    {
     "name": "stderr",
     "output_type": "stream",
     "text": [
      "[*********************100%***********************]  1 of 1 completed\n"
     ]
    },
    {
     "name": "stdout",
     "output_type": "stream",
     "text": [
      "Reference Dates: (Timestamp('2020-01-10 00:00:00'), Timestamp('2025-01-09 00:00:00')) Current Date Range: 2021-03-26 00:00:00 to 2025-01-09 00:00:00 check is True\n",
      "Processed and saved data for KALYANKJIL.\n"
     ]
    },
    {
     "name": "stderr",
     "output_type": "stream",
     "text": [
      "[*********************100%***********************]  1 of 1 completed\n"
     ]
    },
    {
     "name": "stdout",
     "output_type": "stream",
     "text": [
      "Reference Dates: (Timestamp('2020-01-10 00:00:00'), Timestamp('2025-01-09 00:00:00')) Current Date Range: 2020-01-10 00:00:00 to 2025-01-09 00:00:00 check is False\n",
      "Processed and saved data for KANSAINER.\n"
     ]
    },
    {
     "name": "stderr",
     "output_type": "stream",
     "text": [
      "[*********************100%***********************]  1 of 1 completed\n",
      "[*********************100%***********************]  1 of 1 completed\n"
     ]
    },
    {
     "name": "stdout",
     "output_type": "stream",
     "text": [
      "Reference Dates: (Timestamp('2020-01-10 00:00:00'), Timestamp('2025-01-09 00:00:00')) Current Date Range: 2020-01-10 00:00:00 to 2025-01-09 00:00:00 check is False\n",
      "Processed and saved data for KARURVYSYA.\n",
      "Reference Dates: (Timestamp('2020-01-10 00:00:00'), Timestamp('2025-01-09 00:00:00')) Current Date Range: 2022-11-22 00:00:00 to 2025-01-09 00:00:00 check is True\n",
      "Skipping...KAYNES\n"
     ]
    },
    {
     "name": "stderr",
     "output_type": "stream",
     "text": [
      "[*********************100%***********************]  1 of 1 completed\n"
     ]
    },
    {
     "name": "stdout",
     "output_type": "stream",
     "text": [
      "Reference Dates: (Timestamp('2020-01-10 00:00:00'), Timestamp('2025-01-09 00:00:00')) Current Date Range: 2020-01-10 00:00:00 to 2025-01-09 00:00:00 check is False\n",
      "Processed and saved data for KEC.\n"
     ]
    },
    {
     "name": "stderr",
     "output_type": "stream",
     "text": [
      "[*********************100%***********************]  1 of 1 completed\n"
     ]
    },
    {
     "name": "stdout",
     "output_type": "stream",
     "text": [
      "Reference Dates: (Timestamp('2020-01-10 00:00:00'), Timestamp('2025-01-09 00:00:00')) Current Date Range: 2022-12-29 00:00:00 to 2025-01-09 00:00:00 check is True\n",
      "Skipping...KFINTECH\n"
     ]
    },
    {
     "name": "stderr",
     "output_type": "stream",
     "text": [
      "[*********************100%***********************]  1 of 1 completed\n"
     ]
    },
    {
     "name": "stdout",
     "output_type": "stream",
     "text": [
      "Reference Dates: (Timestamp('2020-01-10 00:00:00'), Timestamp('2025-01-09 00:00:00')) Current Date Range: 2020-01-10 00:00:00 to 2025-01-09 00:00:00 check is False\n",
      "Processed and saved data for KIRLOSBROS.\n"
     ]
    },
    {
     "name": "stderr",
     "output_type": "stream",
     "text": [
      "[*********************100%***********************]  1 of 1 completed\n"
     ]
    },
    {
     "name": "stdout",
     "output_type": "stream",
     "text": [
      "Reference Dates: (Timestamp('2020-01-10 00:00:00'), Timestamp('2025-01-09 00:00:00')) Current Date Range: 2020-01-10 00:00:00 to 2025-01-09 00:00:00 check is False\n",
      "Processed and saved data for KIRLOSENG.\n"
     ]
    },
    {
     "name": "stderr",
     "output_type": "stream",
     "text": [
      "[*********************100%***********************]  1 of 1 completed\n",
      "[*********************100%***********************]  1 of 1 completed\n"
     ]
    },
    {
     "name": "stdout",
     "output_type": "stream",
     "text": [
      "Reference Dates: (Timestamp('2020-01-10 00:00:00'), Timestamp('2025-01-09 00:00:00')) Current Date Range: 2020-01-10 00:00:00 to 2025-01-09 00:00:00 check is False\n",
      "Processed and saved data for KOTAKBANK.\n",
      "Reference Dates: (Timestamp('2020-01-10 00:00:00'), Timestamp('2025-01-09 00:00:00')) Current Date Range: 2021-06-28 00:00:00 to 2025-01-09 00:00:00 check is True\n",
      "Processed and saved data for KIMS.\n"
     ]
    },
    {
     "name": "stderr",
     "output_type": "stream",
     "text": [
      "[*********************100%***********************]  1 of 1 completed\n"
     ]
    },
    {
     "name": "stdout",
     "output_type": "stream",
     "text": [
      "Reference Dates: (Timestamp('2020-01-10 00:00:00'), Timestamp('2025-01-09 00:00:00')) Current Date Range: 2020-01-10 00:00:00 to 2025-01-09 00:00:00 check is False\n",
      "Processed and saved data for LTF.\n"
     ]
    },
    {
     "name": "stderr",
     "output_type": "stream",
     "text": [
      "[*********************100%***********************]  1 of 1 completed\n"
     ]
    },
    {
     "name": "stdout",
     "output_type": "stream",
     "text": [
      "Reference Dates: (Timestamp('2020-01-10 00:00:00'), Timestamp('2025-01-09 00:00:00')) Current Date Range: 2020-01-10 00:00:00 to 2025-01-09 00:00:00 check is False\n",
      "Processed and saved data for LTTS.\n"
     ]
    },
    {
     "name": "stderr",
     "output_type": "stream",
     "text": [
      "[*********************100%***********************]  1 of 1 completed\n"
     ]
    },
    {
     "name": "stdout",
     "output_type": "stream",
     "text": [
      "Reference Dates: (Timestamp('2020-01-10 00:00:00'), Timestamp('2025-01-09 00:00:00')) Current Date Range: 2020-01-10 00:00:00 to 2025-01-09 00:00:00 check is False\n",
      "Processed and saved data for LICHSGFIN.\n"
     ]
    },
    {
     "name": "stderr",
     "output_type": "stream",
     "text": [
      "[*********************100%***********************]  1 of 1 completed\n"
     ]
    },
    {
     "name": "stdout",
     "output_type": "stream",
     "text": [
      "Reference Dates: (Timestamp('2020-01-10 00:00:00'), Timestamp('2025-01-09 00:00:00')) Current Date Range: 2020-01-10 00:00:00 to 2025-01-09 00:00:00 check is False\n",
      "Processed and saved data for LTIM.\n"
     ]
    },
    {
     "name": "stderr",
     "output_type": "stream",
     "text": [
      "[*********************100%***********************]  1 of 1 completed\n",
      "[*********************100%***********************]  1 of 1 completed\n"
     ]
    },
    {
     "name": "stdout",
     "output_type": "stream",
     "text": [
      "Reference Dates: (Timestamp('2020-01-10 00:00:00'), Timestamp('2025-01-09 00:00:00')) Current Date Range: 2020-01-10 00:00:00 to 2025-01-09 00:00:00 check is False\n",
      "Processed and saved data for LT.\n",
      "Reference Dates: (Timestamp('2020-01-10 00:00:00'), Timestamp('2025-01-09 00:00:00')) Current Date Range: 2021-11-23 00:00:00 to 2025-01-09 00:00:00 check is True\n",
      "Processed and saved data for LATENTVIEW.\n"
     ]
    },
    {
     "name": "stderr",
     "output_type": "stream",
     "text": [
      "[*********************100%***********************]  1 of 1 completed\n"
     ]
    },
    {
     "name": "stdout",
     "output_type": "stream",
     "text": [
      "Reference Dates: (Timestamp('2020-01-10 00:00:00'), Timestamp('2025-01-09 00:00:00')) Current Date Range: 2020-01-10 00:00:00 to 2025-01-09 00:00:00 check is False\n",
      "Processed and saved data for LAURUSLABS.\n"
     ]
    },
    {
     "name": "stderr",
     "output_type": "stream",
     "text": [
      "[*********************100%***********************]  1 of 1 completed\n"
     ]
    },
    {
     "name": "stdout",
     "output_type": "stream",
     "text": [
      "Reference Dates: (Timestamp('2020-01-10 00:00:00'), Timestamp('2025-01-09 00:00:00')) Current Date Range: 2020-01-10 00:00:00 to 2025-01-09 00:00:00 check is False\n",
      "Processed and saved data for LEMONTREE.\n"
     ]
    },
    {
     "name": "stderr",
     "output_type": "stream",
     "text": [
      "[*********************100%***********************]  1 of 1 completed\n"
     ]
    },
    {
     "name": "stdout",
     "output_type": "stream",
     "text": [
      "Reference Dates: (Timestamp('2020-01-10 00:00:00'), Timestamp('2025-01-09 00:00:00')) Current Date Range: 2022-05-17 00:00:00 to 2025-01-09 00:00:00 check is True\n",
      "Skipping...LICI\n"
     ]
    },
    {
     "name": "stderr",
     "output_type": "stream",
     "text": [
      "[*********************100%***********************]  1 of 1 completed\n",
      "[*********************100%***********************]  1 of 1 completed\n"
     ]
    },
    {
     "name": "stdout",
     "output_type": "stream",
     "text": [
      "Reference Dates: (Timestamp('2020-01-10 00:00:00'), Timestamp('2025-01-09 00:00:00')) Current Date Range: 2020-01-10 00:00:00 to 2025-01-09 00:00:00 check is False\n",
      "Processed and saved data for LINDEINDIA.\n",
      "Reference Dates: (Timestamp('2020-01-10 00:00:00'), Timestamp('2025-01-09 00:00:00')) Current Date Range: 2023-07-17 00:00:00 to 2025-01-09 00:00:00 check is True\n",
      "Skipping...LLOYDSME\n"
     ]
    },
    {
     "name": "stderr",
     "output_type": "stream",
     "text": [
      "[*********************100%***********************]  1 of 1 completed\n"
     ]
    },
    {
     "name": "stdout",
     "output_type": "stream",
     "text": [
      "Reference Dates: (Timestamp('2020-01-10 00:00:00'), Timestamp('2025-01-09 00:00:00')) Current Date Range: 2020-01-10 00:00:00 to 2025-01-09 00:00:00 check is False\n",
      "Processed and saved data for LUPIN.\n"
     ]
    },
    {
     "name": "stderr",
     "output_type": "stream",
     "text": [
      "[*********************100%***********************]  1 of 1 completed\n"
     ]
    },
    {
     "name": "stdout",
     "output_type": "stream",
     "text": [
      "Reference Dates: (Timestamp('2020-01-10 00:00:00'), Timestamp('2025-01-09 00:00:00')) Current Date Range: 2020-01-10 00:00:00 to 2025-01-09 00:00:00 check is False\n",
      "Processed and saved data for MMTC.\n"
     ]
    },
    {
     "name": "stderr",
     "output_type": "stream",
     "text": [
      "[*********************100%***********************]  1 of 1 completed\n"
     ]
    },
    {
     "name": "stdout",
     "output_type": "stream",
     "text": [
      "Reference Dates: (Timestamp('2020-01-10 00:00:00'), Timestamp('2025-01-09 00:00:00')) Current Date Range: 2020-01-10 00:00:00 to 2025-01-09 00:00:00 check is False\n",
      "Processed and saved data for MRF.\n"
     ]
    },
    {
     "name": "stderr",
     "output_type": "stream",
     "text": [
      "[*********************100%***********************]  1 of 1 completed\n"
     ]
    },
    {
     "name": "stdout",
     "output_type": "stream",
     "text": [
      "Reference Dates: (Timestamp('2020-01-10 00:00:00'), Timestamp('2025-01-09 00:00:00')) Current Date Range: 2021-04-19 00:00:00 to 2025-01-09 00:00:00 check is True\n",
      "Processed and saved data for LODHA.\n"
     ]
    },
    {
     "name": "stderr",
     "output_type": "stream",
     "text": [
      "[*********************100%***********************]  1 of 1 completed\n"
     ]
    },
    {
     "name": "stdout",
     "output_type": "stream",
     "text": [
      "Reference Dates: (Timestamp('2020-01-10 00:00:00'), Timestamp('2025-01-09 00:00:00')) Current Date Range: 2020-01-10 00:00:00 to 2025-01-09 00:00:00 check is False\n",
      "Processed and saved data for MGL.\n"
     ]
    },
    {
     "name": "stderr",
     "output_type": "stream",
     "text": [
      "[*********************100%***********************]  1 of 1 completed\n"
     ]
    },
    {
     "name": "stdout",
     "output_type": "stream",
     "text": [
      "Reference Dates: (Timestamp('2020-01-10 00:00:00'), Timestamp('2025-01-09 00:00:00')) Current Date Range: 2020-01-10 00:00:00 to 2025-01-09 00:00:00 check is False\n",
      "Processed and saved data for MAHSEAMLES.\n"
     ]
    },
    {
     "name": "stderr",
     "output_type": "stream",
     "text": [
      "[*********************100%***********************]  1 of 1 completed\n"
     ]
    },
    {
     "name": "stdout",
     "output_type": "stream",
     "text": [
      "Reference Dates: (Timestamp('2020-01-10 00:00:00'), Timestamp('2025-01-09 00:00:00')) Current Date Range: 2020-01-10 00:00:00 to 2025-01-09 00:00:00 check is False\n",
      "Processed and saved data for M&MFIN.\n"
     ]
    },
    {
     "name": "stderr",
     "output_type": "stream",
     "text": [
      "[*********************100%***********************]  1 of 1 completed\n"
     ]
    },
    {
     "name": "stdout",
     "output_type": "stream",
     "text": [
      "Reference Dates: (Timestamp('2020-01-10 00:00:00'), Timestamp('2025-01-09 00:00:00')) Current Date Range: 2020-01-10 00:00:00 to 2025-01-09 00:00:00 check is False\n",
      "Processed and saved data for M&M.\n"
     ]
    },
    {
     "name": "stderr",
     "output_type": "stream",
     "text": [
      "[*********************100%***********************]  1 of 1 completed\n"
     ]
    },
    {
     "name": "stdout",
     "output_type": "stream",
     "text": [
      "Reference Dates: (Timestamp('2020-01-10 00:00:00'), Timestamp('2025-01-09 00:00:00')) Current Date Range: 2020-01-10 00:00:00 to 2025-01-09 00:00:00 check is False\n",
      "Processed and saved data for MAHLIFE.\n"
     ]
    },
    {
     "name": "stderr",
     "output_type": "stream",
     "text": [
      "[*********************100%***********************]  1 of 1 completed\n"
     ]
    },
    {
     "name": "stdout",
     "output_type": "stream",
     "text": [
      "Reference Dates: (Timestamp('2020-01-10 00:00:00'), Timestamp('2025-01-09 00:00:00')) Current Date Range: 2020-01-10 00:00:00 to 2025-01-09 00:00:00 check is False\n",
      "Processed and saved data for MANAPPURAM.\n"
     ]
    },
    {
     "name": "stderr",
     "output_type": "stream",
     "text": [
      "[*********************100%***********************]  1 of 1 completed\n",
      "[*********************100%***********************]  1 of 1 completed\n"
     ]
    },
    {
     "name": "stdout",
     "output_type": "stream",
     "text": [
      "Reference Dates: (Timestamp('2020-01-10 00:00:00'), Timestamp('2025-01-09 00:00:00')) Current Date Range: 2020-01-10 00:00:00 to 2025-01-09 00:00:00 check is False\n",
      "Processed and saved data for MRPL.\n",
      "Reference Dates: (Timestamp('2020-01-10 00:00:00'), Timestamp('2025-01-09 00:00:00')) Current Date Range: 2023-05-09 00:00:00 to 2025-01-09 00:00:00 check is True\n",
      "Skipping...MANKIND\n"
     ]
    },
    {
     "name": "stderr",
     "output_type": "stream",
     "text": [
      "[*********************100%***********************]  1 of 1 completed\n"
     ]
    },
    {
     "name": "stdout",
     "output_type": "stream",
     "text": [
      "Reference Dates: (Timestamp('2020-01-10 00:00:00'), Timestamp('2025-01-09 00:00:00')) Current Date Range: 2020-01-10 00:00:00 to 2025-01-09 00:00:00 check is False\n",
      "Processed and saved data for MARICO.\n"
     ]
    },
    {
     "name": "stderr",
     "output_type": "stream",
     "text": [
      "[*********************100%***********************]  1 of 1 completed\n"
     ]
    },
    {
     "name": "stdout",
     "output_type": "stream",
     "text": [
      "Reference Dates: (Timestamp('2020-01-10 00:00:00'), Timestamp('2025-01-09 00:00:00')) Current Date Range: 2020-01-10 00:00:00 to 2025-01-09 00:00:00 check is False\n",
      "Processed and saved data for MARUTI.\n"
     ]
    },
    {
     "name": "stderr",
     "output_type": "stream",
     "text": [
      "[*********************100%***********************]  1 of 1 completed\n"
     ]
    },
    {
     "name": "stdout",
     "output_type": "stream",
     "text": [
      "Reference Dates: (Timestamp('2020-01-10 00:00:00'), Timestamp('2025-01-09 00:00:00')) Current Date Range: 2020-01-10 00:00:00 to 2025-01-09 00:00:00 check is False\n",
      "Processed and saved data for MASTEK.\n"
     ]
    },
    {
     "name": "stderr",
     "output_type": "stream",
     "text": [
      "[*********************100%***********************]  1 of 1 completed\n"
     ]
    },
    {
     "name": "stdout",
     "output_type": "stream",
     "text": [
      "Reference Dates: (Timestamp('2020-01-10 00:00:00'), Timestamp('2025-01-09 00:00:00')) Current Date Range: 2020-01-10 00:00:00 to 2025-01-09 00:00:00 check is False\n",
      "Processed and saved data for MFSL.\n"
     ]
    },
    {
     "name": "stderr",
     "output_type": "stream",
     "text": [
      "[*********************100%***********************]  1 of 1 completed\n"
     ]
    },
    {
     "name": "stdout",
     "output_type": "stream",
     "text": [
      "Reference Dates: (Timestamp('2020-01-10 00:00:00'), Timestamp('2025-01-09 00:00:00')) Current Date Range: 2020-08-21 00:00:00 to 2025-01-09 00:00:00 check is True\n",
      "Processed and saved data for MAXHEALTH.\n"
     ]
    },
    {
     "name": "stderr",
     "output_type": "stream",
     "text": [
      "[*********************100%***********************]  1 of 1 completed\n",
      "[*********************100%***********************]  1 of 1 completed\n"
     ]
    },
    {
     "name": "stdout",
     "output_type": "stream",
     "text": [
      "Reference Dates: (Timestamp('2020-01-10 00:00:00'), Timestamp('2025-01-09 00:00:00')) Current Date Range: 2020-10-12 00:00:00 to 2025-01-09 00:00:00 check is True\n",
      "Processed and saved data for MAZDOCK.\n",
      "Reference Dates: (Timestamp('2020-01-10 00:00:00'), Timestamp('2025-01-09 00:00:00')) Current Date Range: 2021-12-22 00:00:00 to 2025-01-09 00:00:00 check is True\n"
     ]
    },
    {
     "name": "stderr",
     "output_type": "stream",
     "text": [
      "[*********************100%***********************]  1 of 1 completed"
     ]
    },
    {
     "name": "stdout",
     "output_type": "stream",
     "text": [
      "Processed and saved data for METROBRAND.\n",
      "Reference Dates: (Timestamp('2020-01-10 00:00:00'), Timestamp('2025-01-09 00:00:00')) Current Date Range: 2020-01-10 00:00:00 to 2025-01-09 00:00:00 check is False\n"
     ]
    },
    {
     "name": "stderr",
     "output_type": "stream",
     "text": [
      "\n"
     ]
    },
    {
     "name": "stdout",
     "output_type": "stream",
     "text": [
      "Processed and saved data for METROPOLIS.\n"
     ]
    },
    {
     "name": "stderr",
     "output_type": "stream",
     "text": [
      "[*********************100%***********************]  1 of 1 completed\n",
      "[*********************100%***********************]  1 of 1 completed\n"
     ]
    },
    {
     "name": "stdout",
     "output_type": "stream",
     "text": [
      "Reference Dates: (Timestamp('2020-01-10 00:00:00'), Timestamp('2025-01-09 00:00:00')) Current Date Range: 2020-01-10 00:00:00 to 2025-01-09 00:00:00 check is False\n",
      "Processed and saved data for MINDACORP.\n",
      "Reference Dates: (Timestamp('2020-01-10 00:00:00'), Timestamp('2025-01-09 00:00:00')) Current Date Range: 2022-03-28 00:00:00 to 2025-01-09 00:00:00 check is True\n",
      "Skipping...MSUMI\n"
     ]
    },
    {
     "name": "stderr",
     "output_type": "stream",
     "text": [
      "[*********************100%***********************]  1 of 1 completed\n"
     ]
    },
    {
     "name": "stdout",
     "output_type": "stream",
     "text": [
      "Reference Dates: (Timestamp('2020-01-10 00:00:00'), Timestamp('2025-01-09 00:00:00')) Current Date Range: 2020-01-10 00:00:00 to 2025-01-09 00:00:00 check is False\n",
      "Processed and saved data for MOTILALOFS.\n"
     ]
    },
    {
     "name": "stderr",
     "output_type": "stream",
     "text": [
      "[*********************100%***********************]  1 of 1 completed\n"
     ]
    },
    {
     "name": "stdout",
     "output_type": "stream",
     "text": [
      "Reference Dates: (Timestamp('2020-01-10 00:00:00'), Timestamp('2025-01-09 00:00:00')) Current Date Range: 2020-01-10 00:00:00 to 2025-01-09 00:00:00 check is False\n",
      "Processed and saved data for MPHASIS.\n"
     ]
    },
    {
     "name": "stderr",
     "output_type": "stream",
     "text": [
      "[*********************100%***********************]  1 of 1 completed\n"
     ]
    },
    {
     "name": "stdout",
     "output_type": "stream",
     "text": [
      "Reference Dates: (Timestamp('2020-01-10 00:00:00'), Timestamp('2025-01-09 00:00:00')) Current Date Range: 2020-01-10 00:00:00 to 2025-01-09 00:00:00 check is False\n",
      "Processed and saved data for MCX.\n"
     ]
    },
    {
     "name": "stderr",
     "output_type": "stream",
     "text": [
      "[*********************100%***********************]  1 of 1 completed\n"
     ]
    },
    {
     "name": "stdout",
     "output_type": "stream",
     "text": [
      "Reference Dates: (Timestamp('2020-01-10 00:00:00'), Timestamp('2025-01-09 00:00:00')) Current Date Range: 2020-01-10 00:00:00 to 2025-01-09 00:00:00 check is False\n",
      "Processed and saved data for MUTHOOTFIN.\n"
     ]
    },
    {
     "name": "stderr",
     "output_type": "stream",
     "text": [
      "[*********************100%***********************]  1 of 1 completed\n"
     ]
    },
    {
     "name": "stdout",
     "output_type": "stream",
     "text": [
      "Reference Dates: (Timestamp('2020-01-10 00:00:00'), Timestamp('2025-01-09 00:00:00')) Current Date Range: 2020-01-10 00:00:00 to 2025-01-09 00:00:00 check is False\n",
      "Processed and saved data for NATCOPHARM.\n"
     ]
    },
    {
     "name": "stderr",
     "output_type": "stream",
     "text": [
      "[*********************100%***********************]  1 of 1 completed\n"
     ]
    },
    {
     "name": "stdout",
     "output_type": "stream",
     "text": [
      "Reference Dates: (Timestamp('2020-01-10 00:00:00'), Timestamp('2025-01-09 00:00:00')) Current Date Range: 2020-01-10 00:00:00 to 2025-01-09 00:00:00 check is False\n",
      "Processed and saved data for NBCC.\n"
     ]
    },
    {
     "name": "stderr",
     "output_type": "stream",
     "text": [
      "[*********************100%***********************]  1 of 1 completed\n"
     ]
    },
    {
     "name": "stdout",
     "output_type": "stream",
     "text": [
      "Reference Dates: (Timestamp('2020-01-10 00:00:00'), Timestamp('2025-01-09 00:00:00')) Current Date Range: 2020-01-10 00:00:00 to 2025-01-09 00:00:00 check is False\n",
      "Processed and saved data for NCC.\n"
     ]
    },
    {
     "name": "stderr",
     "output_type": "stream",
     "text": [
      "[*********************100%***********************]  1 of 1 completed\n"
     ]
    },
    {
     "name": "stdout",
     "output_type": "stream",
     "text": [
      "Reference Dates: (Timestamp('2020-01-10 00:00:00'), Timestamp('2025-01-09 00:00:00')) Current Date Range: 2020-01-10 00:00:00 to 2025-01-09 00:00:00 check is False\n",
      "Processed and saved data for NHPC.\n"
     ]
    },
    {
     "name": "stderr",
     "output_type": "stream",
     "text": [
      "[*********************100%***********************]  1 of 1 completed\n"
     ]
    },
    {
     "name": "stdout",
     "output_type": "stream",
     "text": [
      "Reference Dates: (Timestamp('2020-01-10 00:00:00'), Timestamp('2025-01-09 00:00:00')) Current Date Range: 2020-01-10 00:00:00 to 2025-01-09 00:00:00 check is False\n",
      "Processed and saved data for NLCINDIA.\n"
     ]
    },
    {
     "name": "stderr",
     "output_type": "stream",
     "text": [
      "[*********************100%***********************]  1 of 1 completed\n"
     ]
    },
    {
     "name": "stdout",
     "output_type": "stream",
     "text": [
      "Reference Dates: (Timestamp('2020-01-10 00:00:00'), Timestamp('2025-01-09 00:00:00')) Current Date Range: 2020-01-10 00:00:00 to 2025-01-09 00:00:00 check is False\n",
      "Processed and saved data for NMDC.\n"
     ]
    },
    {
     "name": "stderr",
     "output_type": "stream",
     "text": [
      "[*********************100%***********************]  1 of 1 completed\n"
     ]
    },
    {
     "name": "stdout",
     "output_type": "stream",
     "text": [
      "Reference Dates: (Timestamp('2020-01-10 00:00:00'), Timestamp('2025-01-09 00:00:00')) Current Date Range: 2023-02-20 00:00:00 to 2025-01-09 00:00:00 check is True\n",
      "Skipping...NSLNISP\n"
     ]
    },
    {
     "name": "stderr",
     "output_type": "stream",
     "text": [
      "[*********************100%***********************]  1 of 1 completed\n"
     ]
    },
    {
     "name": "stdout",
     "output_type": "stream",
     "text": [
      "Reference Dates: (Timestamp('2020-01-10 00:00:00'), Timestamp('2025-01-09 00:00:00')) Current Date Range: 2020-01-10 00:00:00 to 2025-01-09 00:00:00 check is False\n",
      "Processed and saved data for NTPC.\n"
     ]
    },
    {
     "name": "stderr",
     "output_type": "stream",
     "text": [
      "[*********************100%***********************]  1 of 1 completed\n"
     ]
    },
    {
     "name": "stdout",
     "output_type": "stream",
     "text": [
      "Reference Dates: (Timestamp('2020-01-10 00:00:00'), Timestamp('2025-01-09 00:00:00')) Current Date Range: 2020-01-10 00:00:00 to 2025-01-09 00:00:00 check is False\n",
      "Processed and saved data for NH.\n"
     ]
    },
    {
     "name": "stderr",
     "output_type": "stream",
     "text": [
      "[*********************100%***********************]  1 of 1 completed\n"
     ]
    },
    {
     "name": "stdout",
     "output_type": "stream",
     "text": [
      "Reference Dates: (Timestamp('2020-01-10 00:00:00'), Timestamp('2025-01-09 00:00:00')) Current Date Range: 2020-01-10 00:00:00 to 2025-01-09 00:00:00 check is False\n",
      "Processed and saved data for NATIONALUM.\n"
     ]
    },
    {
     "name": "stderr",
     "output_type": "stream",
     "text": [
      "[*********************100%***********************]  1 of 1 completed\n"
     ]
    },
    {
     "name": "stdout",
     "output_type": "stream",
     "text": [
      "Reference Dates: (Timestamp('2020-01-10 00:00:00'), Timestamp('2025-01-09 00:00:00')) Current Date Range: 2020-01-10 00:00:00 to 2025-01-09 00:00:00 check is False\n",
      "Processed and saved data for NAVINFLUOR.\n"
     ]
    },
    {
     "name": "stderr",
     "output_type": "stream",
     "text": [
      "[*********************100%***********************]  1 of 1 completed\n",
      "[*********************100%***********************]  1 of 1 completed\n"
     ]
    },
    {
     "name": "stdout",
     "output_type": "stream",
     "text": [
      "Reference Dates: (Timestamp('2020-01-10 00:00:00'), Timestamp('2025-01-09 00:00:00')) Current Date Range: 2020-01-10 00:00:00 to 2025-01-09 00:00:00 check is False\n",
      "Processed and saved data for NESTLEIND.\n",
      "Reference Dates: (Timestamp('2020-01-10 00:00:00'), Timestamp('2025-01-09 00:00:00')) Current Date Range: 2023-07-27 00:00:00 to 2025-01-09 00:00:00 check is True\n",
      "Skipping...NETWEB\n"
     ]
    },
    {
     "name": "stderr",
     "output_type": "stream",
     "text": [
      "[*********************100%***********************]  1 of 1 completed\n"
     ]
    },
    {
     "name": "stdout",
     "output_type": "stream",
     "text": [
      "Reference Dates: (Timestamp('2020-01-10 00:00:00'), Timestamp('2025-01-09 00:00:00')) Current Date Range: 2020-01-10 00:00:00 to 2025-01-09 00:00:00 check is False\n",
      "Processed and saved data for NETWORK18.\n"
     ]
    },
    {
     "name": "stderr",
     "output_type": "stream",
     "text": [
      "[*********************100%***********************]  1 of 1 completed\n"
     ]
    },
    {
     "name": "stdout",
     "output_type": "stream",
     "text": [
      "Reference Dates: (Timestamp('2020-01-10 00:00:00'), Timestamp('2025-01-09 00:00:00')) Current Date Range: 2020-01-10 00:00:00 to 2025-01-09 00:00:00 check is False\n",
      "Processed and saved data for NEWGEN.\n"
     ]
    },
    {
     "name": "stderr",
     "output_type": "stream",
     "text": [
      "[*********************100%***********************]  1 of 1 completed\n",
      "[*********************100%***********************]  1 of 1 completed\n"
     ]
    },
    {
     "name": "stdout",
     "output_type": "stream",
     "text": [
      "Reference Dates: (Timestamp('2020-01-10 00:00:00'), Timestamp('2025-01-09 00:00:00')) Current Date Range: 2020-01-10 00:00:00 to 2025-01-09 00:00:00 check is False\n",
      "Processed and saved data for NAM-INDIA.\n",
      "Reference Dates: (Timestamp('2020-01-10 00:00:00'), Timestamp('2025-01-09 00:00:00')) Current Date Range: 2023-09-26 00:00:00 to 2025-01-09 00:00:00 check is True\n",
      "Skipping...NUVAMA\n"
     ]
    },
    {
     "name": "stderr",
     "output_type": "stream",
     "text": [
      "[*********************100%***********************]  1 of 1 completed\n"
     ]
    },
    {
     "name": "stdout",
     "output_type": "stream",
     "text": [
      "Reference Dates: (Timestamp('2020-01-10 00:00:00'), Timestamp('2025-01-09 00:00:00')) Current Date Range: 2021-08-23 00:00:00 to 2025-01-09 00:00:00 check is True\n",
      "Processed and saved data for NUVOCO.\n"
     ]
    },
    {
     "name": "stderr",
     "output_type": "stream",
     "text": [
      "[*********************100%***********************]  1 of 1 completed\n"
     ]
    },
    {
     "name": "stdout",
     "output_type": "stream",
     "text": [
      "Reference Dates: (Timestamp('2020-01-10 00:00:00'), Timestamp('2025-01-09 00:00:00')) Current Date Range: 2020-01-10 00:00:00 to 2025-01-09 00:00:00 check is False\n",
      "Processed and saved data for OBEROIRLTY.\n"
     ]
    },
    {
     "name": "stderr",
     "output_type": "stream",
     "text": [
      "[*********************100%***********************]  1 of 1 completed\n"
     ]
    },
    {
     "name": "stdout",
     "output_type": "stream",
     "text": [
      "Reference Dates: (Timestamp('2020-01-10 00:00:00'), Timestamp('2025-01-09 00:00:00')) Current Date Range: 2020-01-10 00:00:00 to 2025-01-09 00:00:00 check is False\n",
      "Processed and saved data for ONGC.\n"
     ]
    },
    {
     "name": "stderr",
     "output_type": "stream",
     "text": [
      "[*********************100%***********************]  1 of 1 completed\n"
     ]
    },
    {
     "name": "stdout",
     "output_type": "stream",
     "text": [
      "Reference Dates: (Timestamp('2020-01-10 00:00:00'), Timestamp('2025-01-09 00:00:00')) Current Date Range: 2020-01-10 00:00:00 to 2025-01-09 00:00:00 check is False\n",
      "Processed and saved data for OIL.\n"
     ]
    },
    {
     "name": "stderr",
     "output_type": "stream",
     "text": [
      "[*********************100%***********************]  1 of 1 completed\n"
     ]
    },
    {
     "name": "stdout",
     "output_type": "stream",
     "text": [
      "Reference Dates: (Timestamp('2020-01-10 00:00:00'), Timestamp('2025-01-09 00:00:00')) Current Date Range: 2020-01-10 00:00:00 to 2025-01-09 00:00:00 check is False\n",
      "Processed and saved data for OLECTRA.\n"
     ]
    },
    {
     "name": "stderr",
     "output_type": "stream",
     "text": [
      "[*********************100%***********************]  1 of 1 completed\n"
     ]
    },
    {
     "name": "stdout",
     "output_type": "stream",
     "text": [
      "Reference Dates: (Timestamp('2020-01-10 00:00:00'), Timestamp('2025-01-09 00:00:00')) Current Date Range: 2021-11-18 00:00:00 to 2025-01-09 00:00:00 check is True\n",
      "Processed and saved data for PAYTM.\n"
     ]
    },
    {
     "name": "stderr",
     "output_type": "stream",
     "text": [
      "[*********************100%***********************]  1 of 1 completed\n",
      "[*********************100%***********************]  1 of 1 completed"
     ]
    },
    {
     "name": "stdout",
     "output_type": "stream",
     "text": [
      "Reference Dates: (Timestamp('2020-01-10 00:00:00'), Timestamp('2025-01-09 00:00:00')) Current Date Range: 2020-01-10 00:00:00 to 2025-01-09 00:00:00 check is False\n",
      "Processed and saved data for OFSS.\n",
      "Reference Dates: (Timestamp('2020-01-10 00:00:00'), Timestamp('2025-01-09 00:00:00')) Current Date Range: 2021-11-15 00:00:00 to 2025-01-09 00:00:00 check is True\n"
     ]
    },
    {
     "name": "stderr",
     "output_type": "stream",
     "text": [
      "\n"
     ]
    },
    {
     "name": "stdout",
     "output_type": "stream",
     "text": [
      "Processed and saved data for POLICYBZR.\n"
     ]
    },
    {
     "name": "stderr",
     "output_type": "stream",
     "text": [
      "[*********************100%***********************]  1 of 1 completed\n"
     ]
    },
    {
     "name": "stdout",
     "output_type": "stream",
     "text": [
      "Reference Dates: (Timestamp('2020-01-10 00:00:00'), Timestamp('2025-01-09 00:00:00')) Current Date Range: 2020-01-10 00:00:00 to 2025-01-09 00:00:00 check is False\n",
      "Processed and saved data for PCBL.\n"
     ]
    },
    {
     "name": "stderr",
     "output_type": "stream",
     "text": [
      "[*********************100%***********************]  1 of 1 completed\n"
     ]
    },
    {
     "name": "stdout",
     "output_type": "stream",
     "text": [
      "Reference Dates: (Timestamp('2020-01-10 00:00:00'), Timestamp('2025-01-09 00:00:00')) Current Date Range: 2020-01-10 00:00:00 to 2025-01-09 00:00:00 check is False\n",
      "Processed and saved data for PIIND.\n"
     ]
    },
    {
     "name": "stderr",
     "output_type": "stream",
     "text": [
      "[*********************100%***********************]  1 of 1 completed\n"
     ]
    },
    {
     "name": "stdout",
     "output_type": "stream",
     "text": [
      "Reference Dates: (Timestamp('2020-01-10 00:00:00'), Timestamp('2025-01-09 00:00:00')) Current Date Range: 2020-01-10 00:00:00 to 2025-01-09 00:00:00 check is False\n",
      "Processed and saved data for PNBHOUSING.\n"
     ]
    },
    {
     "name": "stderr",
     "output_type": "stream",
     "text": [
      "[*********************100%***********************]  1 of 1 completed\n",
      "[*********************100%***********************]  1 of 1 completed\n"
     ]
    },
    {
     "name": "stdout",
     "output_type": "stream",
     "text": [
      "Reference Dates: (Timestamp('2020-01-10 00:00:00'), Timestamp('2025-01-09 00:00:00')) Current Date Range: 2020-01-10 00:00:00 to 2025-01-09 00:00:00 check is False\n",
      "Processed and saved data for PNCINFRA.\n",
      "Reference Dates: (Timestamp('2020-01-10 00:00:00'), Timestamp('2025-01-09 00:00:00')) Current Date Range: 2023-06-09 00:00:00 to 2025-01-09 00:00:00 check is True\n",
      "Skipping...PTCIL\n"
     ]
    },
    {
     "name": "stderr",
     "output_type": "stream",
     "text": [
      "[*********************100%***********************]  1 of 1 completed\n"
     ]
    },
    {
     "name": "stdout",
     "output_type": "stream",
     "text": [
      "Reference Dates: (Timestamp('2020-01-10 00:00:00'), Timestamp('2025-01-09 00:00:00')) Current Date Range: 2022-11-10 00:00:00 to 2025-01-09 00:00:00 check is True\n",
      "Skipping...PVRINOX\n"
     ]
    },
    {
     "name": "stderr",
     "output_type": "stream",
     "text": [
      "[*********************100%***********************]  1 of 1 completed\n"
     ]
    },
    {
     "name": "stdout",
     "output_type": "stream",
     "text": [
      "Reference Dates: (Timestamp('2020-01-10 00:00:00'), Timestamp('2025-01-09 00:00:00')) Current Date Range: 2020-01-10 00:00:00 to 2025-01-09 00:00:00 check is False\n",
      "Processed and saved data for PAGEIND.\n"
     ]
    },
    {
     "name": "stderr",
     "output_type": "stream",
     "text": [
      "[*********************100%***********************]  1 of 1 completed\n"
     ]
    },
    {
     "name": "stdout",
     "output_type": "stream",
     "text": [
      "Reference Dates: (Timestamp('2020-01-10 00:00:00'), Timestamp('2025-01-09 00:00:00')) Current Date Range: 2020-01-10 00:00:00 to 2025-01-09 00:00:00 check is False\n",
      "Processed and saved data for PATANJALI.\n"
     ]
    },
    {
     "name": "stderr",
     "output_type": "stream",
     "text": [
      "[*********************100%***********************]  1 of 1 completed\n"
     ]
    },
    {
     "name": "stdout",
     "output_type": "stream",
     "text": [
      "Reference Dates: (Timestamp('2020-01-10 00:00:00'), Timestamp('2025-01-09 00:00:00')) Current Date Range: 2020-01-10 00:00:00 to 2025-01-09 00:00:00 check is False\n",
      "Processed and saved data for PERSISTENT.\n"
     ]
    },
    {
     "name": "stderr",
     "output_type": "stream",
     "text": [
      "[*********************100%***********************]  1 of 1 completed\n"
     ]
    },
    {
     "name": "stdout",
     "output_type": "stream",
     "text": [
      "Reference Dates: (Timestamp('2020-01-10 00:00:00'), Timestamp('2025-01-09 00:00:00')) Current Date Range: 2020-01-10 00:00:00 to 2025-01-09 00:00:00 check is False\n",
      "Processed and saved data for PETRONET.\n"
     ]
    },
    {
     "name": "stderr",
     "output_type": "stream",
     "text": [
      "[*********************100%***********************]  1 of 1 completed\n"
     ]
    },
    {
     "name": "stdout",
     "output_type": "stream",
     "text": [
      "Reference Dates: (Timestamp('2020-01-10 00:00:00'), Timestamp('2025-01-09 00:00:00')) Current Date Range: 2020-01-10 00:00:00 to 2025-01-09 00:00:00 check is False\n",
      "Processed and saved data for PFIZER.\n"
     ]
    },
    {
     "name": "stderr",
     "output_type": "stream",
     "text": [
      "[*********************100%***********************]  1 of 1 completed\n"
     ]
    },
    {
     "name": "stdout",
     "output_type": "stream",
     "text": [
      "Reference Dates: (Timestamp('2020-01-10 00:00:00'), Timestamp('2025-01-09 00:00:00')) Current Date Range: 2020-01-10 00:00:00 to 2025-01-09 00:00:00 check is False\n",
      "Processed and saved data for PHOENIXLTD.\n"
     ]
    },
    {
     "name": "stderr",
     "output_type": "stream",
     "text": [
      "[*********************100%***********************]  1 of 1 completed\n"
     ]
    },
    {
     "name": "stdout",
     "output_type": "stream",
     "text": [
      "Reference Dates: (Timestamp('2020-01-10 00:00:00'), Timestamp('2025-01-09 00:00:00')) Current Date Range: 2020-01-10 00:00:00 to 2025-01-09 00:00:00 check is False\n",
      "Processed and saved data for PIDILITIND.\n"
     ]
    },
    {
     "name": "stderr",
     "output_type": "stream",
     "text": [
      "[*********************100%***********************]  1 of 1 completed\n",
      "[*********************100%***********************]  1 of 1 completed\n"
     ]
    },
    {
     "name": "stdout",
     "output_type": "stream",
     "text": [
      "Reference Dates: (Timestamp('2020-01-10 00:00:00'), Timestamp('2025-01-09 00:00:00')) Current Date Range: 2020-01-10 00:00:00 to 2025-01-09 00:00:00 check is False\n",
      "Processed and saved data for PEL.\n",
      "Reference Dates: (Timestamp('2020-01-10 00:00:00'), Timestamp('2025-01-09 00:00:00')) Current Date Range: 2022-10-19 00:00:00 to 2025-01-09 00:00:00 check is True\n",
      "Skipping...PPLPHARMA\n"
     ]
    },
    {
     "name": "stderr",
     "output_type": "stream",
     "text": [
      "[*********************100%***********************]  1 of 1 completed\n"
     ]
    },
    {
     "name": "stdout",
     "output_type": "stream",
     "text": [
      "Reference Dates: (Timestamp('2020-01-10 00:00:00'), Timestamp('2025-01-09 00:00:00')) Current Date Range: 2020-01-10 00:00:00 to 2025-01-09 00:00:00 check is False\n",
      "Processed and saved data for POLYMED.\n"
     ]
    },
    {
     "name": "stderr",
     "output_type": "stream",
     "text": [
      "[*********************100%***********************]  1 of 1 completed\n"
     ]
    },
    {
     "name": "stdout",
     "output_type": "stream",
     "text": [
      "Reference Dates: (Timestamp('2020-01-10 00:00:00'), Timestamp('2025-01-09 00:00:00')) Current Date Range: 2020-01-10 00:00:00 to 2025-01-09 00:00:00 check is False\n",
      "Processed and saved data for POLYCAB.\n"
     ]
    },
    {
     "name": "stderr",
     "output_type": "stream",
     "text": [
      "[*********************100%***********************]  1 of 1 completed\n"
     ]
    },
    {
     "name": "stdout",
     "output_type": "stream",
     "text": [
      "Reference Dates: (Timestamp('2020-01-10 00:00:00'), Timestamp('2025-01-09 00:00:00')) Current Date Range: 2020-01-10 00:00:00 to 2025-01-09 00:00:00 check is False\n",
      "Processed and saved data for POONAWALLA.\n"
     ]
    },
    {
     "name": "stderr",
     "output_type": "stream",
     "text": [
      "[*********************100%***********************]  1 of 1 completed\n"
     ]
    },
    {
     "name": "stdout",
     "output_type": "stream",
     "text": [
      "Reference Dates: (Timestamp('2020-01-10 00:00:00'), Timestamp('2025-01-09 00:00:00')) Current Date Range: 2020-01-10 00:00:00 to 2025-01-09 00:00:00 check is False\n",
      "Processed and saved data for PFC.\n"
     ]
    },
    {
     "name": "stderr",
     "output_type": "stream",
     "text": [
      "[*********************100%***********************]  1 of 1 completed\n"
     ]
    },
    {
     "name": "stdout",
     "output_type": "stream",
     "text": [
      "Reference Dates: (Timestamp('2020-01-10 00:00:00'), Timestamp('2025-01-09 00:00:00')) Current Date Range: 2020-01-10 00:00:00 to 2025-01-09 00:00:00 check is False\n",
      "Processed and saved data for POWERGRID.\n"
     ]
    },
    {
     "name": "stderr",
     "output_type": "stream",
     "text": [
      "[*********************100%***********************]  1 of 1 completed\n"
     ]
    },
    {
     "name": "stdout",
     "output_type": "stream",
     "text": [
      "Reference Dates: (Timestamp('2020-01-10 00:00:00'), Timestamp('2025-01-09 00:00:00')) Current Date Range: 2020-01-10 00:00:00 to 2025-01-09 00:00:00 check is False\n",
      "Processed and saved data for PRAJIND.\n"
     ]
    },
    {
     "name": "stderr",
     "output_type": "stream",
     "text": [
      "[*********************100%***********************]  1 of 1 completed\n"
     ]
    },
    {
     "name": "stdout",
     "output_type": "stream",
     "text": [
      "Reference Dates: (Timestamp('2020-01-10 00:00:00'), Timestamp('2025-01-09 00:00:00')) Current Date Range: 2020-01-10 00:00:00 to 2025-01-09 00:00:00 check is False\n",
      "Processed and saved data for PRESTIGE.\n"
     ]
    },
    {
     "name": "stderr",
     "output_type": "stream",
     "text": [
      "[*********************100%***********************]  1 of 1 completed\n"
     ]
    },
    {
     "name": "stdout",
     "output_type": "stream",
     "text": [
      "Reference Dates: (Timestamp('2020-01-10 00:00:00'), Timestamp('2025-01-09 00:00:00')) Current Date Range: 2020-01-10 00:00:00 to 2025-01-09 00:00:00 check is False\n",
      "Processed and saved data for PGHH.\n"
     ]
    },
    {
     "name": "stderr",
     "output_type": "stream",
     "text": [
      "[*********************100%***********************]  1 of 1 completed\n",
      "[*********************100%***********************]  1 of 1 completed\n"
     ]
    },
    {
     "name": "stdout",
     "output_type": "stream",
     "text": [
      "Reference Dates: (Timestamp('2020-01-10 00:00:00'), Timestamp('2025-01-09 00:00:00')) Current Date Range: 2020-01-10 00:00:00 to 2025-01-09 00:00:00 check is False\n",
      "Processed and saved data for PNB.\n",
      "Reference Dates: (Timestamp('2020-01-10 00:00:00'), Timestamp('2025-01-09 00:00:00')) Current Date Range: 2020-01-10 00:00:00 to 2025-01-09 00:00:00 check is False\n"
     ]
    },
    {
     "name": "stderr",
     "output_type": "stream",
     "text": [
      "[*********************100%***********************]  1 of 1 completed\n"
     ]
    },
    {
     "name": "stdout",
     "output_type": "stream",
     "text": [
      "Processed and saved data for QUESS.\n",
      "Reference Dates: (Timestamp('2020-01-10 00:00:00'), Timestamp('2025-01-09 00:00:00')) Current Date Range: 2023-09-15 00:00:00 to 2025-01-09 00:00:00 check is True\n",
      "Skipping...RRKABEL\n"
     ]
    },
    {
     "name": "stderr",
     "output_type": "stream",
     "text": [
      "[*********************100%***********************]  1 of 1 completed\n"
     ]
    },
    {
     "name": "stdout",
     "output_type": "stream",
     "text": [
      "Reference Dates: (Timestamp('2020-01-10 00:00:00'), Timestamp('2025-01-09 00:00:00')) Current Date Range: 2020-01-10 00:00:00 to 2025-01-09 00:00:00 check is False\n",
      "Processed and saved data for RBLBANK.\n"
     ]
    },
    {
     "name": "stderr",
     "output_type": "stream",
     "text": [
      "[*********************100%***********************]  1 of 1 completed\n"
     ]
    },
    {
     "name": "stdout",
     "output_type": "stream",
     "text": [
      "Reference Dates: (Timestamp('2020-01-10 00:00:00'), Timestamp('2025-01-09 00:00:00')) Current Date Range: 2020-01-10 00:00:00 to 2025-01-09 00:00:00 check is False\n",
      "Processed and saved data for RECLTD.\n"
     ]
    },
    {
     "name": "stderr",
     "output_type": "stream",
     "text": [
      "[*********************100%***********************]  1 of 1 completed\n"
     ]
    },
    {
     "name": "stdout",
     "output_type": "stream",
     "text": [
      "Reference Dates: (Timestamp('2020-01-10 00:00:00'), Timestamp('2025-01-09 00:00:00')) Current Date Range: 2020-01-10 00:00:00 to 2025-01-09 00:00:00 check is False\n",
      "Processed and saved data for RHIM.\n"
     ]
    },
    {
     "name": "stderr",
     "output_type": "stream",
     "text": [
      "[*********************100%***********************]  1 of 1 completed\n"
     ]
    },
    {
     "name": "stdout",
     "output_type": "stream",
     "text": [
      "Reference Dates: (Timestamp('2020-01-10 00:00:00'), Timestamp('2025-01-09 00:00:00')) Current Date Range: 2020-01-10 00:00:00 to 2025-01-09 00:00:00 check is False\n",
      "Processed and saved data for RITES.\n"
     ]
    },
    {
     "name": "stderr",
     "output_type": "stream",
     "text": [
      "[*********************100%***********************]  1 of 1 completed\n"
     ]
    },
    {
     "name": "stdout",
     "output_type": "stream",
     "text": [
      "Reference Dates: (Timestamp('2020-01-10 00:00:00'), Timestamp('2025-01-09 00:00:00')) Current Date Range: 2020-01-10 00:00:00 to 2025-01-09 00:00:00 check is False\n",
      "Processed and saved data for RADICO.\n"
     ]
    },
    {
     "name": "stderr",
     "output_type": "stream",
     "text": [
      "[*********************100%***********************]  1 of 1 completed\n"
     ]
    },
    {
     "name": "stdout",
     "output_type": "stream",
     "text": [
      "Reference Dates: (Timestamp('2020-01-10 00:00:00'), Timestamp('2025-01-09 00:00:00')) Current Date Range: 2020-01-10 00:00:00 to 2025-01-09 00:00:00 check is False\n",
      "Processed and saved data for RVNL.\n"
     ]
    },
    {
     "name": "stderr",
     "output_type": "stream",
     "text": [
      "[*********************100%***********************]  1 of 1 completed\n",
      "[*********************100%***********************]  1 of 1 completed\n"
     ]
    },
    {
     "name": "stdout",
     "output_type": "stream",
     "text": [
      "Reference Dates: (Timestamp('2020-01-10 00:00:00'), Timestamp('2025-01-09 00:00:00')) Current Date Range: 2021-02-26 00:00:00 to 2025-01-09 00:00:00 check is True\n",
      "Processed and saved data for RAILTEL.\n",
      "Reference Dates: (Timestamp('2020-01-10 00:00:00'), Timestamp('2025-01-09 00:00:00')) Current Date Range: 2022-05-10 00:00:00 to 2025-01-09 00:00:00 check is True\n",
      "Skipping...RAINBOW\n"
     ]
    },
    {
     "name": "stderr",
     "output_type": "stream",
     "text": [
      "[*********************100%***********************]  1 of 1 completed\n"
     ]
    },
    {
     "name": "stdout",
     "output_type": "stream",
     "text": [
      "Reference Dates: (Timestamp('2020-01-10 00:00:00'), Timestamp('2025-01-09 00:00:00')) Current Date Range: 2020-01-10 00:00:00 to 2025-01-09 00:00:00 check is False\n",
      "Processed and saved data for RAJESHEXPO.\n"
     ]
    },
    {
     "name": "stderr",
     "output_type": "stream",
     "text": [
      "[*********************100%***********************]  1 of 1 completed\n"
     ]
    },
    {
     "name": "stdout",
     "output_type": "stream",
     "text": [
      "Reference Dates: (Timestamp('2020-01-10 00:00:00'), Timestamp('2025-01-09 00:00:00')) Current Date Range: 2020-01-10 00:00:00 to 2025-01-09 00:00:00 check is False\n",
      "Processed and saved data for RKFORGE.\n"
     ]
    },
    {
     "name": "stderr",
     "output_type": "stream",
     "text": [
      "[*********************100%***********************]  1 of 1 completed\n"
     ]
    },
    {
     "name": "stdout",
     "output_type": "stream",
     "text": [
      "Reference Dates: (Timestamp('2020-01-10 00:00:00'), Timestamp('2025-01-09 00:00:00')) Current Date Range: 2020-01-10 00:00:00 to 2025-01-09 00:00:00 check is False\n",
      "Processed and saved data for RCF.\n"
     ]
    },
    {
     "name": "stderr",
     "output_type": "stream",
     "text": [
      "[*********************100%***********************]  1 of 1 completed\n"
     ]
    },
    {
     "name": "stdout",
     "output_type": "stream",
     "text": [
      "Reference Dates: (Timestamp('2020-01-10 00:00:00'), Timestamp('2025-01-09 00:00:00')) Current Date Range: 2020-01-10 00:00:00 to 2025-01-09 00:00:00 check is False\n",
      "Processed and saved data for RATNAMANI.\n"
     ]
    },
    {
     "name": "stderr",
     "output_type": "stream",
     "text": [
      "[*********************100%***********************]  1 of 1 completed\n"
     ]
    },
    {
     "name": "stdout",
     "output_type": "stream",
     "text": [
      "Reference Dates: (Timestamp('2020-01-10 00:00:00'), Timestamp('2025-01-09 00:00:00')) Current Date Range: 2020-01-10 00:00:00 to 2025-01-09 00:00:00 check is False\n",
      "Processed and saved data for RTNINDIA.\n"
     ]
    },
    {
     "name": "stderr",
     "output_type": "stream",
     "text": [
      "[*********************100%***********************]  1 of 1 completed\n"
     ]
    },
    {
     "name": "stdout",
     "output_type": "stream",
     "text": [
      "Reference Dates: (Timestamp('2020-01-10 00:00:00'), Timestamp('2025-01-09 00:00:00')) Current Date Range: 2020-01-10 00:00:00 to 2025-01-09 00:00:00 check is False\n",
      "Processed and saved data for RAYMOND.\n"
     ]
    },
    {
     "name": "stderr",
     "output_type": "stream",
     "text": [
      "[*********************100%***********************]  1 of 1 completed\n"
     ]
    },
    {
     "name": "stdout",
     "output_type": "stream",
     "text": [
      "Reference Dates: (Timestamp('2020-01-10 00:00:00'), Timestamp('2025-01-09 00:00:00')) Current Date Range: 2020-01-10 00:00:00 to 2025-01-09 00:00:00 check is False\n",
      "Processed and saved data for REDINGTON.\n"
     ]
    },
    {
     "name": "stderr",
     "output_type": "stream",
     "text": [
      "[*********************100%***********************]  1 of 1 completed\n"
     ]
    },
    {
     "name": "stdout",
     "output_type": "stream",
     "text": [
      "Reference Dates: (Timestamp('2020-01-10 00:00:00'), Timestamp('2025-01-09 00:00:00')) Current Date Range: 2020-01-10 00:00:00 to 2025-01-09 00:00:00 check is False\n",
      "Processed and saved data for RELIANCE.\n"
     ]
    },
    {
     "name": "stderr",
     "output_type": "stream",
     "text": [
      "[*********************100%***********************]  1 of 1 completed\n",
      "[*********************100%***********************]  1 of 1 completed\n"
     ]
    },
    {
     "name": "stdout",
     "output_type": "stream",
     "text": [
      "Reference Dates: (Timestamp('2020-01-10 00:00:00'), Timestamp('2025-01-09 00:00:00')) Current Date Range: 2020-09-21 00:00:00 to 2025-01-09 00:00:00 check is True\n",
      "Processed and saved data for ROUTE.\n",
      "Reference Dates: (Timestamp('2020-01-10 00:00:00'), Timestamp('2025-01-09 00:00:00')) Current Date Range: 2023-08-16 00:00:00 to 2025-01-09 00:00:00 check is True\n",
      "Skipping...SBFC\n"
     ]
    },
    {
     "name": "stderr",
     "output_type": "stream",
     "text": [
      "[*********************100%***********************]  1 of 1 completed\n"
     ]
    },
    {
     "name": "stdout",
     "output_type": "stream",
     "text": [
      "Reference Dates: (Timestamp('2020-01-10 00:00:00'), Timestamp('2025-01-09 00:00:00')) Current Date Range: 2020-03-16 00:00:00 to 2025-01-09 00:00:00 check is True\n",
      "Processed and saved data for SBICARD.\n"
     ]
    },
    {
     "name": "stderr",
     "output_type": "stream",
     "text": [
      "[*********************100%***********************]  1 of 1 completed\n"
     ]
    },
    {
     "name": "stdout",
     "output_type": "stream",
     "text": [
      "Reference Dates: (Timestamp('2020-01-10 00:00:00'), Timestamp('2025-01-09 00:00:00')) Current Date Range: 2020-01-10 00:00:00 to 2025-01-09 00:00:00 check is False\n",
      "Processed and saved data for SBILIFE.\n"
     ]
    },
    {
     "name": "stderr",
     "output_type": "stream",
     "text": [
      "[*********************100%***********************]  1 of 1 completed\n"
     ]
    },
    {
     "name": "stdout",
     "output_type": "stream",
     "text": [
      "Reference Dates: (Timestamp('2020-01-10 00:00:00'), Timestamp('2025-01-09 00:00:00')) Current Date Range: 2020-01-10 00:00:00 to 2025-01-09 00:00:00 check is False\n",
      "Processed and saved data for SJVN.\n"
     ]
    },
    {
     "name": "stderr",
     "output_type": "stream",
     "text": [
      "[*********************100%***********************]  1 of 1 completed\n"
     ]
    },
    {
     "name": "stdout",
     "output_type": "stream",
     "text": [
      "Reference Dates: (Timestamp('2020-01-10 00:00:00'), Timestamp('2025-01-09 00:00:00')) Current Date Range: 2020-01-10 00:00:00 to 2025-01-09 00:00:00 check is False\n",
      "Processed and saved data for SKFINDIA.\n"
     ]
    },
    {
     "name": "stderr",
     "output_type": "stream",
     "text": [
      "[*********************100%***********************]  1 of 1 completed\n"
     ]
    },
    {
     "name": "stdout",
     "output_type": "stream",
     "text": [
      "Reference Dates: (Timestamp('2020-01-10 00:00:00'), Timestamp('2025-01-09 00:00:00')) Current Date Range: 2020-01-10 00:00:00 to 2025-01-09 00:00:00 check is False\n",
      "Processed and saved data for SRF.\n"
     ]
    },
    {
     "name": "stderr",
     "output_type": "stream",
     "text": [
      "[*********************100%***********************]  1 of 1 completed\n"
     ]
    },
    {
     "name": "stdout",
     "output_type": "stream",
     "text": [
      "Reference Dates: (Timestamp('2020-01-10 00:00:00'), Timestamp('2025-01-09 00:00:00')) Current Date Range: 2020-01-10 00:00:00 to 2025-01-09 00:00:00 check is False\n",
      "Processed and saved data for SAMMAANCAP.\n"
     ]
    },
    {
     "name": "stderr",
     "output_type": "stream",
     "text": [
      "[*********************100%***********************]  1 of 1 completed\n"
     ]
    },
    {
     "name": "stdout",
     "output_type": "stream",
     "text": [
      "Reference Dates: (Timestamp('2020-01-10 00:00:00'), Timestamp('2025-01-09 00:00:00')) Current Date Range: 2020-01-10 00:00:00 to 2025-01-09 00:00:00 check is False\n",
      "Processed and saved data for MOTHERSON.\n"
     ]
    },
    {
     "name": "stderr",
     "output_type": "stream",
     "text": [
      "[*********************100%***********************]  1 of 1 completed\n"
     ]
    },
    {
     "name": "stdout",
     "output_type": "stream",
     "text": [
      "Reference Dates: (Timestamp('2020-01-10 00:00:00'), Timestamp('2025-01-09 00:00:00')) Current Date Range: 2020-01-10 00:00:00 to 2025-01-09 00:00:00 check is False\n",
      "Processed and saved data for SANOFI.\n"
     ]
    },
    {
     "name": "stderr",
     "output_type": "stream",
     "text": [
      "[*********************100%***********************]  1 of 1 completed\n"
     ]
    },
    {
     "name": "stdout",
     "output_type": "stream",
     "text": [
      "Reference Dates: (Timestamp('2020-01-10 00:00:00'), Timestamp('2025-01-09 00:00:00')) Current Date Range: 2021-11-18 00:00:00 to 2025-01-09 00:00:00 check is True\n",
      "Processed and saved data for SAPPHIRE.\n"
     ]
    },
    {
     "name": "stderr",
     "output_type": "stream",
     "text": [
      "[*********************100%***********************]  1 of 1 completed\n"
     ]
    },
    {
     "name": "stdout",
     "output_type": "stream",
     "text": [
      "Reference Dates: (Timestamp('2020-01-10 00:00:00'), Timestamp('2025-01-09 00:00:00')) Current Date Range: 2020-01-10 00:00:00 to 2025-01-09 00:00:00 check is False\n",
      "Processed and saved data for SAREGAMA.\n"
     ]
    },
    {
     "name": "stderr",
     "output_type": "stream",
     "text": [
      "[*********************100%***********************]  1 of 1 completed\n"
     ]
    },
    {
     "name": "stdout",
     "output_type": "stream",
     "text": [
      "Reference Dates: (Timestamp('2020-01-10 00:00:00'), Timestamp('2025-01-09 00:00:00')) Current Date Range: 2020-01-10 00:00:00 to 2025-01-09 00:00:00 check is False\n",
      "Processed and saved data for SCHAEFFLER.\n"
     ]
    },
    {
     "name": "stderr",
     "output_type": "stream",
     "text": [
      "[*********************100%***********************]  1 of 1 completed\n"
     ]
    },
    {
     "name": "stdout",
     "output_type": "stream",
     "text": [
      "Reference Dates: (Timestamp('2020-01-10 00:00:00'), Timestamp('2025-01-09 00:00:00')) Current Date Range: 2020-01-10 00:00:00 to 2025-01-09 00:00:00 check is False\n",
      "Processed and saved data for SCHNEIDER.\n"
     ]
    },
    {
     "name": "stderr",
     "output_type": "stream",
     "text": [
      "[*********************100%***********************]  1 of 1 completed\n"
     ]
    },
    {
     "name": "stdout",
     "output_type": "stream",
     "text": [
      "Reference Dates: (Timestamp('2020-01-10 00:00:00'), Timestamp('2025-01-09 00:00:00')) Current Date Range: 2020-01-10 00:00:00 to 2025-01-09 00:00:00 check is False\n",
      "Processed and saved data for SCI.\n"
     ]
    },
    {
     "name": "stderr",
     "output_type": "stream",
     "text": [
      "[*********************100%***********************]  1 of 1 completed\n"
     ]
    },
    {
     "name": "stdout",
     "output_type": "stream",
     "text": [
      "Reference Dates: (Timestamp('2020-01-10 00:00:00'), Timestamp('2025-01-09 00:00:00')) Current Date Range: 2020-01-10 00:00:00 to 2025-01-09 00:00:00 check is False\n",
      "Processed and saved data for SHREECEM.\n"
     ]
    },
    {
     "name": "stderr",
     "output_type": "stream",
     "text": [
      "[*********************100%***********************]  1 of 1 completed\n"
     ]
    },
    {
     "name": "stdout",
     "output_type": "stream",
     "text": [
      "Reference Dates: (Timestamp('2020-01-10 00:00:00'), Timestamp('2025-01-09 00:00:00')) Current Date Range: 2020-01-10 00:00:00 to 2025-01-09 00:00:00 check is False\n",
      "Processed and saved data for RENUKA.\n"
     ]
    },
    {
     "name": "stderr",
     "output_type": "stream",
     "text": [
      "[*********************100%***********************]  1 of 1 completed\n"
     ]
    },
    {
     "name": "stdout",
     "output_type": "stream",
     "text": [
      "Reference Dates: (Timestamp('2020-01-10 00:00:00'), Timestamp('2025-01-09 00:00:00')) Current Date Range: 2020-01-10 00:00:00 to 2025-01-09 00:00:00 check is False\n",
      "Processed and saved data for SHRIRAMFIN.\n"
     ]
    },
    {
     "name": "stderr",
     "output_type": "stream",
     "text": [
      "[*********************100%***********************]  1 of 1 completed\n"
     ]
    },
    {
     "name": "stdout",
     "output_type": "stream",
     "text": [
      "Reference Dates: (Timestamp('2020-01-10 00:00:00'), Timestamp('2025-01-09 00:00:00')) Current Date Range: 2021-06-24 00:00:00 to 2025-01-09 00:00:00 check is True\n",
      "Processed and saved data for SHYAMMETL.\n"
     ]
    },
    {
     "name": "stderr",
     "output_type": "stream",
     "text": [
      "[*********************100%***********************]  1 of 1 completed\n",
      "[*********************100%***********************]  1 of 1 completed\n"
     ]
    },
    {
     "name": "stdout",
     "output_type": "stream",
     "text": [
      "Reference Dates: (Timestamp('2020-01-10 00:00:00'), Timestamp('2025-01-09 00:00:00')) Current Date Range: 2020-01-10 00:00:00 to 2025-01-09 00:00:00 check is False\n",
      "Processed and saved data for SIEMENS.\n",
      "Reference Dates: (Timestamp('2020-01-10 00:00:00'), Timestamp('2025-01-09 00:00:00')) Current Date Range: 2023-09-27 00:00:00 to 2025-01-09 00:00:00 check is True\n",
      "Skipping...SIGNATURE\n"
     ]
    },
    {
     "name": "stderr",
     "output_type": "stream",
     "text": [
      "[*********************100%***********************]  1 of 1 completed\n"
     ]
    },
    {
     "name": "stdout",
     "output_type": "stream",
     "text": [
      "Reference Dates: (Timestamp('2020-01-10 00:00:00'), Timestamp('2025-01-09 00:00:00')) Current Date Range: 2020-01-10 00:00:00 to 2025-01-09 00:00:00 check is False\n",
      "Processed and saved data for SOBHA.\n"
     ]
    },
    {
     "name": "stderr",
     "output_type": "stream",
     "text": [
      "[*********************100%***********************]  1 of 1 completed\n"
     ]
    },
    {
     "name": "stdout",
     "output_type": "stream",
     "text": [
      "Reference Dates: (Timestamp('2020-01-10 00:00:00'), Timestamp('2025-01-09 00:00:00')) Current Date Range: 2020-01-10 00:00:00 to 2025-01-09 00:00:00 check is False\n",
      "Processed and saved data for SOLARINDS.\n"
     ]
    },
    {
     "name": "stderr",
     "output_type": "stream",
     "text": [
      "[*********************100%***********************]  1 of 1 completed\n"
     ]
    },
    {
     "name": "stdout",
     "output_type": "stream",
     "text": [
      "Reference Dates: (Timestamp('2020-01-10 00:00:00'), Timestamp('2025-01-09 00:00:00')) Current Date Range: 2021-06-24 00:00:00 to 2025-01-09 00:00:00 check is True\n",
      "Processed and saved data for SONACOMS.\n"
     ]
    },
    {
     "name": "stderr",
     "output_type": "stream",
     "text": [
      "[*********************100%***********************]  1 of 1 completed\n"
     ]
    },
    {
     "name": "stdout",
     "output_type": "stream",
     "text": [
      "Reference Dates: (Timestamp('2020-01-10 00:00:00'), Timestamp('2025-01-09 00:00:00')) Current Date Range: 2020-01-10 00:00:00 to 2025-01-09 00:00:00 check is False\n",
      "Processed and saved data for SONATSOFTW.\n"
     ]
    },
    {
     "name": "stderr",
     "output_type": "stream",
     "text": [
      "[*********************100%***********************]  1 of 1 completed\n"
     ]
    },
    {
     "name": "stdout",
     "output_type": "stream",
     "text": [
      "Reference Dates: (Timestamp('2020-01-10 00:00:00'), Timestamp('2025-01-09 00:00:00')) Current Date Range: 2021-12-10 00:00:00 to 2025-01-09 00:00:00 check is True\n",
      "Processed and saved data for STARHEALTH.\n"
     ]
    },
    {
     "name": "stderr",
     "output_type": "stream",
     "text": [
      "[*********************100%***********************]  1 of 1 completed\n"
     ]
    },
    {
     "name": "stdout",
     "output_type": "stream",
     "text": [
      "Reference Dates: (Timestamp('2020-01-10 00:00:00'), Timestamp('2025-01-09 00:00:00')) Current Date Range: 2020-01-10 00:00:00 to 2025-01-09 00:00:00 check is False\n",
      "Processed and saved data for SBIN.\n"
     ]
    },
    {
     "name": "stderr",
     "output_type": "stream",
     "text": [
      "[*********************100%***********************]  1 of 1 completed\n"
     ]
    },
    {
     "name": "stdout",
     "output_type": "stream",
     "text": [
      "Reference Dates: (Timestamp('2020-01-10 00:00:00'), Timestamp('2025-01-09 00:00:00')) Current Date Range: 2020-01-10 00:00:00 to 2025-01-09 00:00:00 check is False\n",
      "Processed and saved data for SAIL.\n"
     ]
    },
    {
     "name": "stderr",
     "output_type": "stream",
     "text": [
      "[*********************100%***********************]  1 of 1 completed\n"
     ]
    },
    {
     "name": "stdout",
     "output_type": "stream",
     "text": [
      "Reference Dates: (Timestamp('2020-01-10 00:00:00'), Timestamp('2025-01-09 00:00:00')) Current Date Range: 2020-01-10 00:00:00 to 2025-01-09 00:00:00 check is False\n",
      "Processed and saved data for SWSOLAR.\n"
     ]
    },
    {
     "name": "stderr",
     "output_type": "stream",
     "text": [
      "[*********************100%***********************]  1 of 1 completed\n"
     ]
    },
    {
     "name": "stdout",
     "output_type": "stream",
     "text": [
      "Reference Dates: (Timestamp('2020-01-10 00:00:00'), Timestamp('2025-01-09 00:00:00')) Current Date Range: 2020-01-27 00:00:00 to 2025-01-09 00:00:00 check is True\n",
      "Processed and saved data for SUMICHEM.\n"
     ]
    },
    {
     "name": "stderr",
     "output_type": "stream",
     "text": [
      "[*********************100%***********************]  1 of 1 completed\n"
     ]
    },
    {
     "name": "stdout",
     "output_type": "stream",
     "text": [
      "Reference Dates: (Timestamp('2020-01-10 00:00:00'), Timestamp('2025-01-09 00:00:00')) Current Date Range: 2020-01-10 00:00:00 to 2025-01-09 00:00:00 check is False\n",
      "Processed and saved data for SPARC.\n"
     ]
    },
    {
     "name": "stderr",
     "output_type": "stream",
     "text": [
      "[*********************100%***********************]  1 of 1 completed\n"
     ]
    },
    {
     "name": "stdout",
     "output_type": "stream",
     "text": [
      "Reference Dates: (Timestamp('2020-01-10 00:00:00'), Timestamp('2025-01-09 00:00:00')) Current Date Range: 2020-01-10 00:00:00 to 2025-01-09 00:00:00 check is False\n",
      "Processed and saved data for SUNPHARMA.\n"
     ]
    },
    {
     "name": "stderr",
     "output_type": "stream",
     "text": [
      "[*********************100%***********************]  1 of 1 completed\n"
     ]
    },
    {
     "name": "stdout",
     "output_type": "stream",
     "text": [
      "Reference Dates: (Timestamp('2020-01-10 00:00:00'), Timestamp('2025-01-09 00:00:00')) Current Date Range: 2020-01-10 00:00:00 to 2025-01-09 00:00:00 check is False\n",
      "Processed and saved data for SUNTV.\n"
     ]
    },
    {
     "name": "stderr",
     "output_type": "stream",
     "text": [
      "[*********************100%***********************]  1 of 1 completed\n"
     ]
    },
    {
     "name": "stdout",
     "output_type": "stream",
     "text": [
      "Reference Dates: (Timestamp('2020-01-10 00:00:00'), Timestamp('2025-01-09 00:00:00')) Current Date Range: 2020-01-10 00:00:00 to 2025-01-09 00:00:00 check is False\n",
      "Processed and saved data for SUNDARMFIN.\n"
     ]
    },
    {
     "name": "stderr",
     "output_type": "stream",
     "text": [
      "[*********************100%***********************]  1 of 1 completed\n"
     ]
    },
    {
     "name": "stdout",
     "output_type": "stream",
     "text": [
      "Reference Dates: (Timestamp('2020-01-10 00:00:00'), Timestamp('2025-01-09 00:00:00')) Current Date Range: 2020-01-10 00:00:00 to 2025-01-09 00:00:00 check is False\n",
      "Processed and saved data for SUNDRMFAST.\n"
     ]
    },
    {
     "name": "stderr",
     "output_type": "stream",
     "text": [
      "[*********************100%***********************]  1 of 1 completed\n"
     ]
    },
    {
     "name": "stdout",
     "output_type": "stream",
     "text": [
      "Reference Dates: (Timestamp('2020-01-10 00:00:00'), Timestamp('2025-01-09 00:00:00')) Current Date Range: 2020-01-10 00:00:00 to 2025-01-09 00:00:00 check is False\n",
      "Processed and saved data for SUPREMEIND.\n"
     ]
    },
    {
     "name": "stderr",
     "output_type": "stream",
     "text": [
      "[*********************100%***********************]  1 of 1 completed\n"
     ]
    },
    {
     "name": "stdout",
     "output_type": "stream",
     "text": [
      "Reference Dates: (Timestamp('2020-01-10 00:00:00'), Timestamp('2025-01-09 00:00:00')) Current Date Range: 2020-03-09 00:00:00 to 2025-01-09 00:00:00 check is True\n",
      "Processed and saved data for SUVENPHAR.\n"
     ]
    },
    {
     "name": "stderr",
     "output_type": "stream",
     "text": [
      "[*********************100%***********************]  1 of 1 completed\n"
     ]
    },
    {
     "name": "stdout",
     "output_type": "stream",
     "text": [
      "Reference Dates: (Timestamp('2020-01-10 00:00:00'), Timestamp('2025-01-09 00:00:00')) Current Date Range: 2020-01-10 00:00:00 to 2025-01-09 00:00:00 check is False\n",
      "Processed and saved data for SUZLON.\n"
     ]
    },
    {
     "name": "stderr",
     "output_type": "stream",
     "text": [
      "[*********************100%***********************]  1 of 1 completed\n"
     ]
    },
    {
     "name": "stdout",
     "output_type": "stream",
     "text": [
      "Reference Dates: (Timestamp('2020-01-10 00:00:00'), Timestamp('2025-01-09 00:00:00')) Current Date Range: 2020-01-10 00:00:00 to 2025-01-09 00:00:00 check is False\n",
      "Processed and saved data for SWANENERGY.\n"
     ]
    },
    {
     "name": "stderr",
     "output_type": "stream",
     "text": [
      "[*********************100%***********************]  1 of 1 completed\n"
     ]
    },
    {
     "name": "stdout",
     "output_type": "stream",
     "text": [
      "Reference Dates: (Timestamp('2020-01-10 00:00:00'), Timestamp('2025-01-09 00:00:00')) Current Date Range: 2020-01-10 00:00:00 to 2025-01-09 00:00:00 check is False\n",
      "Processed and saved data for SYNGENE.\n"
     ]
    },
    {
     "name": "stderr",
     "output_type": "stream",
     "text": [
      "[*********************100%***********************]  1 of 1 completed\n",
      "[*********************100%***********************]  1 of 1 completed\n"
     ]
    },
    {
     "name": "stdout",
     "output_type": "stream",
     "text": [
      "Reference Dates: (Timestamp('2020-01-10 00:00:00'), Timestamp('2025-01-09 00:00:00')) Current Date Range: 2022-08-26 00:00:00 to 2025-01-09 00:00:00 check is True\n",
      "Skipping...SYRMA\n",
      "Reference Dates: (Timestamp('2020-01-10 00:00:00'), Timestamp('2025-01-09 00:00:00')) Current Date Range: 2024-05-15 00:00:00 to 2025-01-09 00:00:00 check is True\n",
      "Skipping...TBOTEK\n"
     ]
    },
    {
     "name": "stderr",
     "output_type": "stream",
     "text": [
      "[*********************100%***********************]  1 of 1 completed\n"
     ]
    },
    {
     "name": "stdout",
     "output_type": "stream",
     "text": [
      "Reference Dates: (Timestamp('2020-01-10 00:00:00'), Timestamp('2025-01-09 00:00:00')) Current Date Range: 2020-01-10 00:00:00 to 2025-01-09 00:00:00 check is False\n",
      "Processed and saved data for TVSMOTOR.\n"
     ]
    },
    {
     "name": "stderr",
     "output_type": "stream",
     "text": [
      "[*********************100%***********************]  1 of 1 completed\n"
     ]
    },
    {
     "name": "stdout",
     "output_type": "stream",
     "text": [
      "Reference Dates: (Timestamp('2020-01-10 00:00:00'), Timestamp('2025-01-09 00:00:00')) Current Date Range: 2023-08-23 00:00:00 to 2025-01-09 00:00:00 check is True\n",
      "Skipping...TVSSCS\n"
     ]
    },
    {
     "name": "stderr",
     "output_type": "stream",
     "text": [
      "[*********************100%***********************]  1 of 1 completed\n"
     ]
    },
    {
     "name": "stdout",
     "output_type": "stream",
     "text": [
      "Reference Dates: (Timestamp('2020-01-10 00:00:00'), Timestamp('2025-01-09 00:00:00')) Current Date Range: 2020-01-10 00:00:00 to 2025-01-09 00:00:00 check is False\n",
      "Processed and saved data for TANLA.\n"
     ]
    },
    {
     "name": "stderr",
     "output_type": "stream",
     "text": [
      "[*********************100%***********************]  1 of 1 completed\n"
     ]
    },
    {
     "name": "stdout",
     "output_type": "stream",
     "text": [
      "Reference Dates: (Timestamp('2020-01-10 00:00:00'), Timestamp('2025-01-09 00:00:00')) Current Date Range: 2020-01-10 00:00:00 to 2025-01-09 00:00:00 check is False\n",
      "Processed and saved data for TATACHEM.\n"
     ]
    },
    {
     "name": "stderr",
     "output_type": "stream",
     "text": [
      "[*********************100%***********************]  1 of 1 completed\n"
     ]
    },
    {
     "name": "stdout",
     "output_type": "stream",
     "text": [
      "Reference Dates: (Timestamp('2020-01-10 00:00:00'), Timestamp('2025-01-09 00:00:00')) Current Date Range: 2020-01-10 00:00:00 to 2025-01-09 00:00:00 check is False\n",
      "Processed and saved data for TATACOMM.\n"
     ]
    },
    {
     "name": "stderr",
     "output_type": "stream",
     "text": [
      "[*********************100%***********************]  1 of 1 completed\n"
     ]
    },
    {
     "name": "stdout",
     "output_type": "stream",
     "text": [
      "Reference Dates: (Timestamp('2020-01-10 00:00:00'), Timestamp('2025-01-09 00:00:00')) Current Date Range: 2020-01-10 00:00:00 to 2025-01-09 00:00:00 check is False\n",
      "Processed and saved data for TCS.\n"
     ]
    },
    {
     "name": "stderr",
     "output_type": "stream",
     "text": [
      "[*********************100%***********************]  1 of 1 completed\n"
     ]
    },
    {
     "name": "stdout",
     "output_type": "stream",
     "text": [
      "Reference Dates: (Timestamp('2020-01-10 00:00:00'), Timestamp('2025-01-09 00:00:00')) Current Date Range: 2020-01-10 00:00:00 to 2025-01-09 00:00:00 check is False\n",
      "Processed and saved data for TATACONSUM.\n"
     ]
    },
    {
     "name": "stderr",
     "output_type": "stream",
     "text": [
      "[*********************100%***********************]  1 of 1 completed\n"
     ]
    },
    {
     "name": "stdout",
     "output_type": "stream",
     "text": [
      "Reference Dates: (Timestamp('2020-01-10 00:00:00'), Timestamp('2025-01-09 00:00:00')) Current Date Range: 2020-01-10 00:00:00 to 2025-01-09 00:00:00 check is False\n",
      "Processed and saved data for TATAELXSI.\n"
     ]
    },
    {
     "name": "stderr",
     "output_type": "stream",
     "text": [
      "[*********************100%***********************]  1 of 1 completed\n"
     ]
    },
    {
     "name": "stdout",
     "output_type": "stream",
     "text": [
      "Reference Dates: (Timestamp('2020-01-10 00:00:00'), Timestamp('2025-01-09 00:00:00')) Current Date Range: 2020-01-10 00:00:00 to 2025-01-09 00:00:00 check is False\n",
      "Processed and saved data for TATAINVEST.\n"
     ]
    },
    {
     "name": "stderr",
     "output_type": "stream",
     "text": [
      "[*********************100%***********************]  1 of 1 completed\n"
     ]
    },
    {
     "name": "stdout",
     "output_type": "stream",
     "text": [
      "Reference Dates: (Timestamp('2020-01-10 00:00:00'), Timestamp('2025-01-09 00:00:00')) Current Date Range: 2020-01-10 00:00:00 to 2025-01-09 00:00:00 check is False\n",
      "Processed and saved data for TATAMOTORS.\n"
     ]
    },
    {
     "name": "stderr",
     "output_type": "stream",
     "text": [
      "[*********************100%***********************]  1 of 1 completed\n"
     ]
    },
    {
     "name": "stdout",
     "output_type": "stream",
     "text": [
      "Reference Dates: (Timestamp('2020-01-10 00:00:00'), Timestamp('2025-01-09 00:00:00')) Current Date Range: 2020-01-10 00:00:00 to 2025-01-09 00:00:00 check is False\n",
      "Processed and saved data for TATAPOWER.\n"
     ]
    },
    {
     "name": "stderr",
     "output_type": "stream",
     "text": [
      "[*********************100%***********************]  1 of 1 completed\n",
      "[*********************100%***********************]  1 of 1 completed\n"
     ]
    },
    {
     "name": "stdout",
     "output_type": "stream",
     "text": [
      "Reference Dates: (Timestamp('2020-01-10 00:00:00'), Timestamp('2025-01-09 00:00:00')) Current Date Range: 2020-01-10 00:00:00 to 2025-01-09 00:00:00 check is False\n",
      "Processed and saved data for TATASTEEL.\n",
      "Reference Dates: (Timestamp('2020-01-10 00:00:00'), Timestamp('2025-01-09 00:00:00')) Current Date Range: 2023-11-30 00:00:00 to 2025-01-09 00:00:00 check is True\n",
      "Skipping...TATATECH\n"
     ]
    },
    {
     "name": "stderr",
     "output_type": "stream",
     "text": [
      "[*********************100%***********************]  1 of 1 completed\n"
     ]
    },
    {
     "name": "stdout",
     "output_type": "stream",
     "text": [
      "Reference Dates: (Timestamp('2020-01-10 00:00:00'), Timestamp('2025-01-09 00:00:00')) Current Date Range: 2020-01-10 00:00:00 to 2025-01-09 00:00:00 check is False\n",
      "Processed and saved data for TTML.\n"
     ]
    },
    {
     "name": "stderr",
     "output_type": "stream",
     "text": [
      "[*********************100%***********************]  1 of 1 completed\n"
     ]
    },
    {
     "name": "stdout",
     "output_type": "stream",
     "text": [
      "Reference Dates: (Timestamp('2020-01-10 00:00:00'), Timestamp('2025-01-09 00:00:00')) Current Date Range: 2020-01-10 00:00:00 to 2025-01-09 00:00:00 check is False\n",
      "Processed and saved data for TECHM.\n"
     ]
    },
    {
     "name": "stderr",
     "output_type": "stream",
     "text": [
      "[*********************100%***********************]  1 of 1 completed\n",
      "[*********************100%***********************]  1 of 1 completed\n"
     ]
    },
    {
     "name": "stdout",
     "output_type": "stream",
     "text": [
      "Reference Dates: (Timestamp('2020-01-10 00:00:00'), Timestamp('2025-01-09 00:00:00')) Current Date Range: 2020-01-10 00:00:00 to 2025-01-09 00:00:00 check is False\n",
      "Processed and saved data for TECHNOE.\n",
      "Reference Dates: (Timestamp('2020-01-10 00:00:00'), Timestamp('2025-01-09 00:00:00')) Current Date Range: 2020-01-10 00:00:00 to 2025-01-09 00:00:00 check is False\n"
     ]
    },
    {
     "name": "stderr",
     "output_type": "stream",
     "text": [
      "[*********************100%***********************]  1 of 1 completed"
     ]
    },
    {
     "name": "stdout",
     "output_type": "stream",
     "text": [
      "Processed and saved data for TEJASNET.\n",
      "Reference Dates: (Timestamp('2020-01-10 00:00:00'), Timestamp('2025-01-09 00:00:00')) Current Date Range: 2020-01-10 00:00:00 to 2025-01-09 00:00:00 check is False\n"
     ]
    },
    {
     "name": "stderr",
     "output_type": "stream",
     "text": [
      "\n"
     ]
    },
    {
     "name": "stdout",
     "output_type": "stream",
     "text": [
      "Processed and saved data for NIACL.\n"
     ]
    },
    {
     "name": "stderr",
     "output_type": "stream",
     "text": [
      "[*********************100%***********************]  1 of 1 completed\n"
     ]
    },
    {
     "name": "stdout",
     "output_type": "stream",
     "text": [
      "Reference Dates: (Timestamp('2020-01-10 00:00:00'), Timestamp('2025-01-09 00:00:00')) Current Date Range: 2020-01-10 00:00:00 to 2025-01-09 00:00:00 check is False\n",
      "Processed and saved data for RAMCOCEM.\n"
     ]
    },
    {
     "name": "stderr",
     "output_type": "stream",
     "text": [
      "[*********************100%***********************]  1 of 1 completed\n"
     ]
    },
    {
     "name": "stdout",
     "output_type": "stream",
     "text": [
      "Reference Dates: (Timestamp('2020-01-10 00:00:00'), Timestamp('2025-01-09 00:00:00')) Current Date Range: 2020-01-10 00:00:00 to 2025-01-09 00:00:00 check is False\n",
      "Processed and saved data for THERMAX.\n"
     ]
    },
    {
     "name": "stderr",
     "output_type": "stream",
     "text": [
      "[*********************100%***********************]  1 of 1 completed\n"
     ]
    },
    {
     "name": "stdout",
     "output_type": "stream",
     "text": [
      "Reference Dates: (Timestamp('2020-01-10 00:00:00'), Timestamp('2025-01-09 00:00:00')) Current Date Range: 2020-01-10 00:00:00 to 2025-01-09 00:00:00 check is False\n",
      "Processed and saved data for TIMKEN.\n"
     ]
    },
    {
     "name": "stderr",
     "output_type": "stream",
     "text": [
      "[*********************100%***********************]  1 of 1 completed\n"
     ]
    },
    {
     "name": "stdout",
     "output_type": "stream",
     "text": [
      "Reference Dates: (Timestamp('2020-01-10 00:00:00'), Timestamp('2025-01-09 00:00:00')) Current Date Range: 2020-01-10 00:00:00 to 2025-01-09 00:00:00 check is False\n",
      "Processed and saved data for TITAGARH.\n"
     ]
    },
    {
     "name": "stderr",
     "output_type": "stream",
     "text": [
      "[*********************100%***********************]  1 of 1 completed\n"
     ]
    },
    {
     "name": "stdout",
     "output_type": "stream",
     "text": [
      "Reference Dates: (Timestamp('2020-01-10 00:00:00'), Timestamp('2025-01-09 00:00:00')) Current Date Range: 2020-01-10 00:00:00 to 2025-01-09 00:00:00 check is False\n",
      "Processed and saved data for TITAN.\n"
     ]
    },
    {
     "name": "stderr",
     "output_type": "stream",
     "text": [
      "[*********************100%***********************]  1 of 1 completed\n"
     ]
    },
    {
     "name": "stdout",
     "output_type": "stream",
     "text": [
      "Reference Dates: (Timestamp('2020-01-10 00:00:00'), Timestamp('2025-01-09 00:00:00')) Current Date Range: 2020-01-10 00:00:00 to 2025-01-09 00:00:00 check is False\n",
      "Processed and saved data for TORNTPHARM.\n"
     ]
    },
    {
     "name": "stderr",
     "output_type": "stream",
     "text": [
      "[*********************100%***********************]  1 of 1 completed\n"
     ]
    },
    {
     "name": "stdout",
     "output_type": "stream",
     "text": [
      "Reference Dates: (Timestamp('2020-01-10 00:00:00'), Timestamp('2025-01-09 00:00:00')) Current Date Range: 2020-01-10 00:00:00 to 2025-01-09 00:00:00 check is False\n",
      "Processed and saved data for TORNTPOWER.\n"
     ]
    },
    {
     "name": "stderr",
     "output_type": "stream",
     "text": [
      "[*********************100%***********************]  1 of 1 completed\n",
      "[*********************100%***********************]  1 of 1 completed\n"
     ]
    },
    {
     "name": "stdout",
     "output_type": "stream",
     "text": [
      "Reference Dates: (Timestamp('2020-01-10 00:00:00'), Timestamp('2025-01-09 00:00:00')) Current Date Range: 2020-01-10 00:00:00 to 2025-01-09 00:00:00 check is False\n",
      "Processed and saved data for TRENT.\n",
      "Reference Dates: (Timestamp('2020-01-10 00:00:00'), Timestamp('2025-01-09 00:00:00')) Current Date Range: 2020-01-10 00:00:00 to 2025-01-09 00:00:00 check is False\n",
      "Processed and saved data for TRIDENT.\n"
     ]
    },
    {
     "name": "stderr",
     "output_type": "stream",
     "text": [
      "[*********************100%***********************]  1 of 1 completed\n"
     ]
    },
    {
     "name": "stdout",
     "output_type": "stream",
     "text": [
      "Reference Dates: (Timestamp('2020-01-10 00:00:00'), Timestamp('2025-01-09 00:00:00')) Current Date Range: 2020-01-10 00:00:00 to 2025-01-09 00:00:00 check is False\n",
      "Processed and saved data for TRIVENI.\n"
     ]
    },
    {
     "name": "stderr",
     "output_type": "stream",
     "text": [
      "[*********************100%***********************]  1 of 1 completed\n"
     ]
    },
    {
     "name": "stdout",
     "output_type": "stream",
     "text": [
      "Reference Dates: (Timestamp('2020-01-10 00:00:00'), Timestamp('2025-01-09 00:00:00')) Current Date Range: 2020-01-10 00:00:00 to 2025-01-09 00:00:00 check is False\n",
      "Processed and saved data for TRITURBINE.\n"
     ]
    },
    {
     "name": "stderr",
     "output_type": "stream",
     "text": [
      "[*********************100%***********************]  1 of 1 completed\n"
     ]
    },
    {
     "name": "stdout",
     "output_type": "stream",
     "text": [
      "Reference Dates: (Timestamp('2020-01-10 00:00:00'), Timestamp('2025-01-09 00:00:00')) Current Date Range: 2020-01-10 00:00:00 to 2025-01-09 00:00:00 check is False\n",
      "Processed and saved data for TIINDIA.\n"
     ]
    },
    {
     "name": "stderr",
     "output_type": "stream",
     "text": [
      "[*********************100%***********************]  1 of 1 completed\n"
     ]
    },
    {
     "name": "stdout",
     "output_type": "stream",
     "text": [
      "Reference Dates: (Timestamp('2020-01-10 00:00:00'), Timestamp('2025-01-09 00:00:00')) Current Date Range: 2020-01-10 00:00:00 to 2025-01-09 00:00:00 check is False\n",
      "Processed and saved data for UCOBANK.\n"
     ]
    },
    {
     "name": "stderr",
     "output_type": "stream",
     "text": [
      "[*********************100%***********************]  1 of 1 completed\n",
      "[*********************100%***********************]  1 of 1 completed\n"
     ]
    },
    {
     "name": "stdout",
     "output_type": "stream",
     "text": [
      "Reference Dates: (Timestamp('2020-01-10 00:00:00'), Timestamp('2025-01-09 00:00:00')) Current Date Range: 2020-01-10 00:00:00 to 2025-01-09 00:00:00 check is False\n",
      "Processed and saved data for UNOMINDA.\n",
      "Reference Dates: (Timestamp('2020-01-10 00:00:00'), Timestamp('2025-01-09 00:00:00')) Current Date Range: 2020-01-10 00:00:00 to 2025-01-09 00:00:00 check is False\n",
      "Processed and saved data for UPL.\n"
     ]
    },
    {
     "name": "stderr",
     "output_type": "stream",
     "text": [
      "[*********************100%***********************]  1 of 1 completed\n"
     ]
    },
    {
     "name": "stdout",
     "output_type": "stream",
     "text": [
      "Reference Dates: (Timestamp('2020-01-10 00:00:00'), Timestamp('2025-01-09 00:00:00')) Current Date Range: 2020-10-13 00:00:00 to 2025-01-09 00:00:00 check is True\n",
      "Processed and saved data for UTIAMC.\n"
     ]
    },
    {
     "name": "stderr",
     "output_type": "stream",
     "text": [
      "[*********************100%***********************]  1 of 1 completed\n"
     ]
    },
    {
     "name": "stdout",
     "output_type": "stream",
     "text": [
      "Reference Dates: (Timestamp('2020-01-10 00:00:00'), Timestamp('2025-01-09 00:00:00')) Current Date Range: 2020-01-10 00:00:00 to 2025-01-09 00:00:00 check is False\n",
      "Processed and saved data for UJJIVANSFB.\n"
     ]
    },
    {
     "name": "stderr",
     "output_type": "stream",
     "text": [
      "[*********************100%***********************]  1 of 1 completed\n"
     ]
    },
    {
     "name": "stdout",
     "output_type": "stream",
     "text": [
      "Reference Dates: (Timestamp('2020-01-10 00:00:00'), Timestamp('2025-01-09 00:00:00')) Current Date Range: 2020-01-10 00:00:00 to 2025-01-09 00:00:00 check is False\n",
      "Processed and saved data for ULTRACEMCO.\n"
     ]
    },
    {
     "name": "stderr",
     "output_type": "stream",
     "text": [
      "[*********************100%***********************]  1 of 1 completed\n"
     ]
    },
    {
     "name": "stdout",
     "output_type": "stream",
     "text": [
      "Reference Dates: (Timestamp('2020-01-10 00:00:00'), Timestamp('2025-01-09 00:00:00')) Current Date Range: 2020-01-10 00:00:00 to 2025-01-09 00:00:00 check is False\n",
      "Processed and saved data for UNIONBANK.\n"
     ]
    },
    {
     "name": "stderr",
     "output_type": "stream",
     "text": [
      "[*********************100%***********************]  1 of 1 completed\n",
      "[*********************100%***********************]  1 of 1 completed\n"
     ]
    },
    {
     "name": "stdout",
     "output_type": "stream",
     "text": [
      "Reference Dates: (Timestamp('2020-01-10 00:00:00'), Timestamp('2025-01-09 00:00:00')) Current Date Range: 2020-01-10 00:00:00 to 2025-01-09 00:00:00 check is False\n",
      "Processed and saved data for UBL.\n",
      "Reference Dates: (Timestamp('2020-01-10 00:00:00'), Timestamp('2025-01-09 00:00:00')) Current Date Range: 2024-05-30 00:00:00 to 2025-01-09 00:00:00 check is True\n",
      "Skipping...UNITDSPR\n"
     ]
    },
    {
     "name": "stderr",
     "output_type": "stream",
     "text": [
      "[*********************100%***********************]  1 of 1 completed\n"
     ]
    },
    {
     "name": "stdout",
     "output_type": "stream",
     "text": [
      "Reference Dates: (Timestamp('2020-01-10 00:00:00'), Timestamp('2025-01-09 00:00:00')) Current Date Range: 2020-01-10 00:00:00 to 2025-01-09 00:00:00 check is False\n",
      "Processed and saved data for USHAMART.\n"
     ]
    },
    {
     "name": "stderr",
     "output_type": "stream",
     "text": [
      "[*********************100%***********************]  1 of 1 completed\n",
      "[*********************100%***********************]  1 of 1 completed\n"
     ]
    },
    {
     "name": "stdout",
     "output_type": "stream",
     "text": [
      "Reference Dates: (Timestamp('2020-01-10 00:00:00'), Timestamp('2025-01-09 00:00:00')) Current Date Range: 2020-01-10 00:00:00 to 2025-01-09 00:00:00 check is False\n",
      "Processed and saved data for VGUARD.\n",
      "Reference Dates: (Timestamp('2020-01-10 00:00:00'), Timestamp('2025-01-09 00:00:00')) Current Date Range: 2020-01-10 00:00:00 to 2025-01-09 00:00:00 check is False\n"
     ]
    },
    {
     "name": "stderr",
     "output_type": "stream",
     "text": [
      "[*********************100%***********************]  1 of 1 completed\n"
     ]
    },
    {
     "name": "stdout",
     "output_type": "stream",
     "text": [
      "Processed and saved data for VIPIND.\n",
      "Reference Dates: (Timestamp('2020-01-10 00:00:00'), Timestamp('2025-01-09 00:00:00')) Current Date Range: 2020-01-10 00:00:00 to 2025-01-09 00:00:00 check is False\n",
      "Processed and saved data for DBREALTY.\n"
     ]
    },
    {
     "name": "stderr",
     "output_type": "stream",
     "text": [
      "[*********************100%***********************]  1 of 1 completed\n"
     ]
    },
    {
     "name": "stdout",
     "output_type": "stream",
     "text": [
      "Reference Dates: (Timestamp('2020-01-10 00:00:00'), Timestamp('2025-01-09 00:00:00')) Current Date Range: 2020-01-10 00:00:00 to 2025-01-09 00:00:00 check is False\n",
      "Processed and saved data for VTL.\n"
     ]
    },
    {
     "name": "stderr",
     "output_type": "stream",
     "text": [
      "[*********************100%***********************]  1 of 1 completed\n"
     ]
    },
    {
     "name": "stdout",
     "output_type": "stream",
     "text": [
      "Reference Dates: (Timestamp('2020-01-10 00:00:00'), Timestamp('2025-01-09 00:00:00')) Current Date Range: 2020-01-10 00:00:00 to 2025-01-09 00:00:00 check is False\n",
      "Processed and saved data for VARROC.\n"
     ]
    },
    {
     "name": "stderr",
     "output_type": "stream",
     "text": [
      "[*********************100%***********************]  1 of 1 completed\n"
     ]
    },
    {
     "name": "stdout",
     "output_type": "stream",
     "text": [
      "Reference Dates: (Timestamp('2020-01-10 00:00:00'), Timestamp('2025-01-09 00:00:00')) Current Date Range: 2020-01-10 00:00:00 to 2025-01-09 00:00:00 check is False\n",
      "Processed and saved data for VBL.\n"
     ]
    },
    {
     "name": "stderr",
     "output_type": "stream",
     "text": [
      "[*********************100%***********************]  1 of 1 completed\n"
     ]
    },
    {
     "name": "stdout",
     "output_type": "stream",
     "text": [
      "Reference Dates: (Timestamp('2020-01-10 00:00:00'), Timestamp('2025-01-09 00:00:00')) Current Date Range: 2022-02-16 00:00:00 to 2025-01-09 00:00:00 check is True\n",
      "Skipping...MANYAVAR\n"
     ]
    },
    {
     "name": "stderr",
     "output_type": "stream",
     "text": [
      "[*********************100%***********************]  1 of 1 completed\n"
     ]
    },
    {
     "name": "stdout",
     "output_type": "stream",
     "text": [
      "Reference Dates: (Timestamp('2020-01-10 00:00:00'), Timestamp('2025-01-09 00:00:00')) Current Date Range: 2020-01-10 00:00:00 to 2025-01-09 00:00:00 check is False\n",
      "Processed and saved data for VEDL.\n"
     ]
    },
    {
     "name": "stderr",
     "output_type": "stream",
     "text": [
      "[*********************100%***********************]  1 of 1 completed\n"
     ]
    },
    {
     "name": "stdout",
     "output_type": "stream",
     "text": [
      "Reference Dates: (Timestamp('2020-01-10 00:00:00'), Timestamp('2025-01-09 00:00:00')) Current Date Range: 2021-09-14 00:00:00 to 2025-01-09 00:00:00 check is True\n",
      "Processed and saved data for VIJAYA.\n"
     ]
    },
    {
     "name": "stderr",
     "output_type": "stream",
     "text": [
      "[*********************100%***********************]  1 of 1 completed\n"
     ]
    },
    {
     "name": "stdout",
     "output_type": "stream",
     "text": [
      "Reference Dates: (Timestamp('2020-01-10 00:00:00'), Timestamp('2025-01-09 00:00:00')) Current Date Range: 2020-01-10 00:00:00 to 2025-01-09 00:00:00 check is False\n",
      "Processed and saved data for VINATIORGA.\n"
     ]
    },
    {
     "name": "stderr",
     "output_type": "stream",
     "text": [
      "[*********************100%***********************]  1 of 1 completed\n"
     ]
    },
    {
     "name": "stdout",
     "output_type": "stream",
     "text": [
      "Reference Dates: (Timestamp('2020-01-10 00:00:00'), Timestamp('2025-01-09 00:00:00')) Current Date Range: 2020-01-10 00:00:00 to 2025-01-09 00:00:00 check is False\n",
      "Processed and saved data for IDEA.\n"
     ]
    },
    {
     "name": "stderr",
     "output_type": "stream",
     "text": [
      "[*********************100%***********************]  1 of 1 completed\n"
     ]
    },
    {
     "name": "stdout",
     "output_type": "stream",
     "text": [
      "Reference Dates: (Timestamp('2020-01-10 00:00:00'), Timestamp('2025-01-09 00:00:00')) Current Date Range: 2020-01-10 00:00:00 to 2025-01-09 00:00:00 check is False\n",
      "Processed and saved data for VOLTAS.\n"
     ]
    },
    {
     "name": "stderr",
     "output_type": "stream",
     "text": [
      "[*********************100%***********************]  1 of 1 completed\n"
     ]
    },
    {
     "name": "stdout",
     "output_type": "stream",
     "text": [
      "Reference Dates: (Timestamp('2020-01-10 00:00:00'), Timestamp('2025-01-09 00:00:00')) Current Date Range: 2020-01-10 00:00:00 to 2025-01-09 00:00:00 check is False\n",
      "Processed and saved data for WELCORP.\n"
     ]
    },
    {
     "name": "stderr",
     "output_type": "stream",
     "text": [
      "[*********************100%***********************]  1 of 1 completed\n"
     ]
    },
    {
     "name": "stdout",
     "output_type": "stream",
     "text": [
      "Reference Dates: (Timestamp('2020-01-10 00:00:00'), Timestamp('2025-01-09 00:00:00')) Current Date Range: 2020-01-10 00:00:00 to 2025-01-09 00:00:00 check is False\n",
      "Processed and saved data for WELSPUNLIV.\n"
     ]
    },
    {
     "name": "stderr",
     "output_type": "stream",
     "text": [
      "[*********************100%***********************]  1 of 1 completed\n"
     ]
    },
    {
     "name": "stdout",
     "output_type": "stream",
     "text": [
      "Reference Dates: (Timestamp('2020-01-10 00:00:00'), Timestamp('2025-01-09 00:00:00')) Current Date Range: 2020-01-10 00:00:00 to 2025-01-09 00:00:00 check is False\n",
      "Processed and saved data for WESTLIFE.\n"
     ]
    },
    {
     "name": "stderr",
     "output_type": "stream",
     "text": [
      "[*********************100%***********************]  1 of 1 completed\n"
     ]
    },
    {
     "name": "stdout",
     "output_type": "stream",
     "text": [
      "Reference Dates: (Timestamp('2020-01-10 00:00:00'), Timestamp('2025-01-09 00:00:00')) Current Date Range: 2020-01-10 00:00:00 to 2025-01-09 00:00:00 check is False\n",
      "Processed and saved data for WHIRLPOOL.\n"
     ]
    },
    {
     "name": "stderr",
     "output_type": "stream",
     "text": [
      "[*********************100%***********************]  1 of 1 completed\n"
     ]
    },
    {
     "name": "stdout",
     "output_type": "stream",
     "text": [
      "Reference Dates: (Timestamp('2020-01-10 00:00:00'), Timestamp('2025-01-09 00:00:00')) Current Date Range: 2020-01-10 00:00:00 to 2025-01-09 00:00:00 check is False\n",
      "Processed and saved data for WIPRO.\n"
     ]
    },
    {
     "name": "stderr",
     "output_type": "stream",
     "text": [
      "[*********************100%***********************]  1 of 1 completed\n"
     ]
    },
    {
     "name": "stdout",
     "output_type": "stream",
     "text": [
      "Reference Dates: (Timestamp('2020-01-10 00:00:00'), Timestamp('2025-01-09 00:00:00')) Current Date Range: 2020-01-10 00:00:00 to 2025-01-09 00:00:00 check is False\n",
      "Processed and saved data for YESBANK.\n"
     ]
    },
    {
     "name": "stderr",
     "output_type": "stream",
     "text": [
      "[*********************100%***********************]  1 of 1 completed\n"
     ]
    },
    {
     "name": "stdout",
     "output_type": "stream",
     "text": [
      "Reference Dates: (Timestamp('2020-01-10 00:00:00'), Timestamp('2025-01-09 00:00:00')) Current Date Range: 2020-01-10 00:00:00 to 2025-01-09 00:00:00 check is False\n",
      "Processed and saved data for ZFCVINDIA.\n"
     ]
    },
    {
     "name": "stderr",
     "output_type": "stream",
     "text": [
      "[*********************100%***********************]  1 of 1 completed\n"
     ]
    },
    {
     "name": "stdout",
     "output_type": "stream",
     "text": [
      "Reference Dates: (Timestamp('2020-01-10 00:00:00'), Timestamp('2025-01-09 00:00:00')) Current Date Range: 2020-01-10 00:00:00 to 2025-01-09 00:00:00 check is False\n",
      "Processed and saved data for ZEEL.\n"
     ]
    },
    {
     "name": "stderr",
     "output_type": "stream",
     "text": [
      "[*********************100%***********************]  1 of 1 completed\n"
     ]
    },
    {
     "name": "stdout",
     "output_type": "stream",
     "text": [
      "Reference Dates: (Timestamp('2020-01-10 00:00:00'), Timestamp('2025-01-09 00:00:00')) Current Date Range: 2020-01-10 00:00:00 to 2025-01-09 00:00:00 check is False\n",
      "Processed and saved data for ZENSARTECH.\n"
     ]
    },
    {
     "name": "stderr",
     "output_type": "stream",
     "text": [
      "[*********************100%***********************]  1 of 1 completed\n"
     ]
    },
    {
     "name": "stdout",
     "output_type": "stream",
     "text": [
      "Reference Dates: (Timestamp('2020-01-10 00:00:00'), Timestamp('2025-01-09 00:00:00')) Current Date Range: 2021-07-23 00:00:00 to 2025-01-09 00:00:00 check is True\n",
      "Processed and saved data for ZOMATO.\n"
     ]
    },
    {
     "name": "stderr",
     "output_type": "stream",
     "text": [
      "[*********************100%***********************]  1 of 1 completed\n"
     ]
    },
    {
     "name": "stdout",
     "output_type": "stream",
     "text": [
      "Reference Dates: (Timestamp('2020-01-10 00:00:00'), Timestamp('2025-01-09 00:00:00')) Current Date Range: 2020-01-10 00:00:00 to 2025-01-09 00:00:00 check is False\n",
      "Processed and saved data for ZYDUSLIFE.\n"
     ]
    },
    {
     "name": "stderr",
     "output_type": "stream",
     "text": [
      "[*********************100%***********************]  1 of 1 completed"
     ]
    },
    {
     "name": "stdout",
     "output_type": "stream",
     "text": [
      "Reference Dates: (Timestamp('2020-01-10 00:00:00'), Timestamp('2025-01-09 00:00:00')) Current Date Range: 2020-01-10 00:00:00 to 2025-01-09 00:00:00 check is False\n",
      "Processed and saved data for ECLERX.\n",
      "All data processing completed.\n"
     ]
    },
    {
     "name": "stderr",
     "output_type": "stream",
     "text": [
      "\n"
     ]
    }
   ],
   "source": [
    "from sklearn.preprocessing import LabelEncoder\n",
    "import pandas as pd\n",
    "import yfinance as yf\n",
    "import os\n",
    "\n",
    "# Step 1: Load Company and Sector Information\n",
    "def load_company_data(filepath):\n",
    "    df = pd.read_csv(filepath)\n",
    "\n",
    "    label_encoder = LabelEncoder()\n",
    "    df['Industry Encoded']= label_encoder.fit_transform(df['Industry'])\n",
    "    return df['Symbol'].tolist(), df['Industry'].tolist(), df['Industry Encoded'].tolist()\n",
    "\n",
    "# Step 2: Fetch Stock Data\n",
    "def fetch_stock_data(ticker, start_date, end_date):\n",
    "    try:\n",
    "        data = yf.download(f\"{ticker}.NS\", start=start_date, end=end_date)\n",
    "        return data if not data.empty else None\n",
    "    except Exception as e:\n",
    "        print(f\"Error fetching data for {ticker}: {e}\")\n",
    "        return None\n",
    "\n",
    "from sklearn.preprocessing import StandardScaler\n",
    "\n",
    "# Step 3: Compute Financial Features\n",
    "def compute_features(stock_data):\n",
    "    stock_data['MA_20'] = stock_data['Close'].rolling(window=20).mean()\n",
    "    stock_data['MA_50'] = stock_data['Close'].rolling(window=50).mean()\n",
    "    \n",
    "    scaler = StandardScaler()\n",
    "    stock_data['Normalised Close'] = scaler.fit_transform(stock_data[['Close']])\n",
    "    # print(stock_data['Normalised Close'])\n",
    "    stock_data['Return Ratio'] = (stock_data['Close']-stock_data['Close'].shift(1))/stock_data['Close'].shift(1)\n",
    "    \n",
    "    stock_data['Percentage Change Open'] = stock_data['Open']/stock_data['Close'] - 1\n",
    "    stock_data['Percentage Change High'] = stock_data['High']/stock_data['Close'] - 1\n",
    "    stock_data['Percentage Change Low'] = stock_data['Low']/stock_data['Close'] - 1\n",
    "\n",
    "\n",
    "    return stock_data\n",
    "\n",
    "# Step 4: Align Data with Reference Dates\n",
    "def align_with_reference(stock_data, reference_dates):\n",
    "    print(f\"Reference Dates: {reference_dates} Current Date Range: {stock_data.index[0]} to {stock_data.index[-1]} check is {stock_data.index[0] != reference_dates[0]}\")\n",
    "    if stock_data.index[0] > pd.Timestamp(\"2022-01-10\"):\n",
    "        return False\n",
    "    else:\n",
    "        return True\n",
    "    \n",
    "\n",
    "# Step 5: Main Execution\n",
    "def main():\n",
    "    start_date, end_date = \"2020-01-10\", \"2025-01-10\"\n",
    "    companies, sector, sector_encoded  = load_company_data('ind_nifty500list.csv')\n",
    "    os.makedirs('stock_data', exist_ok=True)\n",
    "    \n",
    "    reference_data = fetch_stock_data(\"ONGC\", start_date, end_date)\n",
    "    if reference_data is None:\n",
    "        print(\"Failed to fetch reference data.\")\n",
    "        return\n",
    "    reference_dates = (reference_data.index[0], reference_data.index[-1])\n",
    "    missing = []\n",
    "    for ticker in companies:\n",
    "        stock_data = fetch_stock_data(ticker, start_date, end_date)\n",
    "        if stock_data is not None:\n",
    "            if not align_with_reference(stock_data, reference_dates):\n",
    "                print(\"Skipping...\"+ticker)\n",
    "                missing.append(ticker)\n",
    "                continue\n",
    "            stock_data = compute_features(stock_data)\n",
    "            # stock_data.fillna(0, inplace=True)\n",
    "            stock_data['Sector'] = sector[companies.index(ticker)]\n",
    "            stock_data['Sector Encoded'] = sector_encoded[companies.index(ticker)]\n",
    "            stock_data.to_csv(f'stock_data/{ticker}_data.csv')\n",
    "            print(f\"Processed and saved data for {ticker}.\")\n",
    "        else:\n",
    "            print(f\"Skipping {ticker} due to missing data.\")\n",
    "            missing.append(ticker)\n",
    "    with open(\"missing_nw.txt\", \"w\") as file:\n",
    "        for line in missing:\n",
    "            file.write(line + \"\\n\")\n",
    "    print(\"All data processing completed.\")\n",
    "\n",
    "if __name__ == \"__main__\":\n",
    "    main()\n"
   ]
  },
  {
   "cell_type": "code",
   "execution_count": null,
   "id": "652fa0fa-9e0d-49d1-a9ec-53802109c6b2",
   "metadata": {},
   "outputs": [],
   "source": []
  }
 ],
 "metadata": {
  "kernelspec": {
   "display_name": "Python 3",
   "language": "python",
   "name": "python3"
  },
  "language_info": {
   "codemirror_mode": {
    "name": "ipython",
    "version": 3
   },
   "file_extension": ".py",
   "mimetype": "text/x-python",
   "name": "python",
   "nbconvert_exporter": "python",
   "pygments_lexer": "ipython3",
   "version": "3.11.7"
  }
 },
 "nbformat": 4,
 "nbformat_minor": 5
}
